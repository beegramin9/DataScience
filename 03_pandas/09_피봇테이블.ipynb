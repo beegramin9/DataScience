{
 "metadata": {
  "language_info": {
   "codemirror_mode": {
    "name": "ipython",
    "version": 3
   },
   "file_extension": ".py",
   "mimetype": "text/x-python",
   "name": "python",
   "nbconvert_exporter": "python",
   "pygments_lexer": "ipython3",
   "version": "3.8.5-final"
  },
  "orig_nbformat": 2,
  "kernelspec": {
   "name": "python3",
   "display_name": "Python 3"
  }
 },
 "nbformat": 4,
 "nbformat_minor": 2,
 "cells": [
  {
   "source": [
    "# 피봇"
   ],
   "cell_type": "markdown",
   "metadata": {}
  },
  {
   "cell_type": "code",
   "execution_count": 10,
   "metadata": {},
   "outputs": [],
   "source": [
    "import numpy as np\n",
    "import pandas as pd"
   ]
  },
  {
   "cell_type": "code",
   "execution_count": 11,
   "metadata": {},
   "outputs": [
    {
     "output_type": "execute_result",
     "data": {
      "text/plain": [
       "   도시    연도       인구   지역\n",
       "0  서울  2015  9904312  수도권\n",
       "1  서울  2010  9631482  수도권\n",
       "2  서울  2005  9762546  수도권\n",
       "3  부산  2015  3448737  경상권\n",
       "4  부산  2010  3393191  경상권\n",
       "5  부산  2005  3512547  경상권\n",
       "6  인천  2015  2890451  수도권\n",
       "7  인천  2010   263203  수도권"
      ],
      "text/html": "<div>\n<style scoped>\n    .dataframe tbody tr th:only-of-type {\n        vertical-align: middle;\n    }\n\n    .dataframe tbody tr th {\n        vertical-align: top;\n    }\n\n    .dataframe thead th {\n        text-align: right;\n    }\n</style>\n<table border=\"1\" class=\"dataframe\">\n  <thead>\n    <tr style=\"text-align: right;\">\n      <th></th>\n      <th>도시</th>\n      <th>연도</th>\n      <th>인구</th>\n      <th>지역</th>\n    </tr>\n  </thead>\n  <tbody>\n    <tr>\n      <th>0</th>\n      <td>서울</td>\n      <td>2015</td>\n      <td>9904312</td>\n      <td>수도권</td>\n    </tr>\n    <tr>\n      <th>1</th>\n      <td>서울</td>\n      <td>2010</td>\n      <td>9631482</td>\n      <td>수도권</td>\n    </tr>\n    <tr>\n      <th>2</th>\n      <td>서울</td>\n      <td>2005</td>\n      <td>9762546</td>\n      <td>수도권</td>\n    </tr>\n    <tr>\n      <th>3</th>\n      <td>부산</td>\n      <td>2015</td>\n      <td>3448737</td>\n      <td>경상권</td>\n    </tr>\n    <tr>\n      <th>4</th>\n      <td>부산</td>\n      <td>2010</td>\n      <td>3393191</td>\n      <td>경상권</td>\n    </tr>\n    <tr>\n      <th>5</th>\n      <td>부산</td>\n      <td>2005</td>\n      <td>3512547</td>\n      <td>경상권</td>\n    </tr>\n    <tr>\n      <th>6</th>\n      <td>인천</td>\n      <td>2015</td>\n      <td>2890451</td>\n      <td>수도권</td>\n    </tr>\n    <tr>\n      <th>7</th>\n      <td>인천</td>\n      <td>2010</td>\n      <td>263203</td>\n      <td>수도권</td>\n    </tr>\n  </tbody>\n</table>\n</div>"
     },
     "metadata": {},
     "execution_count": 11
    }
   ],
   "source": [
    "data = {\n",
    "    \"도시\": [\"서울\", \"서울\", \"서울\", \"부산\", \"부산\", \"부산\", \"인천\", \"인천\"],\n",
    "    \"연도\": [\"2015\", \"2010\", \"2005\", \"2015\", \"2010\", \"2005\", \"2015\", \"2010\"],\n",
    "    \"인구\": [9904312, 9631482, 9762546, 3448737, 3393191, 3512547, 2890451, 263203],\n",
    "    \"지역\": [\"수도권\", \"수도권\", \"수도권\", \"경상권\", \"경상권\", \"경상권\", \"수도권\", \"수도권\"]\n",
    "}\n",
    "columns = [\"도시\", \"연도\", \"인구\", \"지역\"]\n",
    "df1 = pd.DataFrame(data, columns=columns)\n",
    "df1"
   ]
  },
  {
   "cell_type": "code",
   "execution_count": 12,
   "metadata": {},
   "outputs": [
    {
     "output_type": "execute_result",
     "data": {
      "text/plain": [
       "연도       2005       2010       2015\n",
       "도시                                 \n",
       "부산  3512547.0  3393191.0  3448737.0\n",
       "서울  9762546.0  9631482.0  9904312.0\n",
       "인천        NaN   263203.0  2890451.0"
      ],
      "text/html": "<div>\n<style scoped>\n    .dataframe tbody tr th:only-of-type {\n        vertical-align: middle;\n    }\n\n    .dataframe tbody tr th {\n        vertical-align: top;\n    }\n\n    .dataframe thead th {\n        text-align: right;\n    }\n</style>\n<table border=\"1\" class=\"dataframe\">\n  <thead>\n    <tr style=\"text-align: right;\">\n      <th>연도</th>\n      <th>2005</th>\n      <th>2010</th>\n      <th>2015</th>\n    </tr>\n    <tr>\n      <th>도시</th>\n      <th></th>\n      <th></th>\n      <th></th>\n    </tr>\n  </thead>\n  <tbody>\n    <tr>\n      <th>부산</th>\n      <td>3512547.0</td>\n      <td>3393191.0</td>\n      <td>3448737.0</td>\n    </tr>\n    <tr>\n      <th>서울</th>\n      <td>9762546.0</td>\n      <td>9631482.0</td>\n      <td>9904312.0</td>\n    </tr>\n    <tr>\n      <th>인천</th>\n      <td>NaN</td>\n      <td>263203.0</td>\n      <td>2890451.0</td>\n    </tr>\n  </tbody>\n</table>\n</div>"
     },
     "metadata": {},
     "execution_count": 12
    }
   ],
   "source": [
    "# df.pivot(행인덱스, 열인덱스, 데이터)\n",
    "df1.pivot(\"도시\", \"연도\", \"인구\")"
   ]
  },
  {
   "cell_type": "code",
   "execution_count": 13,
   "metadata": {},
   "outputs": [
    {
     "output_type": "execute_result",
     "data": {
      "text/plain": [
       "연도           2005       2010       2015\n",
       "지역  도시                                 \n",
       "경상권 부산  3512547.0  3393191.0  3448737.0\n",
       "수도권 서울  9762546.0  9631482.0  9904312.0\n",
       "    인천        NaN   263203.0  2890451.0"
      ],
      "text/html": "<div>\n<style scoped>\n    .dataframe tbody tr th:only-of-type {\n        vertical-align: middle;\n    }\n\n    .dataframe tbody tr th {\n        vertical-align: top;\n    }\n\n    .dataframe thead th {\n        text-align: right;\n    }\n</style>\n<table border=\"1\" class=\"dataframe\">\n  <thead>\n    <tr style=\"text-align: right;\">\n      <th></th>\n      <th>연도</th>\n      <th>2005</th>\n      <th>2010</th>\n      <th>2015</th>\n    </tr>\n    <tr>\n      <th>지역</th>\n      <th>도시</th>\n      <th></th>\n      <th></th>\n      <th></th>\n    </tr>\n  </thead>\n  <tbody>\n    <tr>\n      <th>경상권</th>\n      <th>부산</th>\n      <td>3512547.0</td>\n      <td>3393191.0</td>\n      <td>3448737.0</td>\n    </tr>\n    <tr>\n      <th rowspan=\"2\" valign=\"top\">수도권</th>\n      <th>서울</th>\n      <td>9762546.0</td>\n      <td>9631482.0</td>\n      <td>9904312.0</td>\n    </tr>\n    <tr>\n      <th>인천</th>\n      <td>NaN</td>\n      <td>263203.0</td>\n      <td>2890451.0</td>\n    </tr>\n  </tbody>\n</table>\n</div>"
     },
     "metadata": {},
     "execution_count": 13
    }
   ],
   "source": [
    "# 행인덱스를 멀티인덱스로. 버전 1.1.0 위에서만 가능\n",
    "df1.pivot([\"지역\", \"도시\"], \"연도\", \"인구\")"
   ]
  },
  {
   "cell_type": "code",
   "execution_count": 14,
   "metadata": {},
   "outputs": [
    {
     "output_type": "execute_result",
     "data": {
      "text/plain": [
       "'1.1.0'"
      ]
     },
     "metadata": {},
     "execution_count": 14
    }
   ],
   "source": [
    "pd.__version__"
   ]
  },
  {
   "source": [
    "만약 버전이 낮아서 오류가 난다? <br>\n",
    "anaconda cmd에서 conda create -n panda(가상환경이름) => 가상환경 만드는 일. <br>\n",
    "즉 기본 base가 panda로 바뀌는 것 <br>\n",
    "conda deactivate (기본 base에서 나가기) <br>\n",
    "conda install pandas <br>\n",
    "conda install jupyter notebook <br>\n",
    "그리고 나서 vscode가 실행되는 경로를 c:\\ProgramData\\Anaconda3\\envs 들어가서 panda를 찾으면 버전이 위에서 설치된 애로 됨"
   ],
   "cell_type": "markdown",
   "metadata": {}
  },
  {
   "source": [
    "# 그룹 분석\n",
    "SQL에서 GROUP BY 쓰듯이 쓰면 됨\n",
    "groupby(열 or 열의 리스트 or 행 리스트)"
   ],
   "cell_type": "markdown",
   "metadata": {}
  },
  {
   "source": [
    "groupby(인수).메소드 로 올수있는 애들\n",
    "- size, count: 그룹 데이터의 갯수\n",
    "- mean, median, min, max: 그룹 데이터의 평균, 중앙값, 최소, 최대\n",
    "- sum, prod, std, var, quantile : 그룹 데이터의 합계, 곱, 표준편차, 분산, 사분위수\n",
    "- first, last: 그룹 데이터 중 가장 첫번째 데이터와 가장 나중 데이터"
   ],
   "cell_type": "markdown",
   "metadata": {}
  },
  {
   "cell_type": "code",
   "execution_count": 17,
   "metadata": {},
   "outputs": [
    {
     "output_type": "execute_result",
     "data": {
      "text/plain": [
       "  key1 key2  data1  data2\n",
       "0    A  one      1     10\n",
       "1    A  two      2     20\n",
       "2    B  one      3     30\n",
       "3    B  two      4     40\n",
       "4    A  one      5     50"
      ],
      "text/html": "<div>\n<style scoped>\n    .dataframe tbody tr th:only-of-type {\n        vertical-align: middle;\n    }\n\n    .dataframe tbody tr th {\n        vertical-align: top;\n    }\n\n    .dataframe thead th {\n        text-align: right;\n    }\n</style>\n<table border=\"1\" class=\"dataframe\">\n  <thead>\n    <tr style=\"text-align: right;\">\n      <th></th>\n      <th>key1</th>\n      <th>key2</th>\n      <th>data1</th>\n      <th>data2</th>\n    </tr>\n  </thead>\n  <tbody>\n    <tr>\n      <th>0</th>\n      <td>A</td>\n      <td>one</td>\n      <td>1</td>\n      <td>10</td>\n    </tr>\n    <tr>\n      <th>1</th>\n      <td>A</td>\n      <td>two</td>\n      <td>2</td>\n      <td>20</td>\n    </tr>\n    <tr>\n      <th>2</th>\n      <td>B</td>\n      <td>one</td>\n      <td>3</td>\n      <td>30</td>\n    </tr>\n    <tr>\n      <th>3</th>\n      <td>B</td>\n      <td>two</td>\n      <td>4</td>\n      <td>40</td>\n    </tr>\n    <tr>\n      <th>4</th>\n      <td>A</td>\n      <td>one</td>\n      <td>5</td>\n      <td>50</td>\n    </tr>\n  </tbody>\n</table>\n</div>"
     },
     "metadata": {},
     "execution_count": 17
    }
   ],
   "source": [
    "np.random.seed(0)\n",
    "df2 = pd.DataFrame({\n",
    "    'key1': ['A', 'A', 'B', 'B', 'A'],\n",
    "    'key2': ['one', 'two', 'one', 'two', 'one'],\n",
    "    'data1': [1, 2, 3, 4, 5],\n",
    "    'data2': [10, 20, 30, 40, 50]\n",
    "})\n",
    "df2"
   ]
  },
  {
   "cell_type": "code",
   "execution_count": 18,
   "metadata": {},
   "outputs": [
    {
     "output_type": "execute_result",
     "data": {
      "text/plain": [
       "<pandas.core.groupby.generic.DataFrameGroupBy object at 0x000002807DE7D250>"
      ]
     },
     "metadata": {},
     "execution_count": 18
    }
   ],
   "source": [
    "groups = df2.groupby(df2.key1) # 열이 인자로 들어감 => A,B가 나오겠지\n",
    "groups # 여기까지는 객체만 나옴"
   ]
  },
  {
   "cell_type": "code",
   "execution_count": 20,
   "metadata": {},
   "outputs": [
    {
     "output_type": "execute_result",
     "data": {
      "text/plain": [
       "{'A': [0, 1, 4], 'B': [2, 3]}"
      ]
     },
     "metadata": {},
     "execution_count": 20
    }
   ],
   "source": [
    "groups.groups # 딕셔너리 형태"
   ]
  },
  {
   "cell_type": "code",
   "execution_count": 22,
   "metadata": {},
   "outputs": [
    {
     "output_type": "execute_result",
     "data": {
      "text/plain": [
       "      data1  data2\n",
       "key1              \n",
       "A         8     80\n",
       "B         7     70"
      ],
      "text/html": "<div>\n<style scoped>\n    .dataframe tbody tr th:only-of-type {\n        vertical-align: middle;\n    }\n\n    .dataframe tbody tr th {\n        vertical-align: top;\n    }\n\n    .dataframe thead th {\n        text-align: right;\n    }\n</style>\n<table border=\"1\" class=\"dataframe\">\n  <thead>\n    <tr style=\"text-align: right;\">\n      <th></th>\n      <th>data1</th>\n      <th>data2</th>\n    </tr>\n    <tr>\n      <th>key1</th>\n      <th></th>\n      <th></th>\n    </tr>\n  </thead>\n  <tbody>\n    <tr>\n      <th>A</th>\n      <td>8</td>\n      <td>80</td>\n    </tr>\n    <tr>\n      <th>B</th>\n      <td>7</td>\n      <td>70</td>\n    </tr>\n  </tbody>\n</table>\n</div>"
     },
     "metadata": {},
     "execution_count": 22
    }
   ],
   "source": [
    "# 뒤에 메소드를 써줘야 비로소 DafaFrame이 나온다.\n",
    "# 그래서 애초에 groupby().method 로 한 번에 쓴다\n",
    "df2.groupby(df2.key1).sum()"
   ]
  },
  {
   "cell_type": "code",
   "execution_count": 23,
   "metadata": {},
   "outputs": [
    {
     "output_type": "execute_result",
     "data": {
      "text/plain": [
       "         data1      data2\n",
       "key1                     \n",
       "A     2.666667  26.666667\n",
       "B     3.500000  35.000000"
      ],
      "text/html": "<div>\n<style scoped>\n    .dataframe tbody tr th:only-of-type {\n        vertical-align: middle;\n    }\n\n    .dataframe tbody tr th {\n        vertical-align: top;\n    }\n\n    .dataframe thead th {\n        text-align: right;\n    }\n</style>\n<table border=\"1\" class=\"dataframe\">\n  <thead>\n    <tr style=\"text-align: right;\">\n      <th></th>\n      <th>data1</th>\n      <th>data2</th>\n    </tr>\n    <tr>\n      <th>key1</th>\n      <th></th>\n      <th></th>\n    </tr>\n  </thead>\n  <tbody>\n    <tr>\n      <th>A</th>\n      <td>2.666667</td>\n      <td>26.666667</td>\n    </tr>\n    <tr>\n      <th>B</th>\n      <td>3.500000</td>\n      <td>35.000000</td>\n    </tr>\n  </tbody>\n</table>\n</div>"
     },
     "metadata": {},
     "execution_count": 23
    }
   ],
   "source": [
    "df2.groupby(df2.key1).mean()"
   ]
  },
  {
   "cell_type": "code",
   "execution_count": 27,
   "metadata": {},
   "outputs": [
    {
     "output_type": "execute_result",
     "data": {
      "text/plain": [
       "key1\n",
       "A    8\n",
       "B    7\n",
       "Name: data1, dtype: int64"
      ]
     },
     "metadata": {},
     "execution_count": 27
    }
   ],
   "source": [
    "df2.groupby(df2.key1).data1.sum()\n",
    "# 요건 위 DF에서 data1이라는 시리즈만 보고싶다! 라고 얘기하는것"
   ]
  },
  {
   "cell_type": "code",
   "execution_count": 28,
   "metadata": {},
   "outputs": [
    {
     "output_type": "execute_result",
     "data": {
      "text/plain": [
       "      data1  data2\n",
       "key1              \n",
       "A         8     80\n",
       "B         7     70"
      ],
      "text/html": "<div>\n<style scoped>\n    .dataframe tbody tr th:only-of-type {\n        vertical-align: middle;\n    }\n\n    .dataframe tbody tr th {\n        vertical-align: top;\n    }\n\n    .dataframe thead th {\n        text-align: right;\n    }\n</style>\n<table border=\"1\" class=\"dataframe\">\n  <thead>\n    <tr style=\"text-align: right;\">\n      <th></th>\n      <th>data1</th>\n      <th>data2</th>\n    </tr>\n    <tr>\n      <th>key1</th>\n      <th></th>\n      <th></th>\n    </tr>\n  </thead>\n  <tbody>\n    <tr>\n      <th>A</th>\n      <td>8</td>\n      <td>80</td>\n    </tr>\n    <tr>\n      <th>B</th>\n      <td>7</td>\n      <td>70</td>\n    </tr>\n  </tbody>\n</table>\n</div>"
     },
     "metadata": {},
     "execution_count": 28
    }
   ],
   "source": [
    "df2.groupby(df2.key1)[['data1','data2']].sum()"
   ]
  },
  {
   "cell_type": "code",
   "execution_count": 29,
   "metadata": {},
   "outputs": [
    {
     "output_type": "execute_result",
     "data": {
      "text/plain": [
       "      data1\n",
       "key1       \n",
       "A         8\n",
       "B         7"
      ],
      "text/html": "<div>\n<style scoped>\n    .dataframe tbody tr th:only-of-type {\n        vertical-align: middle;\n    }\n\n    .dataframe tbody tr th {\n        vertical-align: top;\n    }\n\n    .dataframe thead th {\n        text-align: right;\n    }\n</style>\n<table border=\"1\" class=\"dataframe\">\n  <thead>\n    <tr style=\"text-align: right;\">\n      <th></th>\n      <th>data1</th>\n    </tr>\n    <tr>\n      <th>key1</th>\n      <th></th>\n    </tr>\n  </thead>\n  <tbody>\n    <tr>\n      <th>A</th>\n      <td>8</td>\n    </tr>\n    <tr>\n      <th>B</th>\n      <td>7</td>\n    </tr>\n  </tbody>\n</table>\n</div>"
     },
     "metadata": {},
     "execution_count": 29
    }
   ],
   "source": [
    "df2.groupby(df2.key1)[['data1']].sum()\n",
    "# 열 하나만인데도 중첩리스트로 가져오면 결과가 DF다"
   ]
  },
  {
   "cell_type": "code",
   "execution_count": 30,
   "metadata": {},
   "outputs": [
    {
     "output_type": "execute_result",
     "data": {
      "text/plain": [
       "      data1  data2\n",
       "key1              \n",
       "A         8     80\n",
       "B         7     70"
      ],
      "text/html": "<div>\n<style scoped>\n    .dataframe tbody tr th:only-of-type {\n        vertical-align: middle;\n    }\n\n    .dataframe tbody tr th {\n        vertical-align: top;\n    }\n\n    .dataframe thead th {\n        text-align: right;\n    }\n</style>\n<table border=\"1\" class=\"dataframe\">\n  <thead>\n    <tr style=\"text-align: right;\">\n      <th></th>\n      <th>data1</th>\n      <th>data2</th>\n    </tr>\n    <tr>\n      <th>key1</th>\n      <th></th>\n      <th></th>\n    </tr>\n  </thead>\n  <tbody>\n    <tr>\n      <th>A</th>\n      <td>8</td>\n      <td>80</td>\n    </tr>\n    <tr>\n      <th>B</th>\n      <td>7</td>\n      <td>70</td>\n    </tr>\n  </tbody>\n</table>\n</div>"
     },
     "metadata": {},
     "execution_count": 30
    }
   ],
   "source": [
    "# 열을 먼저 해도 돌아간다\n",
    "df2[['data1','data2']].groupby(df2.key1).sum()"
   ]
  },
  {
   "source": [
    "붓꽃 데이터"
   ],
   "cell_type": "markdown",
   "metadata": {}
  },
  {
   "source": [
    "- agg, aggregate <br>\n",
    "만약 원하는 그룹연산이 없는 경우 함수를 만들고 이 함수를 agg에 전달한다.\n",
    "또는 여러가지 그룹연산을 동시에 하고 싶은 경우 함수 이름 문자열의 리스트를 전달한다.\n",
    "- describe <br>\n",
    "하나의 그룹 대표값이 아니라 여러개의 값을 데이터프레임으로 구한다.\n",
    "- apply <br>\n",
    "describe 처럼 하나의 대표값이 아닌 데이터프레임을 출력하지만 원하는 그룹연산이 없는 경우에 사용한다.\n",
    "- transform <br>\n",
    "그룹에 대한 대표값을 만드는 것이 아니라 그룹별 계산을 통해 데이터 자체를 변형한다."
   ],
   "cell_type": "markdown",
   "metadata": {}
  },
  {
   "cell_type": "code",
   "execution_count": 35,
   "metadata": {},
   "outputs": [
    {
     "output_type": "execute_result",
     "data": {
      "text/plain": [
       "   sepal_length  sepal_width  petal_length  petal_width species\n",
       "0           5.1          3.5           1.4          0.2  setosa\n",
       "1           4.9          3.0           1.4          0.2  setosa\n",
       "2           4.7          3.2           1.3          0.2  setosa\n",
       "3           4.6          3.1           1.5          0.2  setosa\n",
       "4           5.0          3.6           1.4          0.2  setosa\n",
       "5           5.4          3.9           1.7          0.4  setosa\n",
       "6           4.6          3.4           1.4          0.3  setosa\n",
       "7           5.0          3.4           1.5          0.2  setosa"
      ],
      "text/html": "<div>\n<style scoped>\n    .dataframe tbody tr th:only-of-type {\n        vertical-align: middle;\n    }\n\n    .dataframe tbody tr th {\n        vertical-align: top;\n    }\n\n    .dataframe thead th {\n        text-align: right;\n    }\n</style>\n<table border=\"1\" class=\"dataframe\">\n  <thead>\n    <tr style=\"text-align: right;\">\n      <th></th>\n      <th>sepal_length</th>\n      <th>sepal_width</th>\n      <th>petal_length</th>\n      <th>petal_width</th>\n      <th>species</th>\n    </tr>\n  </thead>\n  <tbody>\n    <tr>\n      <th>0</th>\n      <td>5.1</td>\n      <td>3.5</td>\n      <td>1.4</td>\n      <td>0.2</td>\n      <td>setosa</td>\n    </tr>\n    <tr>\n      <th>1</th>\n      <td>4.9</td>\n      <td>3.0</td>\n      <td>1.4</td>\n      <td>0.2</td>\n      <td>setosa</td>\n    </tr>\n    <tr>\n      <th>2</th>\n      <td>4.7</td>\n      <td>3.2</td>\n      <td>1.3</td>\n      <td>0.2</td>\n      <td>setosa</td>\n    </tr>\n    <tr>\n      <th>3</th>\n      <td>4.6</td>\n      <td>3.1</td>\n      <td>1.5</td>\n      <td>0.2</td>\n      <td>setosa</td>\n    </tr>\n    <tr>\n      <th>4</th>\n      <td>5.0</td>\n      <td>3.6</td>\n      <td>1.4</td>\n      <td>0.2</td>\n      <td>setosa</td>\n    </tr>\n    <tr>\n      <th>5</th>\n      <td>5.4</td>\n      <td>3.9</td>\n      <td>1.7</td>\n      <td>0.4</td>\n      <td>setosa</td>\n    </tr>\n    <tr>\n      <th>6</th>\n      <td>4.6</td>\n      <td>3.4</td>\n      <td>1.4</td>\n      <td>0.3</td>\n      <td>setosa</td>\n    </tr>\n    <tr>\n      <th>7</th>\n      <td>5.0</td>\n      <td>3.4</td>\n      <td>1.5</td>\n      <td>0.2</td>\n      <td>setosa</td>\n    </tr>\n  </tbody>\n</table>\n</div>"
     },
     "metadata": {},
     "execution_count": 35
    }
   ],
   "source": [
    "import seaborn as sns\n",
    "iris = sns.load_dataset(\"iris\")\n",
    "iris.head(8)"
   ]
  },
  {
   "cell_type": "code",
   "execution_count": 38,
   "metadata": {},
   "outputs": [
    {
     "output_type": "execute_result",
     "data": {
      "text/plain": [
       "            sepal_length  sepal_width  petal_length  petal_width\n",
       "species                                                         \n",
       "setosa          1.348837     1.913043      1.900000     6.000000\n",
       "versicolor      1.428571     1.700000      1.700000     1.800000\n",
       "virginica       1.612245     1.727273      1.533333     1.785714"
      ],
      "text/html": "<div>\n<style scoped>\n    .dataframe tbody tr th:only-of-type {\n        vertical-align: middle;\n    }\n\n    .dataframe tbody tr th {\n        vertical-align: top;\n    }\n\n    .dataframe thead th {\n        text-align: right;\n    }\n</style>\n<table border=\"1\" class=\"dataframe\">\n  <thead>\n    <tr style=\"text-align: right;\">\n      <th></th>\n      <th>sepal_length</th>\n      <th>sepal_width</th>\n      <th>petal_length</th>\n      <th>petal_width</th>\n    </tr>\n    <tr>\n      <th>species</th>\n      <th></th>\n      <th></th>\n      <th></th>\n      <th></th>\n    </tr>\n  </thead>\n  <tbody>\n    <tr>\n      <th>setosa</th>\n      <td>1.348837</td>\n      <td>1.913043</td>\n      <td>1.900000</td>\n      <td>6.000000</td>\n    </tr>\n    <tr>\n      <th>versicolor</th>\n      <td>1.428571</td>\n      <td>1.700000</td>\n      <td>1.700000</td>\n      <td>1.800000</td>\n    </tr>\n    <tr>\n      <th>virginica</th>\n      <td>1.612245</td>\n      <td>1.727273</td>\n      <td>1.533333</td>\n      <td>1.785714</td>\n    </tr>\n  </tbody>\n</table>\n</div>"
     },
     "metadata": {},
     "execution_count": 38
    }
   ],
   "source": [
    "def peak_to_peak_ratio(x):\n",
    "    return x.max() / x.min()    \n",
    "\"\"\" 내가 만든 함수를 agg(안에) 넣어준다. \"\"\"\n",
    "\n",
    "# list의 map 함수가 리스트의 모든 원소에 대해 적용되는 것처럼, groupby로 그루핑된 데이터 모두 가지고(그 모두 중에) max와 min을 찾아서 max/min 값을\n",
    "\n",
    "iris.groupby(iris.species).agg(peak_to_peak_ratio)\n"
   ]
  },
  {
   "cell_type": "code",
   "execution_count": 43,
   "metadata": {},
   "outputs": [
    {
     "output_type": "execute_result",
     "data": {
      "text/plain": [
       "species    setosa  versicolor  virginica\n",
       "count    50.00000   50.000000   50.00000\n",
       "mean      5.00600    5.936000    6.58800\n",
       "std       0.35249    0.516171    0.63588\n",
       "min       4.30000    4.900000    4.90000\n",
       "25%       4.80000    5.600000    6.22500\n",
       "50%       5.00000    5.900000    6.50000\n",
       "75%       5.20000    6.300000    6.90000\n",
       "max       5.80000    7.000000    7.90000"
      ],
      "text/html": "<div>\n<style scoped>\n    .dataframe tbody tr th:only-of-type {\n        vertical-align: middle;\n    }\n\n    .dataframe tbody tr th {\n        vertical-align: top;\n    }\n\n    .dataframe thead th {\n        text-align: right;\n    }\n</style>\n<table border=\"1\" class=\"dataframe\">\n  <thead>\n    <tr style=\"text-align: right;\">\n      <th>species</th>\n      <th>setosa</th>\n      <th>versicolor</th>\n      <th>virginica</th>\n    </tr>\n  </thead>\n  <tbody>\n    <tr>\n      <th>count</th>\n      <td>50.00000</td>\n      <td>50.000000</td>\n      <td>50.00000</td>\n    </tr>\n    <tr>\n      <th>mean</th>\n      <td>5.00600</td>\n      <td>5.936000</td>\n      <td>6.58800</td>\n    </tr>\n    <tr>\n      <th>std</th>\n      <td>0.35249</td>\n      <td>0.516171</td>\n      <td>0.63588</td>\n    </tr>\n    <tr>\n      <th>min</th>\n      <td>4.30000</td>\n      <td>4.900000</td>\n      <td>4.90000</td>\n    </tr>\n    <tr>\n      <th>25%</th>\n      <td>4.80000</td>\n      <td>5.600000</td>\n      <td>6.22500</td>\n    </tr>\n    <tr>\n      <th>50%</th>\n      <td>5.00000</td>\n      <td>5.900000</td>\n      <td>6.50000</td>\n    </tr>\n    <tr>\n      <th>75%</th>\n      <td>5.20000</td>\n      <td>6.300000</td>\n      <td>6.90000</td>\n    </tr>\n    <tr>\n      <th>max</th>\n      <td>5.80000</td>\n      <td>7.000000</td>\n      <td>7.90000</td>\n    </tr>\n  </tbody>\n</table>\n</div>"
     },
     "metadata": {},
     "execution_count": 43
    }
   ],
   "source": [
    "# 기초통계량을 보여줌\n",
    "iris.groupby(iris.species).sepal_length.describe().T"
   ]
  },
  {
   "cell_type": "code",
   "execution_count": 49,
   "metadata": {},
   "outputs": [
    {
     "output_type": "execute_result",
     "data": {
      "text/plain": [
       "                sepal_length  sepal_width  petal_length  petal_width  \\\n",
       "species                                                                \n",
       "setosa     24            4.8          3.4           1.9          0.2   \n",
       "           44            5.1          3.8           1.9          0.4   \n",
       "           23            5.1          3.3           1.7          0.5   \n",
       "versicolor 83            6.0          2.7           5.1          1.6   \n",
       "           77            6.7          3.0           5.0          1.7   \n",
       "           72            6.3          2.5           4.9          1.5   \n",
       "virginica  118           7.7          2.6           6.9          2.3   \n",
       "           117           7.7          3.8           6.7          2.2   \n",
       "           122           7.7          2.8           6.7          2.0   \n",
       "\n",
       "                   species  \n",
       "species                     \n",
       "setosa     24       setosa  \n",
       "           44       setosa  \n",
       "           23       setosa  \n",
       "versicolor 83   versicolor  \n",
       "           77   versicolor  \n",
       "           72   versicolor  \n",
       "virginica  118   virginica  \n",
       "           117   virginica  \n",
       "           122   virginica  "
      ],
      "text/html": "<div>\n<style scoped>\n    .dataframe tbody tr th:only-of-type {\n        vertical-align: middle;\n    }\n\n    .dataframe tbody tr th {\n        vertical-align: top;\n    }\n\n    .dataframe thead th {\n        text-align: right;\n    }\n</style>\n<table border=\"1\" class=\"dataframe\">\n  <thead>\n    <tr style=\"text-align: right;\">\n      <th></th>\n      <th></th>\n      <th>sepal_length</th>\n      <th>sepal_width</th>\n      <th>petal_length</th>\n      <th>petal_width</th>\n      <th>species</th>\n    </tr>\n    <tr>\n      <th>species</th>\n      <th></th>\n      <th></th>\n      <th></th>\n      <th></th>\n      <th></th>\n      <th></th>\n    </tr>\n  </thead>\n  <tbody>\n    <tr>\n      <th rowspan=\"3\" valign=\"top\">setosa</th>\n      <th>24</th>\n      <td>4.8</td>\n      <td>3.4</td>\n      <td>1.9</td>\n      <td>0.2</td>\n      <td>setosa</td>\n    </tr>\n    <tr>\n      <th>44</th>\n      <td>5.1</td>\n      <td>3.8</td>\n      <td>1.9</td>\n      <td>0.4</td>\n      <td>setosa</td>\n    </tr>\n    <tr>\n      <th>23</th>\n      <td>5.1</td>\n      <td>3.3</td>\n      <td>1.7</td>\n      <td>0.5</td>\n      <td>setosa</td>\n    </tr>\n    <tr>\n      <th rowspan=\"3\" valign=\"top\">versicolor</th>\n      <th>83</th>\n      <td>6.0</td>\n      <td>2.7</td>\n      <td>5.1</td>\n      <td>1.6</td>\n      <td>versicolor</td>\n    </tr>\n    <tr>\n      <th>77</th>\n      <td>6.7</td>\n      <td>3.0</td>\n      <td>5.0</td>\n      <td>1.7</td>\n      <td>versicolor</td>\n    </tr>\n    <tr>\n      <th>72</th>\n      <td>6.3</td>\n      <td>2.5</td>\n      <td>4.9</td>\n      <td>1.5</td>\n      <td>versicolor</td>\n    </tr>\n    <tr>\n      <th rowspan=\"3\" valign=\"top\">virginica</th>\n      <th>118</th>\n      <td>7.7</td>\n      <td>2.6</td>\n      <td>6.9</td>\n      <td>2.3</td>\n      <td>virginica</td>\n    </tr>\n    <tr>\n      <th>117</th>\n      <td>7.7</td>\n      <td>3.8</td>\n      <td>6.7</td>\n      <td>2.2</td>\n      <td>virginica</td>\n    </tr>\n    <tr>\n      <th>122</th>\n      <td>7.7</td>\n      <td>2.8</td>\n      <td>6.7</td>\n      <td>2.0</td>\n      <td>virginica</td>\n    </tr>\n  </tbody>\n</table>\n</div>"
     },
     "metadata": {},
     "execution_count": 49
    }
   ],
   "source": [
    "def top3_petal_length(df):\n",
    "    return df.sort_values(by=\"petal_length\", ascending=False)[:3]\n",
    "    # MySQL order by desc limit 3 이랑 똑같음\n",
    "    \n",
    "iris.groupby(iris.species).apply(top3_petal_length) \n",
    "# axis=0 디폴트니까 행을 기준으로"
   ]
  },
  {
   "cell_type": "code",
   "execution_count": 57,
   "metadata": {},
   "outputs": [
    {
     "output_type": "execute_result",
     "data": {
      "text/plain": [
       "     petal_length petal_length_class\n",
       "140           5.6                  중\n",
       "141           5.1                  소\n",
       "142           5.1                  소\n",
       "143           5.9                  대\n",
       "144           5.7                  중\n",
       "145           5.2                  소\n",
       "146           5.0                  소\n",
       "147           5.2                  소\n",
       "148           5.4                  중\n",
       "149           5.1                  소"
      ],
      "text/html": "<div>\n<style scoped>\n    .dataframe tbody tr th:only-of-type {\n        vertical-align: middle;\n    }\n\n    .dataframe tbody tr th {\n        vertical-align: top;\n    }\n\n    .dataframe thead th {\n        text-align: right;\n    }\n</style>\n<table border=\"1\" class=\"dataframe\">\n  <thead>\n    <tr style=\"text-align: right;\">\n      <th></th>\n      <th>petal_length</th>\n      <th>petal_length_class</th>\n    </tr>\n  </thead>\n  <tbody>\n    <tr>\n      <th>140</th>\n      <td>5.6</td>\n      <td>중</td>\n    </tr>\n    <tr>\n      <th>141</th>\n      <td>5.1</td>\n      <td>소</td>\n    </tr>\n    <tr>\n      <th>142</th>\n      <td>5.1</td>\n      <td>소</td>\n    </tr>\n    <tr>\n      <th>143</th>\n      <td>5.9</td>\n      <td>대</td>\n    </tr>\n    <tr>\n      <th>144</th>\n      <td>5.7</td>\n      <td>중</td>\n    </tr>\n    <tr>\n      <th>145</th>\n      <td>5.2</td>\n      <td>소</td>\n    </tr>\n    <tr>\n      <th>146</th>\n      <td>5.0</td>\n      <td>소</td>\n    </tr>\n    <tr>\n      <th>147</th>\n      <td>5.2</td>\n      <td>소</td>\n    </tr>\n    <tr>\n      <th>148</th>\n      <td>5.4</td>\n      <td>중</td>\n    </tr>\n    <tr>\n      <th>149</th>\n      <td>5.1</td>\n      <td>소</td>\n    </tr>\n  </tbody>\n</table>\n</div>"
     },
     "metadata": {},
     "execution_count": 57
    }
   ],
   "source": [
    "def q3cut(s):\n",
    "    return pd.qcut(s, 3, labels=[\"소\", \"중\", \"대\"]).astype(str)\n",
    "\n",
    "iris[\"petal_length_class\"] = iris.groupby(iris.species).petal_length.transform(q3cut)\n",
    "\n",
    "# 원래 데이터를 내 데이터 : 내가 만든 함수의 return값으로 바꿔치기\n",
    "\n",
    "iris[[\"petal_length\", \"petal_length_class\"]].tail(10)"
   ]
  },
  {
   "source": [
    "# 붓꽃(iris) 데이터에서 붓꽃 종(species)별로 꽃잎길이(sepal_length), 꽃잎폭(sepal_width) 등의 평균을 구하라. 만약 붓꽃 종(species)이 표시되지 않았을 때 이 수치들을 이용하여 붓꽃 종을 찾아낼 수 있을지 생각하라.\n",
    "\n",
    "iris.groupby(iris.species)[['sepal_length','sepal_width']].mean()"
   ],
   "cell_type": "code",
   "metadata": {},
   "execution_count": null,
   "outputs": []
  },
  {
   "source": [
    "# 피봇 테이블\n",
    "pivot 명령과 groupby 명령의 중간 성격 <br>\n",
    "groupby 명령처럼 그룹분석을 하지만 최종적으로는 pivot 명령처럼 피봇테이블을 만듦\n"
   ],
   "cell_type": "markdown",
   "metadata": {}
  },
  {
   "cell_type": "code",
   "execution_count": 60,
   "metadata": {},
   "outputs": [
    {
     "output_type": "execute_result",
     "data": {
      "text/plain": [
       "연도       2005       2010       2015\n",
       "도시                                 \n",
       "부산  3512547.0  3393191.0  3448737.0\n",
       "서울  9762546.0  9631482.0  9904312.0\n",
       "인천        NaN   263203.0  2890451.0"
      ],
      "text/html": "<div>\n<style scoped>\n    .dataframe tbody tr th:only-of-type {\n        vertical-align: middle;\n    }\n\n    .dataframe tbody tr th {\n        vertical-align: top;\n    }\n\n    .dataframe thead th {\n        text-align: right;\n    }\n</style>\n<table border=\"1\" class=\"dataframe\">\n  <thead>\n    <tr style=\"text-align: right;\">\n      <th>연도</th>\n      <th>2005</th>\n      <th>2010</th>\n      <th>2015</th>\n    </tr>\n    <tr>\n      <th>도시</th>\n      <th></th>\n      <th></th>\n      <th></th>\n    </tr>\n  </thead>\n  <tbody>\n    <tr>\n      <th>부산</th>\n      <td>3512547.0</td>\n      <td>3393191.0</td>\n      <td>3448737.0</td>\n    </tr>\n    <tr>\n      <th>서울</th>\n      <td>9762546.0</td>\n      <td>9631482.0</td>\n      <td>9904312.0</td>\n    </tr>\n    <tr>\n      <th>인천</th>\n      <td>NaN</td>\n      <td>263203.0</td>\n      <td>2890451.0</td>\n    </tr>\n  </tbody>\n</table>\n</div>"
     },
     "metadata": {},
     "execution_count": 60
    }
   ],
   "source": [
    "\"\"\" 파라미터가 왜 대체 통일이 안 되있노 \"\"\"\n",
    "# pivot(행인덱스, 열인덱스, 데이터)\n",
    "# pivot_table(데이터, 행인덱스, 열인덱스)\n",
    "df1.pivot_table(\"인구\", \"도시\", \"연도\")"
   ]
  },
  {
   "cell_type": "code",
   "execution_count": 65,
   "metadata": {},
   "outputs": [
    {
     "output_type": "execute_result",
     "data": {
      "text/plain": [
       "연도       2005       2010       2015            평균\n",
       "도시                                               \n",
       "부산  3512547.0  3393191.0  3448737.0  3.451492e+06\n",
       "서울  9762546.0  9631482.0  9904312.0  9.766113e+06\n",
       "인천        NaN   263203.0  2890451.0  1.576827e+06\n",
       "평균  6637546.5  4429292.0  5414500.0  5.350809e+06"
      ],
      "text/html": "<div>\n<style scoped>\n    .dataframe tbody tr th:only-of-type {\n        vertical-align: middle;\n    }\n\n    .dataframe tbody tr th {\n        vertical-align: top;\n    }\n\n    .dataframe thead th {\n        text-align: right;\n    }\n</style>\n<table border=\"1\" class=\"dataframe\">\n  <thead>\n    <tr style=\"text-align: right;\">\n      <th>연도</th>\n      <th>2005</th>\n      <th>2010</th>\n      <th>2015</th>\n      <th>평균</th>\n    </tr>\n    <tr>\n      <th>도시</th>\n      <th></th>\n      <th></th>\n      <th></th>\n      <th></th>\n    </tr>\n  </thead>\n  <tbody>\n    <tr>\n      <th>부산</th>\n      <td>3512547.0</td>\n      <td>3393191.0</td>\n      <td>3448737.0</td>\n      <td>3.451492e+06</td>\n    </tr>\n    <tr>\n      <th>서울</th>\n      <td>9762546.0</td>\n      <td>9631482.0</td>\n      <td>9904312.0</td>\n      <td>9.766113e+06</td>\n    </tr>\n    <tr>\n      <th>인천</th>\n      <td>NaN</td>\n      <td>263203.0</td>\n      <td>2890451.0</td>\n      <td>1.576827e+06</td>\n    </tr>\n    <tr>\n      <th>평균</th>\n      <td>6637546.5</td>\n      <td>4429292.0</td>\n      <td>5414500.0</td>\n      <td>5.350809e+06</td>\n    </tr>\n  </tbody>\n</table>\n</div>"
     },
     "metadata": {},
     "execution_count": 65
    }
   ],
   "source": [
    "# margins=True는 axis=0, axis=1 으로 평균(둘다)\n",
    "# margins_name 은 추가되는 행/열 이름\n",
    "df1.pivot_table(\"인구\", \"도시\", \"연도\", margins=True, margins_name=\"평균\")"
   ]
  },
  {
   "cell_type": "code",
   "execution_count": 68,
   "metadata": {},
   "outputs": [
    {
     "output_type": "execute_result",
     "data": {
      "text/plain": [
       "<bound method Series.mean of 0    9904312\n",
       "1    9631482\n",
       "2    9762546\n",
       "3    3448737\n",
       "4    3393191\n",
       "5    3512547\n",
       "6    2890451\n",
       "7     263203\n",
       "Name: 인구, dtype: int64>"
      ]
     },
     "metadata": {},
     "execution_count": 68
    }
   ],
   "source": [
    "df1.인구.mean"
   ]
  },
  {
   "cell_type": "code",
   "execution_count": 69,
   "metadata": {},
   "outputs": [
    {
     "output_type": "execute_result",
     "data": {
      "text/plain": [
       "              인구\n",
       "연도   도시         \n",
       "2005 부산  3512547\n",
       "     서울  9762546\n",
       "2010 부산  3393191\n",
       "     서울  9631482\n",
       "     인천   263203\n",
       "2015 부산  3448737\n",
       "     서울  9904312\n",
       "     인천  2890451"
      ],
      "text/html": "<div>\n<style scoped>\n    .dataframe tbody tr th:only-of-type {\n        vertical-align: middle;\n    }\n\n    .dataframe tbody tr th {\n        vertical-align: top;\n    }\n\n    .dataframe thead th {\n        text-align: right;\n    }\n</style>\n<table border=\"1\" class=\"dataframe\">\n  <thead>\n    <tr style=\"text-align: right;\">\n      <th></th>\n      <th></th>\n      <th>인구</th>\n    </tr>\n    <tr>\n      <th>연도</th>\n      <th>도시</th>\n      <th></th>\n    </tr>\n  </thead>\n  <tbody>\n    <tr>\n      <th rowspan=\"2\" valign=\"top\">2005</th>\n      <th>부산</th>\n      <td>3512547</td>\n    </tr>\n    <tr>\n      <th>서울</th>\n      <td>9762546</td>\n    </tr>\n    <tr>\n      <th rowspan=\"3\" valign=\"top\">2010</th>\n      <th>부산</th>\n      <td>3393191</td>\n    </tr>\n    <tr>\n      <th>서울</th>\n      <td>9631482</td>\n    </tr>\n    <tr>\n      <th>인천</th>\n      <td>263203</td>\n    </tr>\n    <tr>\n      <th rowspan=\"3\" valign=\"top\">2015</th>\n      <th>부산</th>\n      <td>3448737</td>\n    </tr>\n    <tr>\n      <th>서울</th>\n      <td>9904312</td>\n    </tr>\n    <tr>\n      <th>인천</th>\n      <td>2890451</td>\n    </tr>\n  </tbody>\n</table>\n</div>"
     },
     "metadata": {},
     "execution_count": 69
    }
   ],
   "source": [
    "# 멀티인덱스\n",
    "df1.pivot_table(\"인구\", index=[\"연도\", \"도시\"])"
   ]
  },
  {
   "cell_type": "code",
   "execution_count": 74,
   "metadata": {},
   "outputs": [
    {
     "output_type": "execute_result",
     "data": {
      "text/plain": [
       "     total_bill   tip     sex smoker   day    time  size\n",
       "239       29.03  5.92    Male     No   Sat  Dinner     3\n",
       "240       27.18  2.00  Female    Yes   Sat  Dinner     2\n",
       "241       22.67  2.00    Male    Yes   Sat  Dinner     2\n",
       "242       17.82  1.75    Male     No   Sat  Dinner     2\n",
       "243       18.78  3.00  Female     No  Thur  Dinner     2"
      ],
      "text/html": "<div>\n<style scoped>\n    .dataframe tbody tr th:only-of-type {\n        vertical-align: middle;\n    }\n\n    .dataframe tbody tr th {\n        vertical-align: top;\n    }\n\n    .dataframe thead th {\n        text-align: right;\n    }\n</style>\n<table border=\"1\" class=\"dataframe\">\n  <thead>\n    <tr style=\"text-align: right;\">\n      <th></th>\n      <th>total_bill</th>\n      <th>tip</th>\n      <th>sex</th>\n      <th>smoker</th>\n      <th>day</th>\n      <th>time</th>\n      <th>size</th>\n    </tr>\n  </thead>\n  <tbody>\n    <tr>\n      <th>239</th>\n      <td>29.03</td>\n      <td>5.92</td>\n      <td>Male</td>\n      <td>No</td>\n      <td>Sat</td>\n      <td>Dinner</td>\n      <td>3</td>\n    </tr>\n    <tr>\n      <th>240</th>\n      <td>27.18</td>\n      <td>2.00</td>\n      <td>Female</td>\n      <td>Yes</td>\n      <td>Sat</td>\n      <td>Dinner</td>\n      <td>2</td>\n    </tr>\n    <tr>\n      <th>241</th>\n      <td>22.67</td>\n      <td>2.00</td>\n      <td>Male</td>\n      <td>Yes</td>\n      <td>Sat</td>\n      <td>Dinner</td>\n      <td>2</td>\n    </tr>\n    <tr>\n      <th>242</th>\n      <td>17.82</td>\n      <td>1.75</td>\n      <td>Male</td>\n      <td>No</td>\n      <td>Sat</td>\n      <td>Dinner</td>\n      <td>2</td>\n    </tr>\n    <tr>\n      <th>243</th>\n      <td>18.78</td>\n      <td>3.00</td>\n      <td>Female</td>\n      <td>No</td>\n      <td>Thur</td>\n      <td>Dinner</td>\n      <td>2</td>\n    </tr>\n  </tbody>\n</table>\n</div>"
     },
     "metadata": {},
     "execution_count": 74
    }
   ],
   "source": [
    "# tip 데이터셋\n",
    "tips = sns.load_dataset(\"tips\")\n",
    "tips.tail()"
   ]
  },
  {
   "cell_type": "code",
   "execution_count": 78,
   "metadata": {},
   "outputs": [
    {
     "output_type": "execute_result",
     "data": {
      "text/plain": [
       "   total_bill   tip     sex smoker  day    time  size   tip_pct\n",
       "0       16.99  1.01  Female     No  Sun  Dinner     2  0.059447\n",
       "1       10.34  1.66    Male     No  Sun  Dinner     3  0.160542\n",
       "2       21.01  3.50    Male     No  Sun  Dinner     3  0.166587\n",
       "3       23.68  3.31    Male     No  Sun  Dinner     2  0.139780\n",
       "4       24.59  3.61  Female     No  Sun  Dinner     4  0.146808"
      ],
      "text/html": "<div>\n<style scoped>\n    .dataframe tbody tr th:only-of-type {\n        vertical-align: middle;\n    }\n\n    .dataframe tbody tr th {\n        vertical-align: top;\n    }\n\n    .dataframe thead th {\n        text-align: right;\n    }\n</style>\n<table border=\"1\" class=\"dataframe\">\n  <thead>\n    <tr style=\"text-align: right;\">\n      <th></th>\n      <th>total_bill</th>\n      <th>tip</th>\n      <th>sex</th>\n      <th>smoker</th>\n      <th>day</th>\n      <th>time</th>\n      <th>size</th>\n      <th>tip_pct</th>\n    </tr>\n  </thead>\n  <tbody>\n    <tr>\n      <th>0</th>\n      <td>16.99</td>\n      <td>1.01</td>\n      <td>Female</td>\n      <td>No</td>\n      <td>Sun</td>\n      <td>Dinner</td>\n      <td>2</td>\n      <td>0.059447</td>\n    </tr>\n    <tr>\n      <th>1</th>\n      <td>10.34</td>\n      <td>1.66</td>\n      <td>Male</td>\n      <td>No</td>\n      <td>Sun</td>\n      <td>Dinner</td>\n      <td>3</td>\n      <td>0.160542</td>\n    </tr>\n    <tr>\n      <th>2</th>\n      <td>21.01</td>\n      <td>3.50</td>\n      <td>Male</td>\n      <td>No</td>\n      <td>Sun</td>\n      <td>Dinner</td>\n      <td>3</td>\n      <td>0.166587</td>\n    </tr>\n    <tr>\n      <th>3</th>\n      <td>23.68</td>\n      <td>3.31</td>\n      <td>Male</td>\n      <td>No</td>\n      <td>Sun</td>\n      <td>Dinner</td>\n      <td>2</td>\n      <td>0.139780</td>\n    </tr>\n    <tr>\n      <th>4</th>\n      <td>24.59</td>\n      <td>3.61</td>\n      <td>Female</td>\n      <td>No</td>\n      <td>Sun</td>\n      <td>Dinner</td>\n      <td>4</td>\n      <td>0.146808</td>\n    </tr>\n  </tbody>\n</table>\n</div>"
     },
     "metadata": {},
     "execution_count": 78
    }
   ],
   "source": [
    "# 팁 퍼센트\n",
    "tips['tip_pct'] = tips['tip'] / tips['total_bill']\n",
    "tips.head()"
   ]
  },
  {
   "cell_type": "code",
   "execution_count": 81,
   "metadata": {},
   "outputs": [
    {
     "output_type": "execute_result",
     "data": {
      "text/plain": [
       "       total_bill         tip        size     tip_pct\n",
       "count  244.000000  244.000000  244.000000  244.000000\n",
       "mean    19.785943    2.998279    2.569672    0.160803\n",
       "std      8.902412    1.383638    0.951100    0.061072\n",
       "min      3.070000    1.000000    1.000000    0.035638\n",
       "25%     13.347500    2.000000    2.000000    0.129127\n",
       "50%     17.795000    2.900000    2.000000    0.154770\n",
       "75%     24.127500    3.562500    3.000000    0.191475\n",
       "max     50.810000   10.000000    6.000000    0.710345"
      ],
      "text/html": "<div>\n<style scoped>\n    .dataframe tbody tr th:only-of-type {\n        vertical-align: middle;\n    }\n\n    .dataframe tbody tr th {\n        vertical-align: top;\n    }\n\n    .dataframe thead th {\n        text-align: right;\n    }\n</style>\n<table border=\"1\" class=\"dataframe\">\n  <thead>\n    <tr style=\"text-align: right;\">\n      <th></th>\n      <th>total_bill</th>\n      <th>tip</th>\n      <th>size</th>\n      <th>tip_pct</th>\n    </tr>\n  </thead>\n  <tbody>\n    <tr>\n      <th>count</th>\n      <td>244.000000</td>\n      <td>244.000000</td>\n      <td>244.000000</td>\n      <td>244.000000</td>\n    </tr>\n    <tr>\n      <th>mean</th>\n      <td>19.785943</td>\n      <td>2.998279</td>\n      <td>2.569672</td>\n      <td>0.160803</td>\n    </tr>\n    <tr>\n      <th>std</th>\n      <td>8.902412</td>\n      <td>1.383638</td>\n      <td>0.951100</td>\n      <td>0.061072</td>\n    </tr>\n    <tr>\n      <th>min</th>\n      <td>3.070000</td>\n      <td>1.000000</td>\n      <td>1.000000</td>\n      <td>0.035638</td>\n    </tr>\n    <tr>\n      <th>25%</th>\n      <td>13.347500</td>\n      <td>2.000000</td>\n      <td>2.000000</td>\n      <td>0.129127</td>\n    </tr>\n    <tr>\n      <th>50%</th>\n      <td>17.795000</td>\n      <td>2.900000</td>\n      <td>2.000000</td>\n      <td>0.154770</td>\n    </tr>\n    <tr>\n      <th>75%</th>\n      <td>24.127500</td>\n      <td>3.562500</td>\n      <td>3.000000</td>\n      <td>0.191475</td>\n    </tr>\n    <tr>\n      <th>max</th>\n      <td>50.810000</td>\n      <td>10.000000</td>\n      <td>6.000000</td>\n      <td>0.710345</td>\n    </tr>\n  </tbody>\n</table>\n</div>"
     },
     "metadata": {},
     "execution_count": 81
    }
   ],
   "source": [
    "# 범주형 제외하고 다 나온다\n",
    "tips.describe()"
   ]
  },
  {
   "cell_type": "code",
   "execution_count": 85,
   "metadata": {},
   "outputs": [
    {
     "output_type": "execute_result",
     "data": {
      "text/plain": [
       "sex\n",
       "Male      157\n",
       "Female     87\n",
       "dtype: int64"
      ]
     },
     "metadata": {},
     "execution_count": 85
    }
   ],
   "source": [
    "tips.groupby(\"sex\").size()"
   ]
  },
  {
   "cell_type": "code",
   "execution_count": 86,
   "metadata": {},
   "outputs": [
    {
     "output_type": "execute_result",
     "data": {
      "text/plain": [
       "sex     smoker\n",
       "Male    Yes       60\n",
       "        No        97\n",
       "Female  Yes       33\n",
       "        No        54\n",
       "dtype: int64"
      ]
     },
     "metadata": {},
     "execution_count": 86
    }
   ],
   "source": [
    "# groupby는 메소드랑 같이 안 나오면 객체로만 나옴\n",
    "tips.groupby([\"sex\", \"smoker\"]).size()"
   ]
  },
  {
   "cell_type": "code",
   "execution_count": 90,
   "metadata": {},
   "outputs": [
    {
     "output_type": "execute_result",
     "data": {
      "text/plain": [
       "smoker  Yes   No  All\n",
       "sex                  \n",
       "Male     60   97  157\n",
       "Female   33   54   87\n",
       "All      93  151  244"
      ],
      "text/html": "<div>\n<style scoped>\n    .dataframe tbody tr th:only-of-type {\n        vertical-align: middle;\n    }\n\n    .dataframe tbody tr th {\n        vertical-align: top;\n    }\n\n    .dataframe thead th {\n        text-align: right;\n    }\n</style>\n<table border=\"1\" class=\"dataframe\">\n  <thead>\n    <tr style=\"text-align: right;\">\n      <th>smoker</th>\n      <th>Yes</th>\n      <th>No</th>\n      <th>All</th>\n    </tr>\n    <tr>\n      <th>sex</th>\n      <th></th>\n      <th></th>\n      <th></th>\n    </tr>\n  </thead>\n  <tbody>\n    <tr>\n      <th>Male</th>\n      <td>60</td>\n      <td>97</td>\n      <td>157</td>\n    </tr>\n    <tr>\n      <th>Female</th>\n      <td>33</td>\n      <td>54</td>\n      <td>87</td>\n    </tr>\n    <tr>\n      <th>All</th>\n      <td>93</td>\n      <td>151</td>\n      <td>244</td>\n    </tr>\n  </tbody>\n</table>\n</div>"
     },
     "metadata": {},
     "execution_count": 90
    }
   ],
   "source": [
    "# 피봇테이블은 객체 이런거 없이 바로 DF로 나옴\n",
    "# aggfunc. 데이터가 원소 개수로 나온다\n",
    "tips.pivot_table('tip_pct','sex','smoker', aggfunc='count', margins=True)"
   ]
  },
  {
   "cell_type": "code",
   "execution_count": 94,
   "metadata": {},
   "outputs": [
    {
     "output_type": "execute_result",
     "data": {
      "text/plain": [
       "         tip_pct\n",
       "sex             \n",
       "Male    0.157651\n",
       "Female  0.166491"
      ],
      "text/html": "<div>\n<style scoped>\n    .dataframe tbody tr th:only-of-type {\n        vertical-align: middle;\n    }\n\n    .dataframe tbody tr th {\n        vertical-align: top;\n    }\n\n    .dataframe thead th {\n        text-align: right;\n    }\n</style>\n<table border=\"1\" class=\"dataframe\">\n  <thead>\n    <tr style=\"text-align: right;\">\n      <th></th>\n      <th>tip_pct</th>\n    </tr>\n    <tr>\n      <th>sex</th>\n      <th></th>\n    </tr>\n  </thead>\n  <tbody>\n    <tr>\n      <th>Male</th>\n      <td>0.157651</td>\n    </tr>\n    <tr>\n      <th>Female</th>\n      <td>0.166491</td>\n    </tr>\n  </tbody>\n</table>\n</div>"
     },
     "metadata": {},
     "execution_count": 94
    }
   ],
   "source": [
    "# 성별과 팁 비율\n",
    "tips.groupby(\"sex\")[[\"tip_pct\"]].mean()"
   ]
  },
  {
   "cell_type": "code",
   "execution_count": 95,
   "metadata": {},
   "outputs": [
    {
     "output_type": "execute_result",
     "data": {
      "text/plain": [
       "         tip_pct\n",
       "smoker          \n",
       "Yes     0.163196\n",
       "No      0.159328"
      ],
      "text/html": "<div>\n<style scoped>\n    .dataframe tbody tr th:only-of-type {\n        vertical-align: middle;\n    }\n\n    .dataframe tbody tr th {\n        vertical-align: top;\n    }\n\n    .dataframe thead th {\n        text-align: right;\n    }\n</style>\n<table border=\"1\" class=\"dataframe\">\n  <thead>\n    <tr style=\"text-align: right;\">\n      <th></th>\n      <th>tip_pct</th>\n    </tr>\n    <tr>\n      <th>smoker</th>\n      <th></th>\n    </tr>\n  </thead>\n  <tbody>\n    <tr>\n      <th>Yes</th>\n      <td>0.163196</td>\n    </tr>\n    <tr>\n      <th>No</th>\n      <td>0.159328</td>\n    </tr>\n  </tbody>\n</table>\n</div>"
     },
     "metadata": {},
     "execution_count": 95
    }
   ],
   "source": [
    "# 흡연과 팁 비율\n",
    "tips.groupby(\"smoker\")[[\"tip_pct\"]].mean()"
   ]
  },
  {
   "cell_type": "code",
   "execution_count": 97,
   "metadata": {},
   "outputs": [
    {
     "output_type": "execute_result",
     "data": {
      "text/plain": [
       "         tip_pct\n",
       "sex             \n",
       "Male    0.157651\n",
       "Female  0.166491"
      ],
      "text/html": "<div>\n<style scoped>\n    .dataframe tbody tr th:only-of-type {\n        vertical-align: middle;\n    }\n\n    .dataframe tbody tr th {\n        vertical-align: top;\n    }\n\n    .dataframe thead th {\n        text-align: right;\n    }\n</style>\n<table border=\"1\" class=\"dataframe\">\n  <thead>\n    <tr style=\"text-align: right;\">\n      <th></th>\n      <th>tip_pct</th>\n    </tr>\n    <tr>\n      <th>sex</th>\n      <th></th>\n    </tr>\n  </thead>\n  <tbody>\n    <tr>\n      <th>Male</th>\n      <td>0.157651</td>\n    </tr>\n    <tr>\n      <th>Female</th>\n      <td>0.166491</td>\n    </tr>\n  </tbody>\n</table>\n</div>"
     },
     "metadata": {},
     "execution_count": 97
    }
   ],
   "source": [
    "# 똑같은 걸 pivot_table로도 구할 수 있다\n",
    "# tip_pct데이터, sex행 \n",
    "tips.pivot_table(\"tip_pct\", \"sex\")"
   ]
  },
  {
   "cell_type": "code",
   "execution_count": 99,
   "metadata": {},
   "outputs": [
    {
     "output_type": "execute_result",
     "data": {
      "text/plain": [
       "     total_bill   tip     sex smoker   day    time  size   tip_pct\n",
       "0         16.99  1.01  Female     No   Sun  Dinner     2  0.059447\n",
       "1         10.34  1.66    Male     No   Sun  Dinner     3  0.160542\n",
       "2         21.01  3.50    Male     No   Sun  Dinner     3  0.166587\n",
       "3         23.68  3.31    Male     No   Sun  Dinner     2  0.139780\n",
       "4         24.59  3.61  Female     No   Sun  Dinner     4  0.146808\n",
       "..          ...   ...     ...    ...   ...     ...   ...       ...\n",
       "239       29.03  5.92    Male     No   Sat  Dinner     3  0.203927\n",
       "240       27.18  2.00  Female    Yes   Sat  Dinner     2  0.073584\n",
       "241       22.67  2.00    Male    Yes   Sat  Dinner     2  0.088222\n",
       "242       17.82  1.75    Male     No   Sat  Dinner     2  0.098204\n",
       "243       18.78  3.00  Female     No  Thur  Dinner     2  0.159744\n",
       "\n",
       "[244 rows x 8 columns]"
      ],
      "text/html": "<div>\n<style scoped>\n    .dataframe tbody tr th:only-of-type {\n        vertical-align: middle;\n    }\n\n    .dataframe tbody tr th {\n        vertical-align: top;\n    }\n\n    .dataframe thead th {\n        text-align: right;\n    }\n</style>\n<table border=\"1\" class=\"dataframe\">\n  <thead>\n    <tr style=\"text-align: right;\">\n      <th></th>\n      <th>total_bill</th>\n      <th>tip</th>\n      <th>sex</th>\n      <th>smoker</th>\n      <th>day</th>\n      <th>time</th>\n      <th>size</th>\n      <th>tip_pct</th>\n    </tr>\n  </thead>\n  <tbody>\n    <tr>\n      <th>0</th>\n      <td>16.99</td>\n      <td>1.01</td>\n      <td>Female</td>\n      <td>No</td>\n      <td>Sun</td>\n      <td>Dinner</td>\n      <td>2</td>\n      <td>0.059447</td>\n    </tr>\n    <tr>\n      <th>1</th>\n      <td>10.34</td>\n      <td>1.66</td>\n      <td>Male</td>\n      <td>No</td>\n      <td>Sun</td>\n      <td>Dinner</td>\n      <td>3</td>\n      <td>0.160542</td>\n    </tr>\n    <tr>\n      <th>2</th>\n      <td>21.01</td>\n      <td>3.50</td>\n      <td>Male</td>\n      <td>No</td>\n      <td>Sun</td>\n      <td>Dinner</td>\n      <td>3</td>\n      <td>0.166587</td>\n    </tr>\n    <tr>\n      <th>3</th>\n      <td>23.68</td>\n      <td>3.31</td>\n      <td>Male</td>\n      <td>No</td>\n      <td>Sun</td>\n      <td>Dinner</td>\n      <td>2</td>\n      <td>0.139780</td>\n    </tr>\n    <tr>\n      <th>4</th>\n      <td>24.59</td>\n      <td>3.61</td>\n      <td>Female</td>\n      <td>No</td>\n      <td>Sun</td>\n      <td>Dinner</td>\n      <td>4</td>\n      <td>0.146808</td>\n    </tr>\n    <tr>\n      <th>...</th>\n      <td>...</td>\n      <td>...</td>\n      <td>...</td>\n      <td>...</td>\n      <td>...</td>\n      <td>...</td>\n      <td>...</td>\n      <td>...</td>\n    </tr>\n    <tr>\n      <th>239</th>\n      <td>29.03</td>\n      <td>5.92</td>\n      <td>Male</td>\n      <td>No</td>\n      <td>Sat</td>\n      <td>Dinner</td>\n      <td>3</td>\n      <td>0.203927</td>\n    </tr>\n    <tr>\n      <th>240</th>\n      <td>27.18</td>\n      <td>2.00</td>\n      <td>Female</td>\n      <td>Yes</td>\n      <td>Sat</td>\n      <td>Dinner</td>\n      <td>2</td>\n      <td>0.073584</td>\n    </tr>\n    <tr>\n      <th>241</th>\n      <td>22.67</td>\n      <td>2.00</td>\n      <td>Male</td>\n      <td>Yes</td>\n      <td>Sat</td>\n      <td>Dinner</td>\n      <td>2</td>\n      <td>0.088222</td>\n    </tr>\n    <tr>\n      <th>242</th>\n      <td>17.82</td>\n      <td>1.75</td>\n      <td>Male</td>\n      <td>No</td>\n      <td>Sat</td>\n      <td>Dinner</td>\n      <td>2</td>\n      <td>0.098204</td>\n    </tr>\n    <tr>\n      <th>243</th>\n      <td>18.78</td>\n      <td>3.00</td>\n      <td>Female</td>\n      <td>No</td>\n      <td>Thur</td>\n      <td>Dinner</td>\n      <td>2</td>\n      <td>0.159744</td>\n    </tr>\n  </tbody>\n</table>\n<p>244 rows × 8 columns</p>\n</div>"
     },
     "metadata": {},
     "execution_count": 99
    }
   ],
   "source": [
    "# 팁의 비율이 요일과 점심/저녁 여부, 인원수에 어떤 영향을 받는지 살펴본다.\n",
    "# 어떤 요인이 가장 크게 작용하는지 판단할 수 있는 방법이 있는가?\n",
    "\n",
    "tips"
   ]
  },
  {
   "cell_type": "code",
   "execution_count": 116,
   "metadata": {},
   "outputs": [
    {
     "output_type": "execute_result",
     "data": {
      "text/plain": [
       "             total_bill       tip      size   tip_pct\n",
       "day  time                                            \n",
       "Thur Lunch    17.664754  2.767705  2.459016  0.161301\n",
       "     Dinner   18.780000  3.000000  2.000000  0.159744\n",
       "Fri  Lunch    12.845714  2.382857  2.000000  0.188765\n",
       "     Dinner   19.663333  2.940000  2.166667  0.158916\n",
       "Sat  Lunch          NaN       NaN       NaN       NaN\n",
       "     Dinner   20.441379  2.993103  2.517241  0.153152\n",
       "Sun  Lunch          NaN       NaN       NaN       NaN\n",
       "     Dinner   21.410000  3.255132  2.842105  0.166897"
      ],
      "text/html": "<div>\n<style scoped>\n    .dataframe tbody tr th:only-of-type {\n        vertical-align: middle;\n    }\n\n    .dataframe tbody tr th {\n        vertical-align: top;\n    }\n\n    .dataframe thead th {\n        text-align: right;\n    }\n</style>\n<table border=\"1\" class=\"dataframe\">\n  <thead>\n    <tr style=\"text-align: right;\">\n      <th></th>\n      <th></th>\n      <th>total_bill</th>\n      <th>tip</th>\n      <th>size</th>\n      <th>tip_pct</th>\n    </tr>\n    <tr>\n      <th>day</th>\n      <th>time</th>\n      <th></th>\n      <th></th>\n      <th></th>\n      <th></th>\n    </tr>\n  </thead>\n  <tbody>\n    <tr>\n      <th rowspan=\"2\" valign=\"top\">Thur</th>\n      <th>Lunch</th>\n      <td>17.664754</td>\n      <td>2.767705</td>\n      <td>2.459016</td>\n      <td>0.161301</td>\n    </tr>\n    <tr>\n      <th>Dinner</th>\n      <td>18.780000</td>\n      <td>3.000000</td>\n      <td>2.000000</td>\n      <td>0.159744</td>\n    </tr>\n    <tr>\n      <th rowspan=\"2\" valign=\"top\">Fri</th>\n      <th>Lunch</th>\n      <td>12.845714</td>\n      <td>2.382857</td>\n      <td>2.000000</td>\n      <td>0.188765</td>\n    </tr>\n    <tr>\n      <th>Dinner</th>\n      <td>19.663333</td>\n      <td>2.940000</td>\n      <td>2.166667</td>\n      <td>0.158916</td>\n    </tr>\n    <tr>\n      <th rowspan=\"2\" valign=\"top\">Sat</th>\n      <th>Lunch</th>\n      <td>NaN</td>\n      <td>NaN</td>\n      <td>NaN</td>\n      <td>NaN</td>\n    </tr>\n    <tr>\n      <th>Dinner</th>\n      <td>20.441379</td>\n      <td>2.993103</td>\n      <td>2.517241</td>\n      <td>0.153152</td>\n    </tr>\n    <tr>\n      <th rowspan=\"2\" valign=\"top\">Sun</th>\n      <th>Lunch</th>\n      <td>NaN</td>\n      <td>NaN</td>\n      <td>NaN</td>\n      <td>NaN</td>\n    </tr>\n    <tr>\n      <th>Dinner</th>\n      <td>21.410000</td>\n      <td>3.255132</td>\n      <td>2.842105</td>\n      <td>0.166897</td>\n    </tr>\n  </tbody>\n</table>\n</div>"
     },
     "metadata": {},
     "execution_count": 116
    }
   ],
   "source": [
    "tips.groupby([tips.day, tips.time]).mean()"
   ]
  },
  {
   "cell_type": "code",
   "execution_count": 126,
   "metadata": {},
   "outputs": [
    {
     "output_type": "execute_result",
     "data": {
      "text/plain": [
       "size                1         2         3         4         5         6\n",
       "day  time                                                              \n",
       "Thur Lunch   0.181728  0.164024  0.144599  0.145515  0.121389  0.173706\n",
       "     Dinner       NaN  0.159744       NaN       NaN       NaN       NaN\n",
       "Fri  Lunch   0.223776  0.181969  0.187735       NaN       NaN       NaN\n",
       "     Dinner       NaN  0.162659       NaN  0.117750       NaN       NaN\n",
       "Sat  Dinner  0.231832  0.155289  0.151439  0.138289  0.106572       NaN\n",
       "Sun  Dinner       NaN  0.180870  0.152662  0.153168  0.159839  0.103799"
      ],
      "text/html": "<div>\n<style scoped>\n    .dataframe tbody tr th:only-of-type {\n        vertical-align: middle;\n    }\n\n    .dataframe tbody tr th {\n        vertical-align: top;\n    }\n\n    .dataframe thead th {\n        text-align: right;\n    }\n</style>\n<table border=\"1\" class=\"dataframe\">\n  <thead>\n    <tr style=\"text-align: right;\">\n      <th></th>\n      <th>size</th>\n      <th>1</th>\n      <th>2</th>\n      <th>3</th>\n      <th>4</th>\n      <th>5</th>\n      <th>6</th>\n    </tr>\n    <tr>\n      <th>day</th>\n      <th>time</th>\n      <th></th>\n      <th></th>\n      <th></th>\n      <th></th>\n      <th></th>\n      <th></th>\n    </tr>\n  </thead>\n  <tbody>\n    <tr>\n      <th rowspan=\"2\" valign=\"top\">Thur</th>\n      <th>Lunch</th>\n      <td>0.181728</td>\n      <td>0.164024</td>\n      <td>0.144599</td>\n      <td>0.145515</td>\n      <td>0.121389</td>\n      <td>0.173706</td>\n    </tr>\n    <tr>\n      <th>Dinner</th>\n      <td>NaN</td>\n      <td>0.159744</td>\n      <td>NaN</td>\n      <td>NaN</td>\n      <td>NaN</td>\n      <td>NaN</td>\n    </tr>\n    <tr>\n      <th rowspan=\"2\" valign=\"top\">Fri</th>\n      <th>Lunch</th>\n      <td>0.223776</td>\n      <td>0.181969</td>\n      <td>0.187735</td>\n      <td>NaN</td>\n      <td>NaN</td>\n      <td>NaN</td>\n    </tr>\n    <tr>\n      <th>Dinner</th>\n      <td>NaN</td>\n      <td>0.162659</td>\n      <td>NaN</td>\n      <td>0.117750</td>\n      <td>NaN</td>\n      <td>NaN</td>\n    </tr>\n    <tr>\n      <th>Sat</th>\n      <th>Dinner</th>\n      <td>0.231832</td>\n      <td>0.155289</td>\n      <td>0.151439</td>\n      <td>0.138289</td>\n      <td>0.106572</td>\n      <td>NaN</td>\n    </tr>\n    <tr>\n      <th>Sun</th>\n      <th>Dinner</th>\n      <td>NaN</td>\n      <td>0.180870</td>\n      <td>0.152662</td>\n      <td>0.153168</td>\n      <td>0.159839</td>\n      <td>0.103799</td>\n    </tr>\n  </tbody>\n</table>\n</div>"
     },
     "metadata": {},
     "execution_count": 126
    }
   ],
   "source": [
    "tips.pivot_table('tip_pct','size',['day','time']).T"
   ]
  },
  {
   "cell_type": "code",
   "execution_count": 125,
   "metadata": {},
   "outputs": [
    {
     "output_type": "execute_result",
     "data": {
      "text/plain": [
       "time     Lunch    Dinner       All\n",
       "day                               \n",
       "Thur  0.161301  0.159744  0.161276\n",
       "Fri   0.188765  0.158916  0.169913\n",
       "Sat        NaN  0.153152  0.153152\n",
       "Sun        NaN  0.166897  0.166897\n",
       "All   0.164128  0.159518  0.160803"
      ],
      "text/html": "<div>\n<style scoped>\n    .dataframe tbody tr th:only-of-type {\n        vertical-align: middle;\n    }\n\n    .dataframe tbody tr th {\n        vertical-align: top;\n    }\n\n    .dataframe thead th {\n        text-align: right;\n    }\n</style>\n<table border=\"1\" class=\"dataframe\">\n  <thead>\n    <tr style=\"text-align: right;\">\n      <th>time</th>\n      <th>Lunch</th>\n      <th>Dinner</th>\n      <th>All</th>\n    </tr>\n    <tr>\n      <th>day</th>\n      <th></th>\n      <th></th>\n      <th></th>\n    </tr>\n  </thead>\n  <tbody>\n    <tr>\n      <th>Thur</th>\n      <td>0.161301</td>\n      <td>0.159744</td>\n      <td>0.161276</td>\n    </tr>\n    <tr>\n      <th>Fri</th>\n      <td>0.188765</td>\n      <td>0.158916</td>\n      <td>0.169913</td>\n    </tr>\n    <tr>\n      <th>Sat</th>\n      <td>NaN</td>\n      <td>0.153152</td>\n      <td>0.153152</td>\n    </tr>\n    <tr>\n      <th>Sun</th>\n      <td>NaN</td>\n      <td>0.166897</td>\n      <td>0.166897</td>\n    </tr>\n    <tr>\n      <th>All</th>\n      <td>0.164128</td>\n      <td>0.159518</td>\n      <td>0.160803</td>\n    </tr>\n  </tbody>\n</table>\n</div>"
     },
     "metadata": {},
     "execution_count": 125
    }
   ],
   "source": [
    "tips.pivot_table('tip_pct','day','time', margins = True)"
   ]
  },
  {
   "cell_type": "code",
   "execution_count": 131,
   "metadata": {},
   "outputs": [
    {
     "output_type": "execute_result",
     "data": {
      "text/plain": [
       "                tip_pct\n",
       "sex    smoker          \n",
       "Male   Yes     0.674707\n",
       "       No      0.220186\n",
       "Female Yes     0.360233\n",
       "       No      0.195876"
      ],
      "text/html": "<div>\n<style scoped>\n    .dataframe tbody tr th:only-of-type {\n        vertical-align: middle;\n    }\n\n    .dataframe tbody tr th {\n        vertical-align: top;\n    }\n\n    .dataframe thead th {\n        text-align: right;\n    }\n</style>\n<table border=\"1\" class=\"dataframe\">\n  <thead>\n    <tr style=\"text-align: right;\">\n      <th></th>\n      <th></th>\n      <th>tip_pct</th>\n    </tr>\n    <tr>\n      <th>sex</th>\n      <th>smoker</th>\n      <th></th>\n    </tr>\n  </thead>\n  <tbody>\n    <tr>\n      <th rowspan=\"2\" valign=\"top\">Male</th>\n      <th>Yes</th>\n      <td>0.674707</td>\n    </tr>\n    <tr>\n      <th>No</th>\n      <td>0.220186</td>\n    </tr>\n    <tr>\n      <th rowspan=\"2\" valign=\"top\">Female</th>\n      <th>Yes</th>\n      <td>0.360233</td>\n    </tr>\n    <tr>\n      <th>No</th>\n      <td>0.195876</td>\n    </tr>\n  </tbody>\n</table>\n</div>"
     },
     "metadata": {},
     "execution_count": 131
    }
   ],
   "source": [
    "# agg 자리에 내가 만든 함수 넣어보기\n",
    "def peak_to_peak(x):\n",
    "    return x.max() - x.min()\n",
    "\n",
    "# tips.groupby([\"sex\", \"smoker\"])[[\"tip\"]].agg(peak_to_peak)\n",
    "\n",
    "# 많이 먹었으면 많이 내고, 적게 먹었으면 적게 낼테니 raw데이터 말고 퍼센트를 봐야 안다\n",
    "# 마치 코로나 검사 숫자처럼\n",
    "tips.groupby([\"sex\", \"smoker\"])[[\"tip_pct\"]].agg(peak_to_peak)"
   ]
  },
  {
   "cell_type": "code",
   "execution_count": 133,
   "metadata": {},
   "outputs": [
    {
     "output_type": "execute_result",
     "data": {
      "text/plain": [
       "                tip_pct             \n",
       "                   mean peak_to_peak\n",
       "sex    smoker                       \n",
       "Male   Yes     0.152771     0.674707\n",
       "       No      0.160669     0.220186\n",
       "Female Yes     0.182150     0.360233\n",
       "       No      0.156921     0.195876"
      ],
      "text/html": "<div>\n<style scoped>\n    .dataframe tbody tr th:only-of-type {\n        vertical-align: middle;\n    }\n\n    .dataframe tbody tr th {\n        vertical-align: top;\n    }\n\n    .dataframe thead tr th {\n        text-align: left;\n    }\n\n    .dataframe thead tr:last-of-type th {\n        text-align: right;\n    }\n</style>\n<table border=\"1\" class=\"dataframe\">\n  <thead>\n    <tr>\n      <th></th>\n      <th></th>\n      <th colspan=\"2\" halign=\"left\">tip_pct</th>\n    </tr>\n    <tr>\n      <th></th>\n      <th></th>\n      <th>mean</th>\n      <th>peak_to_peak</th>\n    </tr>\n    <tr>\n      <th>sex</th>\n      <th>smoker</th>\n      <th></th>\n      <th></th>\n    </tr>\n  </thead>\n  <tbody>\n    <tr>\n      <th rowspan=\"2\" valign=\"top\">Male</th>\n      <th>Yes</th>\n      <td>0.152771</td>\n      <td>0.674707</td>\n    </tr>\n    <tr>\n      <th>No</th>\n      <td>0.160669</td>\n      <td>0.220186</td>\n    </tr>\n    <tr>\n      <th rowspan=\"2\" valign=\"top\">Female</th>\n      <th>Yes</th>\n      <td>0.182150</td>\n      <td>0.360233</td>\n    </tr>\n    <tr>\n      <th>No</th>\n      <td>0.156921</td>\n      <td>0.195876</td>\n    </tr>\n  </tbody>\n</table>\n</div>"
     },
     "metadata": {},
     "execution_count": 133
    }
   ],
   "source": [
    "# agg에 여러 함수를 넣을 수 있다.\n",
    "tips.groupby([\"sex\", \"smoker\"])[[\"tip_pct\"]].agg([\"mean\",peak_to_peak])\n"
   ]
  },
  {
   "cell_type": "code",
   "execution_count": 134,
   "metadata": {},
   "outputs": [
    {
     "output_type": "execute_result",
     "data": {
      "text/plain": [
       "                tip_pct  total_bill\n",
       "sex    smoker                      \n",
       "Male   Yes     0.152771       43.56\n",
       "       No      0.160669       40.82\n",
       "Female Yes     0.182150       41.23\n",
       "       No      0.156921       28.58"
      ],
      "text/html": "<div>\n<style scoped>\n    .dataframe tbody tr th:only-of-type {\n        vertical-align: middle;\n    }\n\n    .dataframe tbody tr th {\n        vertical-align: top;\n    }\n\n    .dataframe thead th {\n        text-align: right;\n    }\n</style>\n<table border=\"1\" class=\"dataframe\">\n  <thead>\n    <tr style=\"text-align: right;\">\n      <th></th>\n      <th></th>\n      <th>tip_pct</th>\n      <th>total_bill</th>\n    </tr>\n    <tr>\n      <th>sex</th>\n      <th>smoker</th>\n      <th></th>\n      <th></th>\n    </tr>\n  </thead>\n  <tbody>\n    <tr>\n      <th rowspan=\"2\" valign=\"top\">Male</th>\n      <th>Yes</th>\n      <td>0.152771</td>\n      <td>43.56</td>\n    </tr>\n    <tr>\n      <th>No</th>\n      <td>0.160669</td>\n      <td>40.82</td>\n    </tr>\n    <tr>\n      <th rowspan=\"2\" valign=\"top\">Female</th>\n      <th>Yes</th>\n      <td>0.182150</td>\n      <td>41.23</td>\n    </tr>\n    <tr>\n      <th>No</th>\n      <td>0.156921</td>\n      <td>28.58</td>\n    </tr>\n  </tbody>\n</table>\n</div>"
     },
     "metadata": {},
     "execution_count": 134
    }
   ],
   "source": [
    "# 데이터 열마다 연산을 다르게하고싶다면?\n",
    "tips.groupby([\"sex\", \"smoker\"]).agg({'tip_pct': 'mean', 'total_bill': peak_to_peak})"
   ]
  }
 ]
}