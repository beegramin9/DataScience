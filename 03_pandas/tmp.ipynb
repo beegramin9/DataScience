{
 "metadata": {
  "language_info": {
   "codemirror_mode": {
    "name": "ipython",
    "version": 3
   },
   "file_extension": ".py",
   "mimetype": "text/x-python",
   "name": "python",
   "nbconvert_exporter": "python",
   "pygments_lexer": "ipython3",
   "version": "3.8.5-final"
  },
  "orig_nbformat": 2,
  "kernelspec": {
   "name": "python3",
   "display_name": "Python 3"
  }
 },
 "nbformat": 4,
 "nbformat_minor": 2,
 "cells": [
  {
   "cell_type": "code",
   "execution_count": 1,
   "metadata": {},
   "outputs": [],
   "source": [
    "import numpy as np\n",
    "import pandas as pd"
   ]
  },
  {
   "cell_type": "code",
   "execution_count": 3,
   "metadata": {},
   "outputs": [
    {
     "output_type": "execute_result",
     "data": {
      "text/plain": [
       "     지역     2000     2005     2010     2015  2010-2015 증가율\n",
       "서울  수도권  9853972  9762546  9631482  9904312         0.0283\n",
       "부산  경상권  3655437  3512547  3393191  3448737         0.0163\n",
       "인천  수도권  2466338  2517680  2632035  2890451         0.0982\n",
       "대구  경상권  2473990  2456016  2431774  2466052         0.0141"
      ],
      "text/html": "<div>\n<style scoped>\n    .dataframe tbody tr th:only-of-type {\n        vertical-align: middle;\n    }\n\n    .dataframe tbody tr th {\n        vertical-align: top;\n    }\n\n    .dataframe thead th {\n        text-align: right;\n    }\n</style>\n<table border=\"1\" class=\"dataframe\">\n  <thead>\n    <tr style=\"text-align: right;\">\n      <th></th>\n      <th>지역</th>\n      <th>2000</th>\n      <th>2005</th>\n      <th>2010</th>\n      <th>2015</th>\n      <th>2010-2015 증가율</th>\n    </tr>\n  </thead>\n  <tbody>\n    <tr>\n      <th>서울</th>\n      <td>수도권</td>\n      <td>9853972</td>\n      <td>9762546</td>\n      <td>9631482</td>\n      <td>9904312</td>\n      <td>0.0283</td>\n    </tr>\n    <tr>\n      <th>부산</th>\n      <td>경상권</td>\n      <td>3655437</td>\n      <td>3512547</td>\n      <td>3393191</td>\n      <td>3448737</td>\n      <td>0.0163</td>\n    </tr>\n    <tr>\n      <th>인천</th>\n      <td>수도권</td>\n      <td>2466338</td>\n      <td>2517680</td>\n      <td>2632035</td>\n      <td>2890451</td>\n      <td>0.0982</td>\n    </tr>\n    <tr>\n      <th>대구</th>\n      <td>경상권</td>\n      <td>2473990</td>\n      <td>2456016</td>\n      <td>2431774</td>\n      <td>2466052</td>\n      <td>0.0141</td>\n    </tr>\n  </tbody>\n</table>\n</div>"
     },
     "metadata": {},
     "execution_count": 3
    }
   ],
   "source": [
    "data = {\n",
    "    \"2015\":[9904312, 3448737, 2890451, 2466052],\n",
    "    \"2010\":[9631482, 3393191, 2632035, 2431774],\n",
    "    \"2005\":[9762546, 3512547, 2517680, 2456016],\n",
    "    \"2000\":[9853972, 3655437, 2466338, 2473990],\n",
    "    \"지역\":[\"수도권\", \"경상권\", \"수도권\", \"경상권\"],\n",
    "    \"2010-2015 증가율\":[0.0283, 0.0163, 0.0982, 0.0141]\n",
    "}\n",
    "columns = ['지역','2000','2005','2010','2015','2010-2015 증가율']\n",
    "# columns를 정해놓으면 내가 순서를 정하는 것이고,\n",
    "# columns를 주지 않으면 딕셔너리 키값 순서대로 들어간다\n",
    "index = ['서울','부산','인천','대구']\n",
    "df = pd.DataFrame(data, columns = columns, index = index)\n",
    "df"
   ]
  },
  {
   "cell_type": "code",
   "execution_count": 4,
   "metadata": {},
   "outputs": [
    {
     "output_type": "execute_result",
     "data": {
      "text/plain": [
       "array([['수도권', 9853972, 9762546, 9631482, 9904312, 0.0283],\n",
       "       ['경상권', 3655437, 3512547, 3393191, 3448737, 0.0163],\n",
       "       ['수도권', 2466338, 2517680, 2632035, 2890451, 0.0982],\n",
       "       ['경상권', 2473990, 2456016, 2431774, 2466052, 0.0141]], dtype=object)"
      ]
     },
     "metadata": {},
     "execution_count": 4
    }
   ],
   "source": [
    "df.values"
   ]
  },
  {
   "cell_type": "code",
   "execution_count": 6,
   "metadata": {},
   "outputs": [
    {
     "output_type": "execute_result",
     "data": {
      "text/plain": [
       "Index(['지역', '2000', '2005', '2010', '2015', '2010-2015 증가율'], dtype='object')"
      ]
     },
     "metadata": {},
     "execution_count": 6
    }
   ],
   "source": [
    "df.columns"
   ]
  },
  {
   "cell_type": "code",
   "execution_count": null,
   "metadata": {},
   "outputs": [],
   "source": []
  }
 ]
}