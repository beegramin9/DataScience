{
 "metadata": {
  "language_info": {
   "codemirror_mode": {
    "name": "ipython",
    "version": 3
   },
   "file_extension": ".py",
   "mimetype": "text/x-python",
   "name": "python",
   "nbconvert_exporter": "python",
   "pygments_lexer": "ipython3",
   "version": "3.8.5-final"
  },
  "orig_nbformat": 2,
  "kernelspec": {
   "name": "python3",
   "display_name": "Python 3"
  }
 },
 "nbformat": 4,
 "nbformat_minor": 2,
 "cells": [
  {
   "cell_type": "code",
   "execution_count": 1,
   "metadata": {},
   "outputs": [],
   "source": [
    "import numpy as np"
   ]
  },
  {
   "cell_type": "code",
   "execution_count": 2,
   "metadata": {},
   "outputs": [
    {
     "output_type": "execute_result",
     "data": {
      "text/plain": [
       "array([0.51794447, 0.30195025, 0.8765771 , 0.53942103, 0.37680468])"
      ]
     },
     "metadata": {},
     "execution_count": 2
    }
   ],
   "source": [
    "np.random.rand(5)"
   ]
  },
  {
   "cell_type": "code",
   "execution_count": 5,
   "metadata": {},
   "outputs": [
    {
     "output_type": "execute_result",
     "data": {
      "text/plain": [
       "array([0.21695427, 0.27647714, 0.34331559, 0.86215894, 0.15669967])"
      ]
     },
     "metadata": {},
     "execution_count": 5
    }
   ],
   "source": [
    "np.random.rand(5)"
   ]
  },
  {
   "source": [
    "### seed값 주기"
   ],
   "cell_type": "markdown",
   "metadata": {}
  },
  {
   "cell_type": "code",
   "execution_count": 3,
   "metadata": {},
   "outputs": [
    {
     "output_type": "execute_result",
     "data": {
      "text/plain": [
       "array([0.98627683, 0.87339195, 0.50974552, 0.27183571, 0.33691873])"
      ]
     },
     "metadata": {},
     "execution_count": 3
    }
   ],
   "source": [
    "np.random.seed(2020)\n",
    "np.random.rand(5)"
   ]
  },
  {
   "cell_type": "code",
   "execution_count": 4,
   "metadata": {},
   "outputs": [
    {
     "output_type": "execute_result",
     "data": {
      "text/plain": [
       "array([0.98627683, 0.87339195, 0.50974552, 0.27183571, 0.33691873])"
      ]
     },
     "metadata": {},
     "execution_count": 4
    }
   ],
   "source": [
    "np.random.seed(2020)\n",
    "np.random.rand(5)"
   ]
  },
  {
   "source": [
    "### 데이터 순서 바꾸기"
   ],
   "cell_type": "markdown",
   "metadata": {}
  },
  {
   "cell_type": "code",
   "execution_count": 10,
   "metadata": {},
   "outputs": [
    {
     "output_type": "execute_result",
     "data": {
      "text/plain": [
       "array([3, 1, 0, 2, 7, 4, 5, 8, 9, 6])"
      ]
     },
     "metadata": {},
     "execution_count": 10
    }
   ],
   "source": [
    "x = np.arange(10)\n",
    "np.random.shuffle(x)\n",
    "x"
   ]
  },
  {
   "source": [
    "### 데이터 샘플링 (표본선택)\n",
    "이미 있는 데이터 집합에서 일부를 무작위로 선택하는 것 "
   ],
   "cell_type": "markdown",
   "metadata": {}
  },
  {
   "cell_type": "code",
   "execution_count": 12,
   "metadata": {},
   "outputs": [
    {
     "output_type": "execute_result",
     "data": {
      "text/plain": [
       "array([4, 1, 0, 2, 3])"
      ]
     },
     "metadata": {},
     "execution_count": 12
    }
   ],
   "source": [
    "# shuffle 명령과 같다. 비복원추출\n",
    "np.random.choice(5, 5, replace=False)  \n"
   ]
  },
  {
   "cell_type": "code",
   "execution_count": 13,
   "metadata": {},
   "outputs": [
    {
     "output_type": "execute_result",
     "data": {
      "text/plain": [
       "array([1, 2, 2, 1, 0])"
      ]
     },
     "metadata": {},
     "execution_count": 13
    }
   ],
   "source": [
    "np.random.choice(5, 5, replace=True)  "
   ]
  },
  {
   "cell_type": "code",
   "execution_count": 14,
   "metadata": {},
   "outputs": [
    {
     "output_type": "execute_result",
     "data": {
      "text/plain": [
       "array([3, 2, 3, 3, 2, 3, 2, 3, 3, 3])"
      ]
     },
     "metadata": {},
     "execution_count": 14
    }
   ],
   "source": [
    "np.random.choice(5, 10, p=[0.1, 0, 0.3, 0.6, 0])  # 선택 확률을 다르게 해서 10개 선택\n"
   ]
  },
  {
   "source": [
    "### 난수 생성"
   ],
   "cell_type": "markdown",
   "metadata": {}
  },
  {
   "cell_type": "code",
   "execution_count": 23,
   "metadata": {},
   "outputs": [
    {
     "output_type": "execute_result",
     "data": {
      "text/plain": [
       "array([0.42712038, 0.98166833, 0.93926839, 0.25673628, 0.34410734])"
      ]
     },
     "metadata": {},
     "execution_count": 23
    }
   ],
   "source": [
    "# 0에서 1에서까지 나올 수 있는 확률이 같게끔 하는 것ㅡ\n",
    "np.random.rand(5)"
   ]
  },
  {
   "cell_type": "code",
   "execution_count": 22,
   "metadata": {},
   "outputs": [
    {
     "output_type": "execute_result",
     "data": {
      "text/plain": [
       "array([ 1.26620742,  1.24446983,  0.80523392,  1.08266673,  0.66324872,\n",
       "        0.61433843, -0.49462885,  1.62266163,  0.53028485,  0.48833726])"
      ]
     },
     "metadata": {},
     "execution_count": 22
    }
   ],
   "source": [
    "# 평균 0, 표준편차 1인 표준정규분포 10개 뽑기\n",
    "# 각각 점이 나타날 확률이 다르다\n",
    "\"\"\" 정규분포를 표준정규분포를 바꿀 때 z = (X - 평균) / 표준편차 \"\"\"\n",
    "np.random.randn(10)"
   ]
  },
  {
   "cell_type": "code",
   "execution_count": 25,
   "metadata": {},
   "outputs": [
    {
     "output_type": "execute_result",
     "data": {
      "text/plain": [
       "array([5, 4, 4, 9, 8, 4, 5, 7, 5, 3])"
      ]
     },
     "metadata": {},
     "execution_count": 25
    }
   ],
   "source": [
    "# 0~10 사이의 정수 10개\n",
    "np.random.randint(10, size=10)\n"
   ]
  },
  {
   "cell_type": "code",
   "execution_count": 26,
   "metadata": {},
   "outputs": [
    {
     "output_type": "execute_result",
     "data": {
      "text/plain": [
       "array([15, 11, 19, 18, 16, 16, 12, 16, 19, 19])"
      ]
     },
     "metadata": {},
     "execution_count": 26
    }
   ],
   "source": [
    "# 10~20 사이의 정수 10개\n",
    "np.random.randint(10, 20, size=10)"
   ]
  },
  {
   "source": [
    "- 가격이 10,000원인 주식이 있다. 이 주식의 일간 수익률(%)은 기댓값이 0%이고 표준편차가 1%인 표준 정규 분포를 따른다고 하자. 250일 동안의 주가를 무작위로 생성하라\n",
    "\n",
    "\n"
   ],
   "cell_type": "markdown",
   "metadata": {}
  },
  {
   "cell_type": "code",
   "execution_count": 82,
   "metadata": {},
   "outputs": [
    {
     "output_type": "execute_result",
     "data": {
      "text/plain": [
       "9956.851421251175"
      ]
     },
     "metadata": {},
     "execution_count": 82
    }
   ],
   "source": [
    "price = 10000 \n",
    "tmr = price + price * np.random.randn(1) / 100 # 퍼센트니까 100으로 나눠줘야 됨\n",
    "tmr[0]"
   ]
  },
  {
   "cell_type": "code",
   "execution_count": 81,
   "metadata": {},
   "outputs": [
    {
     "output_type": "execute_result",
     "data": {
      "text/plain": [
       "[10088.75673426962,\n",
       " 10176.11629017062,\n",
       " 10160.208613422432,\n",
       " 10156.310269059468,\n",
       " 10203.572983045948,\n",
       " 10173.468398812502,\n",
       " 10255.309818941687,\n",
       " 10167.870215547058,\n",
       " 10296.664646353787,\n",
       " 10194.038809928074]"
      ]
     },
     "metadata": {},
     "execution_count": 81
    }
   ],
   "source": [
    "prices = []\n",
    "price = 10000\n",
    "for i in range(250):\n",
    "    tmp = price * (1 + np.random.randn(1)/100)\n",
    "    price = tmp[0] # array로 나오니까\n",
    "    prices.append(price)\n",
    "prices[:10]"
   ]
  },
  {
   "source": [
    "### 정수 데이터 카운팅"
   ],
   "cell_type": "markdown",
   "metadata": {}
  },
  {
   "cell_type": "code",
   "execution_count": 85,
   "metadata": {},
   "outputs": [
    {
     "output_type": "execute_result",
     "data": {
      "text/plain": [
       "array([ 2, 11, 34])"
      ]
     },
     "metadata": {},
     "execution_count": 85
    }
   ],
   "source": [
    "# unique 함수는 데이터에서 중복된 값을 제거하고 중복되지 않는 값의 리스트를 출력한다 \n",
    "# 파이썬의 Set과 같다\n",
    "np.unique([11, 11, 2, 2, 34, 34])"
   ]
  },
  {
   "cell_type": "code",
   "execution_count": 86,
   "metadata": {},
   "outputs": [],
   "source": [
    "a = np.array(['a', 'b', 'b', 'c', 'a'])\n",
    "index, count = np.unique(a, return_counts=True)"
   ]
  },
  {
   "cell_type": "code",
   "execution_count": 87,
   "metadata": {},
   "outputs": [
    {
     "output_type": "execute_result",
     "data": {
      "text/plain": [
       "array(['a', 'b', 'c'], dtype='<U1')"
      ]
     },
     "metadata": {},
     "execution_count": 87
    }
   ],
   "source": [
    "index # 집합의 원소"
   ]
  },
  {
   "cell_type": "code",
   "execution_count": 90,
   "metadata": {},
   "outputs": [
    {
     "output_type": "execute_result",
     "data": {
      "text/plain": [
       "array([2, 2, 1], dtype=int64)"
      ]
     },
     "metadata": {},
     "execution_count": 90
    }
   ],
   "source": [
    "count # 원래 몇개만큼 나왔는지"
   ]
  }
 ]
}