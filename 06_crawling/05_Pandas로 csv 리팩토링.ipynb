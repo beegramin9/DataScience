{
 "metadata": {
  "language_info": {
   "codemirror_mode": {
    "name": "ipython",
    "version": 3
   },
   "file_extension": ".py",
   "mimetype": "text/x-python",
   "name": "python",
   "nbconvert_exporter": "python",
   "pygments_lexer": "ipython3",
   "version": "3.8.5-final"
  },
  "orig_nbformat": 2,
  "kernelspec": {
   "name": "python3",
   "display_name": "Python 3"
  }
 },
 "nbformat": 4,
 "nbformat_minor": 2,
 "cells": [
  {
   "cell_type": "code",
   "execution_count": 21,
   "metadata": {},
   "outputs": [],
   "source": [
    "import pandas as pd\n",
    "import numpy as np"
   ]
  },
  {
   "cell_type": "code",
   "execution_count": 22,
   "metadata": {},
   "outputs": [
    {
     "output_type": "execute_result",
     "data": {
      "text/plain": [
       "   Unnamed: 0                                        제목 판매여부  \\\n",
       "0           0                               포르잔 C++ 에센셜  판매중   \n",
       "1           0  IT CookBook, 액세스 2019로 배우는 데이터베이스 기초와 실습  판매중   \n",
       "2           0                               포르잔 C++ 바이블  판매중   \n",
       "3           0                             딥러닝을 위한 선형대수학  판매중   \n",
       "4           0   IT CookBook, 오라클로 배우는 데이터베이스 개론과 실습(2판)  판매중   \n",
       "\n",
       "                                           저자       원가              판매가  \\\n",
       "0   Behrouz A. Forouzan , Richard F. Gilberg   32,000원  32,000원(0% off)   \n",
       "1                                        김지연   28,000원  28,000원(0% off)   \n",
       "2   Behrouz A. Forouzan , Richard F. Gilberg   45,000원  45,000원(0% off)   \n",
       "3                             Gilbert Strang   38,000원  38,000원(0% off)   \n",
       "4                            박우창 , 남송휘 , 이현룡   29,000원  29,000원(0% off)   \n",
       "\n",
       "          마일리지 번역여부                     엮은이          출간일      페이지  \\\n",
       "0    960점 (3%)  번역서                    윤인성    2020-11-10    756 쪽   \n",
       "1    840점 (3%)  집필서                     NaN   2020-09-28    536 쪽   \n",
       "2  1,350점 (3%)  번역서                    윤인성    2020-08-31   1192 쪽   \n",
       "3  1,140점 (3%)  번역서   부산대학교 산업수학센터(FFMIMC)    2020-08-05    560 쪽   \n",
       "4    870점 (3%)  집필서                     NaN   2020-07-30    600 쪽   \n",
       "\n",
       "                                                구판여부           ISBN  물류코드  \n",
       "0                                                NaN  9791156645061  4506  \n",
       "1                 이 도서는 <IT CookBook, 데이터베이스 기초와 실습   9791156645054  4505  \n",
       "2                                                NaN  9791156645030  4503  \n",
       "3                                                NaN  9791156644972  4497  \n",
       "4  이 도서는 <IT CookBook, 오라클로 배우는 데이터베이스 개론과 실습>의 개...  9791156645023  4502  "
      ],
      "text/html": "<div>\n<style scoped>\n    .dataframe tbody tr th:only-of-type {\n        vertical-align: middle;\n    }\n\n    .dataframe tbody tr th {\n        vertical-align: top;\n    }\n\n    .dataframe thead th {\n        text-align: right;\n    }\n</style>\n<table border=\"1\" class=\"dataframe\">\n  <thead>\n    <tr style=\"text-align: right;\">\n      <th></th>\n      <th>Unnamed: 0</th>\n      <th>제목</th>\n      <th>판매여부</th>\n      <th>저자</th>\n      <th>원가</th>\n      <th>판매가</th>\n      <th>마일리지</th>\n      <th>번역여부</th>\n      <th>엮은이</th>\n      <th>출간일</th>\n      <th>페이지</th>\n      <th>구판여부</th>\n      <th>ISBN</th>\n      <th>물류코드</th>\n    </tr>\n  </thead>\n  <tbody>\n    <tr>\n      <th>0</th>\n      <td>0</td>\n      <td>포르잔 C++ 에센셜</td>\n      <td>판매중</td>\n      <td>Behrouz A. Forouzan , Richard F. Gilberg</td>\n      <td>32,000원</td>\n      <td>32,000원(0% off)</td>\n      <td>960점 (3%)</td>\n      <td>번역서</td>\n      <td>윤인성</td>\n      <td>2020-11-10</td>\n      <td>756 쪽</td>\n      <td>NaN</td>\n      <td>9791156645061</td>\n      <td>4506</td>\n    </tr>\n    <tr>\n      <th>1</th>\n      <td>0</td>\n      <td>IT CookBook, 액세스 2019로 배우는 데이터베이스 기초와 실습</td>\n      <td>판매중</td>\n      <td>김지연</td>\n      <td>28,000원</td>\n      <td>28,000원(0% off)</td>\n      <td>840점 (3%)</td>\n      <td>집필서</td>\n      <td>NaN</td>\n      <td>2020-09-28</td>\n      <td>536 쪽</td>\n      <td>이 도서는 &lt;IT CookBook, 데이터베이스 기초와 실습</td>\n      <td>9791156645054</td>\n      <td>4505</td>\n    </tr>\n    <tr>\n      <th>2</th>\n      <td>0</td>\n      <td>포르잔 C++ 바이블</td>\n      <td>판매중</td>\n      <td>Behrouz A. Forouzan , Richard F. Gilberg</td>\n      <td>45,000원</td>\n      <td>45,000원(0% off)</td>\n      <td>1,350점 (3%)</td>\n      <td>번역서</td>\n      <td>윤인성</td>\n      <td>2020-08-31</td>\n      <td>1192 쪽</td>\n      <td>NaN</td>\n      <td>9791156645030</td>\n      <td>4503</td>\n    </tr>\n    <tr>\n      <th>3</th>\n      <td>0</td>\n      <td>딥러닝을 위한 선형대수학</td>\n      <td>판매중</td>\n      <td>Gilbert Strang</td>\n      <td>38,000원</td>\n      <td>38,000원(0% off)</td>\n      <td>1,140점 (3%)</td>\n      <td>번역서</td>\n      <td>부산대학교 산업수학센터(FFMIMC)</td>\n      <td>2020-08-05</td>\n      <td>560 쪽</td>\n      <td>NaN</td>\n      <td>9791156644972</td>\n      <td>4497</td>\n    </tr>\n    <tr>\n      <th>4</th>\n      <td>0</td>\n      <td>IT CookBook, 오라클로 배우는 데이터베이스 개론과 실습(2판)</td>\n      <td>판매중</td>\n      <td>박우창 , 남송휘 , 이현룡</td>\n      <td>29,000원</td>\n      <td>29,000원(0% off)</td>\n      <td>870점 (3%)</td>\n      <td>집필서</td>\n      <td>NaN</td>\n      <td>2020-07-30</td>\n      <td>600 쪽</td>\n      <td>이 도서는 &lt;IT CookBook, 오라클로 배우는 데이터베이스 개론과 실습&gt;의 개...</td>\n      <td>9791156645023</td>\n      <td>4502</td>\n    </tr>\n  </tbody>\n</table>\n</div>"
     },
     "metadata": {},
     "execution_count": 22
    }
   ],
   "source": [
    "book = pd.read_csv('book.csv',sep=',',encoding='utf8')\n",
    "book.head()"
   ]
  },
  {
   "cell_type": "code",
   "execution_count": 23,
   "metadata": {},
   "outputs": [
    {
     "output_type": "execute_result",
     "data": {
      "text/plain": [
       "Index(['Unnamed: 0', '제목', '판매여부', '저자', '원가', '판매가', '마일리지', '번역여부', '엮은이',\n",
       "       '출간일', '페이지', '구판여부', 'ISBN', '물류코드'],\n",
       "      dtype='object')"
      ]
     },
     "metadata": {},
     "execution_count": 23
    }
   ],
   "source": [
    "\"\"\" 이상한 열이 껴있음 \"\"\"\n",
    "book.columns"
   ]
  },
  {
   "cell_type": "code",
   "execution_count": 24,
   "metadata": {},
   "outputs": [],
   "source": [
    "del book['Unnamed: 0']"
   ]
  },
  {
   "cell_type": "code",
   "execution_count": 25,
   "metadata": {},
   "outputs": [
    {
     "output_type": "execute_result",
     "data": {
      "text/plain": [
       "                                         제목 판매여부  \\\n",
       "0                               포르잔 C++ 에센셜  판매중   \n",
       "1  IT CookBook, 액세스 2019로 배우는 데이터베이스 기초와 실습  판매중   \n",
       "2                               포르잔 C++ 바이블  판매중   \n",
       "3                             딥러닝을 위한 선형대수학  판매중   \n",
       "4   IT CookBook, 오라클로 배우는 데이터베이스 개론과 실습(2판)  판매중   \n",
       "\n",
       "                                           저자       원가              판매가  \\\n",
       "0   Behrouz A. Forouzan , Richard F. Gilberg   32,000원  32,000원(0% off)   \n",
       "1                                        김지연   28,000원  28,000원(0% off)   \n",
       "2   Behrouz A. Forouzan , Richard F. Gilberg   45,000원  45,000원(0% off)   \n",
       "3                             Gilbert Strang   38,000원  38,000원(0% off)   \n",
       "4                            박우창 , 남송휘 , 이현룡   29,000원  29,000원(0% off)   \n",
       "\n",
       "          마일리지 번역여부                     엮은이          출간일      페이지  \\\n",
       "0    960점 (3%)  번역서                    윤인성    2020-11-10    756 쪽   \n",
       "1    840점 (3%)  집필서                     NaN   2020-09-28    536 쪽   \n",
       "2  1,350점 (3%)  번역서                    윤인성    2020-08-31   1192 쪽   \n",
       "3  1,140점 (3%)  번역서   부산대학교 산업수학센터(FFMIMC)    2020-08-05    560 쪽   \n",
       "4    870점 (3%)  집필서                     NaN   2020-07-30    600 쪽   \n",
       "\n",
       "                                                구판여부           ISBN  물류코드  \n",
       "0                                                NaN  9791156645061  4506  \n",
       "1                 이 도서는 <IT CookBook, 데이터베이스 기초와 실습   9791156645054  4505  \n",
       "2                                                NaN  9791156645030  4503  \n",
       "3                                                NaN  9791156644972  4497  \n",
       "4  이 도서는 <IT CookBook, 오라클로 배우는 데이터베이스 개론과 실습>의 개...  9791156645023  4502  "
      ],
      "text/html": "<div>\n<style scoped>\n    .dataframe tbody tr th:only-of-type {\n        vertical-align: middle;\n    }\n\n    .dataframe tbody tr th {\n        vertical-align: top;\n    }\n\n    .dataframe thead th {\n        text-align: right;\n    }\n</style>\n<table border=\"1\" class=\"dataframe\">\n  <thead>\n    <tr style=\"text-align: right;\">\n      <th></th>\n      <th>제목</th>\n      <th>판매여부</th>\n      <th>저자</th>\n      <th>원가</th>\n      <th>판매가</th>\n      <th>마일리지</th>\n      <th>번역여부</th>\n      <th>엮은이</th>\n      <th>출간일</th>\n      <th>페이지</th>\n      <th>구판여부</th>\n      <th>ISBN</th>\n      <th>물류코드</th>\n    </tr>\n  </thead>\n  <tbody>\n    <tr>\n      <th>0</th>\n      <td>포르잔 C++ 에센셜</td>\n      <td>판매중</td>\n      <td>Behrouz A. Forouzan , Richard F. Gilberg</td>\n      <td>32,000원</td>\n      <td>32,000원(0% off)</td>\n      <td>960점 (3%)</td>\n      <td>번역서</td>\n      <td>윤인성</td>\n      <td>2020-11-10</td>\n      <td>756 쪽</td>\n      <td>NaN</td>\n      <td>9791156645061</td>\n      <td>4506</td>\n    </tr>\n    <tr>\n      <th>1</th>\n      <td>IT CookBook, 액세스 2019로 배우는 데이터베이스 기초와 실습</td>\n      <td>판매중</td>\n      <td>김지연</td>\n      <td>28,000원</td>\n      <td>28,000원(0% off)</td>\n      <td>840점 (3%)</td>\n      <td>집필서</td>\n      <td>NaN</td>\n      <td>2020-09-28</td>\n      <td>536 쪽</td>\n      <td>이 도서는 &lt;IT CookBook, 데이터베이스 기초와 실습</td>\n      <td>9791156645054</td>\n      <td>4505</td>\n    </tr>\n    <tr>\n      <th>2</th>\n      <td>포르잔 C++ 바이블</td>\n      <td>판매중</td>\n      <td>Behrouz A. Forouzan , Richard F. Gilberg</td>\n      <td>45,000원</td>\n      <td>45,000원(0% off)</td>\n      <td>1,350점 (3%)</td>\n      <td>번역서</td>\n      <td>윤인성</td>\n      <td>2020-08-31</td>\n      <td>1192 쪽</td>\n      <td>NaN</td>\n      <td>9791156645030</td>\n      <td>4503</td>\n    </tr>\n    <tr>\n      <th>3</th>\n      <td>딥러닝을 위한 선형대수학</td>\n      <td>판매중</td>\n      <td>Gilbert Strang</td>\n      <td>38,000원</td>\n      <td>38,000원(0% off)</td>\n      <td>1,140점 (3%)</td>\n      <td>번역서</td>\n      <td>부산대학교 산업수학센터(FFMIMC)</td>\n      <td>2020-08-05</td>\n      <td>560 쪽</td>\n      <td>NaN</td>\n      <td>9791156644972</td>\n      <td>4497</td>\n    </tr>\n    <tr>\n      <th>4</th>\n      <td>IT CookBook, 오라클로 배우는 데이터베이스 개론과 실습(2판)</td>\n      <td>판매중</td>\n      <td>박우창 , 남송휘 , 이현룡</td>\n      <td>29,000원</td>\n      <td>29,000원(0% off)</td>\n      <td>870점 (3%)</td>\n      <td>집필서</td>\n      <td>NaN</td>\n      <td>2020-07-30</td>\n      <td>600 쪽</td>\n      <td>이 도서는 &lt;IT CookBook, 오라클로 배우는 데이터베이스 개론과 실습&gt;의 개...</td>\n      <td>9791156645023</td>\n      <td>4502</td>\n    </tr>\n  </tbody>\n</table>\n</div>"
     },
     "metadata": {},
     "execution_count": 25
    }
   ],
   "source": [
    "book.head()"
   ]
  },
  {
   "cell_type": "code",
   "execution_count": 26,
   "metadata": {},
   "outputs": [],
   "source": [
    "\"\"\" 원, 잠, (3%)등 필요 없는 글자 제거 \"\"\"\n",
    "book['원가'] = book.apply(lambda r: r['원가'][:-1], axis = 1)"
   ]
  },
  {
   "cell_type": "code",
   "execution_count": 27,
   "metadata": {},
   "outputs": [
    {
     "output_type": "execute_result",
     "data": {
      "text/plain": [
       "                                         제목 판매여부  \\\n",
       "0                               포르잔 C++ 에센셜  판매중   \n",
       "1  IT CookBook, 액세스 2019로 배우는 데이터베이스 기초와 실습  판매중   \n",
       "2                               포르잔 C++ 바이블  판매중   \n",
       "3                             딥러닝을 위한 선형대수학  판매중   \n",
       "4   IT CookBook, 오라클로 배우는 데이터베이스 개론과 실습(2판)  판매중   \n",
       "\n",
       "                                           저자      원가              판매가  \\\n",
       "0   Behrouz A. Forouzan , Richard F. Gilberg   32,000  32,000원(0% off)   \n",
       "1                                        김지연   28,000  28,000원(0% off)   \n",
       "2   Behrouz A. Forouzan , Richard F. Gilberg   45,000  45,000원(0% off)   \n",
       "3                             Gilbert Strang   38,000  38,000원(0% off)   \n",
       "4                            박우창 , 남송휘 , 이현룡   29,000  29,000원(0% off)   \n",
       "\n",
       "          마일리지 번역여부                     엮은이          출간일      페이지  \\\n",
       "0    960점 (3%)  번역서                    윤인성    2020-11-10    756 쪽   \n",
       "1    840점 (3%)  집필서                     NaN   2020-09-28    536 쪽   \n",
       "2  1,350점 (3%)  번역서                    윤인성    2020-08-31   1192 쪽   \n",
       "3  1,140점 (3%)  번역서   부산대학교 산업수학센터(FFMIMC)    2020-08-05    560 쪽   \n",
       "4    870점 (3%)  집필서                     NaN   2020-07-30    600 쪽   \n",
       "\n",
       "                                                구판여부           ISBN  물류코드  \n",
       "0                                                NaN  9791156645061  4506  \n",
       "1                 이 도서는 <IT CookBook, 데이터베이스 기초와 실습   9791156645054  4505  \n",
       "2                                                NaN  9791156645030  4503  \n",
       "3                                                NaN  9791156644972  4497  \n",
       "4  이 도서는 <IT CookBook, 오라클로 배우는 데이터베이스 개론과 실습>의 개...  9791156645023  4502  "
      ],
      "text/html": "<div>\n<style scoped>\n    .dataframe tbody tr th:only-of-type {\n        vertical-align: middle;\n    }\n\n    .dataframe tbody tr th {\n        vertical-align: top;\n    }\n\n    .dataframe thead th {\n        text-align: right;\n    }\n</style>\n<table border=\"1\" class=\"dataframe\">\n  <thead>\n    <tr style=\"text-align: right;\">\n      <th></th>\n      <th>제목</th>\n      <th>판매여부</th>\n      <th>저자</th>\n      <th>원가</th>\n      <th>판매가</th>\n      <th>마일리지</th>\n      <th>번역여부</th>\n      <th>엮은이</th>\n      <th>출간일</th>\n      <th>페이지</th>\n      <th>구판여부</th>\n      <th>ISBN</th>\n      <th>물류코드</th>\n    </tr>\n  </thead>\n  <tbody>\n    <tr>\n      <th>0</th>\n      <td>포르잔 C++ 에센셜</td>\n      <td>판매중</td>\n      <td>Behrouz A. Forouzan , Richard F. Gilberg</td>\n      <td>32,000</td>\n      <td>32,000원(0% off)</td>\n      <td>960점 (3%)</td>\n      <td>번역서</td>\n      <td>윤인성</td>\n      <td>2020-11-10</td>\n      <td>756 쪽</td>\n      <td>NaN</td>\n      <td>9791156645061</td>\n      <td>4506</td>\n    </tr>\n    <tr>\n      <th>1</th>\n      <td>IT CookBook, 액세스 2019로 배우는 데이터베이스 기초와 실습</td>\n      <td>판매중</td>\n      <td>김지연</td>\n      <td>28,000</td>\n      <td>28,000원(0% off)</td>\n      <td>840점 (3%)</td>\n      <td>집필서</td>\n      <td>NaN</td>\n      <td>2020-09-28</td>\n      <td>536 쪽</td>\n      <td>이 도서는 &lt;IT CookBook, 데이터베이스 기초와 실습</td>\n      <td>9791156645054</td>\n      <td>4505</td>\n    </tr>\n    <tr>\n      <th>2</th>\n      <td>포르잔 C++ 바이블</td>\n      <td>판매중</td>\n      <td>Behrouz A. Forouzan , Richard F. Gilberg</td>\n      <td>45,000</td>\n      <td>45,000원(0% off)</td>\n      <td>1,350점 (3%)</td>\n      <td>번역서</td>\n      <td>윤인성</td>\n      <td>2020-08-31</td>\n      <td>1192 쪽</td>\n      <td>NaN</td>\n      <td>9791156645030</td>\n      <td>4503</td>\n    </tr>\n    <tr>\n      <th>3</th>\n      <td>딥러닝을 위한 선형대수학</td>\n      <td>판매중</td>\n      <td>Gilbert Strang</td>\n      <td>38,000</td>\n      <td>38,000원(0% off)</td>\n      <td>1,140점 (3%)</td>\n      <td>번역서</td>\n      <td>부산대학교 산업수학센터(FFMIMC)</td>\n      <td>2020-08-05</td>\n      <td>560 쪽</td>\n      <td>NaN</td>\n      <td>9791156644972</td>\n      <td>4497</td>\n    </tr>\n    <tr>\n      <th>4</th>\n      <td>IT CookBook, 오라클로 배우는 데이터베이스 개론과 실습(2판)</td>\n      <td>판매중</td>\n      <td>박우창 , 남송휘 , 이현룡</td>\n      <td>29,000</td>\n      <td>29,000원(0% off)</td>\n      <td>870점 (3%)</td>\n      <td>집필서</td>\n      <td>NaN</td>\n      <td>2020-07-30</td>\n      <td>600 쪽</td>\n      <td>이 도서는 &lt;IT CookBook, 오라클로 배우는 데이터베이스 개론과 실습&gt;의 개...</td>\n      <td>9791156645023</td>\n      <td>4502</td>\n    </tr>\n  </tbody>\n</table>\n</div>"
     },
     "metadata": {},
     "execution_count": 27
    }
   ],
   "source": [
    "book.head()"
   ]
  },
  {
   "cell_type": "code",
   "execution_count": 28,
   "metadata": {},
   "outputs": [],
   "source": [
    "book['페이지'] = book.apply(lambda r: r['페이지'][:-1], axis = 1)"
   ]
  },
  {
   "cell_type": "code",
   "execution_count": 29,
   "metadata": {},
   "outputs": [
    {
     "output_type": "execute_result",
     "data": {
      "text/plain": [
       "                                         제목 판매여부  \\\n",
       "0                               포르잔 C++ 에센셜  판매중   \n",
       "1  IT CookBook, 액세스 2019로 배우는 데이터베이스 기초와 실습  판매중   \n",
       "2                               포르잔 C++ 바이블  판매중   \n",
       "3                             딥러닝을 위한 선형대수학  판매중   \n",
       "4   IT CookBook, 오라클로 배우는 데이터베이스 개론과 실습(2판)  판매중   \n",
       "\n",
       "                                           저자      원가              판매가  \\\n",
       "0   Behrouz A. Forouzan , Richard F. Gilberg   32,000  32,000원(0% off)   \n",
       "1                                        김지연   28,000  28,000원(0% off)   \n",
       "2   Behrouz A. Forouzan , Richard F. Gilberg   45,000  45,000원(0% off)   \n",
       "3                             Gilbert Strang   38,000  38,000원(0% off)   \n",
       "4                            박우창 , 남송휘 , 이현룡   29,000  29,000원(0% off)   \n",
       "\n",
       "          마일리지 번역여부                     엮은이          출간일     페이지  \\\n",
       "0    960점 (3%)  번역서                    윤인성    2020-11-10    756    \n",
       "1    840점 (3%)  집필서                     NaN   2020-09-28    536    \n",
       "2  1,350점 (3%)  번역서                    윤인성    2020-08-31   1192    \n",
       "3  1,140점 (3%)  번역서   부산대학교 산업수학센터(FFMIMC)    2020-08-05    560    \n",
       "4    870점 (3%)  집필서                     NaN   2020-07-30    600    \n",
       "\n",
       "                                                구판여부           ISBN  물류코드  \n",
       "0                                                NaN  9791156645061  4506  \n",
       "1                 이 도서는 <IT CookBook, 데이터베이스 기초와 실습   9791156645054  4505  \n",
       "2                                                NaN  9791156645030  4503  \n",
       "3                                                NaN  9791156644972  4497  \n",
       "4  이 도서는 <IT CookBook, 오라클로 배우는 데이터베이스 개론과 실습>의 개...  9791156645023  4502  "
      ],
      "text/html": "<div>\n<style scoped>\n    .dataframe tbody tr th:only-of-type {\n        vertical-align: middle;\n    }\n\n    .dataframe tbody tr th {\n        vertical-align: top;\n    }\n\n    .dataframe thead th {\n        text-align: right;\n    }\n</style>\n<table border=\"1\" class=\"dataframe\">\n  <thead>\n    <tr style=\"text-align: right;\">\n      <th></th>\n      <th>제목</th>\n      <th>판매여부</th>\n      <th>저자</th>\n      <th>원가</th>\n      <th>판매가</th>\n      <th>마일리지</th>\n      <th>번역여부</th>\n      <th>엮은이</th>\n      <th>출간일</th>\n      <th>페이지</th>\n      <th>구판여부</th>\n      <th>ISBN</th>\n      <th>물류코드</th>\n    </tr>\n  </thead>\n  <tbody>\n    <tr>\n      <th>0</th>\n      <td>포르잔 C++ 에센셜</td>\n      <td>판매중</td>\n      <td>Behrouz A. Forouzan , Richard F. Gilberg</td>\n      <td>32,000</td>\n      <td>32,000원(0% off)</td>\n      <td>960점 (3%)</td>\n      <td>번역서</td>\n      <td>윤인성</td>\n      <td>2020-11-10</td>\n      <td>756</td>\n      <td>NaN</td>\n      <td>9791156645061</td>\n      <td>4506</td>\n    </tr>\n    <tr>\n      <th>1</th>\n      <td>IT CookBook, 액세스 2019로 배우는 데이터베이스 기초와 실습</td>\n      <td>판매중</td>\n      <td>김지연</td>\n      <td>28,000</td>\n      <td>28,000원(0% off)</td>\n      <td>840점 (3%)</td>\n      <td>집필서</td>\n      <td>NaN</td>\n      <td>2020-09-28</td>\n      <td>536</td>\n      <td>이 도서는 &lt;IT CookBook, 데이터베이스 기초와 실습</td>\n      <td>9791156645054</td>\n      <td>4505</td>\n    </tr>\n    <tr>\n      <th>2</th>\n      <td>포르잔 C++ 바이블</td>\n      <td>판매중</td>\n      <td>Behrouz A. Forouzan , Richard F. Gilberg</td>\n      <td>45,000</td>\n      <td>45,000원(0% off)</td>\n      <td>1,350점 (3%)</td>\n      <td>번역서</td>\n      <td>윤인성</td>\n      <td>2020-08-31</td>\n      <td>1192</td>\n      <td>NaN</td>\n      <td>9791156645030</td>\n      <td>4503</td>\n    </tr>\n    <tr>\n      <th>3</th>\n      <td>딥러닝을 위한 선형대수학</td>\n      <td>판매중</td>\n      <td>Gilbert Strang</td>\n      <td>38,000</td>\n      <td>38,000원(0% off)</td>\n      <td>1,140점 (3%)</td>\n      <td>번역서</td>\n      <td>부산대학교 산업수학센터(FFMIMC)</td>\n      <td>2020-08-05</td>\n      <td>560</td>\n      <td>NaN</td>\n      <td>9791156644972</td>\n      <td>4497</td>\n    </tr>\n    <tr>\n      <th>4</th>\n      <td>IT CookBook, 오라클로 배우는 데이터베이스 개론과 실습(2판)</td>\n      <td>판매중</td>\n      <td>박우창 , 남송휘 , 이현룡</td>\n      <td>29,000</td>\n      <td>29,000원(0% off)</td>\n      <td>870점 (3%)</td>\n      <td>집필서</td>\n      <td>NaN</td>\n      <td>2020-07-30</td>\n      <td>600</td>\n      <td>이 도서는 &lt;IT CookBook, 오라클로 배우는 데이터베이스 개론과 실습&gt;의 개...</td>\n      <td>9791156645023</td>\n      <td>4502</td>\n    </tr>\n  </tbody>\n</table>\n</div>"
     },
     "metadata": {},
     "execution_count": 29
    }
   ],
   "source": [
    "book.head()"
   ]
  },
  {
   "cell_type": "code",
   "execution_count": 30,
   "metadata": {},
   "outputs": [
    {
     "output_type": "execute_result",
     "data": {
      "text/plain": [
       "                                         제목 판매여부  \\\n",
       "0                               포르잔 C++ 에센셜  판매중   \n",
       "1  IT CookBook, 액세스 2019로 배우는 데이터베이스 기초와 실습  판매중   \n",
       "2                               포르잔 C++ 바이블  판매중   \n",
       "3                             딥러닝을 위한 선형대수학  판매중   \n",
       "4   IT CookBook, 오라클로 배우는 데이터베이스 개론과 실습(2판)  판매중   \n",
       "\n",
       "                                           저자      원가     판매가         마일리지  \\\n",
       "0   Behrouz A. Forouzan , Richard F. Gilberg   32,000  32,000    960점 (3%)   \n",
       "1                                        김지연   28,000  28,000    840점 (3%)   \n",
       "2   Behrouz A. Forouzan , Richard F. Gilberg   45,000  45,000  1,350점 (3%)   \n",
       "3                             Gilbert Strang   38,000  38,000  1,140점 (3%)   \n",
       "4                            박우창 , 남송휘 , 이현룡   29,000  29,000    870점 (3%)   \n",
       "\n",
       "  번역여부                     엮은이          출간일     페이지  \\\n",
       "0  번역서                    윤인성    2020-11-10    756    \n",
       "1  집필서                     NaN   2020-09-28    536    \n",
       "2  번역서                    윤인성    2020-08-31   1192    \n",
       "3  번역서   부산대학교 산업수학센터(FFMIMC)    2020-08-05    560    \n",
       "4  집필서                     NaN   2020-07-30    600    \n",
       "\n",
       "                                                구판여부           ISBN  물류코드  \n",
       "0                                                NaN  9791156645061  4506  \n",
       "1                 이 도서는 <IT CookBook, 데이터베이스 기초와 실습   9791156645054  4505  \n",
       "2                                                NaN  9791156645030  4503  \n",
       "3                                                NaN  9791156644972  4497  \n",
       "4  이 도서는 <IT CookBook, 오라클로 배우는 데이터베이스 개론과 실습>의 개...  9791156645023  4502  "
      ],
      "text/html": "<div>\n<style scoped>\n    .dataframe tbody tr th:only-of-type {\n        vertical-align: middle;\n    }\n\n    .dataframe tbody tr th {\n        vertical-align: top;\n    }\n\n    .dataframe thead th {\n        text-align: right;\n    }\n</style>\n<table border=\"1\" class=\"dataframe\">\n  <thead>\n    <tr style=\"text-align: right;\">\n      <th></th>\n      <th>제목</th>\n      <th>판매여부</th>\n      <th>저자</th>\n      <th>원가</th>\n      <th>판매가</th>\n      <th>마일리지</th>\n      <th>번역여부</th>\n      <th>엮은이</th>\n      <th>출간일</th>\n      <th>페이지</th>\n      <th>구판여부</th>\n      <th>ISBN</th>\n      <th>물류코드</th>\n    </tr>\n  </thead>\n  <tbody>\n    <tr>\n      <th>0</th>\n      <td>포르잔 C++ 에센셜</td>\n      <td>판매중</td>\n      <td>Behrouz A. Forouzan , Richard F. Gilberg</td>\n      <td>32,000</td>\n      <td>32,000</td>\n      <td>960점 (3%)</td>\n      <td>번역서</td>\n      <td>윤인성</td>\n      <td>2020-11-10</td>\n      <td>756</td>\n      <td>NaN</td>\n      <td>9791156645061</td>\n      <td>4506</td>\n    </tr>\n    <tr>\n      <th>1</th>\n      <td>IT CookBook, 액세스 2019로 배우는 데이터베이스 기초와 실습</td>\n      <td>판매중</td>\n      <td>김지연</td>\n      <td>28,000</td>\n      <td>28,000</td>\n      <td>840점 (3%)</td>\n      <td>집필서</td>\n      <td>NaN</td>\n      <td>2020-09-28</td>\n      <td>536</td>\n      <td>이 도서는 &lt;IT CookBook, 데이터베이스 기초와 실습</td>\n      <td>9791156645054</td>\n      <td>4505</td>\n    </tr>\n    <tr>\n      <th>2</th>\n      <td>포르잔 C++ 바이블</td>\n      <td>판매중</td>\n      <td>Behrouz A. Forouzan , Richard F. Gilberg</td>\n      <td>45,000</td>\n      <td>45,000</td>\n      <td>1,350점 (3%)</td>\n      <td>번역서</td>\n      <td>윤인성</td>\n      <td>2020-08-31</td>\n      <td>1192</td>\n      <td>NaN</td>\n      <td>9791156645030</td>\n      <td>4503</td>\n    </tr>\n    <tr>\n      <th>3</th>\n      <td>딥러닝을 위한 선형대수학</td>\n      <td>판매중</td>\n      <td>Gilbert Strang</td>\n      <td>38,000</td>\n      <td>38,000</td>\n      <td>1,140점 (3%)</td>\n      <td>번역서</td>\n      <td>부산대학교 산업수학센터(FFMIMC)</td>\n      <td>2020-08-05</td>\n      <td>560</td>\n      <td>NaN</td>\n      <td>9791156644972</td>\n      <td>4497</td>\n    </tr>\n    <tr>\n      <th>4</th>\n      <td>IT CookBook, 오라클로 배우는 데이터베이스 개론과 실습(2판)</td>\n      <td>판매중</td>\n      <td>박우창 , 남송휘 , 이현룡</td>\n      <td>29,000</td>\n      <td>29,000</td>\n      <td>870점 (3%)</td>\n      <td>집필서</td>\n      <td>NaN</td>\n      <td>2020-07-30</td>\n      <td>600</td>\n      <td>이 도서는 &lt;IT CookBook, 오라클로 배우는 데이터베이스 개론과 실습&gt;의 개...</td>\n      <td>9791156645023</td>\n      <td>4502</td>\n    </tr>\n  </tbody>\n</table>\n</div>"
     },
     "metadata": {},
     "execution_count": 30
    }
   ],
   "source": [
    "book['판매가'] = book.apply(lambda r: r['판매가'].split('원')[0], axis = 1)\n",
    "book.head()\n"
   ]
  },
  {
   "cell_type": "code",
   "execution_count": 31,
   "metadata": {},
   "outputs": [
    {
     "output_type": "execute_result",
     "data": {
      "text/plain": [
       "                                         제목 판매여부  \\\n",
       "0                               포르잔 C++ 에센셜  판매중   \n",
       "1  IT CookBook, 액세스 2019로 배우는 데이터베이스 기초와 실습  판매중   \n",
       "2                               포르잔 C++ 바이블  판매중   \n",
       "3                             딥러닝을 위한 선형대수학  판매중   \n",
       "4   IT CookBook, 오라클로 배우는 데이터베이스 개론과 실습(2판)  판매중   \n",
       "\n",
       "                                           저자      원가     판매가   마일리지 번역여부  \\\n",
       "0   Behrouz A. Forouzan , Richard F. Gilberg   32,000  32,000    960  번역서   \n",
       "1                                        김지연   28,000  28,000    840  집필서   \n",
       "2   Behrouz A. Forouzan , Richard F. Gilberg   45,000  45,000  1,350  번역서   \n",
       "3                             Gilbert Strang   38,000  38,000  1,140  번역서   \n",
       "4                            박우창 , 남송휘 , 이현룡   29,000  29,000    870  집필서   \n",
       "\n",
       "                      엮은이          출간일     페이지  \\\n",
       "0                    윤인성    2020-11-10    756    \n",
       "1                     NaN   2020-09-28    536    \n",
       "2                    윤인성    2020-08-31   1192    \n",
       "3   부산대학교 산업수학센터(FFMIMC)    2020-08-05    560    \n",
       "4                     NaN   2020-07-30    600    \n",
       "\n",
       "                                                구판여부           ISBN  물류코드  \n",
       "0                                                NaN  9791156645061  4506  \n",
       "1                 이 도서는 <IT CookBook, 데이터베이스 기초와 실습   9791156645054  4505  \n",
       "2                                                NaN  9791156645030  4503  \n",
       "3                                                NaN  9791156644972  4497  \n",
       "4  이 도서는 <IT CookBook, 오라클로 배우는 데이터베이스 개론과 실습>의 개...  9791156645023  4502  "
      ],
      "text/html": "<div>\n<style scoped>\n    .dataframe tbody tr th:only-of-type {\n        vertical-align: middle;\n    }\n\n    .dataframe tbody tr th {\n        vertical-align: top;\n    }\n\n    .dataframe thead th {\n        text-align: right;\n    }\n</style>\n<table border=\"1\" class=\"dataframe\">\n  <thead>\n    <tr style=\"text-align: right;\">\n      <th></th>\n      <th>제목</th>\n      <th>판매여부</th>\n      <th>저자</th>\n      <th>원가</th>\n      <th>판매가</th>\n      <th>마일리지</th>\n      <th>번역여부</th>\n      <th>엮은이</th>\n      <th>출간일</th>\n      <th>페이지</th>\n      <th>구판여부</th>\n      <th>ISBN</th>\n      <th>물류코드</th>\n    </tr>\n  </thead>\n  <tbody>\n    <tr>\n      <th>0</th>\n      <td>포르잔 C++ 에센셜</td>\n      <td>판매중</td>\n      <td>Behrouz A. Forouzan , Richard F. Gilberg</td>\n      <td>32,000</td>\n      <td>32,000</td>\n      <td>960</td>\n      <td>번역서</td>\n      <td>윤인성</td>\n      <td>2020-11-10</td>\n      <td>756</td>\n      <td>NaN</td>\n      <td>9791156645061</td>\n      <td>4506</td>\n    </tr>\n    <tr>\n      <th>1</th>\n      <td>IT CookBook, 액세스 2019로 배우는 데이터베이스 기초와 실습</td>\n      <td>판매중</td>\n      <td>김지연</td>\n      <td>28,000</td>\n      <td>28,000</td>\n      <td>840</td>\n      <td>집필서</td>\n      <td>NaN</td>\n      <td>2020-09-28</td>\n      <td>536</td>\n      <td>이 도서는 &lt;IT CookBook, 데이터베이스 기초와 실습</td>\n      <td>9791156645054</td>\n      <td>4505</td>\n    </tr>\n    <tr>\n      <th>2</th>\n      <td>포르잔 C++ 바이블</td>\n      <td>판매중</td>\n      <td>Behrouz A. Forouzan , Richard F. Gilberg</td>\n      <td>45,000</td>\n      <td>45,000</td>\n      <td>1,350</td>\n      <td>번역서</td>\n      <td>윤인성</td>\n      <td>2020-08-31</td>\n      <td>1192</td>\n      <td>NaN</td>\n      <td>9791156645030</td>\n      <td>4503</td>\n    </tr>\n    <tr>\n      <th>3</th>\n      <td>딥러닝을 위한 선형대수학</td>\n      <td>판매중</td>\n      <td>Gilbert Strang</td>\n      <td>38,000</td>\n      <td>38,000</td>\n      <td>1,140</td>\n      <td>번역서</td>\n      <td>부산대학교 산업수학센터(FFMIMC)</td>\n      <td>2020-08-05</td>\n      <td>560</td>\n      <td>NaN</td>\n      <td>9791156644972</td>\n      <td>4497</td>\n    </tr>\n    <tr>\n      <th>4</th>\n      <td>IT CookBook, 오라클로 배우는 데이터베이스 개론과 실습(2판)</td>\n      <td>판매중</td>\n      <td>박우창 , 남송휘 , 이현룡</td>\n      <td>29,000</td>\n      <td>29,000</td>\n      <td>870</td>\n      <td>집필서</td>\n      <td>NaN</td>\n      <td>2020-07-30</td>\n      <td>600</td>\n      <td>이 도서는 &lt;IT CookBook, 오라클로 배우는 데이터베이스 개론과 실습&gt;의 개...</td>\n      <td>9791156645023</td>\n      <td>4502</td>\n    </tr>\n  </tbody>\n</table>\n</div>"
     },
     "metadata": {},
     "execution_count": 31
    }
   ],
   "source": [
    "book['마일리지'] = book.apply(lambda r: r['마일리지'].split('점')[0], axis = 1)\n",
    "\"\"\" 파일리지 퍼센트를 살리려고 했으나, 이렇게 하기보다는 나중에 book['마일리지율'] = book.판매가 / book.마일리지 가 더 편할듯 \"\"\"\n",
    "# book['마일리지율'] = book.apply(lambda r: r['마일리지'].split('점')[1].split('()'), axis = 1)\n",
    "book.head()\n"
   ]
  },
  {
   "cell_type": "code",
   "execution_count": 32,
   "metadata": {},
   "outputs": [],
   "source": [
    "\"\"\" 빈 공간 없애주기 \"\"\"\n",
    "book['저자'] = book.apply(lambda r: r['저자'].strip(), axis = 1)\n",
    "book['엮은이'] = book.apply(lambda r: r['엮은이'].strip(), axis = 1)"
   ]
  },
  {
   "cell_type": "code",
   "execution_count": 33,
   "metadata": {},
   "outputs": [
    {
     "output_type": "execute_result",
     "data": {
      "text/plain": [
       "                                         제목 판매여부  \\\n",
       "0                               포르잔 C++ 에센셜  판매중   \n",
       "1  IT CookBook, 액세스 2019로 배우는 데이터베이스 기초와 실습  판매중   \n",
       "2                               포르잔 C++ 바이블  판매중   \n",
       "3                             딥러닝을 위한 선형대수학  판매중   \n",
       "4   IT CookBook, 오라클로 배우는 데이터베이스 개론과 실습(2판)  판매중   \n",
       "\n",
       "                                         저자      원가     판매가   마일리지 번역여부  \\\n",
       "0  Behrouz A. Forouzan , Richard F. Gilberg  32,000  32,000    960  번역서   \n",
       "1                                       김지연  28,000  28,000    840  집필서   \n",
       "2  Behrouz A. Forouzan , Richard F. Gilberg  45,000  45,000  1,350  번역서   \n",
       "3                            Gilbert Strang  38,000  38,000  1,140  번역서   \n",
       "4                           박우창 , 남송휘 , 이현룡  29,000  29,000    870  집필서   \n",
       "\n",
       "                      엮은이          출간일     페이지  \\\n",
       "0                    윤인성    2020-11-10    756    \n",
       "1                     NaN   2020-09-28    536    \n",
       "2                    윤인성    2020-08-31   1192    \n",
       "3   부산대학교 산업수학센터(FFMIMC)    2020-08-05    560    \n",
       "4                     NaN   2020-07-30    600    \n",
       "\n",
       "                                                구판여부           ISBN  물류코드  \n",
       "0                                                NaN  9791156645061  4506  \n",
       "1                 이 도서는 <IT CookBook, 데이터베이스 기초와 실습   9791156645054  4505  \n",
       "2                                                NaN  9791156645030  4503  \n",
       "3                                                NaN  9791156644972  4497  \n",
       "4  이 도서는 <IT CookBook, 오라클로 배우는 데이터베이스 개론과 실습>의 개...  9791156645023  4502  "
      ],
      "text/html": "<div>\n<style scoped>\n    .dataframe tbody tr th:only-of-type {\n        vertical-align: middle;\n    }\n\n    .dataframe tbody tr th {\n        vertical-align: top;\n    }\n\n    .dataframe thead th {\n        text-align: right;\n    }\n</style>\n<table border=\"1\" class=\"dataframe\">\n  <thead>\n    <tr style=\"text-align: right;\">\n      <th></th>\n      <th>제목</th>\n      <th>판매여부</th>\n      <th>저자</th>\n      <th>원가</th>\n      <th>판매가</th>\n      <th>마일리지</th>\n      <th>번역여부</th>\n      <th>엮은이</th>\n      <th>출간일</th>\n      <th>페이지</th>\n      <th>구판여부</th>\n      <th>ISBN</th>\n      <th>물류코드</th>\n    </tr>\n  </thead>\n  <tbody>\n    <tr>\n      <th>0</th>\n      <td>포르잔 C++ 에센셜</td>\n      <td>판매중</td>\n      <td>Behrouz A. Forouzan , Richard F. Gilberg</td>\n      <td>32,000</td>\n      <td>32,000</td>\n      <td>960</td>\n      <td>번역서</td>\n      <td>윤인성</td>\n      <td>2020-11-10</td>\n      <td>756</td>\n      <td>NaN</td>\n      <td>9791156645061</td>\n      <td>4506</td>\n    </tr>\n    <tr>\n      <th>1</th>\n      <td>IT CookBook, 액세스 2019로 배우는 데이터베이스 기초와 실습</td>\n      <td>판매중</td>\n      <td>김지연</td>\n      <td>28,000</td>\n      <td>28,000</td>\n      <td>840</td>\n      <td>집필서</td>\n      <td>NaN</td>\n      <td>2020-09-28</td>\n      <td>536</td>\n      <td>이 도서는 &lt;IT CookBook, 데이터베이스 기초와 실습</td>\n      <td>9791156645054</td>\n      <td>4505</td>\n    </tr>\n    <tr>\n      <th>2</th>\n      <td>포르잔 C++ 바이블</td>\n      <td>판매중</td>\n      <td>Behrouz A. Forouzan , Richard F. Gilberg</td>\n      <td>45,000</td>\n      <td>45,000</td>\n      <td>1,350</td>\n      <td>번역서</td>\n      <td>윤인성</td>\n      <td>2020-08-31</td>\n      <td>1192</td>\n      <td>NaN</td>\n      <td>9791156645030</td>\n      <td>4503</td>\n    </tr>\n    <tr>\n      <th>3</th>\n      <td>딥러닝을 위한 선형대수학</td>\n      <td>판매중</td>\n      <td>Gilbert Strang</td>\n      <td>38,000</td>\n      <td>38,000</td>\n      <td>1,140</td>\n      <td>번역서</td>\n      <td>부산대학교 산업수학센터(FFMIMC)</td>\n      <td>2020-08-05</td>\n      <td>560</td>\n      <td>NaN</td>\n      <td>9791156644972</td>\n      <td>4497</td>\n    </tr>\n    <tr>\n      <th>4</th>\n      <td>IT CookBook, 오라클로 배우는 데이터베이스 개론과 실습(2판)</td>\n      <td>판매중</td>\n      <td>박우창 , 남송휘 , 이현룡</td>\n      <td>29,000</td>\n      <td>29,000</td>\n      <td>870</td>\n      <td>집필서</td>\n      <td>NaN</td>\n      <td>2020-07-30</td>\n      <td>600</td>\n      <td>이 도서는 &lt;IT CookBook, 오라클로 배우는 데이터베이스 개론과 실습&gt;의 개...</td>\n      <td>9791156645023</td>\n      <td>4502</td>\n    </tr>\n  </tbody>\n</table>\n</div>"
     },
     "metadata": {},
     "execution_count": 33
    }
   ],
   "source": [
    "book.head()"
   ]
  },
  {
   "cell_type": "code",
   "execution_count": 34,
   "metadata": {},
   "outputs": [],
   "source": [
    "book.to_csv('bookThousand.csv',sep=',',encoding='utf-8')"
   ]
  },
  {
   "cell_type": "code",
   "execution_count": 35,
   "metadata": {},
   "outputs": [
    {
     "output_type": "execute_result",
     "data": {
      "text/plain": [
       "   Unnamed: 0                                        제목 판매여부  \\\n",
       "0           0                               포르잔 C++ 에센셜  판매중   \n",
       "1           1  IT CookBook, 액세스 2019로 배우는 데이터베이스 기초와 실습  판매중   \n",
       "2           2                               포르잔 C++ 바이블  판매중   \n",
       "3           3                             딥러닝을 위한 선형대수학  판매중   \n",
       "4           4   IT CookBook, 오라클로 배우는 데이터베이스 개론과 실습(2판)  판매중   \n",
       "\n",
       "                                         저자     원가    판매가  마일리지 번역여부  \\\n",
       "0  Behrouz A. Forouzan , Richard F. Gilberg  32000  32000   960  번역서   \n",
       "1                                       김지연  28000  28000   840  집필서   \n",
       "2  Behrouz A. Forouzan , Richard F. Gilberg  45000  45000  1350  번역서   \n",
       "3                            Gilbert Strang  38000  38000  1140  번역서   \n",
       "4                           박우창 , 남송휘 , 이현룡  29000  29000   870  집필서   \n",
       "\n",
       "                      엮은이          출간일   페이지  \\\n",
       "0                    윤인성    2020-11-10   756   \n",
       "1                     NaN   2020-09-28   536   \n",
       "2                    윤인성    2020-08-31  1192   \n",
       "3   부산대학교 산업수학센터(FFMIMC)    2020-08-05   560   \n",
       "4                     NaN   2020-07-30   600   \n",
       "\n",
       "                                                구판여부           ISBN  물류코드  \n",
       "0                                                NaN  9791156645061  4506  \n",
       "1                 이 도서는 <IT CookBook, 데이터베이스 기초와 실습   9791156645054  4505  \n",
       "2                                                NaN  9791156645030  4503  \n",
       "3                                                NaN  9791156644972  4497  \n",
       "4  이 도서는 <IT CookBook, 오라클로 배우는 데이터베이스 개론과 실습>의 개...  9791156645023  4502  "
      ],
      "text/html": "<div>\n<style scoped>\n    .dataframe tbody tr th:only-of-type {\n        vertical-align: middle;\n    }\n\n    .dataframe tbody tr th {\n        vertical-align: top;\n    }\n\n    .dataframe thead th {\n        text-align: right;\n    }\n</style>\n<table border=\"1\" class=\"dataframe\">\n  <thead>\n    <tr style=\"text-align: right;\">\n      <th></th>\n      <th>Unnamed: 0</th>\n      <th>제목</th>\n      <th>판매여부</th>\n      <th>저자</th>\n      <th>원가</th>\n      <th>판매가</th>\n      <th>마일리지</th>\n      <th>번역여부</th>\n      <th>엮은이</th>\n      <th>출간일</th>\n      <th>페이지</th>\n      <th>구판여부</th>\n      <th>ISBN</th>\n      <th>물류코드</th>\n    </tr>\n  </thead>\n  <tbody>\n    <tr>\n      <th>0</th>\n      <td>0</td>\n      <td>포르잔 C++ 에센셜</td>\n      <td>판매중</td>\n      <td>Behrouz A. Forouzan , Richard F. Gilberg</td>\n      <td>32000</td>\n      <td>32000</td>\n      <td>960</td>\n      <td>번역서</td>\n      <td>윤인성</td>\n      <td>2020-11-10</td>\n      <td>756</td>\n      <td>NaN</td>\n      <td>9791156645061</td>\n      <td>4506</td>\n    </tr>\n    <tr>\n      <th>1</th>\n      <td>1</td>\n      <td>IT CookBook, 액세스 2019로 배우는 데이터베이스 기초와 실습</td>\n      <td>판매중</td>\n      <td>김지연</td>\n      <td>28000</td>\n      <td>28000</td>\n      <td>840</td>\n      <td>집필서</td>\n      <td>NaN</td>\n      <td>2020-09-28</td>\n      <td>536</td>\n      <td>이 도서는 &lt;IT CookBook, 데이터베이스 기초와 실습</td>\n      <td>9791156645054</td>\n      <td>4505</td>\n    </tr>\n    <tr>\n      <th>2</th>\n      <td>2</td>\n      <td>포르잔 C++ 바이블</td>\n      <td>판매중</td>\n      <td>Behrouz A. Forouzan , Richard F. Gilberg</td>\n      <td>45000</td>\n      <td>45000</td>\n      <td>1350</td>\n      <td>번역서</td>\n      <td>윤인성</td>\n      <td>2020-08-31</td>\n      <td>1192</td>\n      <td>NaN</td>\n      <td>9791156645030</td>\n      <td>4503</td>\n    </tr>\n    <tr>\n      <th>3</th>\n      <td>3</td>\n      <td>딥러닝을 위한 선형대수학</td>\n      <td>판매중</td>\n      <td>Gilbert Strang</td>\n      <td>38000</td>\n      <td>38000</td>\n      <td>1140</td>\n      <td>번역서</td>\n      <td>부산대학교 산업수학센터(FFMIMC)</td>\n      <td>2020-08-05</td>\n      <td>560</td>\n      <td>NaN</td>\n      <td>9791156644972</td>\n      <td>4497</td>\n    </tr>\n    <tr>\n      <th>4</th>\n      <td>4</td>\n      <td>IT CookBook, 오라클로 배우는 데이터베이스 개론과 실습(2판)</td>\n      <td>판매중</td>\n      <td>박우창 , 남송휘 , 이현룡</td>\n      <td>29000</td>\n      <td>29000</td>\n      <td>870</td>\n      <td>집필서</td>\n      <td>NaN</td>\n      <td>2020-07-30</td>\n      <td>600</td>\n      <td>이 도서는 &lt;IT CookBook, 오라클로 배우는 데이터베이스 개론과 실습&gt;의 개...</td>\n      <td>9791156645023</td>\n      <td>4502</td>\n    </tr>\n  </tbody>\n</table>\n</div>"
     },
     "metadata": {},
     "execution_count": 35
    }
   ],
   "source": [
    "# thousand=',' 옵션으로 천 단위 콤마 제거\n",
    "bookRF = pd.read_csv('bookThousand.csv',sep=',',encoding='utf8',thousands=',')\n",
    "bookRF.head()"
   ]
  },
  {
   "cell_type": "code",
   "execution_count": 36,
   "metadata": {},
   "outputs": [
    {
     "output_type": "execute_result",
     "data": {
      "text/plain": [
       "Index(['Unnamed: 0', '제목', '판매여부', '저자', '원가', '판매가', '마일리지', '번역여부', '엮은이',\n",
       "       '출간일', '페이지', '구판여부', 'ISBN', '물류코드'],\n",
       "      dtype='object')"
      ]
     },
     "metadata": {},
     "execution_count": 36
    }
   ],
   "source": [
    "\"\"\" 이상한 열이 다시 생김 \"\"\"\n",
    "bookRF.columns"
   ]
  },
  {
   "cell_type": "code",
   "execution_count": 37,
   "metadata": {},
   "outputs": [],
   "source": [
    "del bookRF['Unnamed: 0']"
   ]
  },
  {
   "cell_type": "code",
   "execution_count": 38,
   "metadata": {},
   "outputs": [
    {
     "output_type": "execute_result",
     "data": {
      "text/plain": [
       "                                                    제목 판매여부  \\\n",
       "0                                          포르잔 C++ 에센셜  판매중   \n",
       "1             IT CookBook, 액세스 2019로 배우는 데이터베이스 기초와 실습  판매중   \n",
       "2                                          포르잔 C++ 바이블  판매중   \n",
       "3                                        딥러닝을 위한 선형대수학  판매중   \n",
       "4              IT CookBook, 오라클로 배우는 데이터베이스 개론과 실습(2판)  판매중   \n",
       "..                                                 ...  ...   \n",
       "296                      문제해결력을 키우는 이공계 글쓰기 : 발표와 토론까지  판매중   \n",
       "297                진로개발과 직업세계 : 대학생과 청년층을 위한 진로, 취업지침서  판매중   \n",
       "298                                 Essential Calculus  판매중   \n",
       "299  IT CookBook, 디지털 통신 시스템 : Digital Communicatio...  판매중   \n",
       "300     IT CookBook, 운영체제론 : Operating Systems, 3rd Ed  판매중   \n",
       "\n",
       "                                           저자     원가    판매가  마일리지 번역여부  \\\n",
       "0    Behrouz A. Forouzan , Richard F. Gilberg  32000  32000   960  번역서   \n",
       "1                                         김지연  28000  28000   840  집필서   \n",
       "2    Behrouz A. Forouzan , Richard F. Gilberg  45000  45000  1350  번역서   \n",
       "3                              Gilbert Strang  38000  38000  1140  번역서   \n",
       "4                             박우창 , 남송휘 , 이현룡  29000  29000   870  집필서   \n",
       "..                                        ...    ...    ...   ...  ...   \n",
       "296                                       한성우  18000  18000   540  집필서   \n",
       "297                     서일수 , 김도균 , 김지혜 , 이정배  20000  20000   600  집필서   \n",
       "298                             James Stewart  36000  36000  1080   원서   \n",
       "299                                 정호영 , 임승각  25000  25000   750  집필서   \n",
       "300                    하비 디텔 , 폴 디텔 , 데이빗 쇼픈스  32000  32000   960  번역서   \n",
       "\n",
       "                        엮은이          출간일   페이지  \\\n",
       "0                      윤인성    2020-11-10   756   \n",
       "1                       NaN   2020-09-28   536   \n",
       "2                      윤인성    2020-08-31  1192   \n",
       "3     부산대학교 산업수학센터(FFMIMC)    2020-08-05   560   \n",
       "4                       NaN   2020-07-30   600   \n",
       "..                      ...          ...   ...   \n",
       "296                     NaN   2013-02-28   396   \n",
       "297                     NaN   2013-02-28   392   \n",
       "298                     NaN   2012-07-08   960   \n",
       "299                     NaN   2011-01-31   576   \n",
       "300                    송경희    2009-09-04   860   \n",
       "\n",
       "                                                  구판여부           ISBN  물류코드  \n",
       "0                                                  NaN  9791156645061  4506  \n",
       "1                   이 도서는 <IT CookBook, 데이터베이스 기초와 실습   9791156645054  4505  \n",
       "2                                                  NaN  9791156645030  4503  \n",
       "3                                                  NaN  9791156644972  4497  \n",
       "4    이 도서는 <IT CookBook, 오라클로 배우는 데이터베이스 개론과 실습>의 개...  9791156645023  4502  \n",
       "..                                                 ...            ...   ...  \n",
       "296                                                NaN  9788998756024  4002  \n",
       "297                                                NaN  9788998756048  4004  \n",
       "298                                                NaN  9781133492566  7999  \n",
       "299                                                NaN  9788979147988  1798  \n",
       "300                                                NaN  9788979146844  1684  \n",
       "\n",
       "[301 rows x 13 columns]"
      ],
      "text/html": "<div>\n<style scoped>\n    .dataframe tbody tr th:only-of-type {\n        vertical-align: middle;\n    }\n\n    .dataframe tbody tr th {\n        vertical-align: top;\n    }\n\n    .dataframe thead th {\n        text-align: right;\n    }\n</style>\n<table border=\"1\" class=\"dataframe\">\n  <thead>\n    <tr style=\"text-align: right;\">\n      <th></th>\n      <th>제목</th>\n      <th>판매여부</th>\n      <th>저자</th>\n      <th>원가</th>\n      <th>판매가</th>\n      <th>마일리지</th>\n      <th>번역여부</th>\n      <th>엮은이</th>\n      <th>출간일</th>\n      <th>페이지</th>\n      <th>구판여부</th>\n      <th>ISBN</th>\n      <th>물류코드</th>\n    </tr>\n  </thead>\n  <tbody>\n    <tr>\n      <th>0</th>\n      <td>포르잔 C++ 에센셜</td>\n      <td>판매중</td>\n      <td>Behrouz A. Forouzan , Richard F. Gilberg</td>\n      <td>32000</td>\n      <td>32000</td>\n      <td>960</td>\n      <td>번역서</td>\n      <td>윤인성</td>\n      <td>2020-11-10</td>\n      <td>756</td>\n      <td>NaN</td>\n      <td>9791156645061</td>\n      <td>4506</td>\n    </tr>\n    <tr>\n      <th>1</th>\n      <td>IT CookBook, 액세스 2019로 배우는 데이터베이스 기초와 실습</td>\n      <td>판매중</td>\n      <td>김지연</td>\n      <td>28000</td>\n      <td>28000</td>\n      <td>840</td>\n      <td>집필서</td>\n      <td>NaN</td>\n      <td>2020-09-28</td>\n      <td>536</td>\n      <td>이 도서는 &lt;IT CookBook, 데이터베이스 기초와 실습</td>\n      <td>9791156645054</td>\n      <td>4505</td>\n    </tr>\n    <tr>\n      <th>2</th>\n      <td>포르잔 C++ 바이블</td>\n      <td>판매중</td>\n      <td>Behrouz A. Forouzan , Richard F. Gilberg</td>\n      <td>45000</td>\n      <td>45000</td>\n      <td>1350</td>\n      <td>번역서</td>\n      <td>윤인성</td>\n      <td>2020-08-31</td>\n      <td>1192</td>\n      <td>NaN</td>\n      <td>9791156645030</td>\n      <td>4503</td>\n    </tr>\n    <tr>\n      <th>3</th>\n      <td>딥러닝을 위한 선형대수학</td>\n      <td>판매중</td>\n      <td>Gilbert Strang</td>\n      <td>38000</td>\n      <td>38000</td>\n      <td>1140</td>\n      <td>번역서</td>\n      <td>부산대학교 산업수학센터(FFMIMC)</td>\n      <td>2020-08-05</td>\n      <td>560</td>\n      <td>NaN</td>\n      <td>9791156644972</td>\n      <td>4497</td>\n    </tr>\n    <tr>\n      <th>4</th>\n      <td>IT CookBook, 오라클로 배우는 데이터베이스 개론과 실습(2판)</td>\n      <td>판매중</td>\n      <td>박우창 , 남송휘 , 이현룡</td>\n      <td>29000</td>\n      <td>29000</td>\n      <td>870</td>\n      <td>집필서</td>\n      <td>NaN</td>\n      <td>2020-07-30</td>\n      <td>600</td>\n      <td>이 도서는 &lt;IT CookBook, 오라클로 배우는 데이터베이스 개론과 실습&gt;의 개...</td>\n      <td>9791156645023</td>\n      <td>4502</td>\n    </tr>\n    <tr>\n      <th>...</th>\n      <td>...</td>\n      <td>...</td>\n      <td>...</td>\n      <td>...</td>\n      <td>...</td>\n      <td>...</td>\n      <td>...</td>\n      <td>...</td>\n      <td>...</td>\n      <td>...</td>\n      <td>...</td>\n      <td>...</td>\n      <td>...</td>\n    </tr>\n    <tr>\n      <th>296</th>\n      <td>문제해결력을 키우는 이공계 글쓰기 : 발표와 토론까지</td>\n      <td>판매중</td>\n      <td>한성우</td>\n      <td>18000</td>\n      <td>18000</td>\n      <td>540</td>\n      <td>집필서</td>\n      <td>NaN</td>\n      <td>2013-02-28</td>\n      <td>396</td>\n      <td>NaN</td>\n      <td>9788998756024</td>\n      <td>4002</td>\n    </tr>\n    <tr>\n      <th>297</th>\n      <td>진로개발과 직업세계 : 대학생과 청년층을 위한 진로, 취업지침서</td>\n      <td>판매중</td>\n      <td>서일수 , 김도균 , 김지혜 , 이정배</td>\n      <td>20000</td>\n      <td>20000</td>\n      <td>600</td>\n      <td>집필서</td>\n      <td>NaN</td>\n      <td>2013-02-28</td>\n      <td>392</td>\n      <td>NaN</td>\n      <td>9788998756048</td>\n      <td>4004</td>\n    </tr>\n    <tr>\n      <th>298</th>\n      <td>Essential Calculus</td>\n      <td>판매중</td>\n      <td>James Stewart</td>\n      <td>36000</td>\n      <td>36000</td>\n      <td>1080</td>\n      <td>원서</td>\n      <td>NaN</td>\n      <td>2012-07-08</td>\n      <td>960</td>\n      <td>NaN</td>\n      <td>9781133492566</td>\n      <td>7999</td>\n    </tr>\n    <tr>\n      <th>299</th>\n      <td>IT CookBook, 디지털 통신 시스템 : Digital Communicatio...</td>\n      <td>판매중</td>\n      <td>정호영 , 임승각</td>\n      <td>25000</td>\n      <td>25000</td>\n      <td>750</td>\n      <td>집필서</td>\n      <td>NaN</td>\n      <td>2011-01-31</td>\n      <td>576</td>\n      <td>NaN</td>\n      <td>9788979147988</td>\n      <td>1798</td>\n    </tr>\n    <tr>\n      <th>300</th>\n      <td>IT CookBook, 운영체제론 : Operating Systems, 3rd Ed</td>\n      <td>판매중</td>\n      <td>하비 디텔 , 폴 디텔 , 데이빗 쇼픈스</td>\n      <td>32000</td>\n      <td>32000</td>\n      <td>960</td>\n      <td>번역서</td>\n      <td>송경희</td>\n      <td>2009-09-04</td>\n      <td>860</td>\n      <td>NaN</td>\n      <td>9788979146844</td>\n      <td>1684</td>\n    </tr>\n  </tbody>\n</table>\n<p>301 rows × 13 columns</p>\n</div>"
     },
     "metadata": {},
     "execution_count": 38
    }
   ],
   "source": [
    "bookRF"
   ]
  },
  {
   "cell_type": "code",
   "execution_count": 39,
   "metadata": {},
   "outputs": [],
   "source": [
    "# Nan값을 빈 공간으로 바꾸기\n",
    "bookRF.fillna('', inplace=True)"
   ]
  },
  {
   "cell_type": "code",
   "execution_count": 40,
   "metadata": {},
   "outputs": [
    {
     "output_type": "execute_result",
     "data": {
      "text/plain": [
       "                                                    제목 판매여부  \\\n",
       "0                                          포르잔 C++ 에센셜  판매중   \n",
       "1             IT CookBook, 액세스 2019로 배우는 데이터베이스 기초와 실습  판매중   \n",
       "2                                          포르잔 C++ 바이블  판매중   \n",
       "3                                        딥러닝을 위한 선형대수학  판매중   \n",
       "4              IT CookBook, 오라클로 배우는 데이터베이스 개론과 실습(2판)  판매중   \n",
       "..                                                 ...  ...   \n",
       "296                      문제해결력을 키우는 이공계 글쓰기 : 발표와 토론까지  판매중   \n",
       "297                진로개발과 직업세계 : 대학생과 청년층을 위한 진로, 취업지침서  판매중   \n",
       "298                                 Essential Calculus  판매중   \n",
       "299  IT CookBook, 디지털 통신 시스템 : Digital Communicatio...  판매중   \n",
       "300     IT CookBook, 운영체제론 : Operating Systems, 3rd Ed  판매중   \n",
       "\n",
       "                                           저자     원가    판매가  마일리지 번역여부  \\\n",
       "0    Behrouz A. Forouzan , Richard F. Gilberg  32000  32000   960  번역서   \n",
       "1                                         김지연  28000  28000   840  집필서   \n",
       "2    Behrouz A. Forouzan , Richard F. Gilberg  45000  45000  1350  번역서   \n",
       "3                              Gilbert Strang  38000  38000  1140  번역서   \n",
       "4                             박우창 , 남송휘 , 이현룡  29000  29000   870  집필서   \n",
       "..                                        ...    ...    ...   ...  ...   \n",
       "296                                       한성우  18000  18000   540  집필서   \n",
       "297                     서일수 , 김도균 , 김지혜 , 이정배  20000  20000   600  집필서   \n",
       "298                             James Stewart  36000  36000  1080   원서   \n",
       "299                                 정호영 , 임승각  25000  25000   750  집필서   \n",
       "300                    하비 디텔 , 폴 디텔 , 데이빗 쇼픈스  32000  32000   960  번역서   \n",
       "\n",
       "                        엮은이          출간일   페이지  \\\n",
       "0                      윤인성    2020-11-10   756   \n",
       "1                             2020-09-28   536   \n",
       "2                      윤인성    2020-08-31  1192   \n",
       "3     부산대학교 산업수학센터(FFMIMC)    2020-08-05   560   \n",
       "4                             2020-07-30   600   \n",
       "..                      ...          ...   ...   \n",
       "296                           2013-02-28   396   \n",
       "297                           2013-02-28   392   \n",
       "298                           2012-07-08   960   \n",
       "299                           2011-01-31   576   \n",
       "300                    송경희    2009-09-04   860   \n",
       "\n",
       "                                                  구판여부           ISBN  물류코드  \n",
       "0                                                       9791156645061  4506  \n",
       "1                   이 도서는 <IT CookBook, 데이터베이스 기초와 실습   9791156645054  4505  \n",
       "2                                                       9791156645030  4503  \n",
       "3                                                       9791156644972  4497  \n",
       "4    이 도서는 <IT CookBook, 오라클로 배우는 데이터베이스 개론과 실습>의 개...  9791156645023  4502  \n",
       "..                                                 ...            ...   ...  \n",
       "296                                                     9788998756024  4002  \n",
       "297                                                     9788998756048  4004  \n",
       "298                                                     9781133492566  7999  \n",
       "299                                                     9788979147988  1798  \n",
       "300                                                     9788979146844  1684  \n",
       "\n",
       "[301 rows x 13 columns]"
      ],
      "text/html": "<div>\n<style scoped>\n    .dataframe tbody tr th:only-of-type {\n        vertical-align: middle;\n    }\n\n    .dataframe tbody tr th {\n        vertical-align: top;\n    }\n\n    .dataframe thead th {\n        text-align: right;\n    }\n</style>\n<table border=\"1\" class=\"dataframe\">\n  <thead>\n    <tr style=\"text-align: right;\">\n      <th></th>\n      <th>제목</th>\n      <th>판매여부</th>\n      <th>저자</th>\n      <th>원가</th>\n      <th>판매가</th>\n      <th>마일리지</th>\n      <th>번역여부</th>\n      <th>엮은이</th>\n      <th>출간일</th>\n      <th>페이지</th>\n      <th>구판여부</th>\n      <th>ISBN</th>\n      <th>물류코드</th>\n    </tr>\n  </thead>\n  <tbody>\n    <tr>\n      <th>0</th>\n      <td>포르잔 C++ 에센셜</td>\n      <td>판매중</td>\n      <td>Behrouz A. Forouzan , Richard F. Gilberg</td>\n      <td>32000</td>\n      <td>32000</td>\n      <td>960</td>\n      <td>번역서</td>\n      <td>윤인성</td>\n      <td>2020-11-10</td>\n      <td>756</td>\n      <td></td>\n      <td>9791156645061</td>\n      <td>4506</td>\n    </tr>\n    <tr>\n      <th>1</th>\n      <td>IT CookBook, 액세스 2019로 배우는 데이터베이스 기초와 실습</td>\n      <td>판매중</td>\n      <td>김지연</td>\n      <td>28000</td>\n      <td>28000</td>\n      <td>840</td>\n      <td>집필서</td>\n      <td></td>\n      <td>2020-09-28</td>\n      <td>536</td>\n      <td>이 도서는 &lt;IT CookBook, 데이터베이스 기초와 실습</td>\n      <td>9791156645054</td>\n      <td>4505</td>\n    </tr>\n    <tr>\n      <th>2</th>\n      <td>포르잔 C++ 바이블</td>\n      <td>판매중</td>\n      <td>Behrouz A. Forouzan , Richard F. Gilberg</td>\n      <td>45000</td>\n      <td>45000</td>\n      <td>1350</td>\n      <td>번역서</td>\n      <td>윤인성</td>\n      <td>2020-08-31</td>\n      <td>1192</td>\n      <td></td>\n      <td>9791156645030</td>\n      <td>4503</td>\n    </tr>\n    <tr>\n      <th>3</th>\n      <td>딥러닝을 위한 선형대수학</td>\n      <td>판매중</td>\n      <td>Gilbert Strang</td>\n      <td>38000</td>\n      <td>38000</td>\n      <td>1140</td>\n      <td>번역서</td>\n      <td>부산대학교 산업수학센터(FFMIMC)</td>\n      <td>2020-08-05</td>\n      <td>560</td>\n      <td></td>\n      <td>9791156644972</td>\n      <td>4497</td>\n    </tr>\n    <tr>\n      <th>4</th>\n      <td>IT CookBook, 오라클로 배우는 데이터베이스 개론과 실습(2판)</td>\n      <td>판매중</td>\n      <td>박우창 , 남송휘 , 이현룡</td>\n      <td>29000</td>\n      <td>29000</td>\n      <td>870</td>\n      <td>집필서</td>\n      <td></td>\n      <td>2020-07-30</td>\n      <td>600</td>\n      <td>이 도서는 &lt;IT CookBook, 오라클로 배우는 데이터베이스 개론과 실습&gt;의 개...</td>\n      <td>9791156645023</td>\n      <td>4502</td>\n    </tr>\n    <tr>\n      <th>...</th>\n      <td>...</td>\n      <td>...</td>\n      <td>...</td>\n      <td>...</td>\n      <td>...</td>\n      <td>...</td>\n      <td>...</td>\n      <td>...</td>\n      <td>...</td>\n      <td>...</td>\n      <td>...</td>\n      <td>...</td>\n      <td>...</td>\n    </tr>\n    <tr>\n      <th>296</th>\n      <td>문제해결력을 키우는 이공계 글쓰기 : 발표와 토론까지</td>\n      <td>판매중</td>\n      <td>한성우</td>\n      <td>18000</td>\n      <td>18000</td>\n      <td>540</td>\n      <td>집필서</td>\n      <td></td>\n      <td>2013-02-28</td>\n      <td>396</td>\n      <td></td>\n      <td>9788998756024</td>\n      <td>4002</td>\n    </tr>\n    <tr>\n      <th>297</th>\n      <td>진로개발과 직업세계 : 대학생과 청년층을 위한 진로, 취업지침서</td>\n      <td>판매중</td>\n      <td>서일수 , 김도균 , 김지혜 , 이정배</td>\n      <td>20000</td>\n      <td>20000</td>\n      <td>600</td>\n      <td>집필서</td>\n      <td></td>\n      <td>2013-02-28</td>\n      <td>392</td>\n      <td></td>\n      <td>9788998756048</td>\n      <td>4004</td>\n    </tr>\n    <tr>\n      <th>298</th>\n      <td>Essential Calculus</td>\n      <td>판매중</td>\n      <td>James Stewart</td>\n      <td>36000</td>\n      <td>36000</td>\n      <td>1080</td>\n      <td>원서</td>\n      <td></td>\n      <td>2012-07-08</td>\n      <td>960</td>\n      <td></td>\n      <td>9781133492566</td>\n      <td>7999</td>\n    </tr>\n    <tr>\n      <th>299</th>\n      <td>IT CookBook, 디지털 통신 시스템 : Digital Communicatio...</td>\n      <td>판매중</td>\n      <td>정호영 , 임승각</td>\n      <td>25000</td>\n      <td>25000</td>\n      <td>750</td>\n      <td>집필서</td>\n      <td></td>\n      <td>2011-01-31</td>\n      <td>576</td>\n      <td></td>\n      <td>9788979147988</td>\n      <td>1798</td>\n    </tr>\n    <tr>\n      <th>300</th>\n      <td>IT CookBook, 운영체제론 : Operating Systems, 3rd Ed</td>\n      <td>판매중</td>\n      <td>하비 디텔 , 폴 디텔 , 데이빗 쇼픈스</td>\n      <td>32000</td>\n      <td>32000</td>\n      <td>960</td>\n      <td>번역서</td>\n      <td>송경희</td>\n      <td>2009-09-04</td>\n      <td>860</td>\n      <td></td>\n      <td>9788979146844</td>\n      <td>1684</td>\n    </tr>\n  </tbody>\n</table>\n<p>301 rows × 13 columns</p>\n</div>"
     },
     "metadata": {},
     "execution_count": 40
    }
   ],
   "source": [
    "bookRF"
   ]
  },
  {
   "cell_type": "code",
   "execution_count": 41,
   "metadata": {},
   "outputs": [],
   "source": [
    "bookRF.to_csv('bookFinal.csv',sep=',',encoding='utf-8')"
   ]
  }
 ]
}