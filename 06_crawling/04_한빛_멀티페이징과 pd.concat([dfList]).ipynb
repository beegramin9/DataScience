{
 "metadata": {
  "language_info": {
   "codemirror_mode": {
    "name": "ipython",
    "version": 3
   },
   "file_extension": ".py",
   "mimetype": "text/x-python",
   "name": "python",
   "nbconvert_exporter": "python",
   "pygments_lexer": "ipython3",
   "version": "3.8.5-final"
  },
  "orig_nbformat": 2,
  "kernelspec": {
   "name": "python3",
   "display_name": "Python 3.8.5 32-bit",
   "metadata": {
    "interpreter": {
     "hash": "1acfd3b6184b4f42ead27da0a46699636281a46bb651cb84a27d44be7cb90e5a"
    }
   }
  }
 },
 "nbformat": 4,
 "nbformat_minor": 2,
 "cells": [
  {
   "cell_type": "code",
   "execution_count": 128,
   "metadata": {},
   "outputs": [],
   "source": [
    "import pandas as pd\n",
    "from bs4 import BeautifulSoup\n",
    "import requests\n",
    "import numpy as np"
   ]
  },
  {
   "cell_type": "code",
   "execution_count": 129,
   "metadata": {},
   "outputs": [],
   "source": [
    "titles = []; trans = []; sales = [] ; costs = [] ; prices = [] ; mileages = []\n",
    "# 매 페이지마다 공통적으로 변함없이 들어가 있는 정보들, 다시 말하면 css셀렉터를 문제없이 사용할 수 있다.\n",
    "\n",
    "\"\"\" authors = []; editors = []; dates = []; pagenums = []; ISBNs = []; codes = [] \"\"\"\n",
    "# 상세 정보들이 페이지마다 '번역'이나 '구판정보' 처럼 있는 게 있고 없는 게 있기 때문에 동일한 css셀렉터를 쓸 수 없다. 매 페이지마다 바뀌기 때문이다.\n",
    "# 그래서 딕셔너리로 뽑아서 한 책 마다 데이터프레임을 만들고 나중에 최종적으로 pd.concat([dfs])을 하면\n",
    "# 최고 장점: 있는 열엔 알아서 아래로 붙고, 없는 열에는 알아서 NaN값으로 붙기 때문에 상세정보 경우를 나눌 필요가 없다.\n",
    "\n",
    "finalDF = []\n",
    "# 한 책마다 상세 정보들의 DataFrame을 담아놓는 리스트\n",
    "\n",
    "for page in range(1,16+1):\n",
    "    url = \"https://www.hanbit.co.kr/academy/books/new_book_list.html\"\n",
    "    pageurl = url + '?page=' + str(page)\n",
    "    \n",
    "    res = requests.get(pageurl, headers = {'User-Agent':'Mozilla/5.0'})\n",
    "    raw = res.text\n",
    "    soup = BeautifulSoup(raw,'html.parser')\n",
    "    # 1, 2, 3...대문 페이지의 soup\n",
    "\n",
    "    frame = soup.select_one('.sub_book_list_area')\n",
    "    cards = frame.select('.view_box')\n",
    "    # 매 책의 프레임과 그 안의 카드\n",
    "\n",
    "    bookurl = cards[0].select_one('.pop_quick_bg').attrs['onclick'][10:-1]\n",
    "    # 카드의 onclick으로 매 책마다 주소 가져오기\n",
    "\n",
    "    for card in cards:\n",
    "        # 카드마다\n",
    "        bookhref = card.select_one('.pop_quick_bg').attrs['onclick'][10:-1]\n",
    "        suburl = 'https://www.hanbit.co.kr' + bookhref\n",
    "        # 책의 주소 가져와서\n",
    "\n",
    "        subres = requests.get(suburl, headers = {'User-Agent':'Mozilla/5.0'})\n",
    "        subraw = subres.text\n",
    "        subsoup = BeautifulSoup(subraw,'html.parser')\n",
    "        # 각 책 페이지의 soup \n",
    "        \n",
    "        # 가격 정보 박스\n",
    "        pricebox = subsoup.select('span.pbr')\n",
    "\n",
    "        cost = pricebox[0].text\n",
    "        price = pricebox[1].text\n",
    "        mileage = pricebox[2].text\n",
    "\n",
    "        # 책 정보 박스\n",
    "        infobox = subsoup.select_one('.store_product_info_box')\n",
    "\n",
    "        title = infobox.select_one('h3').text\n",
    "        tran = infobox.select('.info_ico p')[1].text\n",
    "        sale = infobox.select('.info_ico p')[2].text\n",
    "\n",
    "        # 상세 정보 박스\n",
    "        infos = infobox.select('.info_list li')\n",
    "\n",
    "        rowdic = {}\n",
    "        # 각 책 페이지의 상세 정보 마다 돌아가며 딕셔너리를 만들어야 하기 때문에 반복문 또 한번\n",
    "        for info in infos:\n",
    "            # 상세 정보가 Dictionary로 만들기 딱 좋게\n",
    "            # '번역 : 김성훈' 으로 되어있었음\n",
    "            # 키, 밸류값으로 나눠주기\n",
    "\n",
    "            info_key = info.text.split(':')[0]\n",
    "            info_value = info.text.split(':')[1]\n",
    "\n",
    "            # 그리고 딕셔너리로 만들어 주면\n",
    "            rowdic[info_key] = [info_value]\n",
    "\n",
    "        # 반복문 끝나고 한 페이지의 상세정보를 담는 딕셔너리가 완성되었음\n",
    "        rowdf = pd.DataFrame(rowdic)\n",
    "        # 딕셔너리로 데이터프레임을 만들면 상세정보를 열로 가지고, 행이 한 줄인 데이터프레임이 만들어짐\n",
    "        # 한 페이지의 데이터 프레임을 최종 모든 데이터 프레임을 담는 리스트에 담아줌\n",
    "        finalDF.append(rowdf)\n",
    "\n",
    "        # 얘들은 css셀렉터로 가져올 수 있는 애들\n",
    "        titles.append(title) ; trans.append(tran) ; sales.append(sale) ; costs.append(cost) ; prices.append(price) ; mileages.append(mileage) "
   ]
  },
  {
   "cell_type": "code",
   "execution_count": 130,
   "metadata": {},
   "outputs": [],
   "source": [
    "\"\"\" 책 프레임과 카드의 css를 구하는 과정 \"\"\"\n",
    "# frame = soup.select_one('.sub_book_list_area')\n",
    "# cards = frame.select('.view_box')"
   ]
  },
  {
   "cell_type": "code",
   "execution_count": 131,
   "metadata": {},
   "outputs": [],
   "source": [
    "\"\"\" 책 카드 onclick의 주소를 구하는 과정 \"\"\"\n",
    "# bookurl = cards[0].select_one('.pop_quick_bg').attrs['onclick'][10:-1]"
   ]
  },
  {
   "cell_type": "code",
   "execution_count": 132,
   "metadata": {},
   "outputs": [],
   "source": [
    "\"\"\" 한 페이지마다 모든 onclick 주소를 구하는 과정 \"\"\"\n",
    "# for card in cards:\n",
    "#     bookhref = card.select_one('.pop_quick_bg').attrs['onclick'][10:-1]\n",
    "#     suburl = 'https://www.hanbit.co.kr' + bookhref\n",
    "#     print(suburl)"
   ]
  },
  {
   "cell_type": "code",
   "execution_count": 135,
   "metadata": {},
   "outputs": [],
   "source": [
    "\"\"\" 각 페이지마다 상세정보가 달라 css셀렉터를 쓰지 못한다는 걸 깨달은 과정 \"\"\"\n",
    "# titles = []; trans = []; sales = []; authors = []; editors = []; dates # = []; pagenums = []; ISBNs = []; codes = []\n",
    "# \n",
    "# for card in cards:\n",
    "#     bookhref = card.select_one('.pop_quick_bg').attrs['onclick'][10:-1]\n",
    "#     suburl = 'https://www.hanbit.co.kr' + bookhref\n",
    "#     subres = requests.get(suburl, headers = {'User-Agent':'Mozilla/5.0'})\n",
    "#     subraw = subres.text\n",
    "#     subsoup = BeautifulSoup(subraw,'html.parser')\n",
    "# \n",
    "#     # 각 페이지\n",
    "#     infobox = subsoup.select_one('.store_product_info_box')\n",
    "#     \n",
    "#     title = infobox.select_one('h3').text\n",
    "#     tran = infobox.select('.info_ico p')[1].text\n",
    "#     sale = infobox.select('.info_ico p')[2].text\n",
    "# \n",
    "#     if trans == '번역서':\n",
    "#         author = infobox.select('.info_list li')[0].text[5:-1]\n",
    "#         editor = infobox.select('.info_list li')[1].text[5:-1]\n",
    "#         date = infobox.select('.info_list li')[2].text[5:]\n",
    "#         pagenum = infobox.select('.info_list li')[3].text[6:-2]\n",
    "#         ISBN = infobox.select('.info_list li')[4].text[7:]\n",
    "#         code = infobox.select('.info_list li')[5].text[-4:]\n",
    "#     else:\n",
    "#         author = infobox.select('.info_list li')[0].text[5:-1]\n",
    "#         editor = np.nan\n",
    "#         date = infobox.select('.info_list li')[1].text[5:]\n",
    "#         pagenum = infobox.select('.info_list li')[2].text[6:-2]\n",
    "#         ISBN = infobox.select('.info_list li')[3].text[7:]\n",
    "#         code = infobox.select('.info_list li')[4].text[-4:]\n",
    "#     \n",
    "#     titles.append(title) ; trans.append(tran) ; sales.append(sale) ; authors.append(author) ; editors.append(editor) ; dates.append(date) ; pagenums.append(pagenum) ; ISBNs.append(ISBN) ; codes.append(code) \n"
   ]
  },
  {
   "cell_type": "code",
   "execution_count": 145,
   "metadata": {},
   "outputs": [
    {
     "output_type": "execute_result",
     "data": {
      "text/plain": [
       "' 가격 박스 셀렉터 찾는 과정 '"
      ]
     },
     "metadata": {},
     "execution_count": 145
    }
   ],
   "source": [
    "\"\"\" 가격 박스 셀렉터 찾는 과정 \"\"\"\n",
    "# pricebox = subsoup.select('span.pbr')\n",
    "# pricebox[2].text"
   ]
  },
  {
   "cell_type": "code",
   "execution_count": 134,
   "metadata": {},
   "outputs": [],
   "source": [
    "\"\"\" 각 페이지 상세정보가 딕셔너리처럼 생겼던 걸 알아낸 과정 \"\"\"\n",
    "# for info in infobox.select('.info_list li'):\n",
    "#     print(info.text.split(':'))"
   ]
  },
  {
   "cell_type": "code",
   "execution_count": 144,
   "metadata": {},
   "outputs": [
    {
     "output_type": "execute_result",
     "data": {
      "text/plain": [
       "' 첫 페이지만 크롤링해서 성공했을 때, 모든 페이지를 돌아갈 때는 아래 코드 중 첫 for문 이하부터 붙이면 된다.  '"
      ]
     },
     "metadata": {},
     "execution_count": 144
    }
   ],
   "source": [
    "\"\"\" 첫 페이지만 크롤링해서 성공했을 때, 모든 페이지를 돌아갈 때는 아래 코드 중 첫 for문 이하부터 붙이면 된다.  \"\"\"\n",
    "# titles = []; trans = []; sales = [] ; costs = [] ; prices = [] ; mileages = []\n",
    "# # authors = []; editors = []; dates = []; pagenums = []; ISBNs = []; codes = []\n",
    "# finalDF = []\n",
    "# \n",
    "# for i, card in enumerate(cards):\n",
    "#     bookhref = card.select_one('.pop_quick_bg').attrs['onclick'][10:-1]\n",
    "#     suburl = 'https://www.hanbit.co.kr' + bookhref\n",
    "#     subres = requests.get(suburl, headers = {'User-Agent':'Mozilla/5.0'})\n",
    "#     subraw = subres.text\n",
    "#     subsoup = BeautifulSoup(subraw,'html.parser')\n",
    "# \n",
    "#     # 각 페이지\n",
    "#     # 가격\n",
    "#     pricebox = subsoup.select('span.pbr')\n",
    "#     \n",
    "#     cost = pricebox[0].text\n",
    "#     price = pricebox[1].text\n",
    "#     mileage = pricebox[2].text\n",
    "# \n",
    "#     # 정보\n",
    "#     infobox = subsoup.select_one('.store_product_info_box')\n",
    "#     \n",
    "#     title = infobox.select_one('h3').text\n",
    "#     tran = infobox.select('.info_ico p')[1].text\n",
    "#     sale = infobox.select('.info_ico p')[2].text\n",
    "# \n",
    "#     infos = infobox.select('.info_list li')\n",
    "# \n",
    "#     # 그 딕셔너리에 넣는거!\n",
    "# \n",
    "#     rowdic = {}\n",
    "#     for info in infos:\n",
    "#         info_key = info.text.split(':')[0]\n",
    "#         info_value = info.text.split(':')[1]\n",
    "#         \n",
    "#         # print(info_key,info_value)\n",
    "#         rowdic[info_key] = [info_value]\n",
    "#     \n",
    "#     #print(rowdic)\n",
    "#     \n",
    "#     rowdf = pd.DataFrame(rowdic)\n",
    "#     finalDF.append(rowdf)\n",
    "#     \n",
    "#     \n",
    "#     titles.append(title) ; trans.append(tran) ; sales.append(sale) ; costs.append(cost) ; prices.append(price) ; mileages.append(mileage) \n"
   ]
  },
  {
   "cell_type": "code",
   "execution_count": 138,
   "metadata": {},
   "outputs": [
    {
     "output_type": "execute_result",
     "data": {
      "text/plain": [
       "                                          저자                      번역   \\\n",
       "0   Behrouz A. Forouzan , Richard F. Gilberg                     윤인성    \n",
       "0                                        김지연                      NaN   \n",
       "0   Behrouz A. Forouzan , Richard F. Gilberg                     윤인성    \n",
       "0                             Gilbert Strang    부산대학교 산업수학센터(FFMIMC)    \n",
       "0                            박우창 , 남송휘 , 이현룡                      NaN   \n",
       "\n",
       "           출간      페이지            ISBN  물류코드   \\\n",
       "0   2020-11-10    756 쪽   9791156645061  4506   \n",
       "0   2020-09-28    536 쪽   9791156645054  4505   \n",
       "0   2020-08-31   1192 쪽   9791156645030  4503   \n",
       "0   2020-08-05    560 쪽   9791156644972  4497   \n",
       "0   2020-07-30    600 쪽   9791156645023  4502   \n",
       "\n",
       "                                               구판정보  개정판정보   \\\n",
       "0                                                NaN    NaN   \n",
       "0                 이 도서는 <IT CookBook, 데이터베이스 기초와 실습     NaN   \n",
       "0                                                NaN    NaN   \n",
       "0                                                NaN    NaN   \n",
       "0  이 도서는 <IT CookBook, 오라클로 배우는 데이터베이스 개론과 실습>의 개...    NaN   \n",
       "\n",
       "                                         제목  번역서 판매여부       원가  \\\n",
       "0                               포르잔 C++ 에센셜  번역서  판매중  32,000원   \n",
       "0  IT CookBook, 액세스 2019로 배우는 데이터베이스 기초와 실습  집필서  판매중  28,000원   \n",
       "0                               포르잔 C++ 바이블  번역서  판매중  45,000원   \n",
       "0                             딥러닝을 위한 선형대수학  번역서  판매중  38,000원   \n",
       "0   IT CookBook, 오라클로 배우는 데이터베이스 개론과 실습(2판)  집필서  판매중  29,000원   \n",
       "\n",
       "               판매가         마일리지  \n",
       "0  32,000원(0% off)    960점 (3%)  \n",
       "0  28,000원(0% off)    840점 (3%)  \n",
       "0  45,000원(0% off)  1,350점 (3%)  \n",
       "0  38,000원(0% off)  1,140점 (3%)  \n",
       "0  29,000원(0% off)    870점 (3%)  "
      ],
      "text/html": "<div>\n<style scoped>\n    .dataframe tbody tr th:only-of-type {\n        vertical-align: middle;\n    }\n\n    .dataframe tbody tr th {\n        vertical-align: top;\n    }\n\n    .dataframe thead th {\n        text-align: right;\n    }\n</style>\n<table border=\"1\" class=\"dataframe\">\n  <thead>\n    <tr style=\"text-align: right;\">\n      <th></th>\n      <th>저자</th>\n      <th>번역</th>\n      <th>출간</th>\n      <th>페이지</th>\n      <th>ISBN</th>\n      <th>물류코드</th>\n      <th>구판정보</th>\n      <th>개정판정보</th>\n      <th>제목</th>\n      <th>번역서</th>\n      <th>판매여부</th>\n      <th>원가</th>\n      <th>판매가</th>\n      <th>마일리지</th>\n    </tr>\n  </thead>\n  <tbody>\n    <tr>\n      <th>0</th>\n      <td>Behrouz A. Forouzan , Richard F. Gilberg</td>\n      <td>윤인성</td>\n      <td>2020-11-10</td>\n      <td>756 쪽</td>\n      <td>9791156645061</td>\n      <td>4506</td>\n      <td>NaN</td>\n      <td>NaN</td>\n      <td>포르잔 C++ 에센셜</td>\n      <td>번역서</td>\n      <td>판매중</td>\n      <td>32,000원</td>\n      <td>32,000원(0% off)</td>\n      <td>960점 (3%)</td>\n    </tr>\n    <tr>\n      <th>0</th>\n      <td>김지연</td>\n      <td>NaN</td>\n      <td>2020-09-28</td>\n      <td>536 쪽</td>\n      <td>9791156645054</td>\n      <td>4505</td>\n      <td>이 도서는 &lt;IT CookBook, 데이터베이스 기초와 실습</td>\n      <td>NaN</td>\n      <td>IT CookBook, 액세스 2019로 배우는 데이터베이스 기초와 실습</td>\n      <td>집필서</td>\n      <td>판매중</td>\n      <td>28,000원</td>\n      <td>28,000원(0% off)</td>\n      <td>840점 (3%)</td>\n    </tr>\n    <tr>\n      <th>0</th>\n      <td>Behrouz A. Forouzan , Richard F. Gilberg</td>\n      <td>윤인성</td>\n      <td>2020-08-31</td>\n      <td>1192 쪽</td>\n      <td>9791156645030</td>\n      <td>4503</td>\n      <td>NaN</td>\n      <td>NaN</td>\n      <td>포르잔 C++ 바이블</td>\n      <td>번역서</td>\n      <td>판매중</td>\n      <td>45,000원</td>\n      <td>45,000원(0% off)</td>\n      <td>1,350점 (3%)</td>\n    </tr>\n    <tr>\n      <th>0</th>\n      <td>Gilbert Strang</td>\n      <td>부산대학교 산업수학센터(FFMIMC)</td>\n      <td>2020-08-05</td>\n      <td>560 쪽</td>\n      <td>9791156644972</td>\n      <td>4497</td>\n      <td>NaN</td>\n      <td>NaN</td>\n      <td>딥러닝을 위한 선형대수학</td>\n      <td>번역서</td>\n      <td>판매중</td>\n      <td>38,000원</td>\n      <td>38,000원(0% off)</td>\n      <td>1,140점 (3%)</td>\n    </tr>\n    <tr>\n      <th>0</th>\n      <td>박우창 , 남송휘 , 이현룡</td>\n      <td>NaN</td>\n      <td>2020-07-30</td>\n      <td>600 쪽</td>\n      <td>9791156645023</td>\n      <td>4502</td>\n      <td>이 도서는 &lt;IT CookBook, 오라클로 배우는 데이터베이스 개론과 실습&gt;의 개...</td>\n      <td>NaN</td>\n      <td>IT CookBook, 오라클로 배우는 데이터베이스 개론과 실습(2판)</td>\n      <td>집필서</td>\n      <td>판매중</td>\n      <td>29,000원</td>\n      <td>29,000원(0% off)</td>\n      <td>870점 (3%)</td>\n    </tr>\n  </tbody>\n</table>\n</div>"
     },
     "metadata": {},
     "execution_count": 138
    }
   ],
   "source": [
    "\"\"\" DataFrame으로 얻어낸 상세정보에 css셀렉터+리스트로 얻어낸 상세정보를 열로 추가하는 과정  \"\"\"\n",
    "finalDF = pd.concat(finalDF)\n",
    "finalDF['제목'] = titles\n",
    "finalDF['번역서'] = trans\n",
    "finalDF['판매여부'] = sales\n",
    "finalDF['원가'] = costs\n",
    "finalDF['판매가'] = prices\n",
    "finalDF['마일리지'] = mileages\n",
    "finalDF.head()"
   ]
  },
  {
   "cell_type": "code",
   "execution_count": 139,
   "metadata": {},
   "outputs": [
    {
     "output_type": "execute_result",
     "data": {
      "text/plain": [
       "Index(['저자 ', '번역 ', '출간 ', '페이지 ', 'ISBN ', '물류코드 ', '구판정보 ', '개정판정보 ', '제목',\n",
       "       '번역서', '판매여부', '원가', '판매가', '마일리지'],\n",
       "      dtype='object')"
      ]
     },
     "metadata": {},
     "execution_count": 139
    }
   ],
   "source": [
    "\"\"\" 데이터 프레임의 열 순서 바꾸가 \"\"\"\n",
    "finalDF.columns"
   ]
  },
  {
   "cell_type": "code",
   "execution_count": 140,
   "metadata": {},
   "outputs": [
    {
     "output_type": "execute_result",
     "data": {
      "text/plain": [
       "                                         제목 판매여부  \\\n",
       "0                               포르잔 C++ 에센셜  판매중   \n",
       "0  IT CookBook, 액세스 2019로 배우는 데이터베이스 기초와 실습  판매중   \n",
       "0                               포르잔 C++ 바이블  판매중   \n",
       "0                             딥러닝을 위한 선형대수학  판매중   \n",
       "0   IT CookBook, 오라클로 배우는 데이터베이스 개론과 실습(2판)  판매중   \n",
       "\n",
       "                                          저자        원가              판매가  \\\n",
       "0   Behrouz A. Forouzan , Richard F. Gilberg   32,000원  32,000원(0% off)   \n",
       "0                                        김지연   28,000원  28,000원(0% off)   \n",
       "0   Behrouz A. Forouzan , Richard F. Gilberg   45,000원  45,000원(0% off)   \n",
       "0                             Gilbert Strang   38,000원  38,000원(0% off)   \n",
       "0                            박우창 , 남송휘 , 이현룡   29,000원  29,000원(0% off)   \n",
       "\n",
       "          마일리지  번역서                     번역           출간      페이지   \\\n",
       "0    960점 (3%)  번역서                    윤인성    2020-11-10    756 쪽   \n",
       "0    840점 (3%)  집필서                     NaN   2020-09-28    536 쪽   \n",
       "0  1,350점 (3%)  번역서                    윤인성    2020-08-31   1192 쪽   \n",
       "0  1,140점 (3%)  번역서   부산대학교 산업수학센터(FFMIMC)    2020-08-05    560 쪽   \n",
       "0    870점 (3%)  집필서                     NaN   2020-07-30    600 쪽   \n",
       "\n",
       "                                               구판정보            ISBN  물류코드   \n",
       "0                                                NaN   9791156645061  4506  \n",
       "0                 이 도서는 <IT CookBook, 데이터베이스 기초와 실습    9791156645054  4505  \n",
       "0                                                NaN   9791156645030  4503  \n",
       "0                                                NaN   9791156644972  4497  \n",
       "0  이 도서는 <IT CookBook, 오라클로 배우는 데이터베이스 개론과 실습>의 개...   9791156645023  4502  "
      ],
      "text/html": "<div>\n<style scoped>\n    .dataframe tbody tr th:only-of-type {\n        vertical-align: middle;\n    }\n\n    .dataframe tbody tr th {\n        vertical-align: top;\n    }\n\n    .dataframe thead th {\n        text-align: right;\n    }\n</style>\n<table border=\"1\" class=\"dataframe\">\n  <thead>\n    <tr style=\"text-align: right;\">\n      <th></th>\n      <th>제목</th>\n      <th>판매여부</th>\n      <th>저자</th>\n      <th>원가</th>\n      <th>판매가</th>\n      <th>마일리지</th>\n      <th>번역서</th>\n      <th>번역</th>\n      <th>출간</th>\n      <th>페이지</th>\n      <th>구판정보</th>\n      <th>ISBN</th>\n      <th>물류코드</th>\n    </tr>\n  </thead>\n  <tbody>\n    <tr>\n      <th>0</th>\n      <td>포르잔 C++ 에센셜</td>\n      <td>판매중</td>\n      <td>Behrouz A. Forouzan , Richard F. Gilberg</td>\n      <td>32,000원</td>\n      <td>32,000원(0% off)</td>\n      <td>960점 (3%)</td>\n      <td>번역서</td>\n      <td>윤인성</td>\n      <td>2020-11-10</td>\n      <td>756 쪽</td>\n      <td>NaN</td>\n      <td>9791156645061</td>\n      <td>4506</td>\n    </tr>\n    <tr>\n      <th>0</th>\n      <td>IT CookBook, 액세스 2019로 배우는 데이터베이스 기초와 실습</td>\n      <td>판매중</td>\n      <td>김지연</td>\n      <td>28,000원</td>\n      <td>28,000원(0% off)</td>\n      <td>840점 (3%)</td>\n      <td>집필서</td>\n      <td>NaN</td>\n      <td>2020-09-28</td>\n      <td>536 쪽</td>\n      <td>이 도서는 &lt;IT CookBook, 데이터베이스 기초와 실습</td>\n      <td>9791156645054</td>\n      <td>4505</td>\n    </tr>\n    <tr>\n      <th>0</th>\n      <td>포르잔 C++ 바이블</td>\n      <td>판매중</td>\n      <td>Behrouz A. Forouzan , Richard F. Gilberg</td>\n      <td>45,000원</td>\n      <td>45,000원(0% off)</td>\n      <td>1,350점 (3%)</td>\n      <td>번역서</td>\n      <td>윤인성</td>\n      <td>2020-08-31</td>\n      <td>1192 쪽</td>\n      <td>NaN</td>\n      <td>9791156645030</td>\n      <td>4503</td>\n    </tr>\n    <tr>\n      <th>0</th>\n      <td>딥러닝을 위한 선형대수학</td>\n      <td>판매중</td>\n      <td>Gilbert Strang</td>\n      <td>38,000원</td>\n      <td>38,000원(0% off)</td>\n      <td>1,140점 (3%)</td>\n      <td>번역서</td>\n      <td>부산대학교 산업수학센터(FFMIMC)</td>\n      <td>2020-08-05</td>\n      <td>560 쪽</td>\n      <td>NaN</td>\n      <td>9791156644972</td>\n      <td>4497</td>\n    </tr>\n    <tr>\n      <th>0</th>\n      <td>IT CookBook, 오라클로 배우는 데이터베이스 개론과 실습(2판)</td>\n      <td>판매중</td>\n      <td>박우창 , 남송휘 , 이현룡</td>\n      <td>29,000원</td>\n      <td>29,000원(0% off)</td>\n      <td>870점 (3%)</td>\n      <td>집필서</td>\n      <td>NaN</td>\n      <td>2020-07-30</td>\n      <td>600 쪽</td>\n      <td>이 도서는 &lt;IT CookBook, 오라클로 배우는 데이터베이스 개론과 실습&gt;의 개...</td>\n      <td>9791156645023</td>\n      <td>4502</td>\n    </tr>\n  </tbody>\n</table>\n</div>"
     },
     "metadata": {},
     "execution_count": 140
    }
   ],
   "source": [
    "newDf = finalDF.reindex(columns=[\n",
    "    '제목',\n",
    "    '판매여부',\n",
    "    '저자 ',\n",
    "    '원가',\n",
    "    '판매가',\n",
    "    '마일리지',\n",
    "    '번역서',\n",
    "    '번역 ',\n",
    "    '출간 ',\n",
    "    '페이지 ',\n",
    "    '구판정보 ',\n",
    "    'ISBN ',\n",
    "    '물류코드 '\n",
    "])\n",
    "newDf.head()"
   ]
  },
  {
   "cell_type": "code",
   "execution_count": 141,
   "metadata": {},
   "outputs": [],
   "source": [
    "\"\"\" 데이터프레임 열 이름 바꾸기 \"\"\"\n",
    "newDf.rename(columns={\n",
    "    '제목' : '제목',\n",
    "    '판매여부' : '판매여부',\n",
    "    '저자 ' : '저자',\n",
    "    '원가':'원가',\n",
    "    '판매가':'판매가',\n",
    "    '마일리지':'마일리지',\n",
    "    '번역서' : '번역여부',\n",
    "    '번역 ' : '엮은이',\n",
    "    '출간 ' : '출간일',\n",
    "    '페이지 ' : '페이지',\n",
    "    '구판정보 ' : '구판여부',\n",
    "    'ISBN ' : 'ISBN',\n",
    "    '물류코드 ':'물류코드'\n",
    "},inplace=True)"
   ]
  },
  {
   "cell_type": "code",
   "execution_count": 142,
   "metadata": {},
   "outputs": [
    {
     "output_type": "execute_result",
     "data": {
      "text/plain": [
       "                                                   제목 판매여부  \\\n",
       "0                                         포르잔 C++ 에센셜  판매중   \n",
       "0            IT CookBook, 액세스 2019로 배우는 데이터베이스 기초와 실습  판매중   \n",
       "0                                         포르잔 C++ 바이블  판매중   \n",
       "0                                       딥러닝을 위한 선형대수학  판매중   \n",
       "0             IT CookBook, 오라클로 배우는 데이터베이스 개론과 실습(2판)  판매중   \n",
       "..                                                ...  ...   \n",
       "0                       문제해결력을 키우는 이공계 글쓰기 : 발표와 토론까지  판매중   \n",
       "0                 진로개발과 직업세계 : 대학생과 청년층을 위한 진로, 취업지침서  판매중   \n",
       "0                                  Essential Calculus  판매중   \n",
       "0   IT CookBook, 디지털 통신 시스템 : Digital Communicatio...  판매중   \n",
       "0      IT CookBook, 운영체제론 : Operating Systems, 3rd Ed  판매중   \n",
       "\n",
       "                                            저자       원가              판매가  \\\n",
       "0    Behrouz A. Forouzan , Richard F. Gilberg   32,000원  32,000원(0% off)   \n",
       "0                                         김지연   28,000원  28,000원(0% off)   \n",
       "0    Behrouz A. Forouzan , Richard F. Gilberg   45,000원  45,000원(0% off)   \n",
       "0                              Gilbert Strang   38,000원  38,000원(0% off)   \n",
       "0                             박우창 , 남송휘 , 이현룡   29,000원  29,000원(0% off)   \n",
       "..                                         ...      ...              ...   \n",
       "0                                         한성우   18,000원  18,000원(0% off)   \n",
       "0                       서일수 , 김도균 , 김지혜 , 이정배   20,000원  20,000원(0% off)   \n",
       "0                               James Stewart   36,000원  36,000원(0% off)   \n",
       "0                                   정호영 , 임승각   25,000원  25,000원(0% off)   \n",
       "0                      하비 디텔 , 폴 디텔 , 데이빗 쇼픈스   32,000원  32,000원(0% off)   \n",
       "\n",
       "           마일리지 번역여부                     엮은이          출간일      페이지  \\\n",
       "0     960점 (3%)  번역서                    윤인성    2020-11-10    756 쪽   \n",
       "0     840점 (3%)  집필서                     NaN   2020-09-28    536 쪽   \n",
       "0   1,350점 (3%)  번역서                    윤인성    2020-08-31   1192 쪽   \n",
       "0   1,140점 (3%)  번역서   부산대학교 산업수학센터(FFMIMC)    2020-08-05    560 쪽   \n",
       "0     870점 (3%)  집필서                     NaN   2020-07-30    600 쪽   \n",
       "..          ...  ...                     ...          ...      ...   \n",
       "0     540점 (3%)  집필서                     NaN   2013-02-28    396 쪽   \n",
       "0     600점 (3%)  집필서                     NaN   2013-02-28    392 쪽   \n",
       "0   1,080점 (3%)   원서                     NaN   2012-07-08    960 쪽   \n",
       "0     750점 (3%)  집필서                     NaN   2011-01-31    576 쪽   \n",
       "0     960점 (3%)  번역서                    송경희    2009-09-04    860 쪽   \n",
       "\n",
       "                                                 구판여부            ISBN  물류코드  \n",
       "0                                                 NaN   9791156645061  4506  \n",
       "0                  이 도서는 <IT CookBook, 데이터베이스 기초와 실습    9791156645054  4505  \n",
       "0                                                 NaN   9791156645030  4503  \n",
       "0                                                 NaN   9791156644972  4497  \n",
       "0   이 도서는 <IT CookBook, 오라클로 배우는 데이터베이스 개론과 실습>의 개...   9791156645023  4502  \n",
       "..                                                ...             ...   ...  \n",
       "0                                                 NaN   9788998756024  4002  \n",
       "0                                                 NaN   9788998756048  4004  \n",
       "0                                                 NaN   9781133492566  7999  \n",
       "0                                                 NaN   9788979147988  1798  \n",
       "0                                                 NaN   9788979146844  1684  \n",
       "\n",
       "[301 rows x 13 columns]"
      ],
      "text/html": "<div>\n<style scoped>\n    .dataframe tbody tr th:only-of-type {\n        vertical-align: middle;\n    }\n\n    .dataframe tbody tr th {\n        vertical-align: top;\n    }\n\n    .dataframe thead th {\n        text-align: right;\n    }\n</style>\n<table border=\"1\" class=\"dataframe\">\n  <thead>\n    <tr style=\"text-align: right;\">\n      <th></th>\n      <th>제목</th>\n      <th>판매여부</th>\n      <th>저자</th>\n      <th>원가</th>\n      <th>판매가</th>\n      <th>마일리지</th>\n      <th>번역여부</th>\n      <th>엮은이</th>\n      <th>출간일</th>\n      <th>페이지</th>\n      <th>구판여부</th>\n      <th>ISBN</th>\n      <th>물류코드</th>\n    </tr>\n  </thead>\n  <tbody>\n    <tr>\n      <th>0</th>\n      <td>포르잔 C++ 에센셜</td>\n      <td>판매중</td>\n      <td>Behrouz A. Forouzan , Richard F. Gilberg</td>\n      <td>32,000원</td>\n      <td>32,000원(0% off)</td>\n      <td>960점 (3%)</td>\n      <td>번역서</td>\n      <td>윤인성</td>\n      <td>2020-11-10</td>\n      <td>756 쪽</td>\n      <td>NaN</td>\n      <td>9791156645061</td>\n      <td>4506</td>\n    </tr>\n    <tr>\n      <th>0</th>\n      <td>IT CookBook, 액세스 2019로 배우는 데이터베이스 기초와 실습</td>\n      <td>판매중</td>\n      <td>김지연</td>\n      <td>28,000원</td>\n      <td>28,000원(0% off)</td>\n      <td>840점 (3%)</td>\n      <td>집필서</td>\n      <td>NaN</td>\n      <td>2020-09-28</td>\n      <td>536 쪽</td>\n      <td>이 도서는 &lt;IT CookBook, 데이터베이스 기초와 실습</td>\n      <td>9791156645054</td>\n      <td>4505</td>\n    </tr>\n    <tr>\n      <th>0</th>\n      <td>포르잔 C++ 바이블</td>\n      <td>판매중</td>\n      <td>Behrouz A. Forouzan , Richard F. Gilberg</td>\n      <td>45,000원</td>\n      <td>45,000원(0% off)</td>\n      <td>1,350점 (3%)</td>\n      <td>번역서</td>\n      <td>윤인성</td>\n      <td>2020-08-31</td>\n      <td>1192 쪽</td>\n      <td>NaN</td>\n      <td>9791156645030</td>\n      <td>4503</td>\n    </tr>\n    <tr>\n      <th>0</th>\n      <td>딥러닝을 위한 선형대수학</td>\n      <td>판매중</td>\n      <td>Gilbert Strang</td>\n      <td>38,000원</td>\n      <td>38,000원(0% off)</td>\n      <td>1,140점 (3%)</td>\n      <td>번역서</td>\n      <td>부산대학교 산업수학센터(FFMIMC)</td>\n      <td>2020-08-05</td>\n      <td>560 쪽</td>\n      <td>NaN</td>\n      <td>9791156644972</td>\n      <td>4497</td>\n    </tr>\n    <tr>\n      <th>0</th>\n      <td>IT CookBook, 오라클로 배우는 데이터베이스 개론과 실습(2판)</td>\n      <td>판매중</td>\n      <td>박우창 , 남송휘 , 이현룡</td>\n      <td>29,000원</td>\n      <td>29,000원(0% off)</td>\n      <td>870점 (3%)</td>\n      <td>집필서</td>\n      <td>NaN</td>\n      <td>2020-07-30</td>\n      <td>600 쪽</td>\n      <td>이 도서는 &lt;IT CookBook, 오라클로 배우는 데이터베이스 개론과 실습&gt;의 개...</td>\n      <td>9791156645023</td>\n      <td>4502</td>\n    </tr>\n    <tr>\n      <th>...</th>\n      <td>...</td>\n      <td>...</td>\n      <td>...</td>\n      <td>...</td>\n      <td>...</td>\n      <td>...</td>\n      <td>...</td>\n      <td>...</td>\n      <td>...</td>\n      <td>...</td>\n      <td>...</td>\n      <td>...</td>\n      <td>...</td>\n    </tr>\n    <tr>\n      <th>0</th>\n      <td>문제해결력을 키우는 이공계 글쓰기 : 발표와 토론까지</td>\n      <td>판매중</td>\n      <td>한성우</td>\n      <td>18,000원</td>\n      <td>18,000원(0% off)</td>\n      <td>540점 (3%)</td>\n      <td>집필서</td>\n      <td>NaN</td>\n      <td>2013-02-28</td>\n      <td>396 쪽</td>\n      <td>NaN</td>\n      <td>9788998756024</td>\n      <td>4002</td>\n    </tr>\n    <tr>\n      <th>0</th>\n      <td>진로개발과 직업세계 : 대학생과 청년층을 위한 진로, 취업지침서</td>\n      <td>판매중</td>\n      <td>서일수 , 김도균 , 김지혜 , 이정배</td>\n      <td>20,000원</td>\n      <td>20,000원(0% off)</td>\n      <td>600점 (3%)</td>\n      <td>집필서</td>\n      <td>NaN</td>\n      <td>2013-02-28</td>\n      <td>392 쪽</td>\n      <td>NaN</td>\n      <td>9788998756048</td>\n      <td>4004</td>\n    </tr>\n    <tr>\n      <th>0</th>\n      <td>Essential Calculus</td>\n      <td>판매중</td>\n      <td>James Stewart</td>\n      <td>36,000원</td>\n      <td>36,000원(0% off)</td>\n      <td>1,080점 (3%)</td>\n      <td>원서</td>\n      <td>NaN</td>\n      <td>2012-07-08</td>\n      <td>960 쪽</td>\n      <td>NaN</td>\n      <td>9781133492566</td>\n      <td>7999</td>\n    </tr>\n    <tr>\n      <th>0</th>\n      <td>IT CookBook, 디지털 통신 시스템 : Digital Communicatio...</td>\n      <td>판매중</td>\n      <td>정호영 , 임승각</td>\n      <td>25,000원</td>\n      <td>25,000원(0% off)</td>\n      <td>750점 (3%)</td>\n      <td>집필서</td>\n      <td>NaN</td>\n      <td>2011-01-31</td>\n      <td>576 쪽</td>\n      <td>NaN</td>\n      <td>9788979147988</td>\n      <td>1798</td>\n    </tr>\n    <tr>\n      <th>0</th>\n      <td>IT CookBook, 운영체제론 : Operating Systems, 3rd Ed</td>\n      <td>판매중</td>\n      <td>하비 디텔 , 폴 디텔 , 데이빗 쇼픈스</td>\n      <td>32,000원</td>\n      <td>32,000원(0% off)</td>\n      <td>960점 (3%)</td>\n      <td>번역서</td>\n      <td>송경희</td>\n      <td>2009-09-04</td>\n      <td>860 쪽</td>\n      <td>NaN</td>\n      <td>9788979146844</td>\n      <td>1684</td>\n    </tr>\n  </tbody>\n</table>\n<p>301 rows × 13 columns</p>\n</div>"
     },
     "metadata": {},
     "execution_count": 142
    }
   ],
   "source": [
    "newDf"
   ]
  },
  {
   "cell_type": "code",
   "execution_count": 143,
   "metadata": {},
   "outputs": [],
   "source": [
    "newDf.to_csv('book.csv',sep=',',encoding='utf-8')"
   ]
  }
 ]
}