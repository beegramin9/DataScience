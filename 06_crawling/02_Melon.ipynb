{
 "metadata": {
  "language_info": {
   "codemirror_mode": {
    "name": "ipython",
    "version": 3
   },
   "file_extension": ".py",
   "mimetype": "text/x-python",
   "name": "python",
   "nbconvert_exporter": "python",
   "pygments_lexer": "ipython3",
   "version": "3.8.5-final"
  },
  "orig_nbformat": 2,
  "kernelspec": {
   "name": "python3",
   "display_name": "Python 3.8.5 64-bit (conda)",
   "metadata": {
    "interpreter": {
     "hash": "b3ba2566441a7c06988d0923437866b63cedc61552a5af99d1f4fb67d367b25f"
    }
   }
  }
 },
 "nbformat": 4,
 "nbformat_minor": 2,
 "cells": [
  {
   "cell_type": "code",
   "execution_count": 1,
   "metadata": {},
   "outputs": [],
   "source": [
    "from bs4 import BeautifulSoup\n",
    "import requests\n",
    "import pandas as pd"
   ]
  },
  {
   "cell_type": "code",
   "execution_count": 20,
   "metadata": {},
   "outputs": [],
   "source": [
    "url = \"https://www.melon.com/chart/week/index.htm\"\n",
    "res = requests.get(url, headers = {'User-Agent':'Mozilla/5.0'})\n",
    "raw = res.text\n",
    "soup = BeautifulSoup(raw,'html.parser')"
   ]
  },
  {
   "cell_type": "code",
   "execution_count": 8,
   "metadata": {},
   "outputs": [
    {
     "output_type": "execute_result",
     "data": {
      "text/plain": [
       "bs4.BeautifulSoup"
      ]
     },
     "metadata": {},
     "execution_count": 8
    }
   ],
   "source": [
    "type(soup)"
   ]
  },
  {
   "cell_type": "code",
   "execution_count": 18,
   "metadata": {},
   "outputs": [
    {
     "output_type": "execute_result",
     "data": {
      "text/plain": [
       "'2020.11.09 ~ 2020.11.15'"
      ]
     },
     "metadata": {},
     "execution_count": 18
    }
   ],
   "source": [
    "date = soup.select_one('span.yyyymmdd')\n",
    "date = date.text.strip('\\n\\t\\r')\n",
    "date"
   ]
  },
  {
   "cell_type": "code",
   "execution_count": 23,
   "metadata": {},
   "outputs": [
    {
     "output_type": "execute_result",
     "data": {
      "text/plain": [
       "('2020.11.09', '2020.11.15')"
      ]
     },
     "metadata": {},
     "execution_count": 23
    }
   ],
   "source": [
    "startday = date[:10]\n",
    "endday = date[13:]\n",
    "startday, endday"
   ]
  },
  {
   "cell_type": "code",
   "execution_count": 72,
   "metadata": {},
   "outputs": [
    {
     "output_type": "execute_result",
     "data": {
      "text/plain": [
       "100"
      ]
     },
     "metadata": {},
     "execution_count": 72
    }
   ],
   "source": [
    "service = soup.select_one('.service_list_song')\n",
    "tbody = service.select_one('tbody')\n",
    "trs = tbody.select('tr')\n",
    "len(trs)"
   ]
  },
  {
   "cell_type": "code",
   "execution_count": 113,
   "metadata": {},
   "outputs": [
    {
     "output_type": "stream",
     "name": "stdout",
     "text": [
      "0\n1\n1\n신규진입\n"
     ]
    }
   ],
   "source": [
    "for i in [0,1,2,19]:\n",
    "    entry = trs[i].select_one('.rank_wrap')\n",
    "    spans = entry.find_all('span')\n",
    "    # 신규 진입이면 2, 저번주에 있었으면 3\n",
    "    if len(spans) == 3:\n",
    "        print(spans[2].text)\n",
    "        if diff != 0:\n",
    "            # class태그의 값도 꺼내는군. 처음본다\n",
    "            sign = spans[2].attrs['class']\n",
    "            if sign[0] == 'down':\n",
    "                diff *= -1\n",
    "    else: \n",
    "        print('신규진입')"
   ]
  },
  {
   "cell_type": "code",
   "execution_count": 152,
   "metadata": {},
   "outputs": [
    {
     "output_type": "stream",
     "name": "stdout",
     "text": [
      "\nDynamite\n\n방탄소년단\n\nDynamite (DayTime Version)\n\n"
     ]
    }
   ],
   "source": [
    "print(trs[0].select('.ellipsis')[0].text)\n",
    "print(trs[0].select('.ellipsis')[1].select_one('a').text)\n",
    "print(trs[0].select('.ellipsis')[2].text)"
   ]
  },
  {
   "cell_type": "code",
   "execution_count": 212,
   "metadata": {},
   "outputs": [],
   "source": [
    "ranks = [] ; updowns = [] ; nums = [] ; titles = [] ; singers = [] ; albums = [] \n",
    "\n",
    "for tr in trs:\n",
    "    rank = tr.select_one('span.rank').text\n",
    "    # print(rank)\n",
    "    updown = tr.select_one('.rank_wrap').text.strip('\\n\\t\\r')[3:5]\n",
    "    num = tr.select_one('.rank_wrap').text.strip('\\n\\t\\r')[6:]\n",
    "\n",
    "    \n",
    "    title = tr.select('.ellipsis')[0].text.strip(' \\n\\t\\r')\n",
    "    singer = tr.select('.ellipsis')[1].select_one('a').text.strip(' \\n\\t\\r')\n",
    "    album = tr.select('.ellipsis')[2].text.strip(' \\n\\t\\r')\n",
    "    # cnt = tr.select_one('span.cnt > span')\n",
    "    # 이거 왜 숫자가 안 들어오지?\n",
    "    # => 동적인가봐, beautifulsoup으로는 못가져와\n",
    "    # 나중에 selenium에서 xmlpath로 가져와야 함\n",
    "\n",
    "    ranks.append(rank)\n",
    "    updowns.append(updown)\n",
    "    nums.append(num)\n",
    "    titles.append(title)\n",
    "    singers.append(singer)\n",
    "    albums.append(album)\n",
    "\n",
    "\n",
    "\n",
    "\n",
    "    # print(title,singer,album,'\\n',cnt)\n",
    "    "
   ]
  },
  {
   "cell_type": "code",
   "execution_count": 238,
   "metadata": {},
   "outputs": [
    {
     "output_type": "stream",
     "name": "stdout",
     "text": [
      "\t\t\t\t\t2020.11.09 ~ 2020.11.15\n"
     ]
    },
    {
     "output_type": "execute_result",
     "data": {
      "text/plain": [
       "    전주대비 변동                     제목              가수                          앨범\n",
       "순위                                                                            \n",
       "1     동일  0               Dynamite           방탄소년단  Dynamite (DayTime Version)\n",
       "2     상승  1           힘든 건 사랑이 아니다             임창정                힘든 건 사랑이 아니다\n",
       "3     하락  1         Lovesick Girls       BLACKPINK                   THE ALBUM\n",
       "4     상승  1  취기를 빌려 (취향저격 그녀 X 산들)              산들       취기를 빌려 (취향저격 그녀 X 산들)\n",
       "5     하락  1         DON'T TOUCH ME           환불원정대              DON'T TOUCH ME\n",
       "..   ... ..                    ...             ...                         ...\n",
       "96    하락  4             화려하지 않은 고백    규현 (KYUHYUN)        슬기로운 의사생활 OST Part 4\n",
       "97    진입                      MAGO  여자친구 (GFRIEND)           回:Walpurgis Night\n",
       "98    하락  3                   행복하니     케이시 (Kassy)                       추(秋)억\n",
       "99    진입       My Love (Duet Ver.)             이승철                         이승철\n",
       "100   진입     너의 하루 (바른연애 길잡이 X 로꼬)              로꼬       너의 하루 (바른연애 길잡이 X 로꼬)\n",
       "\n",
       "[100 rows x 5 columns]"
      ],
      "text/html": "<div>\n<style scoped>\n    .dataframe tbody tr th:only-of-type {\n        vertical-align: middle;\n    }\n\n    .dataframe tbody tr th {\n        vertical-align: top;\n    }\n\n    .dataframe thead th {\n        text-align: right;\n    }\n</style>\n<table border=\"1\" class=\"dataframe\">\n  <thead>\n    <tr style=\"text-align: right;\">\n      <th></th>\n      <th>전주대비</th>\n      <th>변동</th>\n      <th>제목</th>\n      <th>가수</th>\n      <th>앨범</th>\n    </tr>\n    <tr>\n      <th>순위</th>\n      <th></th>\n      <th></th>\n      <th></th>\n      <th></th>\n      <th></th>\n    </tr>\n  </thead>\n  <tbody>\n    <tr>\n      <th>1</th>\n      <td>동일</td>\n      <td>0</td>\n      <td>Dynamite</td>\n      <td>방탄소년단</td>\n      <td>Dynamite (DayTime Version)</td>\n    </tr>\n    <tr>\n      <th>2</th>\n      <td>상승</td>\n      <td>1</td>\n      <td>힘든 건 사랑이 아니다</td>\n      <td>임창정</td>\n      <td>힘든 건 사랑이 아니다</td>\n    </tr>\n    <tr>\n      <th>3</th>\n      <td>하락</td>\n      <td>1</td>\n      <td>Lovesick Girls</td>\n      <td>BLACKPINK</td>\n      <td>THE ALBUM</td>\n    </tr>\n    <tr>\n      <th>4</th>\n      <td>상승</td>\n      <td>1</td>\n      <td>취기를 빌려 (취향저격 그녀 X 산들)</td>\n      <td>산들</td>\n      <td>취기를 빌려 (취향저격 그녀 X 산들)</td>\n    </tr>\n    <tr>\n      <th>5</th>\n      <td>하락</td>\n      <td>1</td>\n      <td>DON'T TOUCH ME</td>\n      <td>환불원정대</td>\n      <td>DON'T TOUCH ME</td>\n    </tr>\n    <tr>\n      <th>...</th>\n      <td>...</td>\n      <td>...</td>\n      <td>...</td>\n      <td>...</td>\n      <td>...</td>\n    </tr>\n    <tr>\n      <th>96</th>\n      <td>하락</td>\n      <td>4</td>\n      <td>화려하지 않은 고백</td>\n      <td>규현 (KYUHYUN)</td>\n      <td>슬기로운 의사생활 OST Part 4</td>\n    </tr>\n    <tr>\n      <th>97</th>\n      <td>진입</td>\n      <td></td>\n      <td>MAGO</td>\n      <td>여자친구 (GFRIEND)</td>\n      <td>回:Walpurgis Night</td>\n    </tr>\n    <tr>\n      <th>98</th>\n      <td>하락</td>\n      <td>3</td>\n      <td>행복하니</td>\n      <td>케이시 (Kassy)</td>\n      <td>추(秋)억</td>\n    </tr>\n    <tr>\n      <th>99</th>\n      <td>진입</td>\n      <td></td>\n      <td>My Love (Duet Ver.)</td>\n      <td>이승철</td>\n      <td>이승철</td>\n    </tr>\n    <tr>\n      <th>100</th>\n      <td>진입</td>\n      <td></td>\n      <td>너의 하루 (바른연애 길잡이 X 로꼬)</td>\n      <td>로꼬</td>\n      <td>너의 하루 (바른연애 길잡이 X 로꼬)</td>\n    </tr>\n  </tbody>\n</table>\n<p>100 rows × 5 columns</p>\n</div>"
     },
     "metadata": {},
     "execution_count": 238
    }
   ],
   "source": [
    "top100 = pd.DataFrame({\n",
    "    '순위': ranks,\n",
    "    '전주대비': updowns,\n",
    "    '변동': nums,\n",
    "    '제목': titles,\n",
    "    '가수': singers,\n",
    "    '앨범': albums\n",
    "})\n",
    "top100.set_index('순위',inplace=True)\n",
    "print(f'\\t\\t\\t\\t\\t{startday} ~ {endday}')\n",
    "top100"
   ]
  },
  {
   "cell_type": "code",
   "execution_count": 228,
   "metadata": {},
   "outputs": [
    {
     "output_type": "execute_result",
     "data": {
      "text/plain": [
       "전주대비                       동일   상승   진입   하락\n",
       "제목                                          \n",
       "12:45 (Stripped)          NaN  NaN  NaN    1\n",
       "2002                        0  NaN  NaN  NaN\n",
       "AYA                       NaN   28  NaN  NaN\n",
       "Bad Boy                   NaN  NaN  NaN    2\n",
       "Blueming                  NaN  NaN  NaN    2\n",
       "...                       ...  ...  ...  ...\n",
       "행복해                       NaN    8  NaN  NaN\n",
       "홀로                        NaN  NaN  NaN    2\n",
       "화려하지 않은 고백                NaN  NaN  NaN    4\n",
       "흔들리는 꽃들 속에서 네 샴푸향이 느껴진거야  NaN    4  NaN  NaN\n",
       "힘든 건 사랑이 아니다              NaN    1  NaN  NaN\n",
       "\n",
       "[100 rows x 4 columns]"
      ],
      "text/html": "<div>\n<style scoped>\n    .dataframe tbody tr th:only-of-type {\n        vertical-align: middle;\n    }\n\n    .dataframe tbody tr th {\n        vertical-align: top;\n    }\n\n    .dataframe thead th {\n        text-align: right;\n    }\n</style>\n<table border=\"1\" class=\"dataframe\">\n  <thead>\n    <tr style=\"text-align: right;\">\n      <th>전주대비</th>\n      <th>동일</th>\n      <th>상승</th>\n      <th>진입</th>\n      <th>하락</th>\n    </tr>\n    <tr>\n      <th>제목</th>\n      <th></th>\n      <th></th>\n      <th></th>\n      <th></th>\n    </tr>\n  </thead>\n  <tbody>\n    <tr>\n      <th>12:45 (Stripped)</th>\n      <td>NaN</td>\n      <td>NaN</td>\n      <td>NaN</td>\n      <td>1</td>\n    </tr>\n    <tr>\n      <th>2002</th>\n      <td>0</td>\n      <td>NaN</td>\n      <td>NaN</td>\n      <td>NaN</td>\n    </tr>\n    <tr>\n      <th>AYA</th>\n      <td>NaN</td>\n      <td>28</td>\n      <td>NaN</td>\n      <td>NaN</td>\n    </tr>\n    <tr>\n      <th>Bad Boy</th>\n      <td>NaN</td>\n      <td>NaN</td>\n      <td>NaN</td>\n      <td>2</td>\n    </tr>\n    <tr>\n      <th>Blueming</th>\n      <td>NaN</td>\n      <td>NaN</td>\n      <td>NaN</td>\n      <td>2</td>\n    </tr>\n    <tr>\n      <th>...</th>\n      <td>...</td>\n      <td>...</td>\n      <td>...</td>\n      <td>...</td>\n    </tr>\n    <tr>\n      <th>행복해</th>\n      <td>NaN</td>\n      <td>8</td>\n      <td>NaN</td>\n      <td>NaN</td>\n    </tr>\n    <tr>\n      <th>홀로</th>\n      <td>NaN</td>\n      <td>NaN</td>\n      <td>NaN</td>\n      <td>2</td>\n    </tr>\n    <tr>\n      <th>화려하지 않은 고백</th>\n      <td>NaN</td>\n      <td>NaN</td>\n      <td>NaN</td>\n      <td>4</td>\n    </tr>\n    <tr>\n      <th>흔들리는 꽃들 속에서 네 샴푸향이 느껴진거야</th>\n      <td>NaN</td>\n      <td>4</td>\n      <td>NaN</td>\n      <td>NaN</td>\n    </tr>\n    <tr>\n      <th>힘든 건 사랑이 아니다</th>\n      <td>NaN</td>\n      <td>1</td>\n      <td>NaN</td>\n      <td>NaN</td>\n    </tr>\n  </tbody>\n</table>\n<p>100 rows × 4 columns</p>\n</div>"
     },
     "metadata": {},
     "execution_count": 228
    }
   ],
   "source": [
    "fluctuation = top100.pivot('제목','전주대비','변동')\n",
    "fluctuation"
   ]
  },
  {
   "cell_type": "code",
   "execution_count": 229,
   "metadata": {},
   "outputs": [
    {
     "output_type": "execute_result",
     "data": {
      "text/plain": [
       "nan"
      ]
     },
     "metadata": {},
     "execution_count": 229
    }
   ],
   "source": [
    "fluctuation['동일'][0]"
   ]
  },
  {
   "cell_type": "code",
   "execution_count": 230,
   "metadata": {},
   "outputs": [
    {
     "output_type": "execute_result",
     "data": {
      "text/plain": [
       "전주대비                      동일\n",
       "제목                          \n",
       "2002                       0\n",
       "Dolphin                    0\n",
       "Dynamite                   0\n",
       "How You Like That          0\n",
       "너를 만나                      0\n",
       "늦은 밤 너의 집 앞 골목길에서          0\n",
       "봄날                         0\n",
       "사랑이란 멜로는 없어                0\n",
       "시든 꽃에 물을 주듯                0\n",
       "아무노래                       0\n",
       "안녕                         0\n",
       "어떻게 이별까지 사랑하겠어, 널 사랑하는 거지  0\n",
       "오래된 노래                     0\n",
       "우리 왜 헤어져야 해                0\n",
       "잠이 오질 않네요                  0\n",
       "첫 줄                        0"
      ],
      "text/html": "<div>\n<style scoped>\n    .dataframe tbody tr th:only-of-type {\n        vertical-align: middle;\n    }\n\n    .dataframe tbody tr th {\n        vertical-align: top;\n    }\n\n    .dataframe thead th {\n        text-align: right;\n    }\n</style>\n<table border=\"1\" class=\"dataframe\">\n  <thead>\n    <tr style=\"text-align: right;\">\n      <th>전주대비</th>\n      <th>동일</th>\n    </tr>\n    <tr>\n      <th>제목</th>\n      <th></th>\n    </tr>\n  </thead>\n  <tbody>\n    <tr>\n      <th>2002</th>\n      <td>0</td>\n    </tr>\n    <tr>\n      <th>Dolphin</th>\n      <td>0</td>\n    </tr>\n    <tr>\n      <th>Dynamite</th>\n      <td>0</td>\n    </tr>\n    <tr>\n      <th>How You Like That</th>\n      <td>0</td>\n    </tr>\n    <tr>\n      <th>너를 만나</th>\n      <td>0</td>\n    </tr>\n    <tr>\n      <th>늦은 밤 너의 집 앞 골목길에서</th>\n      <td>0</td>\n    </tr>\n    <tr>\n      <th>봄날</th>\n      <td>0</td>\n    </tr>\n    <tr>\n      <th>사랑이란 멜로는 없어</th>\n      <td>0</td>\n    </tr>\n    <tr>\n      <th>시든 꽃에 물을 주듯</th>\n      <td>0</td>\n    </tr>\n    <tr>\n      <th>아무노래</th>\n      <td>0</td>\n    </tr>\n    <tr>\n      <th>안녕</th>\n      <td>0</td>\n    </tr>\n    <tr>\n      <th>어떻게 이별까지 사랑하겠어, 널 사랑하는 거지</th>\n      <td>0</td>\n    </tr>\n    <tr>\n      <th>오래된 노래</th>\n      <td>0</td>\n    </tr>\n    <tr>\n      <th>우리 왜 헤어져야 해</th>\n      <td>0</td>\n    </tr>\n    <tr>\n      <th>잠이 오질 않네요</th>\n      <td>0</td>\n    </tr>\n    <tr>\n      <th>첫 줄</th>\n      <td>0</td>\n    </tr>\n  </tbody>\n</table>\n</div>"
     },
     "metadata": {},
     "execution_count": 230
    }
   ],
   "source": [
    "import numpy as np\n",
    "fluctuation[fluctuation['동일'].notnull()][['동일']]"
   ]
  },
  {
   "cell_type": "code",
   "execution_count": 245,
   "metadata": {},
   "outputs": [
    {
     "output_type": "execute_result",
     "data": {
      "text/plain": [
       "전주대비                                      상승\n",
       "제목                                          \n",
       "도망가                                        8\n",
       "행복해                                        8\n",
       "별을 담은 시 (Ode To The Stars)                 7\n",
       "HIP                                        4\n",
       "흔들리는 꽃들 속에서 네 샴푸향이 느껴진거야                   4\n",
       "나랑 같이 걸을래 (바른연애 길잡이 X 적재)                  4\n",
       "이제 나만 믿어요                                  3\n",
       "METEOR                                     3\n",
       "딩가딩가 (Dingga)                              3\n",
       "Dancing Cartoon                            3\n",
       "축하해 (Prod. By VAN.C)                       3\n",
       "AYA                                       28\n",
       "I CAN’T STOP ME                            2\n",
       "사실 나는 (Feat.전건호)                          18\n",
       "소확행                                       10\n",
       "에잇(Prod.&Feat. SUGA of BTS)                1\n",
       "오늘도 빛나는 너에게 (To You My Light) (Feat.이라온)   1\n",
       "서면역에서                                      1\n",
       "취기를 빌려 (취향저격 그녀 X 산들)                      1\n",
       "모든 날, 모든 순간 (Every day, Every Moment)      1\n",
       "거짓말이라도 해서 널 보고싶어                           1\n",
       "힘든 건 사랑이 아니다                               1"
      ],
      "text/html": "<div>\n<style scoped>\n    .dataframe tbody tr th:only-of-type {\n        vertical-align: middle;\n    }\n\n    .dataframe tbody tr th {\n        vertical-align: top;\n    }\n\n    .dataframe thead th {\n        text-align: right;\n    }\n</style>\n<table border=\"1\" class=\"dataframe\">\n  <thead>\n    <tr style=\"text-align: right;\">\n      <th>전주대비</th>\n      <th>상승</th>\n    </tr>\n    <tr>\n      <th>제목</th>\n      <th></th>\n    </tr>\n  </thead>\n  <tbody>\n    <tr>\n      <th>도망가</th>\n      <td>8</td>\n    </tr>\n    <tr>\n      <th>행복해</th>\n      <td>8</td>\n    </tr>\n    <tr>\n      <th>별을 담은 시 (Ode To The Stars)</th>\n      <td>7</td>\n    </tr>\n    <tr>\n      <th>HIP</th>\n      <td>4</td>\n    </tr>\n    <tr>\n      <th>흔들리는 꽃들 속에서 네 샴푸향이 느껴진거야</th>\n      <td>4</td>\n    </tr>\n    <tr>\n      <th>나랑 같이 걸을래 (바른연애 길잡이 X 적재)</th>\n      <td>4</td>\n    </tr>\n    <tr>\n      <th>이제 나만 믿어요</th>\n      <td>3</td>\n    </tr>\n    <tr>\n      <th>METEOR</th>\n      <td>3</td>\n    </tr>\n    <tr>\n      <th>딩가딩가 (Dingga)</th>\n      <td>3</td>\n    </tr>\n    <tr>\n      <th>Dancing Cartoon</th>\n      <td>3</td>\n    </tr>\n    <tr>\n      <th>축하해 (Prod. By VAN.C)</th>\n      <td>3</td>\n    </tr>\n    <tr>\n      <th>AYA</th>\n      <td>28</td>\n    </tr>\n    <tr>\n      <th>I CAN’T STOP ME</th>\n      <td>2</td>\n    </tr>\n    <tr>\n      <th>사실 나는 (Feat.전건호)</th>\n      <td>18</td>\n    </tr>\n    <tr>\n      <th>소확행</th>\n      <td>10</td>\n    </tr>\n    <tr>\n      <th>에잇(Prod.&amp;Feat. SUGA of BTS)</th>\n      <td>1</td>\n    </tr>\n    <tr>\n      <th>오늘도 빛나는 너에게 (To You My Light) (Feat.이라온)</th>\n      <td>1</td>\n    </tr>\n    <tr>\n      <th>서면역에서</th>\n      <td>1</td>\n    </tr>\n    <tr>\n      <th>취기를 빌려 (취향저격 그녀 X 산들)</th>\n      <td>1</td>\n    </tr>\n    <tr>\n      <th>모든 날, 모든 순간 (Every day, Every Moment)</th>\n      <td>1</td>\n    </tr>\n    <tr>\n      <th>거짓말이라도 해서 널 보고싶어</th>\n      <td>1</td>\n    </tr>\n    <tr>\n      <th>힘든 건 사랑이 아니다</th>\n      <td>1</td>\n    </tr>\n  </tbody>\n</table>\n</div>"
     },
     "metadata": {},
     "execution_count": 245
    }
   ],
   "source": [
    "up = fluctuation[fluctuation['상승'].notnull()][['상승']]\n",
    "up.sort_values(by='상승', ascending = False)"
   ]
  },
  {
   "cell_type": "code",
   "execution_count": 232,
   "metadata": {},
   "outputs": [
    {
     "output_type": "execute_result",
     "data": {
      "text/plain": [
       "전주대비                                          하락\n",
       "제목                                              \n",
       "12:45 (Stripped)                               1\n",
       "Bad Boy                                        2\n",
       "Blueming                                       2\n",
       "DON'T TOUCH ME                                 1\n",
       "Dance Monkey                                   2\n",
       "Don't Start Now                                3\n",
       "Downtown Baby                                  3\n",
       "Ice Cream (with Selena Gomez)                  8\n",
       "Into the I-LAND                                4\n",
       "Love poem                                      4\n",
       "Lovesick Girls                                 1\n",
       "Maniac                                         5\n",
       "Memories                                       1\n",
       "Not Shy                                       11\n",
       "ON                                             7\n",
       "Painkiller                                     3\n",
       "Paris In The Rain                              5\n",
       "Pretty Savage                                  1\n",
       "Psycho                                         4\n",
       "Savage Love (Laxed - Siren Beat) (BTS Remix)   1\n",
       "Stuck with U                                   2\n",
       "Summer Hate (Feat. 비)                          7\n",
       "When We Disco (Duet with 선미)                   1\n",
       "bad guy                                        3\n",
       "가을 타나 봐                                        8\n",
       "그때 그 아인                                        4\n",
       "나비와 고양이 (feat.백현 (BAEKHYUN))                   4\n",
       "내 마음이 움찔했던 순간 (취향저격 그녀 X 규현)                   1\n",
       "너도 아는                                          3\n",
       "너의 곁에만 맴돌아                                    16\n",
       "놓아줘 (with 태연)                                  5\n",
       "눈누난나 (NUNU NANA)                               1\n",
       "다시 여기 바닷가                                      6\n",
       "덤디덤디 (DUMDi DUMDi)                             1\n",
       "마리아 (Maria)                                    1\n",
       "마음을 드려요                                        1\n",
       "반만                                             2\n",
       "밤새 (취향저격 그녀 X 카더가든)                            3\n",
       "밤하늘의 저 별처럼                                     4\n",
       "보라빛 밤 (pporappippam)                           9\n",
       "사랑 못해, 남들 쉽게 다 하는 거                            1\n",
       "사랑은 지날수록 더욱 선명하게 남아                            2\n",
       "사랑하게 될 줄 알았어                                   4\n",
       "사랑하고 싶지 않아 (바른연애 길잡이 X XIA (준수))               4\n",
       "살짝 설렜어 (Nonstop)                               2\n",
       "시작                                             2\n",
       "아로하                                            2\n",
       "어떻게 지내 (Prod. By VAN.C)                        1\n",
       "작은 것들을 위한 시 (Boy With Luv) (Feat. Halsey)      1\n",
       "잠이 들어야 (Feat. 헤이즈)                            11\n",
       "좋은 사람 있으면 소개시켜줘                                6\n",
       "처음처럼                                           1\n",
       "취했나봐                                           3\n",
       "하루도 그대를 사랑하지 않은 적이 없었다                         3\n",
       "행복하니                                           3\n",
       "홀로                                             2\n",
       "화려하지 않은 고백                                     4"
      ],
      "text/html": "<div>\n<style scoped>\n    .dataframe tbody tr th:only-of-type {\n        vertical-align: middle;\n    }\n\n    .dataframe tbody tr th {\n        vertical-align: top;\n    }\n\n    .dataframe thead th {\n        text-align: right;\n    }\n</style>\n<table border=\"1\" class=\"dataframe\">\n  <thead>\n    <tr style=\"text-align: right;\">\n      <th>전주대비</th>\n      <th>하락</th>\n    </tr>\n    <tr>\n      <th>제목</th>\n      <th></th>\n    </tr>\n  </thead>\n  <tbody>\n    <tr>\n      <th>12:45 (Stripped)</th>\n      <td>1</td>\n    </tr>\n    <tr>\n      <th>Bad Boy</th>\n      <td>2</td>\n    </tr>\n    <tr>\n      <th>Blueming</th>\n      <td>2</td>\n    </tr>\n    <tr>\n      <th>DON'T TOUCH ME</th>\n      <td>1</td>\n    </tr>\n    <tr>\n      <th>Dance Monkey</th>\n      <td>2</td>\n    </tr>\n    <tr>\n      <th>Don't Start Now</th>\n      <td>3</td>\n    </tr>\n    <tr>\n      <th>Downtown Baby</th>\n      <td>3</td>\n    </tr>\n    <tr>\n      <th>Ice Cream (with Selena Gomez)</th>\n      <td>8</td>\n    </tr>\n    <tr>\n      <th>Into the I-LAND</th>\n      <td>4</td>\n    </tr>\n    <tr>\n      <th>Love poem</th>\n      <td>4</td>\n    </tr>\n    <tr>\n      <th>Lovesick Girls</th>\n      <td>1</td>\n    </tr>\n    <tr>\n      <th>Maniac</th>\n      <td>5</td>\n    </tr>\n    <tr>\n      <th>Memories</th>\n      <td>1</td>\n    </tr>\n    <tr>\n      <th>Not Shy</th>\n      <td>11</td>\n    </tr>\n    <tr>\n      <th>ON</th>\n      <td>7</td>\n    </tr>\n    <tr>\n      <th>Painkiller</th>\n      <td>3</td>\n    </tr>\n    <tr>\n      <th>Paris In The Rain</th>\n      <td>5</td>\n    </tr>\n    <tr>\n      <th>Pretty Savage</th>\n      <td>1</td>\n    </tr>\n    <tr>\n      <th>Psycho</th>\n      <td>4</td>\n    </tr>\n    <tr>\n      <th>Savage Love (Laxed - Siren Beat) (BTS Remix)</th>\n      <td>1</td>\n    </tr>\n    <tr>\n      <th>Stuck with U</th>\n      <td>2</td>\n    </tr>\n    <tr>\n      <th>Summer Hate (Feat. 비)</th>\n      <td>7</td>\n    </tr>\n    <tr>\n      <th>When We Disco (Duet with 선미)</th>\n      <td>1</td>\n    </tr>\n    <tr>\n      <th>bad guy</th>\n      <td>3</td>\n    </tr>\n    <tr>\n      <th>가을 타나 봐</th>\n      <td>8</td>\n    </tr>\n    <tr>\n      <th>그때 그 아인</th>\n      <td>4</td>\n    </tr>\n    <tr>\n      <th>나비와 고양이 (feat.백현 (BAEKHYUN))</th>\n      <td>4</td>\n    </tr>\n    <tr>\n      <th>내 마음이 움찔했던 순간 (취향저격 그녀 X 규현)</th>\n      <td>1</td>\n    </tr>\n    <tr>\n      <th>너도 아는</th>\n      <td>3</td>\n    </tr>\n    <tr>\n      <th>너의 곁에만 맴돌아</th>\n      <td>16</td>\n    </tr>\n    <tr>\n      <th>놓아줘 (with 태연)</th>\n      <td>5</td>\n    </tr>\n    <tr>\n      <th>눈누난나 (NUNU NANA)</th>\n      <td>1</td>\n    </tr>\n    <tr>\n      <th>다시 여기 바닷가</th>\n      <td>6</td>\n    </tr>\n    <tr>\n      <th>덤디덤디 (DUMDi DUMDi)</th>\n      <td>1</td>\n    </tr>\n    <tr>\n      <th>마리아 (Maria)</th>\n      <td>1</td>\n    </tr>\n    <tr>\n      <th>마음을 드려요</th>\n      <td>1</td>\n    </tr>\n    <tr>\n      <th>반만</th>\n      <td>2</td>\n    </tr>\n    <tr>\n      <th>밤새 (취향저격 그녀 X 카더가든)</th>\n      <td>3</td>\n    </tr>\n    <tr>\n      <th>밤하늘의 저 별처럼</th>\n      <td>4</td>\n    </tr>\n    <tr>\n      <th>보라빛 밤 (pporappippam)</th>\n      <td>9</td>\n    </tr>\n    <tr>\n      <th>사랑 못해, 남들 쉽게 다 하는 거</th>\n      <td>1</td>\n    </tr>\n    <tr>\n      <th>사랑은 지날수록 더욱 선명하게 남아</th>\n      <td>2</td>\n    </tr>\n    <tr>\n      <th>사랑하게 될 줄 알았어</th>\n      <td>4</td>\n    </tr>\n    <tr>\n      <th>사랑하고 싶지 않아 (바른연애 길잡이 X XIA (준수))</th>\n      <td>4</td>\n    </tr>\n    <tr>\n      <th>살짝 설렜어 (Nonstop)</th>\n      <td>2</td>\n    </tr>\n    <tr>\n      <th>시작</th>\n      <td>2</td>\n    </tr>\n    <tr>\n      <th>아로하</th>\n      <td>2</td>\n    </tr>\n    <tr>\n      <th>어떻게 지내 (Prod. By VAN.C)</th>\n      <td>1</td>\n    </tr>\n    <tr>\n      <th>작은 것들을 위한 시 (Boy With Luv) (Feat. Halsey)</th>\n      <td>1</td>\n    </tr>\n    <tr>\n      <th>잠이 들어야 (Feat. 헤이즈)</th>\n      <td>11</td>\n    </tr>\n    <tr>\n      <th>좋은 사람 있으면 소개시켜줘</th>\n      <td>6</td>\n    </tr>\n    <tr>\n      <th>처음처럼</th>\n      <td>1</td>\n    </tr>\n    <tr>\n      <th>취했나봐</th>\n      <td>3</td>\n    </tr>\n    <tr>\n      <th>하루도 그대를 사랑하지 않은 적이 없었다</th>\n      <td>3</td>\n    </tr>\n    <tr>\n      <th>행복하니</th>\n      <td>3</td>\n    </tr>\n    <tr>\n      <th>홀로</th>\n      <td>2</td>\n    </tr>\n    <tr>\n      <th>화려하지 않은 고백</th>\n      <td>4</td>\n    </tr>\n  </tbody>\n</table>\n</div>"
     },
     "metadata": {},
     "execution_count": 232
    }
   ],
   "source": [
    "fluctuation[fluctuation['하락'].notnull()][['하락']]"
   ]
  },
  {
   "cell_type": "code",
   "execution_count": 233,
   "metadata": {},
   "outputs": [
    {
     "output_type": "execute_result",
     "data": {
      "text/plain": [
       "전주대비                  진입\n",
       "제목                      \n",
       "MAGO                    \n",
       "My Love (Duet Ver.)     \n",
       "가을밤에 든 생각               \n",
       "너의 하루 (바른연애 길잡이 X 로꼬)   \n",
       "니 이름 불렀나 봐              "
      ],
      "text/html": "<div>\n<style scoped>\n    .dataframe tbody tr th:only-of-type {\n        vertical-align: middle;\n    }\n\n    .dataframe tbody tr th {\n        vertical-align: top;\n    }\n\n    .dataframe thead th {\n        text-align: right;\n    }\n</style>\n<table border=\"1\" class=\"dataframe\">\n  <thead>\n    <tr style=\"text-align: right;\">\n      <th>전주대비</th>\n      <th>진입</th>\n    </tr>\n    <tr>\n      <th>제목</th>\n      <th></th>\n    </tr>\n  </thead>\n  <tbody>\n    <tr>\n      <th>MAGO</th>\n      <td></td>\n    </tr>\n    <tr>\n      <th>My Love (Duet Ver.)</th>\n      <td></td>\n    </tr>\n    <tr>\n      <th>가을밤에 든 생각</th>\n      <td></td>\n    </tr>\n    <tr>\n      <th>너의 하루 (바른연애 길잡이 X 로꼬)</th>\n      <td></td>\n    </tr>\n    <tr>\n      <th>니 이름 불렀나 봐</th>\n      <td></td>\n    </tr>\n  </tbody>\n</table>\n</div>"
     },
     "metadata": {},
     "execution_count": 233
    }
   ],
   "source": [
    "fluctuation[fluctuation['진입'].notnull()][['진입']]"
   ]
  },
  {
   "cell_type": "code",
   "execution_count": null,
   "metadata": {},
   "outputs": [],
   "source": []
  }
 ]
}