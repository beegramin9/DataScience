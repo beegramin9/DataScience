{
 "metadata": {
  "language_info": {
   "codemirror_mode": {
    "name": "ipython",
    "version": 3
   },
   "file_extension": ".py",
   "mimetype": "text/x-python",
   "name": "python",
   "nbconvert_exporter": "python",
   "pygments_lexer": "ipython3",
   "version": "3.8.5-final"
  },
  "orig_nbformat": 2,
  "kernelspec": {
   "name": "python3",
   "display_name": "Python 3.8.5 64-bit (conda)",
   "metadata": {
    "interpreter": {
     "hash": "b3ba2566441a7c06988d0923437866b63cedc61552a5af99d1f4fb67d367b25f"
    }
   }
  }
 },
 "nbformat": 4,
 "nbformat_minor": 2,
 "cells": [
  {
   "source": [
    "# BeautifulSoup Crawling"
   ],
   "cell_type": "markdown",
   "metadata": {}
  },
  {
   "cell_type": "code",
   "execution_count": 1,
   "metadata": {},
   "outputs": [],
   "source": [
    "from bs4 import BeautifulSoup"
   ]
  },
  {
   "cell_type": "code",
   "execution_count": 141,
   "metadata": {},
   "outputs": [],
   "source": [
    "with open('00_example.html','r',encoding='utf8') as f:\n",
    "    soup = BeautifulSoup(f, 'html.parser')"
   ]
  },
  {
   "cell_type": "code",
   "execution_count": 142,
   "metadata": {},
   "outputs": [
    {
     "output_type": "execute_result",
     "data": {
      "text/plain": [
       "[<p>a</p>,\n",
       " <p>b</p>,\n",
       " <p>c</p>,\n",
       " <p>1</p>,\n",
       " <p>2</p>,\n",
       " <p>3</p>,\n",
       " <p>X</p>,\n",
       " <p>Y</p>,\n",
       " <p>Z</p>,\n",
       " <p>This is a paragraph.</p>,\n",
       " <p>This is another paragraph.</p>]"
      ]
     },
     "metadata": {},
     "execution_count": 142
    }
   ],
   "source": [
    "soup.select('p')"
   ]
  },
  {
   "source": [
    "- select(): 리턴값 리스트\n",
    "- select_one(): 원소개수가 하나일 때. string으로 만들려면 text로 써야 함"
   ],
   "cell_type": "markdown",
   "metadata": {}
  },
  {
   "cell_type": "code",
   "execution_count": 143,
   "metadata": {},
   "outputs": [
    {
     "output_type": "execute_result",
     "data": {
      "text/plain": [
       "[<div id=\"ex_id\">\n",
       " <p>X</p>\n",
       " <p>Y</p>\n",
       " <p>Z</p>\n",
       " </div>]"
      ]
     },
     "metadata": {},
     "execution_count": 143
    }
   ],
   "source": [
    "soup.select('#ex_id')"
   ]
  },
  {
   "cell_type": "code",
   "execution_count": 168,
   "metadata": {},
   "outputs": [
    {
     "output_type": "execute_result",
     "data": {
      "text/plain": [
       "'www.naver.com'"
      ]
     },
     "metadata": {},
     "execution_count": 168
    }
   ],
   "source": [
    "atag = soup.select_one('a') # select로 하면 리스트가 나와버리니까 안됐던 거임\n",
    "atag.attrs['href']"
   ]
  },
  {
   "source": [
    "- 인터넷에서 가져오기"
   ],
   "cell_type": "markdown",
   "metadata": {}
  },
  {
   "cell_type": "code",
   "execution_count": 144,
   "metadata": {},
   "outputs": [],
   "source": [
    "import requests\n",
    "url = \"http://200.1.220.217:3000/bbs/list/1\"\n",
    "res = requests.get(url)\n",
    "raw = res.text\n",
    "html = BeautifulSoup(raw,'html.parser')"
   ]
  },
  {
   "cell_type": "code",
   "execution_count": 170,
   "metadata": {},
   "outputs": [
    {
     "output_type": "execute_result",
     "data": {
      "text/plain": [
       "[<td class=\"col-1\" style=\"text-align: center;\"><strong>번호</strong></td>,\n",
       " <td class=\"col-6\" style=\"text-align: center;\"><strong>제목</strong></td>,\n",
       " <td class=\"col-2\" style=\"text-align: center;\"><strong>글쓴이</strong></td>,\n",
       " <td class=\"col-2\" style=\"text-align: center;\"><strong>날짜/시간</strong></td>,\n",
       " <td class=\"col-1\" style=\"text-align: center;\"><strong>조회수</strong></td>,\n",
       " <td class=\"col-1\" style=\"text-align: center;\">1013</td>,\n",
       " <td class=\"col-6\"><a href=\"/bbs/bid/1013/inc/1\"><strong>리눅스 글쓰기</strong></a></td>,\n",
       " <td class=\"col-2\" style=\"text-align: center;\">홍길동</td>,\n",
       " <td class=\"col-2\" style=\"text-align: center;\">2020-10-27</td>,\n",
       " <td class=\"col-1\" style=\"text-align: center;\">3</td>,\n",
       " <td class=\"col-1\" style=\"text-align: center;\">1012</td>,\n",
       " <td class=\"col-6\"><a href=\"/bbs/bid/1012/inc/1\"><strong>마이크로소프트 엣지에서의 동작<span class=\"text-danger\">[2]</span></strong></a></td>,\n",
       " <td class=\"col-2\" style=\"text-align: center;\">김은숙</td>,\n",
       " <td class=\"col-2\" style=\"text-align: center;\">2020-10-23</td>,\n",
       " <td class=\"col-1\" style=\"text-align: center;\">14</td>,\n",
       " <td class=\"col-1\" style=\"text-align: center;\">1011</td>,\n",
       " <td class=\"col-6\"><a href=\"/bbs/bid/1011/inc/1\"><strong>역적 - 백성을 훔친 도적<span class=\"text-danger\">[1]</span></strong></a></td>,\n",
       " <td class=\"col-2\" style=\"text-align: center;\">홍길동</td>,\n",
       " <td class=\"col-2\" style=\"text-align: center;\">2020-10-23</td>,\n",
       " <td class=\"col-1\" style=\"text-align: center;\">3</td>,\n",
       " <td class=\"col-1\" style=\"text-align: center;\">1010</td>,\n",
       " <td class=\"col-6\"><a href=\"/bbs/bid/1010/inc/1\"><strong>홍길동전</strong></a></td>,\n",
       " <td class=\"col-2\" style=\"text-align: center;\">홍길동</td>,\n",
       " <td class=\"col-2\" style=\"text-align: center;\">2020-10-23</td>,\n",
       " <td class=\"col-1\" style=\"text-align: center;\">3</td>,\n",
       " <td class=\"col-1\" style=\"text-align: center;\">1009</td>,\n",
       " <td class=\"col-6\"><a href=\"/bbs/bid/1009/inc/1\"><strong>대조영<span class=\"text-danger\">[2]</span></strong></a></td>,\n",
       " <td class=\"col-2\" style=\"text-align: center;\">대조영</td>,\n",
       " <td class=\"col-2\" style=\"text-align: center;\">2020-10-23</td>,\n",
       " <td class=\"col-1\" style=\"text-align: center;\">9</td>,\n",
       " <td class=\"col-1\" style=\"text-align: center;\">1008</td>,\n",
       " <td class=\"col-6\"><a href=\"/bbs/bid/1008/inc/1\"><strong>Linux server를 원격 Windows에서 접속하여 글쓰기<span class=\"text-danger\">[3]</span></strong></a></td>,\n",
       " <td class=\"col-2\" style=\"text-align: center;\">관리자</td>,\n",
       " <td class=\"col-2\" style=\"text-align: center;\">2020-10-23</td>,\n",
       " <td class=\"col-1\" style=\"text-align: center;\">7</td>,\n",
       " <td class=\"col-1\" style=\"text-align: center;\">1007</td>,\n",
       " <td class=\"col-6\"><a href=\"/bbs/bid/1007/inc/1\"><strong>ubuntu에서 글쓰기<span class=\"text-danger\">[1]</span></strong></a></td>,\n",
       " <td class=\"col-2\" style=\"text-align: center;\">관리자</td>,\n",
       " <td class=\"col-2\" style=\"text-align: center;\">2020-10-22</td>,\n",
       " <td class=\"col-1\" style=\"text-align: center;\">5</td>,\n",
       " <td class=\"col-1\" style=\"text-align: center;\">1006</td>,\n",
       " <td class=\"col-6\"><a href=\"/bbs/bid/1006/inc/1\"><strong>슬기로운 의사생활<span class=\"text-danger\">[3]</span></strong></a></td>,\n",
       " <td class=\"col-2\" style=\"text-align: center;\">이우정</td>,\n",
       " <td class=\"col-2\" style=\"text-align: center;\">2020-10-22</td>,\n",
       " <td class=\"col-1\" style=\"text-align: center;\">11</td>,\n",
       " <td class=\"col-1\" style=\"text-align: center;\">1005</td>,\n",
       " <td class=\"col-6\"><a href=\"/bbs/bid/1005/inc/1\"><strong>파리의 연인<span class=\"text-danger\">[4]</span></strong></a></td>,\n",
       " <td class=\"col-2\" style=\"text-align: center;\">김은숙</td>,\n",
       " <td class=\"col-2\" style=\"text-align: center;\">2020-10-22</td>,\n",
       " <td class=\"col-1\" style=\"text-align: center;\">8</td>,\n",
       " <td class=\"col-1\" style=\"text-align: center;\">1004</td>,\n",
       " <td class=\"col-6\"><a href=\"/bbs/bid/1004/inc/1\"><strong>시크릿 가든</strong></a></td>,\n",
       " <td class=\"col-2\" style=\"text-align: center;\">김은숙</td>,\n",
       " <td class=\"col-2\" style=\"text-align: center;\">2020-10-22</td>,\n",
       " <td class=\"col-1\" style=\"text-align: center;\">4</td>]"
      ]
     },
     "metadata": {},
     "execution_count": 170
    }
   ],
   "source": [
    "rows = html.select('tr.d-flex td')\n",
    "rows"
   ]
  },
  {
   "cell_type": "code",
   "execution_count": 200,
   "metadata": {},
   "outputs": [
    {
     "output_type": "stream",
     "name": "stdout",
     "text": [
      "1013\n리눅스 글쓰기\n홍길동\n2020-10-27\n3\n1012\n마이크로소프트 엣지에서의 동작[2]\n김은숙\n2020-10-23\n14\n1011\n역적 - 백성을 훔친 도적[1]\n홍길동\n2020-10-23\n3\n1010\n홍길동전\n홍길동\n2020-10-23\n3\n1009\n대조영[2]\n대조영\n2020-10-23\n9\n1008\nLinux server를 원격 Windows에서 접속하여 글쓰기[3]\n관리자\n2020-10-23\n7\n1007\nubuntu에서 글쓰기[1]\n관리자\n2020-10-22\n5\n1006\n슬기로운 의사생활[3]\n이우정\n2020-10-22\n11\n1005\n파리의 연인[4]\n김은숙\n2020-10-22\n8\n1004\n시크릿 가든\n김은숙\n2020-10-22\n4\n"
     ]
    }
   ],
   "source": [
    "for row in rows[5:]:\n",
    "    # if row == rows[0]:\n",
    "    #    continue 이렇게 하는것보다 위에서 rows[5:]를 조절하는 게 더 좋다.\n",
    "    print(row.text)"
   ]
  },
  {
   "source": [
    "### 데이터 프레임 만들기\n",
    "- 컬럼과 리스트로 이루어진 딕셔너리 만들기\n",
    "- Data Preprocessing이 중요한 이유"
   ],
   "cell_type": "markdown",
   "metadata": {}
  },
  {
   "cell_type": "code",
   "execution_count": 242,
   "metadata": {},
   "outputs": [],
   "source": [
    "bids = [] ; titles = []; replycounts = []; names = []; times =[]; view_counts=[]\n",
    "\n",
    "\n",
    "trs = html.select('tr')\n",
    "# print(trs)\n",
    "for tr in trs[1:]:\n",
    "    tds = tr.select('td') # 리스트로 나옴\n",
    "    # text이든 get_text()이든 다 됨\n",
    "    \n",
    "    bid = tds[0].text ; bids.append(bid)\n",
    "    \n",
    "    span = tds[1].select_one('span')\n",
    "    # 댓글수가 span태그 안에 들어가 있음\n",
    "    # 즉 span태그가 있으면 댓글이 있는거고 없으면 댓글이 없음\n",
    "\n",
    "    title = tds[1].text ; bracket = title.find('[')\n",
    "    title = tds[1].text[:bracket] if span else title\n",
    "    titles.append(title)\n",
    "\n",
    "    replycount = tds[1].select_one('span.text-danger')\n",
    "    replycount = 0 if replycount == None else replycount.text.strip('\\[\\]')\n",
    "    replycounts.append(replycount)\n",
    "\n",
    "    name = tds[2].get_text() ; names.append(name)\n",
    "    time = tds[3].text ; times.append(time)\n",
    "    view_count = tds[4].text ; view_counts.append(view_count)"
   ]
  },
  {
   "cell_type": "code",
   "execution_count": 244,
   "metadata": {},
   "outputs": [
    {
     "output_type": "execute_result",
     "data": {
      "text/plain": [
       "                                       제목 댓글 수  글쓴이       날짜/시간 조회수\n",
       "번호                                                                 \n",
       "1013                              리눅스 글쓰기    0  홍길동  2020-10-27   3\n",
       "1012                     마이크로소프트 엣지에서의 동작    2  김은숙  2020-10-23  14\n",
       "1011                       역적 - 백성을 훔친 도적    1  홍길동  2020-10-23   3\n",
       "1010                                 홍길동전    0  홍길동  2020-10-23   3\n",
       "1009                                  대조영    2  대조영  2020-10-23   9\n",
       "1008  Linux server를 원격 Windows에서 접속하여 글쓰기    3  관리자  2020-10-23   7\n",
       "1007                         ubuntu에서 글쓰기    1  관리자  2020-10-22   5\n",
       "1006                            슬기로운 의사생활    3  이우정  2020-10-22  11\n",
       "1005                               파리의 연인    4  김은숙  2020-10-22   8\n",
       "1004                               시크릿 가든    0  김은숙  2020-10-22   4"
      ],
      "text/html": "<div>\n<style scoped>\n    .dataframe tbody tr th:only-of-type {\n        vertical-align: middle;\n    }\n\n    .dataframe tbody tr th {\n        vertical-align: top;\n    }\n\n    .dataframe thead th {\n        text-align: right;\n    }\n</style>\n<table border=\"1\" class=\"dataframe\">\n  <thead>\n    <tr style=\"text-align: right;\">\n      <th></th>\n      <th>제목</th>\n      <th>댓글 수</th>\n      <th>글쓴이</th>\n      <th>날짜/시간</th>\n      <th>조회수</th>\n    </tr>\n    <tr>\n      <th>번호</th>\n      <th></th>\n      <th></th>\n      <th></th>\n      <th></th>\n      <th></th>\n    </tr>\n  </thead>\n  <tbody>\n    <tr>\n      <th>1013</th>\n      <td>리눅스 글쓰기</td>\n      <td>0</td>\n      <td>홍길동</td>\n      <td>2020-10-27</td>\n      <td>3</td>\n    </tr>\n    <tr>\n      <th>1012</th>\n      <td>마이크로소프트 엣지에서의 동작</td>\n      <td>2</td>\n      <td>김은숙</td>\n      <td>2020-10-23</td>\n      <td>14</td>\n    </tr>\n    <tr>\n      <th>1011</th>\n      <td>역적 - 백성을 훔친 도적</td>\n      <td>1</td>\n      <td>홍길동</td>\n      <td>2020-10-23</td>\n      <td>3</td>\n    </tr>\n    <tr>\n      <th>1010</th>\n      <td>홍길동전</td>\n      <td>0</td>\n      <td>홍길동</td>\n      <td>2020-10-23</td>\n      <td>3</td>\n    </tr>\n    <tr>\n      <th>1009</th>\n      <td>대조영</td>\n      <td>2</td>\n      <td>대조영</td>\n      <td>2020-10-23</td>\n      <td>9</td>\n    </tr>\n    <tr>\n      <th>1008</th>\n      <td>Linux server를 원격 Windows에서 접속하여 글쓰기</td>\n      <td>3</td>\n      <td>관리자</td>\n      <td>2020-10-23</td>\n      <td>7</td>\n    </tr>\n    <tr>\n      <th>1007</th>\n      <td>ubuntu에서 글쓰기</td>\n      <td>1</td>\n      <td>관리자</td>\n      <td>2020-10-22</td>\n      <td>5</td>\n    </tr>\n    <tr>\n      <th>1006</th>\n      <td>슬기로운 의사생활</td>\n      <td>3</td>\n      <td>이우정</td>\n      <td>2020-10-22</td>\n      <td>11</td>\n    </tr>\n    <tr>\n      <th>1005</th>\n      <td>파리의 연인</td>\n      <td>4</td>\n      <td>김은숙</td>\n      <td>2020-10-22</td>\n      <td>8</td>\n    </tr>\n    <tr>\n      <th>1004</th>\n      <td>시크릿 가든</td>\n      <td>0</td>\n      <td>김은숙</td>\n      <td>2020-10-22</td>\n      <td>4</td>\n    </tr>\n  </tbody>\n</table>\n</div>"
     },
     "metadata": {},
     "execution_count": 244
    }
   ],
   "source": [
    "import pandas as pd\n",
    "bbs = pd.DataFrame({\n",
    "    '번호':bids,\n",
    "    '제목':titles,\n",
    "    '댓글 수':replycounts,\n",
    "    '글쓴이':names,\n",
    "    '날짜/시간':times,\n",
    "    '조회수':view_counts,\n",
    "})\n",
    "bbs.set_index('번호', inplace=True)\n",
    "bbs"
   ]
  },
  {
   "source": [
    "- 페이지 돌아가면서 크롤링하기"
   ],
   "cell_type": "markdown",
   "metadata": {}
  },
  {
   "cell_type": "code",
   "execution_count": 270,
   "metadata": {},
   "outputs": [],
   "source": [
    "baseurl = \"http://200.1.220.217:3000/bbs/list/\"\n",
    "page = 2\n",
    "\n",
    "url = baseurl + str(page)\n",
    "\n",
    "res = requests.get(url)\n",
    "raw = res.text\n",
    "html = BeautifulSoup(raw,'html.parser')"
   ]
  },
  {
   "cell_type": "code",
   "execution_count": 271,
   "metadata": {},
   "outputs": [
    {
     "output_type": "execute_result",
     "data": {
      "text/plain": [
       "[<li class=\"page-item\">\n",
       " <a aria-label=\"Previous\" class=\"page-link active\" href=\"#\">\n",
       " <span aria-hidden=\"true\">«</span></a>\n",
       " </li>,\n",
       " <li class=\"page-item\"><a class=\"page-link\" href=\"/bbs/list/1\">1</a></li>,\n",
       " <li aria-current=\"page\" class=\"page-item active\">\n",
       " <span class=\"page-link\">\n",
       "                                 2<span class=\"sr-only\">(current)</span>\n",
       " </span>\n",
       " </li>,\n",
       " <li class=\"page-item\">\n",
       " <a aria-label=\"Next\" class=\"page-link\" href=\"#\">\n",
       " <span aria-hidden=\"true\">»</span></a>\n",
       " </li>]"
      ]
     },
     "metadata": {},
     "execution_count": 271
    }
   ],
   "source": [
    "lis = html.select('.page-item')\n",
    "lis"
   ]
  },
  {
   "cell_type": "code",
   "execution_count": 301,
   "metadata": {},
   "outputs": [
    {
     "output_type": "execute_result",
     "data": {
      "text/plain": [
       "2"
      ]
     },
     "metadata": {},
     "execution_count": 301
    }
   ],
   "source": [
    "import re\n",
    "page = lis[-2].select_one('span').text.strip('\\n ')\n",
    "page = int(re.sub('[()]|[a-z]+','',page))\n",
    "page"
   ]
  },
  {
   "cell_type": "code",
   "execution_count": 303,
   "metadata": {},
   "outputs": [],
   "source": [
    "for i in range(1,page+1):\n",
    "    baseurl = \"http://200.1.220.217:3000/bbs/list/\"\n",
    "\n",
    "    url = baseurl + str(page)\n",
    "\n",
    "    res = requests.get(url)\n",
    "    raw = res.text\n",
    "    html = BeautifulSoup(raw,'html.parser')\n",
    "    trs = html.select('tr')\n",
    "# print(trs)\n",
    "    for tr in trs[1:]:\n",
    "        tds = tr.select('td') # 리스트로 나옴\n",
    "        # text이든 get_text()이든 다 됨\n",
    "\n",
    "        bid = tds[0].text ; bids.append(bid)\n",
    "\n",
    "        span = tds[1].select_one('span')\n",
    "        # 댓글수가 span태그 안에 들어가 있음\n",
    "        # 즉 span태그가 있으면 댓글이 있는거고 없으면 댓글이 없음\n",
    "\n",
    "        title = tds[1].text ; bracket = title.find('[')\n",
    "        title = tds[1].text[:bracket] if span else title\n",
    "        titles.append(title)\n",
    "\n",
    "        replycount = tds[1].select_one('span.text-danger')\n",
    "        replycount = 0 if replycount == None else replycount.text.strip('\\[\\]')\n",
    "        replycounts.append(replycount)\n",
    "\n",
    "        name = tds[2].get_text() ; names.append(name)\n",
    "        time = tds[3].text ; times.append(time)\n",
    "        view_count = tds[4].text ; view_counts.append(view_count)\n"
   ]
  },
  {
   "cell_type": "code",
   "execution_count": 304,
   "metadata": {},
   "outputs": [
    {
     "output_type": "execute_result",
     "data": {
      "text/plain": [
       "                                       제목 댓글 수  글쓴이       날짜/시간 조회수\n",
       "번호                                                                 \n",
       "1013                              리눅스 글쓰기    0  홍길동  2020-10-27   3\n",
       "1012                     마이크로소프트 엣지에서의 동작    2  김은숙  2020-10-23  14\n",
       "1011                       역적 - 백성을 훔친 도적    1  홍길동  2020-10-23   3\n",
       "1010                                 홍길동전    0  홍길동  2020-10-23   3\n",
       "1009                                  대조영    2  대조영  2020-10-23   9\n",
       "1008  Linux server를 원격 Windows에서 접속하여 글쓰기    3  관리자  2020-10-23   7\n",
       "1007                         ubuntu에서 글쓰기    1  관리자  2020-10-22   5\n",
       "1006                            슬기로운 의사생활    3  이우정  2020-10-22  11\n",
       "1005                               파리의 연인    4  김은숙  2020-10-22   8\n",
       "1004                               시크릿 가든    0  김은숙  2020-10-22   4\n",
       "1003                               태양의 후예    2  김은숙  2020-10-23  11\n",
       "1002                                  도깨비    1  김은숙  2020-10-22   4\n",
       "1001                              미스터 션샤인    1  김은숙  2020-10-23   6\n",
       "1003                               태양의 후예    2  김은숙  2020-10-23  11\n",
       "1002                                  도깨비    1  김은숙  2020-10-22   4\n",
       "1001                              미스터 션샤인    1  김은숙  2020-10-23   6"
      ],
      "text/html": "<div>\n<style scoped>\n    .dataframe tbody tr th:only-of-type {\n        vertical-align: middle;\n    }\n\n    .dataframe tbody tr th {\n        vertical-align: top;\n    }\n\n    .dataframe thead th {\n        text-align: right;\n    }\n</style>\n<table border=\"1\" class=\"dataframe\">\n  <thead>\n    <tr style=\"text-align: right;\">\n      <th></th>\n      <th>제목</th>\n      <th>댓글 수</th>\n      <th>글쓴이</th>\n      <th>날짜/시간</th>\n      <th>조회수</th>\n    </tr>\n    <tr>\n      <th>번호</th>\n      <th></th>\n      <th></th>\n      <th></th>\n      <th></th>\n      <th></th>\n    </tr>\n  </thead>\n  <tbody>\n    <tr>\n      <th>1013</th>\n      <td>리눅스 글쓰기</td>\n      <td>0</td>\n      <td>홍길동</td>\n      <td>2020-10-27</td>\n      <td>3</td>\n    </tr>\n    <tr>\n      <th>1012</th>\n      <td>마이크로소프트 엣지에서의 동작</td>\n      <td>2</td>\n      <td>김은숙</td>\n      <td>2020-10-23</td>\n      <td>14</td>\n    </tr>\n    <tr>\n      <th>1011</th>\n      <td>역적 - 백성을 훔친 도적</td>\n      <td>1</td>\n      <td>홍길동</td>\n      <td>2020-10-23</td>\n      <td>3</td>\n    </tr>\n    <tr>\n      <th>1010</th>\n      <td>홍길동전</td>\n      <td>0</td>\n      <td>홍길동</td>\n      <td>2020-10-23</td>\n      <td>3</td>\n    </tr>\n    <tr>\n      <th>1009</th>\n      <td>대조영</td>\n      <td>2</td>\n      <td>대조영</td>\n      <td>2020-10-23</td>\n      <td>9</td>\n    </tr>\n    <tr>\n      <th>1008</th>\n      <td>Linux server를 원격 Windows에서 접속하여 글쓰기</td>\n      <td>3</td>\n      <td>관리자</td>\n      <td>2020-10-23</td>\n      <td>7</td>\n    </tr>\n    <tr>\n      <th>1007</th>\n      <td>ubuntu에서 글쓰기</td>\n      <td>1</td>\n      <td>관리자</td>\n      <td>2020-10-22</td>\n      <td>5</td>\n    </tr>\n    <tr>\n      <th>1006</th>\n      <td>슬기로운 의사생활</td>\n      <td>3</td>\n      <td>이우정</td>\n      <td>2020-10-22</td>\n      <td>11</td>\n    </tr>\n    <tr>\n      <th>1005</th>\n      <td>파리의 연인</td>\n      <td>4</td>\n      <td>김은숙</td>\n      <td>2020-10-22</td>\n      <td>8</td>\n    </tr>\n    <tr>\n      <th>1004</th>\n      <td>시크릿 가든</td>\n      <td>0</td>\n      <td>김은숙</td>\n      <td>2020-10-22</td>\n      <td>4</td>\n    </tr>\n    <tr>\n      <th>1003</th>\n      <td>태양의 후예</td>\n      <td>2</td>\n      <td>김은숙</td>\n      <td>2020-10-23</td>\n      <td>11</td>\n    </tr>\n    <tr>\n      <th>1002</th>\n      <td>도깨비</td>\n      <td>1</td>\n      <td>김은숙</td>\n      <td>2020-10-22</td>\n      <td>4</td>\n    </tr>\n    <tr>\n      <th>1001</th>\n      <td>미스터 션샤인</td>\n      <td>1</td>\n      <td>김은숙</td>\n      <td>2020-10-23</td>\n      <td>6</td>\n    </tr>\n    <tr>\n      <th>1003</th>\n      <td>태양의 후예</td>\n      <td>2</td>\n      <td>김은숙</td>\n      <td>2020-10-23</td>\n      <td>11</td>\n    </tr>\n    <tr>\n      <th>1002</th>\n      <td>도깨비</td>\n      <td>1</td>\n      <td>김은숙</td>\n      <td>2020-10-22</td>\n      <td>4</td>\n    </tr>\n    <tr>\n      <th>1001</th>\n      <td>미스터 션샤인</td>\n      <td>1</td>\n      <td>김은숙</td>\n      <td>2020-10-23</td>\n      <td>6</td>\n    </tr>\n  </tbody>\n</table>\n</div>"
     },
     "metadata": {},
     "execution_count": 304
    }
   ],
   "source": [
    "bbs = pd.DataFrame({\n",
    "    '번호':bids,\n",
    "    '제목':titles,\n",
    "    '댓글 수':replycounts,\n",
    "    '글쓴이':names,\n",
    "    '날짜/시간':times,\n",
    "    '조회수':view_counts,\n",
    "})\n",
    "bbs.set_index('번호', inplace=True)\n",
    "bbs"
   ]
  },
  {
   "cell_type": "code",
   "execution_count": null,
   "metadata": {},
   "outputs": [],
   "source": []
  }
 ]
}