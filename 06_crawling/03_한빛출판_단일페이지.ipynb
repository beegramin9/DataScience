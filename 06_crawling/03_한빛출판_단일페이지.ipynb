{
 "metadata": {
  "language_info": {
   "codemirror_mode": {
    "name": "ipython",
    "version": 3
   },
   "file_extension": ".py",
   "mimetype": "text/x-python",
   "name": "python",
   "nbconvert_exporter": "python",
   "pygments_lexer": "ipython3",
   "version": "3.8.5-final"
  },
  "orig_nbformat": 2,
  "kernelspec": {
   "name": "python3",
   "display_name": "Python 3.8.5 32-bit",
   "metadata": {
    "interpreter": {
     "hash": "1acfd3b6184b4f42ead27da0a46699636281a46bb651cb84a27d44be7cb90e5a"
    }
   }
  }
 },
 "nbformat": 4,
 "nbformat_minor": 2,
 "cells": [
  {
   "cell_type": "code",
   "execution_count": 1,
   "metadata": {},
   "outputs": [],
   "source": [
    "from bs4 import BeautifulSoup\n",
    "import requests\n",
    "import numpy as np\n",
    "import pandas as pd"
   ]
  },
  {
   "cell_type": "code",
   "execution_count": 2,
   "metadata": {},
   "outputs": [],
   "source": [
    "url = \"https://www.hanbit.co.kr/academy/books/new_book_list.html\"\n",
    "res = requests.get(url, headers = {'User-Agent':'Mozilla/5.0'})\n",
    "raw = res.text\n",
    "soup = BeautifulSoup(raw,'html.parser')"
   ]
  },
  {
   "cell_type": "code",
   "execution_count": 3,
   "metadata": {},
   "outputs": [],
   "source": [
    "frame = soup.select_one('.sub_book_list_area')\n",
    "cards = frame.select('.view_box')"
   ]
  },
  {
   "cell_type": "code",
   "execution_count": 4,
   "metadata": {},
   "outputs": [],
   "source": [
    "# 주소\n",
    "bookurl = cards[0].select_one('.pop_quick_bg').attrs['onclick'][10:-1]"
   ]
  },
  {
   "cell_type": "code",
   "execution_count": 5,
   "metadata": {},
   "outputs": [
    {
     "output_type": "stream",
     "name": "stdout",
     "text": [
      "https://www.hanbit.co.kr/academy/books/book_view.html?p_code=B4797877052\nhttps://www.hanbit.co.kr/academy/books/book_view.html?p_code=B6503201303\nhttps://www.hanbit.co.kr/academy/books/book_view.html?p_code=B1851418066\nhttps://www.hanbit.co.kr/academy/books/book_view.html?p_code=B9479195027\nhttps://www.hanbit.co.kr/academy/books/book_view.html?p_code=B2082711299\nhttps://www.hanbit.co.kr/academy/books/book_view.html?p_code=B1825116777\nhttps://www.hanbit.co.kr/academy/books/book_view.html?p_code=B5937482728\nhttps://www.hanbit.co.kr/academy/books/book_view.html?p_code=B8404138031\nhttps://www.hanbit.co.kr/academy/books/book_view.html?p_code=B8573612142\nhttps://www.hanbit.co.kr/academy/books/book_view.html?p_code=B8658821149\nhttps://www.hanbit.co.kr/academy/books/book_view.html?p_code=B7926921440\nhttps://www.hanbit.co.kr/academy/books/book_view.html?p_code=B4295361584\nhttps://www.hanbit.co.kr/academy/books/book_view.html?p_code=B3126325886\nhttps://www.hanbit.co.kr/academy/books/book_view.html?p_code=B3715221949\nhttps://www.hanbit.co.kr/academy/books/book_view.html?p_code=B3055805288\nhttps://www.hanbit.co.kr/academy/books/book_view.html?p_code=B4872546419\nhttps://www.hanbit.co.kr/academy/books/book_view.html?p_code=B1710834745\nhttps://www.hanbit.co.kr/academy/books/book_view.html?p_code=B8200129293\nhttps://www.hanbit.co.kr/academy/books/book_view.html?p_code=B8983481859\nhttps://www.hanbit.co.kr/academy/books/book_view.html?p_code=B2049588591\n"
     ]
    }
   ],
   "source": [
    "for card in cards:\n",
    "    bookhref = card.select_one('.pop_quick_bg').attrs['onclick'][10:-1]\n",
    "    suburl = 'https://www.hanbit.co.kr' + bookhref\n",
    "    print(suburl)"
   ]
  },
  {
   "cell_type": "code",
   "execution_count": 355,
   "metadata": {},
   "outputs": [],
   "source": [
    "# titles = []; trans = []; sales = []; authors = []; editors = []; dates # = []; pagenums = []; ISBNs = []; codes = []\n",
    "# \n",
    "# for card in cards:\n",
    "#     bookhref = card.select_one('.pop_quick_bg').attrs['onclick'][10:-1]\n",
    "#     suburl = 'https://www.hanbit.co.kr' + bookhref\n",
    "#     subres = requests.get(suburl, headers = {'User-Agent':'Mozilla/5.0'})\n",
    "#     subraw = subres.text\n",
    "#     subsoup = BeautifulSoup(subraw,'html.parser')\n",
    "# \n",
    "#     # 각 페이지\n",
    "#     infobox = subsoup.select_one('.store_product_info_box')\n",
    "#     \n",
    "#     title = infobox.select_one('h3').text\n",
    "#     tran = infobox.select('.info_ico p')[1].text\n",
    "#     sale = infobox.select('.info_ico p')[2].text\n",
    "# \n",
    "#     if trans == '번역서':\n",
    "#         author = infobox.select('.info_list li')[0].text[5:-1]\n",
    "#         editor = infobox.select('.info_list li')[1].text[5:-1]\n",
    "#         date = infobox.select('.info_list li')[2].text[5:]\n",
    "#         pagenum = infobox.select('.info_list li')[3].text[6:-2]\n",
    "#         ISBN = infobox.select('.info_list li')[4].text[7:]\n",
    "#         code = infobox.select('.info_list li')[5].text[-4:]\n",
    "#     else:\n",
    "#         author = infobox.select('.info_list li')[0].text[5:-1]\n",
    "#         editor = np.nan\n",
    "#         date = infobox.select('.info_list li')[1].text[5:]\n",
    "#         pagenum = infobox.select('.info_list li')[2].text[6:-2]\n",
    "#         ISBN = infobox.select('.info_list li')[3].text[7:]\n",
    "#         code = infobox.select('.info_list li')[4].text[-4:]\n",
    "#     \n",
    "#     titles.append(title) ; trans.append(tran) ; sales.append(sale) ; authors.append(author) ; editors.append(editor) ; dates.append(date) ; pagenums.append(pagenum) ; ISBNs.append(ISBN) ; codes.append(code) \n"
   ]
  },
  {
   "cell_type": "code",
   "execution_count": 356,
   "metadata": {},
   "outputs": [],
   "source": [
    "titles = []; trans = []; sales = []\n",
    "# authors = []; editors = []; dates = []; pagenums = []; ISBNs = []; codes = []\n",
    "pageAllDf = []\n",
    "singlePageDf = []\n",
    "\n",
    "for i, card in enumerate(cards):\n",
    "    bookhref = card.select_one('.pop_quick_bg').attrs['onclick'][10:-1]\n",
    "    suburl = 'https://www.hanbit.co.kr' + bookhref\n",
    "    subres = requests.get(suburl, headers = {'User-Agent':'Mozilla/5.0'})\n",
    "    subraw = subres.text\n",
    "    subsoup = BeautifulSoup(subraw,'html.parser')\n",
    "\n",
    "    # 각 페이지\n",
    "    infobox = subsoup.select_one('.store_product_info_box')\n",
    "    \n",
    "    title = infobox.select_one('h3').text\n",
    "    tran = infobox.select('.info_ico p')[1].text\n",
    "    sale = infobox.select('.info_ico p')[2].text\n",
    "\n",
    "    infos = infobox.select('.info_list li')\n",
    "\n",
    "    # 그 딕셔너리에 넣는거!\n",
    "\n",
    "    rowdic = {}\n",
    "    for info in infos:\n",
    "        info_key = info.text.split(':')[0]\n",
    "        info_value = info.text.split(':')[1]\n",
    "        \n",
    "        # print(info_key,info_value)\n",
    "        rowdic[info_key] = [info_value]\n",
    "    \n",
    "    #print(rowdic)\n",
    "    \n",
    "    rowdf = pd.DataFrame(rowdic)\n",
    "    singlePageDf.append(rowdf)\n",
    "    \n",
    "    \n",
    "    titles.append(title) ; trans.append(tran) ; sales.append(sale)\n",
    "    "
   ]
  },
  {
   "cell_type": "code",
   "execution_count": 357,
   "metadata": {},
   "outputs": [
    {
     "output_type": "execute_result",
     "data": {
      "text/plain": [
       "                                          저자                      번역   \\\n",
       "0   Behrouz A. Forouzan , Richard F. Gilberg                     윤인성    \n",
       "0                                        김지연                      NaN   \n",
       "0   Behrouz A. Forouzan , Richard F. Gilberg                     윤인성    \n",
       "0                             Gilbert Strang    부산대학교 산업수학센터(FFMIMC)    \n",
       "0                            박우창 , 남송휘 , 이현룡                      NaN   \n",
       "\n",
       "           출간      페이지            ISBN  물류코드   \\\n",
       "0   2020-11-10    756 쪽   9791156645061  4506   \n",
       "0   2020-09-28    536 쪽   9791156645054  4505   \n",
       "0   2020-08-31   1192 쪽   9791156645030  4503   \n",
       "0   2020-08-05    560 쪽   9791156644972  4497   \n",
       "0   2020-07-30    600 쪽   9791156645023  4502   \n",
       "\n",
       "                                               구판정보   \\\n",
       "0                                                NaN   \n",
       "0                 이 도서는 <IT CookBook, 데이터베이스 기초와 실습    \n",
       "0                                                NaN   \n",
       "0                                                NaN   \n",
       "0  이 도서는 <IT CookBook, 오라클로 배우는 데이터베이스 개론과 실습>의 개...   \n",
       "\n",
       "                                         제목  번역서 판매여부  \n",
       "0                               포르잔 C++ 에센셜  번역서  판매중  \n",
       "0  IT CookBook, 액세스 2019로 배우는 데이터베이스 기초와 실습  집필서  판매중  \n",
       "0                               포르잔 C++ 바이블  번역서  판매중  \n",
       "0                             딥러닝을 위한 선형대수학  번역서  판매중  \n",
       "0   IT CookBook, 오라클로 배우는 데이터베이스 개론과 실습(2판)  집필서  판매중  "
      ],
      "text/html": "<div>\n<style scoped>\n    .dataframe tbody tr th:only-of-type {\n        vertical-align: middle;\n    }\n\n    .dataframe tbody tr th {\n        vertical-align: top;\n    }\n\n    .dataframe thead th {\n        text-align: right;\n    }\n</style>\n<table border=\"1\" class=\"dataframe\">\n  <thead>\n    <tr style=\"text-align: right;\">\n      <th></th>\n      <th>저자</th>\n      <th>번역</th>\n      <th>출간</th>\n      <th>페이지</th>\n      <th>ISBN</th>\n      <th>물류코드</th>\n      <th>구판정보</th>\n      <th>제목</th>\n      <th>번역서</th>\n      <th>판매여부</th>\n    </tr>\n  </thead>\n  <tbody>\n    <tr>\n      <th>0</th>\n      <td>Behrouz A. Forouzan , Richard F. Gilberg</td>\n      <td>윤인성</td>\n      <td>2020-11-10</td>\n      <td>756 쪽</td>\n      <td>9791156645061</td>\n      <td>4506</td>\n      <td>NaN</td>\n      <td>포르잔 C++ 에센셜</td>\n      <td>번역서</td>\n      <td>판매중</td>\n    </tr>\n    <tr>\n      <th>0</th>\n      <td>김지연</td>\n      <td>NaN</td>\n      <td>2020-09-28</td>\n      <td>536 쪽</td>\n      <td>9791156645054</td>\n      <td>4505</td>\n      <td>이 도서는 &lt;IT CookBook, 데이터베이스 기초와 실습</td>\n      <td>IT CookBook, 액세스 2019로 배우는 데이터베이스 기초와 실습</td>\n      <td>집필서</td>\n      <td>판매중</td>\n    </tr>\n    <tr>\n      <th>0</th>\n      <td>Behrouz A. Forouzan , Richard F. Gilberg</td>\n      <td>윤인성</td>\n      <td>2020-08-31</td>\n      <td>1192 쪽</td>\n      <td>9791156645030</td>\n      <td>4503</td>\n      <td>NaN</td>\n      <td>포르잔 C++ 바이블</td>\n      <td>번역서</td>\n      <td>판매중</td>\n    </tr>\n    <tr>\n      <th>0</th>\n      <td>Gilbert Strang</td>\n      <td>부산대학교 산업수학센터(FFMIMC)</td>\n      <td>2020-08-05</td>\n      <td>560 쪽</td>\n      <td>9791156644972</td>\n      <td>4497</td>\n      <td>NaN</td>\n      <td>딥러닝을 위한 선형대수학</td>\n      <td>번역서</td>\n      <td>판매중</td>\n    </tr>\n    <tr>\n      <th>0</th>\n      <td>박우창 , 남송휘 , 이현룡</td>\n      <td>NaN</td>\n      <td>2020-07-30</td>\n      <td>600 쪽</td>\n      <td>9791156645023</td>\n      <td>4502</td>\n      <td>이 도서는 &lt;IT CookBook, 오라클로 배우는 데이터베이스 개론과 실습&gt;의 개...</td>\n      <td>IT CookBook, 오라클로 배우는 데이터베이스 개론과 실습(2판)</td>\n      <td>집필서</td>\n      <td>판매중</td>\n    </tr>\n  </tbody>\n</table>\n</div>"
     },
     "metadata": {},
     "execution_count": 357
    }
   ],
   "source": [
    "singlePageDf = pd.concat(singlePageDf)\n",
    "singlePageDf['제목'] = titles\n",
    "singlePageDf['번역서'] = trans\n",
    "singlePageDf['판매여부'] = sales\n",
    "singlePageDf.head()"
   ]
  },
  {
   "cell_type": "code",
   "execution_count": 358,
   "metadata": {},
   "outputs": [
    {
     "output_type": "execute_result",
     "data": {
      "text/plain": [
       "Index(['저자 ', '번역 ', '출간 ', '페이지 ', 'ISBN ', '물류코드 ', '구판정보 ', '제목', '번역서',\n",
       "       '판매여부'],\n",
       "      dtype='object')"
      ]
     },
     "metadata": {},
     "execution_count": 358
    }
   ],
   "source": [
    "singlePageDf.columns"
   ]
  },
  {
   "cell_type": "code",
   "execution_count": 359,
   "metadata": {},
   "outputs": [
    {
     "output_type": "execute_result",
     "data": {
      "text/plain": [
       "                                         제목 판매여부  \\\n",
       "0                               포르잔 C++ 에센셜  판매중   \n",
       "0  IT CookBook, 액세스 2019로 배우는 데이터베이스 기초와 실습  판매중   \n",
       "0                               포르잔 C++ 바이블  판매중   \n",
       "0                             딥러닝을 위한 선형대수학  판매중   \n",
       "0   IT CookBook, 오라클로 배우는 데이터베이스 개론과 실습(2판)  판매중   \n",
       "\n",
       "                                          저자   번역서                     번역   \\\n",
       "0   Behrouz A. Forouzan , Richard F. Gilberg   번역서                    윤인성    \n",
       "0                                        김지연   집필서                     NaN   \n",
       "0   Behrouz A. Forouzan , Richard F. Gilberg   번역서                    윤인성    \n",
       "0                             Gilbert Strang   번역서   부산대학교 산업수학센터(FFMIMC)    \n",
       "0                            박우창 , 남송휘 , 이현룡   집필서                     NaN   \n",
       "\n",
       "           출간      페이지                                               구판정보   \\\n",
       "0   2020-11-10    756 쪽                                                NaN   \n",
       "0   2020-09-28    536 쪽                 이 도서는 <IT CookBook, 데이터베이스 기초와 실습    \n",
       "0   2020-08-31   1192 쪽                                                NaN   \n",
       "0   2020-08-05    560 쪽                                                NaN   \n",
       "0   2020-07-30    600 쪽  이 도서는 <IT CookBook, 오라클로 배우는 데이터베이스 개론과 실습>의 개...   \n",
       "\n",
       "            ISBN  물류코드   \n",
       "0   9791156645061  4506  \n",
       "0   9791156645054  4505  \n",
       "0   9791156645030  4503  \n",
       "0   9791156644972  4497  \n",
       "0   9791156645023  4502  "
      ],
      "text/html": "<div>\n<style scoped>\n    .dataframe tbody tr th:only-of-type {\n        vertical-align: middle;\n    }\n\n    .dataframe tbody tr th {\n        vertical-align: top;\n    }\n\n    .dataframe thead th {\n        text-align: right;\n    }\n</style>\n<table border=\"1\" class=\"dataframe\">\n  <thead>\n    <tr style=\"text-align: right;\">\n      <th></th>\n      <th>제목</th>\n      <th>판매여부</th>\n      <th>저자</th>\n      <th>번역서</th>\n      <th>번역</th>\n      <th>출간</th>\n      <th>페이지</th>\n      <th>구판정보</th>\n      <th>ISBN</th>\n      <th>물류코드</th>\n    </tr>\n  </thead>\n  <tbody>\n    <tr>\n      <th>0</th>\n      <td>포르잔 C++ 에센셜</td>\n      <td>판매중</td>\n      <td>Behrouz A. Forouzan , Richard F. Gilberg</td>\n      <td>번역서</td>\n      <td>윤인성</td>\n      <td>2020-11-10</td>\n      <td>756 쪽</td>\n      <td>NaN</td>\n      <td>9791156645061</td>\n      <td>4506</td>\n    </tr>\n    <tr>\n      <th>0</th>\n      <td>IT CookBook, 액세스 2019로 배우는 데이터베이스 기초와 실습</td>\n      <td>판매중</td>\n      <td>김지연</td>\n      <td>집필서</td>\n      <td>NaN</td>\n      <td>2020-09-28</td>\n      <td>536 쪽</td>\n      <td>이 도서는 &lt;IT CookBook, 데이터베이스 기초와 실습</td>\n      <td>9791156645054</td>\n      <td>4505</td>\n    </tr>\n    <tr>\n      <th>0</th>\n      <td>포르잔 C++ 바이블</td>\n      <td>판매중</td>\n      <td>Behrouz A. Forouzan , Richard F. Gilberg</td>\n      <td>번역서</td>\n      <td>윤인성</td>\n      <td>2020-08-31</td>\n      <td>1192 쪽</td>\n      <td>NaN</td>\n      <td>9791156645030</td>\n      <td>4503</td>\n    </tr>\n    <tr>\n      <th>0</th>\n      <td>딥러닝을 위한 선형대수학</td>\n      <td>판매중</td>\n      <td>Gilbert Strang</td>\n      <td>번역서</td>\n      <td>부산대학교 산업수학센터(FFMIMC)</td>\n      <td>2020-08-05</td>\n      <td>560 쪽</td>\n      <td>NaN</td>\n      <td>9791156644972</td>\n      <td>4497</td>\n    </tr>\n    <tr>\n      <th>0</th>\n      <td>IT CookBook, 오라클로 배우는 데이터베이스 개론과 실습(2판)</td>\n      <td>판매중</td>\n      <td>박우창 , 남송휘 , 이현룡</td>\n      <td>집필서</td>\n      <td>NaN</td>\n      <td>2020-07-30</td>\n      <td>600 쪽</td>\n      <td>이 도서는 &lt;IT CookBook, 오라클로 배우는 데이터베이스 개론과 실습&gt;의 개...</td>\n      <td>9791156645023</td>\n      <td>4502</td>\n    </tr>\n  </tbody>\n</table>\n</div>"
     },
     "metadata": {},
     "execution_count": 359
    }
   ],
   "source": [
    "newDf = singlePageDf.reindex(columns=[\n",
    "    '제목',\n",
    "    '판매여부',\n",
    "    '저자 ',\n",
    "    '번역서',\n",
    "    '번역 ',\n",
    "    '출간 ',\n",
    "    '페이지 ',\n",
    "    '구판정보 ',\n",
    "    'ISBN ',\n",
    "    '물류코드 '\n",
    "])\n",
    "newDf.head()"
   ]
  },
  {
   "cell_type": "code",
   "execution_count": 360,
   "metadata": {},
   "outputs": [],
   "source": [
    "newDf.rename(columns={\n",
    "    '제목' : '제목',\n",
    "    '판매여부' : '판매여부',\n",
    "    '저자 ' : '저자',\n",
    "    '번역서' : '번역여부',\n",
    "    '번역 ' : '엮은이',\n",
    "    '출간 ' : '출간일',\n",
    "    '페이지 ' : '페이지',\n",
    "    '구판정보 ' : '구판여부',\n",
    "    'ISBN ' : 'ISBN',\n",
    "    '물류코드 ':'물류코드'\n",
    "},inplace=True)"
   ]
  },
  {
   "cell_type": "code",
   "execution_count": 361,
   "metadata": {},
   "outputs": [
    {
     "output_type": "execute_result",
     "data": {
      "text/plain": [
       "                                          제목 판매여부  \\\n",
       "0                                포르잔 C++ 에센셜  판매중   \n",
       "0   IT CookBook, 액세스 2019로 배우는 데이터베이스 기초와 실습  판매중   \n",
       "0                                포르잔 C++ 바이블  판매중   \n",
       "0                              딥러닝을 위한 선형대수학  판매중   \n",
       "0    IT CookBook, 오라클로 배우는 데이터베이스 개론과 실습(2판)  판매중   \n",
       "0                             대학을 버려야 대학이 산다  판매중   \n",
       "0              IT CookBook, 따라 하면서 배우는 사물인터넷  판매중   \n",
       "0            R로 하는 다변량 데이터 분석 : 이론부터 실무 활용까지  판매중   \n",
       "0                               창의적 공학설계(3판)  판매중   \n",
       "0            공학 핵심수학(2판)  : 기초부터 심화까지 핵심만 쏙쏙  판매중   \n",
       "0     응용이 보이는 선형대수학 : 파이썬과 함께하는 선형대수학 이론과 응용  판매중   \n",
       "0           IT CookBook, 초연결 사회의 데이터통신과 네트워킹  판매중   \n",
       "0          IT CookBook, 쉽게 배우는 MFC 윈도우 프로그래밍  판매중   \n",
       "0         IT CookBook, 인공지능 시대를 위한 컴퓨터 과학 개론  판매중   \n",
       "0          IT CookBook, 코틀린을 활용한 안드로이드 프로그래밍  판매중   \n",
       "0                 IT CookBook, 처음 만나는 신재생에너지  판매중   \n",
       "0                                프리드버그 선형대수학  판매중   \n",
       "0                    IT CookBook, CentOS 리눅스  판매중   \n",
       "0  Microeconomics, 6th Edition, Asia Edition  판매중   \n",
       "0                               누구나 파이썬 통계분석  판매중   \n",
       "\n",
       "                                           저자 번역여부                     엮은이  \\\n",
       "0   Behrouz A. Forouzan , Richard F. Gilberg   번역서                    윤인성    \n",
       "0                                        김지연   집필서                     NaN   \n",
       "0   Behrouz A. Forouzan , Richard F. Gilberg   번역서                    윤인성    \n",
       "0                             Gilbert Strang   번역서   부산대학교 산업수학센터(FFMIMC)    \n",
       "0                            박우창 , 남송휘 , 이현룡   집필서                     NaN   \n",
       "0                        조동성 외 인천대학교 가족 178명   집필서                     NaN   \n",
       "0                                        양재삼   집필서                     NaN   \n",
       "0              카와하시 잇코 , 이와마 노리카즈 , 스즈키 마사유키   번역서                    권기태    \n",
       "0                                        김은경   집필서                     NaN   \n",
       "0                                        함남우   집필서                     NaN   \n",
       "0                                        이건명   집필서                     NaN   \n",
       "0                                        강문식   집필서                     NaN   \n",
       "0                                  김선우 , 신화선   집필서                     NaN   \n",
       "0                                        정기철   집필서                     NaN   \n",
       "0                                  우재남 , 유혜림   집필서                     NaN   \n",
       "0                                        김지홍   집필서                     NaN   \n",
       "0      스티븐 H. 프리드버그 , 아놀드 J. 인셀 , 로렌스 E. 스펜스   번역서    한빛수학교재연구소 , 심형보(감수)    \n",
       "0                                        이종원   집필서                     NaN   \n",
       "0          David Besanko , Ronald Braeutigam    원서                     NaN   \n",
       "0                                   타니아이 히로키   번역서                    권기태    \n",
       "\n",
       "           출간일      페이지                                               구판여부  \\\n",
       "0   2020-11-10    756 쪽                                                NaN   \n",
       "0   2020-09-28    536 쪽                 이 도서는 <IT CookBook, 데이터베이스 기초와 실습    \n",
       "0   2020-08-31   1192 쪽                                                NaN   \n",
       "0   2020-08-05    560 쪽                                                NaN   \n",
       "0   2020-07-30    600 쪽  이 도서는 <IT CookBook, 오라클로 배우는 데이터베이스 개론과 실습>의 개...   \n",
       "0   2020-07-25    216 쪽                                                NaN   \n",
       "0   2020-07-23    448 쪽                                                NaN   \n",
       "0   2020-07-10    544 쪽                                                NaN   \n",
       "0   2020-07-10    408 쪽            이 도서는 <창의적 공학설계(개정판)>의 개정판입니다. 구판 정보 보기   \n",
       "0   2020-07-06    484 쪽                                    이 도서는 <공학 핵심수학    \n",
       "0   2020-07-06    592 쪽                                                NaN   \n",
       "0   2020-06-30    504 쪽               이 도서는 <IT CookBook, New 데이터통신과 네트워킹    \n",
       "0   2020-06-20    772 쪽                                                NaN   \n",
       "0   2020-06-19    520 쪽                                                NaN   \n",
       "0   2020-06-19    564 쪽                                                NaN   \n",
       "0   2020-06-10    388 쪽                                                NaN   \n",
       "0   2020-06-05    616 쪽                                                NaN   \n",
       "0   2020-05-30    792 쪽                                                NaN   \n",
       "0   2020-05-01    856 쪽                                                NaN   \n",
       "0   2020-04-06    384 쪽                                                NaN   \n",
       "\n",
       "             ISBN   물류코드  \n",
       "0   9791156645061   4506  \n",
       "0   9791156645054   4505  \n",
       "0   9791156645030   4503  \n",
       "0   9791156644972   4497  \n",
       "0   9791156645023   4502  \n",
       "0   9791156645016   4501  \n",
       "0   9791156644941   4494  \n",
       "0   9791156644989   4498  \n",
       "0   9791156644934   4493  \n",
       "0   9791156644996   4499  \n",
       "0   9791156645009   4500  \n",
       "0   9791156644927   4492  \n",
       "0   9791156644903   4490  \n",
       "0   9791156644958   4495  \n",
       "0   9791156644965   4496  \n",
       "0   9791156644859   4485  \n",
       "0   9791156644910   4491  \n",
       "0   9791156644897   4489  \n",
       "0   9781119666226  30000  \n",
       "0   9791156644880   4488  "
      ],
      "text/html": "<div>\n<style scoped>\n    .dataframe tbody tr th:only-of-type {\n        vertical-align: middle;\n    }\n\n    .dataframe tbody tr th {\n        vertical-align: top;\n    }\n\n    .dataframe thead th {\n        text-align: right;\n    }\n</style>\n<table border=\"1\" class=\"dataframe\">\n  <thead>\n    <tr style=\"text-align: right;\">\n      <th></th>\n      <th>제목</th>\n      <th>판매여부</th>\n      <th>저자</th>\n      <th>번역여부</th>\n      <th>엮은이</th>\n      <th>출간일</th>\n      <th>페이지</th>\n      <th>구판여부</th>\n      <th>ISBN</th>\n      <th>물류코드</th>\n    </tr>\n  </thead>\n  <tbody>\n    <tr>\n      <th>0</th>\n      <td>포르잔 C++ 에센셜</td>\n      <td>판매중</td>\n      <td>Behrouz A. Forouzan , Richard F. Gilberg</td>\n      <td>번역서</td>\n      <td>윤인성</td>\n      <td>2020-11-10</td>\n      <td>756 쪽</td>\n      <td>NaN</td>\n      <td>9791156645061</td>\n      <td>4506</td>\n    </tr>\n    <tr>\n      <th>0</th>\n      <td>IT CookBook, 액세스 2019로 배우는 데이터베이스 기초와 실습</td>\n      <td>판매중</td>\n      <td>김지연</td>\n      <td>집필서</td>\n      <td>NaN</td>\n      <td>2020-09-28</td>\n      <td>536 쪽</td>\n      <td>이 도서는 &lt;IT CookBook, 데이터베이스 기초와 실습</td>\n      <td>9791156645054</td>\n      <td>4505</td>\n    </tr>\n    <tr>\n      <th>0</th>\n      <td>포르잔 C++ 바이블</td>\n      <td>판매중</td>\n      <td>Behrouz A. Forouzan , Richard F. Gilberg</td>\n      <td>번역서</td>\n      <td>윤인성</td>\n      <td>2020-08-31</td>\n      <td>1192 쪽</td>\n      <td>NaN</td>\n      <td>9791156645030</td>\n      <td>4503</td>\n    </tr>\n    <tr>\n      <th>0</th>\n      <td>딥러닝을 위한 선형대수학</td>\n      <td>판매중</td>\n      <td>Gilbert Strang</td>\n      <td>번역서</td>\n      <td>부산대학교 산업수학센터(FFMIMC)</td>\n      <td>2020-08-05</td>\n      <td>560 쪽</td>\n      <td>NaN</td>\n      <td>9791156644972</td>\n      <td>4497</td>\n    </tr>\n    <tr>\n      <th>0</th>\n      <td>IT CookBook, 오라클로 배우는 데이터베이스 개론과 실습(2판)</td>\n      <td>판매중</td>\n      <td>박우창 , 남송휘 , 이현룡</td>\n      <td>집필서</td>\n      <td>NaN</td>\n      <td>2020-07-30</td>\n      <td>600 쪽</td>\n      <td>이 도서는 &lt;IT CookBook, 오라클로 배우는 데이터베이스 개론과 실습&gt;의 개...</td>\n      <td>9791156645023</td>\n      <td>4502</td>\n    </tr>\n    <tr>\n      <th>0</th>\n      <td>대학을 버려야 대학이 산다</td>\n      <td>판매중</td>\n      <td>조동성 외 인천대학교 가족 178명</td>\n      <td>집필서</td>\n      <td>NaN</td>\n      <td>2020-07-25</td>\n      <td>216 쪽</td>\n      <td>NaN</td>\n      <td>9791156645016</td>\n      <td>4501</td>\n    </tr>\n    <tr>\n      <th>0</th>\n      <td>IT CookBook, 따라 하면서 배우는 사물인터넷</td>\n      <td>판매중</td>\n      <td>양재삼</td>\n      <td>집필서</td>\n      <td>NaN</td>\n      <td>2020-07-23</td>\n      <td>448 쪽</td>\n      <td>NaN</td>\n      <td>9791156644941</td>\n      <td>4494</td>\n    </tr>\n    <tr>\n      <th>0</th>\n      <td>R로 하는 다변량 데이터 분석 : 이론부터 실무 활용까지</td>\n      <td>판매중</td>\n      <td>카와하시 잇코 , 이와마 노리카즈 , 스즈키 마사유키</td>\n      <td>번역서</td>\n      <td>권기태</td>\n      <td>2020-07-10</td>\n      <td>544 쪽</td>\n      <td>NaN</td>\n      <td>9791156644989</td>\n      <td>4498</td>\n    </tr>\n    <tr>\n      <th>0</th>\n      <td>창의적 공학설계(3판)</td>\n      <td>판매중</td>\n      <td>김은경</td>\n      <td>집필서</td>\n      <td>NaN</td>\n      <td>2020-07-10</td>\n      <td>408 쪽</td>\n      <td>이 도서는 &lt;창의적 공학설계(개정판)&gt;의 개정판입니다. 구판 정보 보기</td>\n      <td>9791156644934</td>\n      <td>4493</td>\n    </tr>\n    <tr>\n      <th>0</th>\n      <td>공학 핵심수학(2판)  : 기초부터 심화까지 핵심만 쏙쏙</td>\n      <td>판매중</td>\n      <td>함남우</td>\n      <td>집필서</td>\n      <td>NaN</td>\n      <td>2020-07-06</td>\n      <td>484 쪽</td>\n      <td>이 도서는 &lt;공학 핵심수학</td>\n      <td>9791156644996</td>\n      <td>4499</td>\n    </tr>\n    <tr>\n      <th>0</th>\n      <td>응용이 보이는 선형대수학 : 파이썬과 함께하는 선형대수학 이론과 응용</td>\n      <td>판매중</td>\n      <td>이건명</td>\n      <td>집필서</td>\n      <td>NaN</td>\n      <td>2020-07-06</td>\n      <td>592 쪽</td>\n      <td>NaN</td>\n      <td>9791156645009</td>\n      <td>4500</td>\n    </tr>\n    <tr>\n      <th>0</th>\n      <td>IT CookBook, 초연결 사회의 데이터통신과 네트워킹</td>\n      <td>판매중</td>\n      <td>강문식</td>\n      <td>집필서</td>\n      <td>NaN</td>\n      <td>2020-06-30</td>\n      <td>504 쪽</td>\n      <td>이 도서는 &lt;IT CookBook, New 데이터통신과 네트워킹</td>\n      <td>9791156644927</td>\n      <td>4492</td>\n    </tr>\n    <tr>\n      <th>0</th>\n      <td>IT CookBook, 쉽게 배우는 MFC 윈도우 프로그래밍</td>\n      <td>판매중</td>\n      <td>김선우 , 신화선</td>\n      <td>집필서</td>\n      <td>NaN</td>\n      <td>2020-06-20</td>\n      <td>772 쪽</td>\n      <td>NaN</td>\n      <td>9791156644903</td>\n      <td>4490</td>\n    </tr>\n    <tr>\n      <th>0</th>\n      <td>IT CookBook, 인공지능 시대를 위한 컴퓨터 과학 개론</td>\n      <td>판매중</td>\n      <td>정기철</td>\n      <td>집필서</td>\n      <td>NaN</td>\n      <td>2020-06-19</td>\n      <td>520 쪽</td>\n      <td>NaN</td>\n      <td>9791156644958</td>\n      <td>4495</td>\n    </tr>\n    <tr>\n      <th>0</th>\n      <td>IT CookBook, 코틀린을 활용한 안드로이드 프로그래밍</td>\n      <td>판매중</td>\n      <td>우재남 , 유혜림</td>\n      <td>집필서</td>\n      <td>NaN</td>\n      <td>2020-06-19</td>\n      <td>564 쪽</td>\n      <td>NaN</td>\n      <td>9791156644965</td>\n      <td>4496</td>\n    </tr>\n    <tr>\n      <th>0</th>\n      <td>IT CookBook, 처음 만나는 신재생에너지</td>\n      <td>판매중</td>\n      <td>김지홍</td>\n      <td>집필서</td>\n      <td>NaN</td>\n      <td>2020-06-10</td>\n      <td>388 쪽</td>\n      <td>NaN</td>\n      <td>9791156644859</td>\n      <td>4485</td>\n    </tr>\n    <tr>\n      <th>0</th>\n      <td>프리드버그 선형대수학</td>\n      <td>판매중</td>\n      <td>스티븐 H. 프리드버그 , 아놀드 J. 인셀 , 로렌스 E. 스펜스</td>\n      <td>번역서</td>\n      <td>한빛수학교재연구소 , 심형보(감수)</td>\n      <td>2020-06-05</td>\n      <td>616 쪽</td>\n      <td>NaN</td>\n      <td>9791156644910</td>\n      <td>4491</td>\n    </tr>\n    <tr>\n      <th>0</th>\n      <td>IT CookBook, CentOS 리눅스</td>\n      <td>판매중</td>\n      <td>이종원</td>\n      <td>집필서</td>\n      <td>NaN</td>\n      <td>2020-05-30</td>\n      <td>792 쪽</td>\n      <td>NaN</td>\n      <td>9791156644897</td>\n      <td>4489</td>\n    </tr>\n    <tr>\n      <th>0</th>\n      <td>Microeconomics, 6th Edition, Asia Edition</td>\n      <td>판매중</td>\n      <td>David Besanko , Ronald Braeutigam</td>\n      <td>원서</td>\n      <td>NaN</td>\n      <td>2020-05-01</td>\n      <td>856 쪽</td>\n      <td>NaN</td>\n      <td>9781119666226</td>\n      <td>30000</td>\n    </tr>\n    <tr>\n      <th>0</th>\n      <td>누구나 파이썬 통계분석</td>\n      <td>판매중</td>\n      <td>타니아이 히로키</td>\n      <td>번역서</td>\n      <td>권기태</td>\n      <td>2020-04-06</td>\n      <td>384 쪽</td>\n      <td>NaN</td>\n      <td>9791156644880</td>\n      <td>4488</td>\n    </tr>\n  </tbody>\n</table>\n</div>"
     },
     "metadata": {},
     "execution_count": 361
    }
   ],
   "source": [
    "newDf"
   ]
  }
 ]
}