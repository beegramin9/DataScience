{
 "metadata": {
  "language_info": {
   "codemirror_mode": {
    "name": "ipython",
    "version": 3
   },
   "file_extension": ".py",
   "mimetype": "text/x-python",
   "name": "python",
   "nbconvert_exporter": "python",
   "pygments_lexer": "ipython3",
   "version": "3.8.5-final"
  },
  "orig_nbformat": 2,
  "kernelspec": {
   "name": "python3",
   "display_name": "Python 3.8.5 32-bit",
   "metadata": {
    "interpreter": {
     "hash": "1acfd3b6184b4f42ead27da0a46699636281a46bb651cb84a27d44be7cb90e5a"
    }
   }
  }
 },
 "nbformat": 4,
 "nbformat_minor": 2,
 "cells": [
  {
   "source": [
    "# Folium으로 지도 그리기"
   ],
   "cell_type": "markdown",
   "metadata": {}
  },
  {
   "source": [
    "## 한글 깨짐\n",
    "pip install git+https://github.com/python-visualization/branca.git@master"
   ],
   "cell_type": "markdown",
   "metadata": {}
  },
  {
   "cell_type": "code",
   "execution_count": 1,
   "metadata": {},
   "outputs": [],
   "source": [
    "import pandas as pd\n",
    "import folium"
   ]
  },
  {
   "cell_type": "code",
   "execution_count": 2,
   "metadata": {},
   "outputs": [
    {
     "output_type": "execute_result",
     "data": {
      "text/plain": [
       "'0.11.0'"
      ]
     },
     "metadata": {},
     "execution_count": 2
    }
   ],
   "source": [
    "folium.__version__"
   ]
  },
  {
   "cell_type": "code",
   "execution_count": 3,
   "metadata": {},
   "outputs": [],
   "source": [
    "lat,lng = 37.517075 , 126.866543"
   ]
  },
  {
   "cell_type": "code",
   "execution_count": 4,
   "metadata": {},
   "outputs": [
    {
     "output_type": "execute_result",
     "data": {
      "text/plain": [
       "<folium.folium.Map at 0xb216508>"
      ],
      "text/html": "<div style=\"width:100%;\"><div style=\"position:relative;width:100%;height:0;padding-bottom:60%;\"><span style=\"color:#565656\">Make this Notebook Trusted to load map: File -> Trust Notebook</span><iframe src=\"about:blank\" style=\"position:absolute;width:100%;height:100%;left:0;top:0;border:none !important;\" data-html=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 onload=\"this.contentDocument.open();this.contentDocument.write(atob(this.getAttribute('data-html')));this.contentDocument.close();\" allowfullscreen webkitallowfullscreen mozallowfullscreen></iframe></div></div>"
     },
     "metadata": {},
     "execution_count": 4
    }
   ],
   "source": [
    "# 딱 그 위치까지만 가져다 놓기\n",
    "mapping = folium.Map([lat,lng], zoom_start =13)\n",
    "# zoom_start: 배율\n",
    "mapping"
   ]
  },
  {
   "cell_type": "code",
   "execution_count": 40,
   "metadata": {},
   "outputs": [
    {
     "output_type": "execute_result",
     "data": {
      "text/plain": [
       "<folium.folium.Map at 0x10863a78>"
      ],
      "text/html": "<div style=\"width:100%;\"><div style=\"position:relative;width:100%;height:0;padding-bottom:60%;\"><span style=\"color:#565656\">Make this Notebook Trusted to load map: File -> Trust Notebook</span><iframe src=\"about:blank\" style=\"position:absolute;width:100%;height:100%;left:0;top:0;border:none !important;\" data-html=PCFET0NUWVBFIGh0bWw+CjxoZWFkPiAgICAKICAgIDxtZXRhIGh0dHAtZXF1aXY9ImNvbnRlbnQtdHlwZSIgY29udGVudD0idGV4dC9odG1sOyBjaGFyc2V0PVVURi04IiAvPgogICAgCiAgICAgICAgPHNjcmlwdD4KICAgICAgICAgICAgTF9OT19UT1VDSCA9IGZhbHNlOwogICAgICAgICAgICBMX0RJU0FCTEVfM0QgPSBmYWxzZTsKICAgICAgICA8L3NjcmlwdD4KICAgIAogICAgPHNjcmlwdCBzcmM9Imh0dHBzOi8vY2RuLmpzZGVsaXZyLm5ldC9ucG0vbGVhZmxldEAxLjYuMC9kaXN0L2xlYWZsZXQuanMiPjwvc2NyaXB0PgogICAgPHNjcmlwdCBzcmM9Imh0dHBzOi8vY29kZS5qcXVlcnkuY29tL2pxdWVyeS0xLjEyLjQubWluLmpzIj48L3NjcmlwdD4KICAgIDxzY3JpcHQgc3JjPSJodHRwczovL21heGNkbi5ib290c3RyYXBjZG4uY29tL2Jvb3RzdHJhcC8zLjIuMC9qcy9ib290c3RyYXAubWluLmpzIj48L3NjcmlwdD4KICAgIDxzY3JpcHQgc3JjPSJodHRwczovL2NkbmpzLmNsb3VkZmxhcmUuY29tL2FqYXgvbGlicy9MZWFmbGV0LmF3ZXNvbWUtbWFya2Vycy8yLjAuMi9sZWFmbGV0LmF3ZXNvbWUtbWFya2Vycy5qcyI+PC9zY3JpcHQ+CiAgICA8bGluayByZWw9InN0eWxlc2hlZXQiIGhyZWY9Imh0dHBzOi8vY2RuLmpzZGVsaXZyLm5ldC9ucG0vbGVhZmxldEAxLjYuMC9kaXN0L2xlYWZsZXQuY3NzIi8+CiAgICA8bGluayByZWw9InN0eWxlc2hlZXQiIGhyZWY9Imh0dHBzOi8vbWF4Y2RuLmJvb3RzdHJhcGNkbi5jb20vYm9vdHN0cmFwLzMuMi4wL2Nzcy9ib290c3RyYXAubWluLmNzcyIvPgogICAgPGxpbmsgcmVsPSJzdHlsZXNoZWV0IiBocmVmPSJodHRwczovL21heGNkbi5ib290c3RyYXBjZG4uY29tL2Jvb3RzdHJhcC8zLjIuMC9jc3MvYm9vdHN0cmFwLXRoZW1lLm1pbi5jc3MiLz4KICAgIDxsaW5rIHJlbD0ic3R5bGVzaGVldCIgaHJlZj0iaHR0cHM6Ly9tYXhjZG4uYm9vdHN0cmFwY2RuLmNvbS9mb250LWF3ZXNvbWUvNC42LjMvY3NzL2ZvbnQtYXdlc29tZS5taW4uY3NzIi8+CiAgICA8bGluayByZWw9InN0eWxlc2hlZXQiIGhyZWY9Imh0dHBzOi8vY2RuanMuY2xvdWRmbGFyZS5jb20vYWpheC9saWJzL0xlYWZsZXQuYXdlc29tZS1tYXJrZXJzLzIuMC4yL2xlYWZsZXQuYXdlc29tZS1tYXJrZXJzLmNzcyIvPgogICAgPGxpbmsgcmVsPSJzdHlsZXNoZWV0IiBocmVmPSJodHRwczovL3Jhd2Nkbi5naXRoYWNrLmNvbS9weXRob24tdmlzdWFsaXphdGlvbi9mb2xpdW0vbWFzdGVyL2ZvbGl1bS90ZW1wbGF0ZXMvbGVhZmxldC5hd2Vzb21lLnJvdGF0ZS5jc3MiLz4KICAgIDxzdHlsZT5odG1sLCBib2R5IHt3aWR0aDogMTAwJTtoZWlnaHQ6IDEwMCU7bWFyZ2luOiAwO3BhZGRpbmc6IDA7fTwvc3R5bGU+CiAgICA8c3R5bGU+I21hcCB7cG9zaXRpb246YWJzb2x1dGU7dG9wOjA7Ym90dG9tOjA7cmlnaHQ6MDtsZWZ0OjA7fTwvc3R5bGU+CiAgICAKICAgICAgICAgICAgPG1ldGEgbmFtZT0idmlld3BvcnQiIGNvbnRlbnQ9IndpZHRoPWRldmljZS13aWR0aCwKICAgICAgICAgICAgICAgIGluaXRpYWwtc2NhbGU9MS4wLCBtYXhpbXVtLXNjYWxlPTEuMCwgdXNlci1zY2FsYWJsZT1ubyIgLz4KICAgICAgICAgICAgPHN0eWxlPgogICAgICAgICAgICAgICAgI21hcF8yNjIzN2JiMWZlOWI0ZjM2ODg2NmZlN2NlODcyNGRlMCB7CiAgICAgICAgICAgICAgICAgICAgcG9zaXRpb246IHJlbGF0aXZlOwogICAgICAgICAgICAgICAgICAgIHdpZHRoOiAxMDAuMCU7CiAgICAgICAgICAgICAgICAgICAgaGVpZ2h0OiAxMDAuMCU7CiAgICAgICAgICAgICAgICAgICAgbGVmdDogMC4wJTsKICAgICAgICAgICAgICAgICAgICB0b3A6IDAuMCU7CiAgICAgICAgICAgICAgICB9CiAgICAgICAgICAgIDwvc3R5bGU+CiAgICAgICAgCjwvaGVhZD4KPGJvZHk+ICAgIAogICAgCiAgICAgICAgICAgIDxkaXYgY2xhc3M9ImZvbGl1bS1tYXAiIGlkPSJtYXBfMjYyMzdiYjFmZTliNGYzNjg4NjZmZTdjZTg3MjRkZTAiID48L2Rpdj4KICAgICAgICAKPC9ib2R5Pgo8c2NyaXB0PiAgICAKICAgIAogICAgICAgICAgICB2YXIgbWFwXzI2MjM3YmIxZmU5YjRmMzY4ODY2ZmU3Y2U4NzI0ZGUwID0gTC5tYXAoCiAgICAgICAgICAgICAgICAibWFwXzI2MjM3YmIxZmU5YjRmMzY4ODY2ZmU3Y2U4NzI0ZGUwIiwKICAgICAgICAgICAgICAgIHsKICAgICAgICAgICAgICAgICAgICBjZW50ZXI6IFszNy41MTcwNzUsIDEyNi44NjY1NDNdLAogICAgICAgICAgICAgICAgICAgIGNyczogTC5DUlMuRVBTRzM4NTcsCiAgICAgICAgICAgICAgICAgICAgem9vbTogMTIsCiAgICAgICAgICAgICAgICAgICAgem9vbUNvbnRyb2w6IHRydWUsCiAgICAgICAgICAgICAgICAgICAgcHJlZmVyQ2FudmFzOiBmYWxzZSwKICAgICAgICAgICAgICAgIH0KICAgICAgICAgICAgKTsKCiAgICAgICAgICAgIAoKICAgICAgICAKICAgIAogICAgICAgICAgICB2YXIgdGlsZV9sYXllcl9jM2I0ZWMxYWQyMTM0ZTk3ODFkM2UwMmFlNDM3YmE1YSA9IEwudGlsZUxheWVyKAogICAgICAgICAgICAgICAgImh0dHBzOi8vc3RhbWVuLXRpbGVzLXtzfS5hLnNzbC5mYXN0bHkubmV0L3RvbmVyL3t6fS97eH0ve3l9LnBuZyIsCiAgICAgICAgICAgICAgICB7ImF0dHJpYnV0aW9uIjogIk1hcCB0aWxlcyBieSBcdTAwM2NhIGhyZWY9XCJodHRwOi8vc3RhbWVuLmNvbVwiXHUwMDNlU3RhbWVuIERlc2lnblx1MDAzYy9hXHUwMDNlLCB1bmRlciBcdTAwM2NhIGhyZWY9XCJodHRwOi8vY3JlYXRpdmVjb21tb25zLm9yZy9saWNlbnNlcy9ieS8zLjBcIlx1MDAzZUNDIEJZIDMuMFx1MDAzYy9hXHUwMDNlLiBEYXRhIGJ5IFx1MDAyNmNvcHk7IFx1MDAzY2EgaHJlZj1cImh0dHA6Ly9vcGVuc3RyZWV0bWFwLm9yZ1wiXHUwMDNlT3BlblN0cmVldE1hcFx1MDAzYy9hXHUwMDNlLCB1bmRlciBcdTAwM2NhIGhyZWY9XCJodHRwOi8vd3d3Lm9wZW5zdHJlZXRtYXAub3JnL2NvcHlyaWdodFwiXHUwMDNlT0RiTFx1MDAzYy9hXHUwMDNlLiIsICJkZXRlY3RSZXRpbmEiOiBmYWxzZSwgIm1heE5hdGl2ZVpvb20iOiAxOCwgIm1heFpvb20iOiAxOCwgIm1pblpvb20iOiAwLCAibm9XcmFwIjogZmFsc2UsICJvcGFjaXR5IjogMSwgInN1YmRvbWFpbnMiOiAiYWJjIiwgInRtcyI6IGZhbHNlfQogICAgICAgICAgICApLmFkZFRvKG1hcF8yNjIzN2JiMWZlOWI0ZjM2ODg2NmZlN2NlODcyNGRlMCk7CiAgICAgICAgCiAgICAKICAgICAgICAgICAgdmFyIG1hcmtlcl9iZWMxODE1ZGI2NmM0MDVkOTU3MDZkZGNmNjQzZjAxOCA9IEwubWFya2VyKAogICAgICAgICAgICAgICAgWzM3LjU1MDk2NiwgMTI2Ljg0OTUzMl0sCiAgICAgICAgICAgICAgICB7fQogICAgICAgICAgICApLmFkZFRvKG1hcF8yNjIzN2JiMWZlOWI0ZjM2ODg2NmZlN2NlODcyNGRlMCk7CiAgICAgICAgCiAgICAKICAgICAgICAgICAgdmFyIGljb25fMmQ2ZjkwZTZkYWZiNGY0OWE0YjlkMDExMGI3MTAwMTIgPSBMLkF3ZXNvbWVNYXJrZXJzLmljb24oCiAgICAgICAgICAgICAgICB7ImV4dHJhQ2xhc3NlcyI6ICJmYS1yb3RhdGUtMCIsICJpY29uIjogImNsb3VkIiwgImljb25Db2xvciI6ICJ3aGl0ZSIsICJtYXJrZXJDb2xvciI6ICJibHVlIiwgInByZWZpeCI6ICJnbHlwaGljb24ifQogICAgICAgICAgICApOwogICAgICAgICAgICBtYXJrZXJfYmVjMTgxNWRiNjZjNDA1ZDk1NzA2ZGRjZjY0M2YwMTguc2V0SWNvbihpY29uXzJkNmY5MGU2ZGFmYjRmNDlhNGI5ZDAxMTBiNzEwMDEyKTsKICAgICAgICAKICAgIAogICAgICAgIHZhciBwb3B1cF8yZDIwYTRmNGM1MWM0ZjVhOTgwNjE2NWFkYzI3MDQxYiA9IEwucG9wdXAoeyJtYXhXaWR0aCI6ICIxMDAlIn0pOwoKICAgICAgICAKICAgICAgICAgICAgdmFyIGh0bWxfYjFlOTU5ZjIzY2ZlNGM2NjgzMDMxOTZjMDYwODM4MDQgPSAkKGA8ZGl2IGlkPSJodG1sX2IxZTk1OWYyM2NmZTRjNjY4MzAzMTk2YzA2MDgzODA0IiBzdHlsZT0id2lkdGg6IDEwMC4wJTsgaGVpZ2h0OiAxMDAuMCU7Ij7qsJXshJzqtazssq08L2Rpdj5gKVswXTsKICAgICAgICAgICAgcG9wdXBfMmQyMGE0ZjRjNTFjNGY1YTk4MDYxNjVhZGMyNzA0MWIuc2V0Q29udGVudChodG1sX2IxZTk1OWYyM2NmZTRjNjY4MzAzMTk2YzA2MDgzODA0KTsKICAgICAgICAKCiAgICAgICAgbWFya2VyX2JlYzE4MTVkYjY2YzQwNWQ5NTcwNmRkY2Y2NDNmMDE4LmJpbmRQb3B1cChwb3B1cF8yZDIwYTRmNGM1MWM0ZjVhOTgwNjE2NWFkYzI3MDQxYikKICAgICAgICA7CgogICAgICAgIAogICAgCiAgICAKICAgICAgICAgICAgdmFyIG1hcmtlcl9jYWRhZDA1YTQ0OTY0YmViOGI5MWY3YjM3NTI2Zjg4OSA9IEwubWFya2VyKAogICAgICAgICAgICAgICAgWzM3LjUxNzA3NSwgMTI2Ljg2NjU0M10sCiAgICAgICAgICAgICAgICB7fQogICAgICAgICAgICApLmFkZFRvKG1hcF8yNjIzN2JiMWZlOWI0ZjM2ODg2NmZlN2NlODcyNGRlMCk7CiAgICAgICAgCiAgICAKICAgICAgICAgICAgdmFyIGljb25fNTUzODczMmJjYTI4NGJkZjg2YWQ1YWY0NTdiMWZhNDkgPSBMLkF3ZXNvbWVNYXJrZXJzLmljb24oCiAgICAgICAgICAgICAgICB7ImV4dHJhQ2xhc3NlcyI6ICJmYS1yb3RhdGUtMCIsICJpY29uIjogImluZm8tc2lnbiIsICJpY29uQ29sb3IiOiAid2hpdGUiLCAibWFya2VyQ29sb3IiOiAiZ3JlZW4iLCAicHJlZml4IjogImdseXBoaWNvbiJ9CiAgICAgICAgICAgICk7CiAgICAgICAgICAgIG1hcmtlcl9jYWRhZDA1YTQ0OTY0YmViOGI5MWY3YjM3NTI2Zjg4OS5zZXRJY29uKGljb25fNTUzODczMmJjYTI4NGJkZjg2YWQ1YWY0NTdiMWZhNDkpOwogICAgICAgIAogICAgCiAgICAgICAgdmFyIHBvcHVwXzE3MzlhNDE5NjY0MjQzMWU4MzVjOTc3OTc5ZjgxZjNkID0gTC5wb3B1cCh7Im1heFdpZHRoIjogIjEwMCUifSk7CgogICAgICAgIAogICAgICAgICAgICB2YXIgaHRtbF9kMWE2ZThmZTZjMmQ0NmRiOGE4YzJiZTVmMDEyNGUzZSA9ICQoYDxkaXYgaWQ9Imh0bWxfZDFhNmU4ZmU2YzJkNDZkYjhhOGMyYmU1ZjAxMjRlM2UiIHN0eWxlPSJ3aWR0aDogMTAwLjAlOyBoZWlnaHQ6IDEwMC4wJTsiPuyWkeyynOq1rOyyrTwvZGl2PmApWzBdOwogICAgICAgICAgICBwb3B1cF8xNzM5YTQxOTY2NDI0MzFlODM1Yzk3Nzk3OWY4MWYzZC5zZXRDb250ZW50KGh0bWxfZDFhNmU4ZmU2YzJkNDZkYjhhOGMyYmU1ZjAxMjRlM2UpOwogICAgICAgIAoKICAgICAgICBtYXJrZXJfY2FkYWQwNWE0NDk2NGJlYjhiOTFmN2IzNzUyNmY4ODkuYmluZFBvcHVwKHBvcHVwXzE3MzlhNDE5NjY0MjQzMWU4MzVjOTc3OTc5ZjgxZjNkKQogICAgICAgIDsKCiAgICAgICAgCiAgICAKICAgIAogICAgICAgICAgICB2YXIgbWFya2VyXzQ3ODUwNmFkNjk4NzQxZDNiZmIwMWFhYjMwMjJlYTViID0gTC5tYXJrZXIoCiAgICAgICAgICAgICAgICBbMzcuNTAzNTgxLCAxMjYuNzY1MzM3XSwKICAgICAgICAgICAgICAgIHt9CiAgICAgICAgICAgICkuYWRkVG8obWFwXzI2MjM3YmIxZmU5YjRmMzY4ODY2ZmU3Y2U4NzI0ZGUwKTsKICAgICAgICAKICAgIAogICAgICAgICAgICB2YXIgaWNvbl83MjY4YTdmYWE4Njk0MzlhYmEzMGQ0ZTE2ZGFmYTk2YyA9IEwuQXdlc29tZU1hcmtlcnMuaWNvbigKICAgICAgICAgICAgICAgIHsiZXh0cmFDbGFzc2VzIjogImZhLXJvdGF0ZS0wIiwgImljb24iOiAiaW5mby1zaW5nIiwgImljb25Db2xvciI6ICJ3aGl0ZSIsICJtYXJrZXJDb2xvciI6ICJyZWQiLCAicHJlZml4IjogImdseXBoaWNvbiJ9CiAgICAgICAgICAgICk7CiAgICAgICAgICAgIG1hcmtlcl80Nzg1MDZhZDY5ODc0MWQzYmZiMDFhYWIzMDIyZWE1Yi5zZXRJY29uKGljb25fNzI2OGE3ZmFhODY5NDM5YWJhMzBkNGUxNmRhZmE5NmMpOwogICAgICAgIAogICAgCiAgICAgICAgdmFyIHBvcHVwX2QzNmU0YWVjNDRjOTRmYWI4MDk1ZDA3ZmI0MWExN2VkID0gTC5wb3B1cCh7Im1heFdpZHRoIjogIjEwMCUifSk7CgogICAgICAgIAogICAgICAgICAgICB2YXIgaHRtbF82MWExYzRiZjc2NzA0MzUwODYzMjZjNTE4MGUxMjcwOCA9ICQoYDxkaXYgaWQ9Imh0bWxfNjFhMWM0YmY3NjcwNDM1MDg2MzI2YzUxODBlMTI3MDgiIHN0eWxlPSJ3aWR0aDogMTAwLjAlOyBoZWlnaHQ6IDEwMC4wJTsiPuu2gOyynOyLnOyyrTwvZGl2PmApWzBdOwogICAgICAgICAgICBwb3B1cF9kMzZlNGFlYzQ0Yzk0ZmFiODA5NWQwN2ZiNDFhMTdlZC5zZXRDb250ZW50KGh0bWxfNjFhMWM0YmY3NjcwNDM1MDg2MzI2YzUxODBlMTI3MDgpOwogICAgICAgIAoKICAgICAgICBtYXJrZXJfNDc4NTA2YWQ2OTg3NDFkM2JmYjAxYWFiMzAyMmVhNWIuYmluZFBvcHVwKHBvcHVwX2QzNmU0YWVjNDRjOTRmYWI4MDk1ZDA3ZmI0MWExN2VkKQogICAgICAgIDsKCiAgICAgICAgCiAgICAKICAgIAogICAgICAgICAgICB2YXIgY2lyY2xlX21hcmtlcl8xNmJhMTFkYTFhN2U0NGRlOTk1ODEzMDVkMjQ1OTMzYSA9IEwuY2lyY2xlTWFya2VyKAogICAgICAgICAgICAgICAgWzM3LjU1MDk2NiwgMTI2Ljg0OTUzMl0sCiAgICAgICAgICAgICAgICB7ImJ1YmJsaW5nTW91c2VFdmVudHMiOiB0cnVlLCAiY29sb3IiOiAiIzMxODZjYyIsICJkYXNoQXJyYXkiOiBudWxsLCAiZGFzaE9mZnNldCI6IG51bGwsICJmaWxsIjogZmFsc2UsICJmaWxsQ29sb3IiOiAiIzMxODZjYyIsICJmaWxsT3BhY2l0eSI6IDAuMiwgImZpbGxSdWxlIjogImV2ZW5vZGQiLCAibGluZUNhcCI6ICJyb3VuZCIsICJsaW5lSm9pbiI6ICJyb3VuZCIsICJvcGFjaXR5IjogMS4wLCAicmFkaXVzIjogNTAsICJzdHJva2UiOiB0cnVlLCAid2VpZ2h0IjogM30KICAgICAgICAgICAgKS5hZGRUbyhtYXBfMjYyMzdiYjFmZTliNGYzNjg4NjZmZTdjZTg3MjRkZTApOwogICAgICAgIAogICAgCiAgICAgICAgdmFyIHBvcHVwXzNhNDNjNGQ4YzRjNjQ0N2FhZDFiNDU4ZGEyN2I2OTQ2ID0gTC5wb3B1cCh7Im1heFdpZHRoIjogIjEwMCUifSk7CgogICAgICAgIAogICAgICAgICAgICB2YXIgaHRtbF81OTIyYzkyMzBhNjA0MDAwYjc2NDNlNzMwODE5Y2ExMyA9ICQoYDxkaXYgaWQ9Imh0bWxfNTkyMmM5MjMwYTYwNDAwMGI3NjQzZTczMDgxOWNhMTMiIHN0eWxlPSJ3aWR0aDogMTAwLjAlOyBoZWlnaHQ6IDEwMC4wJTsiPuybkCDqt7jrprw8L2Rpdj5gKVswXTsKICAgICAgICAgICAgcG9wdXBfM2E0M2M0ZDhjNGM2NDQ3YWFkMWI0NThkYTI3YjY5NDYuc2V0Q29udGVudChodG1sXzU5MjJjOTIzMGE2MDQwMDBiNzY0M2U3MzA4MTljYTEzKTsKICAgICAgICAKCiAgICAgICAgY2lyY2xlX21hcmtlcl8xNmJhMTFkYTFhN2U0NGRlOTk1ODEzMDVkMjQ1OTMzYS5iaW5kUG9wdXAocG9wdXBfM2E0M2M0ZDhjNGM2NDQ3YWFkMWI0NThkYTI3YjY5NDYpCiAgICAgICAgOwoKICAgICAgICAKICAgIAo8L3NjcmlwdD4= onload=\"this.contentDocument.open();this.contentDocument.write(atob(this.getAttribute('data-html')));this.contentDocument.close();\" allowfullscreen webkitallowfullscreen mozallowfullscreen></iframe></div></div>"
     },
     "metadata": {},
     "execution_count": 40
    }
   ],
   "source": [
    "# https://getbootstrap.com/docs/3.4/components/ 에서 가져올 수 있음\n",
    "# 이름은 맨 마지막 행만, asterisk, plus, euro, eur, minus 이렇게\n",
    "# default는 map marker\n",
    "\n",
    "mapping = folium.Map([lat,lng], zoom_start =12, tiles='Stamen Toner')\n",
    "\n",
    "folium.Marker(\n",
    "    [37.550966,126.849532],\n",
    "    popup='강서구청',\n",
    "    icon= folium.Icon(icon='cloud')\n",
    ").add_to(mapping)\n",
    "folium.Marker(\n",
    "    [37.517075,126.866543],\n",
    "    popup='양천구청',\n",
    "    icon= folium.Icon(color='green')\n",
    ").add_to(mapping)\n",
    "folium.Marker(\n",
    "    [37.503581,126.765337],\n",
    "    popup='부천시청',\n",
    "    icon= folium.Icon(color='red',icon='info-sing')\n",
    ").add_to(mapping)\n",
    "\n",
    "folium.CircleMarker(\n",
    "        location = [37.550966,126.849532],\n",
    "        radius = 50,\n",
    "        popup = '원 그림',\n",
    "        color = '#3186cc',\n",
    "        ).add_to(mapping)\n",
    "\n",
    "mapping"
   ]
  },
  {
   "source": [
    "### address3.csv를 지도 위에 표시하기"
   ],
   "cell_type": "markdown",
   "metadata": {}
  },
  {
   "cell_type": "code",
   "execution_count": 16,
   "metadata": {},
   "outputs": [
    {
     "output_type": "execute_result",
     "data": {
      "text/plain": [
       "Index(['Unnamed: 0', '구청', '주소', 'lat', 'lng', 'weather', 'desc', 'temp',\n",
       "       'temp_min', 'temp_max'],\n",
       "      dtype='object')"
      ]
     },
     "metadata": {},
     "execution_count": 16
    }
   ],
   "source": [
    "df = pd.read_csv('address3.csv')\n",
    "df.columns"
   ]
  },
  {
   "cell_type": "code",
   "execution_count": 17,
   "metadata": {},
   "outputs": [],
   "source": [
    "del df['Unnamed: 0']"
   ]
  },
  {
   "cell_type": "code",
   "execution_count": 18,
   "metadata": {},
   "outputs": [
    {
     "output_type": "execute_result",
     "data": {
      "text/plain": [
       "           구청                          주소        lat         lng weather  \\\n",
       "0        강서구청     서울특별시 강서구 화곡로 302 (화곡동)  37.550966  126.849532  Clouds   \n",
       "1        양천구청    서울특별시 양천구 목동동로 105 (신정동)  37.517075  126.866543  Clouds   \n",
       "2  부천시청/부천시의회        경기도 부천시 길주로 210 (중동)  37.503581  126.765337  Clouds   \n",
       "3       영등포구청  서울특별시 영등포구 당산로 123 (당산동3가)  37.525963  126.896367  Clouds   \n",
       "4        김포시청        경기도 김포시 사우중로 1 (사우동)  37.615190  126.715717  Clouds   \n",
       "\n",
       "              desc  temp  temp_min  temp_max  \n",
       "0    broken clouds   3.7         3         4  \n",
       "1    broken clouds   4.3         4         5  \n",
       "2    broken clouds   3.7         3         4  \n",
       "3  overcast clouds   4.3         4         5  \n",
       "4    broken clouds   3.7         3         4  "
      ],
      "text/html": "<div>\n<style scoped>\n    .dataframe tbody tr th:only-of-type {\n        vertical-align: middle;\n    }\n\n    .dataframe tbody tr th {\n        vertical-align: top;\n    }\n\n    .dataframe thead th {\n        text-align: right;\n    }\n</style>\n<table border=\"1\" class=\"dataframe\">\n  <thead>\n    <tr style=\"text-align: right;\">\n      <th></th>\n      <th>구청</th>\n      <th>주소</th>\n      <th>lat</th>\n      <th>lng</th>\n      <th>weather</th>\n      <th>desc</th>\n      <th>temp</th>\n      <th>temp_min</th>\n      <th>temp_max</th>\n    </tr>\n  </thead>\n  <tbody>\n    <tr>\n      <th>0</th>\n      <td>강서구청</td>\n      <td>서울특별시 강서구 화곡로 302 (화곡동)</td>\n      <td>37.550966</td>\n      <td>126.849532</td>\n      <td>Clouds</td>\n      <td>broken clouds</td>\n      <td>3.7</td>\n      <td>3</td>\n      <td>4</td>\n    </tr>\n    <tr>\n      <th>1</th>\n      <td>양천구청</td>\n      <td>서울특별시 양천구 목동동로 105 (신정동)</td>\n      <td>37.517075</td>\n      <td>126.866543</td>\n      <td>Clouds</td>\n      <td>broken clouds</td>\n      <td>4.3</td>\n      <td>4</td>\n      <td>5</td>\n    </tr>\n    <tr>\n      <th>2</th>\n      <td>부천시청/부천시의회</td>\n      <td>경기도 부천시 길주로 210 (중동)</td>\n      <td>37.503581</td>\n      <td>126.765337</td>\n      <td>Clouds</td>\n      <td>broken clouds</td>\n      <td>3.7</td>\n      <td>3</td>\n      <td>4</td>\n    </tr>\n    <tr>\n      <th>3</th>\n      <td>영등포구청</td>\n      <td>서울특별시 영등포구 당산로 123 (당산동3가)</td>\n      <td>37.525963</td>\n      <td>126.896367</td>\n      <td>Clouds</td>\n      <td>overcast clouds</td>\n      <td>4.3</td>\n      <td>4</td>\n      <td>5</td>\n    </tr>\n    <tr>\n      <th>4</th>\n      <td>김포시청</td>\n      <td>경기도 김포시 사우중로 1 (사우동)</td>\n      <td>37.615190</td>\n      <td>126.715717</td>\n      <td>Clouds</td>\n      <td>broken clouds</td>\n      <td>3.7</td>\n      <td>3</td>\n      <td>4</td>\n    </tr>\n  </tbody>\n</table>\n</div>"
     },
     "metadata": {},
     "execution_count": 18
    }
   ],
   "source": [
    "df"
   ]
  },
  {
   "cell_type": "code",
   "execution_count": 19,
   "metadata": {},
   "outputs": [],
   "source": [
    "df['icon'] = [\n",
    "    'euro',\n",
    "    'cloud',\n",
    "    'glass',\n",
    "    'music',\n",
    "    'search',\n",
    "]"
   ]
  },
  {
   "cell_type": "code",
   "execution_count": 20,
   "metadata": {},
   "outputs": [],
   "source": [
    "# 날씨에 따른 마커의 색\n",
    "color_dict = {\n",
    "    'Clear':'blue',\n",
    "    'Snow':'white',\n",
    "    'Rain':'gray',\n",
    "    'Extreme':'red',\n",
    "    'Clouds':'orange',\n",
    "    'Mist':'green',\n",
    "}"
   ]
  },
  {
   "cell_type": "code",
   "execution_count": 21,
   "metadata": {},
   "outputs": [
    {
     "output_type": "execute_result",
     "data": {
      "text/plain": [
       "<folium.folium.Map at 0x50002c8>"
      ],
      "text/html": "<div style=\"width:100%;\"><div style=\"position:relative;width:100%;height:0;padding-bottom:60%;\"><span style=\"color:#565656\">Make this Notebook Trusted to load map: File -> Trust Notebook</span><iframe src=\"about:blank\" style=\"position:absolute;width:100%;height:100%;left:0;top:0;border:none !important;\" data-html=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 onload=\"this.contentDocument.open();this.contentDocument.write(atob(this.getAttribute('data-html')));this.contentDocument.close();\" allowfullscreen webkitallowfullscreen mozallowfullscreen></iframe></div></div>"
     },
     "metadata": {},
     "execution_count": 21
    }
   ],
   "source": [
    "# 5개 구청의 중심 구하기\n",
    "mapping = folium.Map([df.lat.mean(),df.lng.mean()], zoom_start =13)\n",
    "mapping"
   ]
  },
  {
   "cell_type": "code",
   "execution_count": 43,
   "metadata": {},
   "outputs": [
    {
     "output_type": "execute_result",
     "data": {
      "text/plain": [
       "           구청                          주소        lat         lng weather  \\\n",
       "0        강서구청     서울특별시 강서구 화곡로 302 (화곡동)  37.550966  126.849532  Clouds   \n",
       "1        양천구청    서울특별시 양천구 목동동로 105 (신정동)  37.517075  126.866543  Clouds   \n",
       "2  부천시청/부천시의회        경기도 부천시 길주로 210 (중동)  37.503581  126.765337  Clouds   \n",
       "3       영등포구청  서울특별시 영등포구 당산로 123 (당산동3가)  37.525963  126.896367  Clouds   \n",
       "4        김포시청        경기도 김포시 사우중로 1 (사우동)  37.615190  126.715717  Clouds   \n",
       "\n",
       "              desc  temp  temp_min  temp_max    icon  \n",
       "0    broken clouds   3.7         3         4    euro  \n",
       "1    broken clouds   4.3         4         5   cloud  \n",
       "2    broken clouds   3.7         3         4   glass  \n",
       "3  overcast clouds   4.3         4         5   music  \n",
       "4    broken clouds   3.7         3         4  search  "
      ],
      "text/html": "<div>\n<style scoped>\n    .dataframe tbody tr th:only-of-type {\n        vertical-align: middle;\n    }\n\n    .dataframe tbody tr th {\n        vertical-align: top;\n    }\n\n    .dataframe thead th {\n        text-align: right;\n    }\n</style>\n<table border=\"1\" class=\"dataframe\">\n  <thead>\n    <tr style=\"text-align: right;\">\n      <th></th>\n      <th>구청</th>\n      <th>주소</th>\n      <th>lat</th>\n      <th>lng</th>\n      <th>weather</th>\n      <th>desc</th>\n      <th>temp</th>\n      <th>temp_min</th>\n      <th>temp_max</th>\n      <th>icon</th>\n    </tr>\n  </thead>\n  <tbody>\n    <tr>\n      <th>0</th>\n      <td>강서구청</td>\n      <td>서울특별시 강서구 화곡로 302 (화곡동)</td>\n      <td>37.550966</td>\n      <td>126.849532</td>\n      <td>Clouds</td>\n      <td>broken clouds</td>\n      <td>3.7</td>\n      <td>3</td>\n      <td>4</td>\n      <td>euro</td>\n    </tr>\n    <tr>\n      <th>1</th>\n      <td>양천구청</td>\n      <td>서울특별시 양천구 목동동로 105 (신정동)</td>\n      <td>37.517075</td>\n      <td>126.866543</td>\n      <td>Clouds</td>\n      <td>broken clouds</td>\n      <td>4.3</td>\n      <td>4</td>\n      <td>5</td>\n      <td>cloud</td>\n    </tr>\n    <tr>\n      <th>2</th>\n      <td>부천시청/부천시의회</td>\n      <td>경기도 부천시 길주로 210 (중동)</td>\n      <td>37.503581</td>\n      <td>126.765337</td>\n      <td>Clouds</td>\n      <td>broken clouds</td>\n      <td>3.7</td>\n      <td>3</td>\n      <td>4</td>\n      <td>glass</td>\n    </tr>\n    <tr>\n      <th>3</th>\n      <td>영등포구청</td>\n      <td>서울특별시 영등포구 당산로 123 (당산동3가)</td>\n      <td>37.525963</td>\n      <td>126.896367</td>\n      <td>Clouds</td>\n      <td>overcast clouds</td>\n      <td>4.3</td>\n      <td>4</td>\n      <td>5</td>\n      <td>music</td>\n    </tr>\n    <tr>\n      <th>4</th>\n      <td>김포시청</td>\n      <td>경기도 김포시 사우중로 1 (사우동)</td>\n      <td>37.615190</td>\n      <td>126.715717</td>\n      <td>Clouds</td>\n      <td>broken clouds</td>\n      <td>3.7</td>\n      <td>3</td>\n      <td>4</td>\n      <td>search</td>\n    </tr>\n  </tbody>\n</table>\n</div>"
     },
     "metadata": {},
     "execution_count": 43
    }
   ],
   "source": [
    "df"
   ]
  },
  {
   "cell_type": "code",
   "execution_count": 44,
   "metadata": {},
   "outputs": [
    {
     "output_type": "execute_result",
     "data": {
      "text/plain": [
       "<folium.folium.Map at 0x1033f3e8>"
      ],
      "text/html": "<div style=\"width:100%;\"><div style=\"position:relative;width:100%;height:0;padding-bottom:60%;\"><span style=\"color:#565656\">Make this Notebook Trusted to load map: File -> Trust Notebook</span><iframe src=\"about:blank\" style=\"position:absolute;width:100%;height:100%;left:0;top:0;border:none !important;\" data-html=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 onload=\"this.contentDocument.open();this.contentDocument.write(atob(this.getAttribute('data-html')));this.contentDocument.close();\" allowfullscreen webkitallowfullscreen mozallowfullscreen></iframe></div></div>"
     },
     "metadata": {},
     "execution_count": 44
    }
   ],
   "source": [
    "mapping = folium.Map([df.lat.mean(),df.lng.mean()], zoom_start =13)\n",
    "\n",
    "for i in df.index:\n",
    "    folium.Marker(\n",
    "        location=[df.lat[i], df.lng[i]],\n",
    "        popup=df['주소'][i],\n",
    "        tooltip=f\"{df['desc'][i]},{df['temp'][i]}\",\n",
    "        icon=folium.Icon(color=color_dict[df.weather[i]], icon=df.icon[i])\n",
    "        ).add_to(mapping)\n",
    "\n",
    "mapping"
   ]
  }
 ]
}