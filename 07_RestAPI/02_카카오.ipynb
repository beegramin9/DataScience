{
 "metadata": {
  "language_info": {
   "codemirror_mode": {
    "name": "ipython",
    "version": 3
   },
   "file_extension": ".py",
   "mimetype": "text/x-python",
   "name": "python",
   "nbconvert_exporter": "python",
   "pygments_lexer": "ipython3",
   "version": "3.8.5-final"
  },
  "orig_nbformat": 2,
  "kernelspec": {
   "name": "python3",
   "display_name": "Python 3"
  }
 },
 "nbformat": 4,
 "nbformat_minor": 2,
 "cells": [
  {
   "source": [
    "# Kakaomap API 받기\n",
    "### 도로명주소로부터 위도, 경도 구하기\n",
    "https://apis.map.kakao.com/ 에서 APP KEY 발급 => 애플리케이션 추가하기<br>"
   ],
   "cell_type": "markdown",
   "metadata": {}
  },
  {
   "cell_type": "code",
   "execution_count": 10,
   "metadata": {},
   "outputs": [],
   "source": [
    "import requests\n",
    "from urllib.parse import urlparse\n",
    "import pandas as pd"
   ]
  },
  {
   "cell_type": "code",
   "execution_count": 11,
   "metadata": {},
   "outputs": [],
   "source": [
    "# key 가져오기\n",
    "# https://developers.kakao.com/console/app/506999\n",
    "\n",
    "# 발급받은 4개의 키 중 restAPI를 txt파일에 담으면 된다.\n",
    "key_fd = open('../keys/kakaomapkey.txt', mode='r', encoding='utf8')\n",
    "kmap_key = key_fd.read(100)\n",
    "key_fd.close()"
   ]
  },
  {
   "cell_type": "code",
   "execution_count": 16,
   "metadata": {},
   "outputs": [],
   "source": [
    "addr = '서울특별시 강서구 화곡로 302 (화곡동)'\n",
    "\n",
    "# https://developers.kakao.com/docs/latest/ko/daum-search/dev-guide\n",
    "# 에서 키 집어넣는 방법 알려줌\n",
    "# http://blog.daum.net/geoscience/1436\n",
    "\n",
    "\n",
    "url = 'https://dapi.kakao.com/v2/local/search/address.json?query='+addr\n",
    "\n",
    "result = requests.get(urlparse(url).geturl(), headers={'Authorization':'KakaoAK '+kmap_key}).json() # KakaoAK 뒤 space하나 조심!"
   ]
  },
  {
   "cell_type": "code",
   "execution_count": 28,
   "metadata": {},
   "outputs": [
    {
     "output_type": "execute_result",
     "data": {
      "text/plain": [
       "{'documents': [{'address': {'address_name': '서울 강서구 화곡동 980-16',\n",
       "    'b_code': '1150010300',\n",
       "    'h_code': '1150059100',\n",
       "    'main_address_no': '980',\n",
       "    'mountain_yn': 'N',\n",
       "    'region_1depth_name': '서울',\n",
       "    'region_2depth_name': '강서구',\n",
       "    'region_3depth_h_name': '화곡6동',\n",
       "    'region_3depth_name': '화곡동',\n",
       "    'sub_address_no': '16',\n",
       "    'x': '126.849532173376',\n",
       "    'y': '37.5509655144007'},\n",
       "   'address_name': '서울 강서구 화곡로 302',\n",
       "   'address_type': 'ROAD_ADDR',\n",
       "   'road_address': {'address_name': '서울 강서구 화곡로 302',\n",
       "    'building_name': '강서구청',\n",
       "    'main_building_no': '302',\n",
       "    'region_1depth_name': '서울',\n",
       "    'region_2depth_name': '강서구',\n",
       "    'region_3depth_name': '화곡동',\n",
       "    'road_name': '화곡로',\n",
       "    'sub_building_no': '',\n",
       "    'underground_yn': 'N',\n",
       "    'x': '126.849532173376',\n",
       "    'y': '37.5509655144007',\n",
       "    'zone_no': '07658'},\n",
       "   'x': '126.849532173376',\n",
       "   'y': '37.5509655144007'}],\n",
       " 'meta': {'is_end': True, 'pageable_count': 1, 'total_count': 1}}"
      ]
     },
     "metadata": {},
     "execution_count": 28
    }
   ],
   "source": [
    "result"
   ]
  },
  {
   "cell_type": "code",
   "execution_count": 29,
   "metadata": {},
   "outputs": [
    {
     "output_type": "execute_result",
     "data": {
      "text/plain": [
       "('37.5509655144007', '126.849532173376')"
      ]
     },
     "metadata": {},
     "execution_count": 29
    }
   ],
   "source": [
    "# 경도 x, 위도 y\n",
    "lat = result['documents'][0]['y']\n",
    "lng = result['documents'][0]['x']\n",
    "lat, lng"
   ]
  },
  {
   "source": [
    "### address.csv 파일에 위도, 경도 추가하기"
   ],
   "cell_type": "markdown",
   "metadata": {}
  },
  {
   "cell_type": "code",
   "execution_count": 30,
   "metadata": {},
   "outputs": [
    {
     "output_type": "execute_result",
     "data": {
      "text/plain": [
       "           구청                          주소\n",
       "0        강서구청     서울특별시 강서구 화곡로 302 (화곡동)\n",
       "1        양천구청    서울특별시 양천구 목동동로 105 (신정동)\n",
       "2  부천시청/부천시의회        경기도 부천시 길주로 210 (중동)\n",
       "3       영등포구청  서울특별시 영등포구 당산로 123 (당산동3가)\n",
       "4        김포시청        경기도 김포시 사우중로 1 (사우동)"
      ],
      "text/html": "<div>\n<style scoped>\n    .dataframe tbody tr th:only-of-type {\n        vertical-align: middle;\n    }\n\n    .dataframe tbody tr th {\n        vertical-align: top;\n    }\n\n    .dataframe thead th {\n        text-align: right;\n    }\n</style>\n<table border=\"1\" class=\"dataframe\">\n  <thead>\n    <tr style=\"text-align: right;\">\n      <th></th>\n      <th>구청</th>\n      <th>주소</th>\n    </tr>\n  </thead>\n  <tbody>\n    <tr>\n      <th>0</th>\n      <td>강서구청</td>\n      <td>서울특별시 강서구 화곡로 302 (화곡동)</td>\n    </tr>\n    <tr>\n      <th>1</th>\n      <td>양천구청</td>\n      <td>서울특별시 양천구 목동동로 105 (신정동)</td>\n    </tr>\n    <tr>\n      <th>2</th>\n      <td>부천시청/부천시의회</td>\n      <td>경기도 부천시 길주로 210 (중동)</td>\n    </tr>\n    <tr>\n      <th>3</th>\n      <td>영등포구청</td>\n      <td>서울특별시 영등포구 당산로 123 (당산동3가)</td>\n    </tr>\n    <tr>\n      <th>4</th>\n      <td>김포시청</td>\n      <td>경기도 김포시 사우중로 1 (사우동)</td>\n    </tr>\n  </tbody>\n</table>\n</div>"
     },
     "metadata": {},
     "execution_count": 30
    }
   ],
   "source": [
    "df = pd.read_csv('address.csv')\n",
    "df"
   ]
  },
  {
   "cell_type": "code",
   "execution_count": 31,
   "metadata": {},
   "outputs": [
    {
     "output_type": "execute_result",
     "data": {
      "text/plain": [
       "RangeIndex(start=0, stop=5, step=1)"
      ]
     },
     "metadata": {},
     "execution_count": 31
    }
   ],
   "source": [
    "# for문 돌릴 때는 df의 index를 활용하면 쉽다.\n",
    "df.index"
   ]
  },
  {
   "cell_type": "code",
   "execution_count": 32,
   "metadata": {},
   "outputs": [],
   "source": [
    "lat_list = [] ; lng_list = []\n",
    "\n",
    "for index in df.index:\n",
    "    addr = df['주소'][index]\n",
    "    url = 'https://dapi.kakao.com/v2/local/search/address.json?query='+addr\n",
    "\n",
    "    result = requests.get(urlparse(url).geturl(), headers={'Authorization':'KakaoAK '+kmap_key}).json() \n",
    "    lat_list.append(result['documents'][0]['y'])\n",
    "    lng_list.append(result['documents'][0]['x'])\n"
   ]
  },
  {
   "cell_type": "code",
   "execution_count": 33,
   "metadata": {},
   "outputs": [],
   "source": [
    "df['lat'] = lat_list\n",
    "df['lng'] = lng_list"
   ]
  },
  {
   "cell_type": "code",
   "execution_count": 34,
   "metadata": {},
   "outputs": [
    {
     "output_type": "execute_result",
     "data": {
      "text/plain": [
       "           구청                          주소               lat               lng\n",
       "0        강서구청     서울특별시 강서구 화곡로 302 (화곡동)  37.5509655144007  126.849532173376\n",
       "1        양천구청    서울특별시 양천구 목동동로 105 (신정동)  37.5170753784215  126.866542541936\n",
       "2  부천시청/부천시의회        경기도 부천시 길주로 210 (중동)  37.5035810269294  126.765337160328\n",
       "3       영등포구청  서울특별시 영등포구 당산로 123 (당산동3가)   37.525963157053  126.896367130558\n",
       "4        김포시청        경기도 김포시 사우중로 1 (사우동)  37.6151899959384  126.715717006327"
      ],
      "text/html": "<div>\n<style scoped>\n    .dataframe tbody tr th:only-of-type {\n        vertical-align: middle;\n    }\n\n    .dataframe tbody tr th {\n        vertical-align: top;\n    }\n\n    .dataframe thead th {\n        text-align: right;\n    }\n</style>\n<table border=\"1\" class=\"dataframe\">\n  <thead>\n    <tr style=\"text-align: right;\">\n      <th></th>\n      <th>구청</th>\n      <th>주소</th>\n      <th>lat</th>\n      <th>lng</th>\n    </tr>\n  </thead>\n  <tbody>\n    <tr>\n      <th>0</th>\n      <td>강서구청</td>\n      <td>서울특별시 강서구 화곡로 302 (화곡동)</td>\n      <td>37.5509655144007</td>\n      <td>126.849532173376</td>\n    </tr>\n    <tr>\n      <th>1</th>\n      <td>양천구청</td>\n      <td>서울특별시 양천구 목동동로 105 (신정동)</td>\n      <td>37.5170753784215</td>\n      <td>126.866542541936</td>\n    </tr>\n    <tr>\n      <th>2</th>\n      <td>부천시청/부천시의회</td>\n      <td>경기도 부천시 길주로 210 (중동)</td>\n      <td>37.5035810269294</td>\n      <td>126.765337160328</td>\n    </tr>\n    <tr>\n      <th>3</th>\n      <td>영등포구청</td>\n      <td>서울특별시 영등포구 당산로 123 (당산동3가)</td>\n      <td>37.525963157053</td>\n      <td>126.896367130558</td>\n    </tr>\n    <tr>\n      <th>4</th>\n      <td>김포시청</td>\n      <td>경기도 김포시 사우중로 1 (사우동)</td>\n      <td>37.6151899959384</td>\n      <td>126.715717006327</td>\n    </tr>\n  </tbody>\n</table>\n</div>"
     },
     "metadata": {},
     "execution_count": 34
    }
   ],
   "source": [
    "df"
   ]
  },
  {
   "cell_type": "code",
   "execution_count": 35,
   "metadata": {},
   "outputs": [],
   "source": [
    "df.to_csv('address2.csv',sep=',',encoding='utf8', index=False)"
   ]
  }
 ]
}