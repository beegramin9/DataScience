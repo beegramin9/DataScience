{
 "metadata": {
  "language_info": {
   "codemirror_mode": {
    "name": "ipython",
    "version": 3
   },
   "file_extension": ".py",
   "mimetype": "text/x-python",
   "name": "python",
   "nbconvert_exporter": "python",
   "pygments_lexer": "ipython3",
   "version": "3.8.5-final"
  },
  "orig_nbformat": 2,
  "kernelspec": {
   "name": "python3",
   "display_name": "Python 3"
  }
 },
 "nbformat": 4,
 "nbformat_minor": 2,
 "cells": [
  {
   "source": [
    "# 행정안전부 도로명주소 API\n",
    "\n",
    "공공 데이터 포털/통계청/기상청 등등 <br>\n",
    "\n",
    "건물명으로부터 도로명주소 구하기 <br>\n",
    "ID: beegramin PW: 소1!\n",
    "\n"
   ],
   "cell_type": "markdown",
   "metadata": {}
  },
  {
   "cell_type": "code",
   "execution_count": 6,
   "metadata": {},
   "outputs": [],
   "source": [
    "import requests\n",
    "from urllib.parse import quote \n",
    "# urlparse: url parsing을 위한 모듈 ,quote: 한글 인코딩\n",
    "import pandas as pd\n"
   ]
  },
  {
   "source": [
    "- urlparse <br>\n",
    "url을 6요소로 분해"
   ],
   "cell_type": "markdown",
   "metadata": {}
  },
  {
   "cell_type": "code",
   "execution_count": 7,
   "metadata": {},
   "outputs": [],
   "source": [
    "key_fd = open('../keys/roadmapkey.txt', mode='r', encoding='utf8')\n",
    "roadapi_key = key_fd.read(100)\n",
    "key_fd.close()"
   ]
  },
  {
   "cell_type": "code",
   "execution_count": 8,
   "metadata": {},
   "outputs": [
    {
     "output_type": "execute_result",
     "data": {
      "text/plain": [
       "'https://www.juso.go.kr/addrlink/addrLinkApi.do?confmKey=U01TX0FVVEgyMDIwMTExOTEwMjMzNTExMDQzNzg=&currentPage=1&countPerPage=10&keyword=강서구청&resultType=json'"
      ]
     },
     "metadata": {},
     "execution_count": 8
    }
   ],
   "source": [
    "road_url = 'https://www.juso.go.kr/addrlink/addrLinkApi.do'\n",
    "# 변수집어넣는법\n",
    "# https://www.juso.go.kr/addrlink/devAddrLinkRequestGuide.do?menu=roadApi\n",
    "\n",
    "url = f'{road_url}?confmKey={roadapi_key}&currentPage=1&countPerPage=10&keyword=강서구청&resultType=json'"
   ]
  },
  {
   "cell_type": "code",
   "execution_count": 9,
   "metadata": {},
   "outputs": [
    {
     "output_type": "execute_result",
     "data": {
      "text/plain": [
       "'%EA%B0%95%EC%84%9C%EA%B5%AC%EC%B2%AD'"
      ]
     },
     "metadata": {},
     "execution_count": 9
    }
   ],
   "source": [
    "quote('강서구청')"
   ]
  },
  {
   "source": [
    "제대로 한글 인코딩을 하려면"
   ],
   "cell_type": "markdown",
   "metadata": {}
  },
  {
   "cell_type": "code",
   "execution_count": 10,
   "metadata": {},
   "outputs": [],
   "source": [
    "url = f'{road_url}?confmKey={roadapi_key}&currentPage=1&countPerPage=10&keyword={quote(\"강서구청\")}&resultType=json'"
   ]
  },
  {
   "cell_type": "code",
   "execution_count": 11,
   "metadata": {},
   "outputs": [],
   "source": [
    "# 할 때마다 복사붙여넣기\n",
    "results = requests.get(url).json()"
   ]
  },
  {
   "cell_type": "code",
   "execution_count": 12,
   "metadata": {},
   "outputs": [],
   "source": [
    "# errorMessage는 신경안써도 됨\n",
    "addr_list = results['results']['juso']\n",
    "# addr_list"
   ]
  },
  {
   "cell_type": "code",
   "execution_count": 13,
   "metadata": {},
   "outputs": [
    {
     "output_type": "execute_result",
     "data": {
      "text/plain": [
       "6"
      ]
     },
     "metadata": {},
     "execution_count": 13
    }
   ],
   "source": [
    "len(addr_list)"
   ]
  },
  {
   "cell_type": "code",
   "execution_count": 14,
   "metadata": {},
   "outputs": [
    {
     "output_type": "stream",
     "name": "stdout",
     "text": [
      "강서구청 : 서울특별시 강서구 화곡로 302 (화곡동)\n강서구청 : 서울특별시 강서구 화곡로44나길 72 (화곡동)\n강서구청 : 부산광역시 강서구 낙동북로 477 (대저1동)\n강서구청청소차고 : 서울특별시 강서구 남부순환로 208 (외발산동)\n강서구청가양동별관 : 서울특별시 강서구 양천로59길 38 (가양동)\n강서구청역 : 부산광역시 강서구 낙동북로 485 (대저1동)\n"
     ]
    }
   ],
   "source": [
    "for addr in addr_list:\n",
    "    print(addr['bdNm'],':',addr['roadAddr'])"
   ]
  },
  {
   "cell_type": "code",
   "execution_count": 15,
   "metadata": {},
   "outputs": [],
   "source": [
    "districts = [\n",
    "    '강서구청',\n",
    "    '양천구청',\n",
    "    '부천시청',\n",
    "    '영등포구청',\n",
    "    '김포시청'\n",
    "]"
   ]
  },
  {
   "cell_type": "code",
   "execution_count": 22,
   "metadata": {},
   "outputs": [
    {
     "output_type": "stream",
     "name": "stdout",
     "text": [
      "강서구청 : 서울특별시 강서구 화곡로 302 (화곡동)\n",
      "양천구청 : 서울특별시 양천구 목동동로 105 (신정동)\n",
      "부천시청/부천시의회 : 경기도 부천시 길주로 210 (중동)\n",
      "영등포구청 : 서울특별시 영등포구 당산로 123 (당산동3가)\n",
      "김포시청 : 경기도 김포시 사우중로 1 (사우동)\n"
     ]
    }
   ],
   "source": [
    "road_url = 'https://www.juso.go.kr/addrlink/addrLinkApi.do'\n",
    "\n",
    "road_address_dic = {}\n",
    "\n",
    "for district in districts:\n",
    "    url = f'{road_url}?confmKey={roadapi_key}&currentPage=1&countPerPage=10&keyword={quote(district)}&resultType=json'\n",
    "    eachresult = requests.get(urlparse(url).geturl()).json()\n",
    "    addr_list = eachresult['results']['juso']\n",
    "    #for addr in addr_list:\n",
    "\n",
    "    if addr_list[0]['bdNm'].find('부천시청') == 0:\n",
    "        road_address_dic[addr_list[2]['bdNm']] = addr_list[2]['roadAddr']\n",
    "        print(addr_list[2]['bdNm'],':',addr_list[2]['roadAddr'])\n",
    "    else:\n",
    "        road_address_dic[addr_list[0]['bdNm']] = addr_list[0]['roadAddr']\n",
    "        print(addr_list[0]['bdNm'],':',addr_list[0]['roadAddr'])"
   ]
  },
  {
   "cell_type": "code",
   "execution_count": 18,
   "metadata": {},
   "outputs": [
    {
     "output_type": "execute_result",
     "data": {
      "text/plain": [
       "{'강서구청': '서울특별시 강서구 화곡로 302 (화곡동)',\n",
       " '양천구청': '서울특별시 양천구 목동동로 105 (신정동)',\n",
       " '부천시청/부천시의회': '경기도 부천시 길주로 210 (중동)',\n",
       " '영등포구청': '서울특별시 영등포구 당산로 123 (당산동3가)',\n",
       " '김포시청': '경기도 김포시 사우중로 1 (사우동)'}"
      ]
     },
     "metadata": {},
     "execution_count": 18
    }
   ],
   "source": [
    "road_address_dic"
   ]
  },
  {
   "cell_type": "code",
   "execution_count": 19,
   "metadata": {},
   "outputs": [
    {
     "output_type": "execute_result",
     "data": {
      "text/plain": [
       "           구청                          주소\n",
       "0        강서구청     서울특별시 강서구 화곡로 302 (화곡동)\n",
       "1        양천구청    서울특별시 양천구 목동동로 105 (신정동)\n",
       "2  부천시청/부천시의회        경기도 부천시 길주로 210 (중동)\n",
       "3       영등포구청  서울특별시 영등포구 당산로 123 (당산동3가)\n",
       "4        김포시청        경기도 김포시 사우중로 1 (사우동)"
      ],
      "text/html": "<div>\n<style scoped>\n    .dataframe tbody tr th:only-of-type {\n        vertical-align: middle;\n    }\n\n    .dataframe tbody tr th {\n        vertical-align: top;\n    }\n\n    .dataframe thead th {\n        text-align: right;\n    }\n</style>\n<table border=\"1\" class=\"dataframe\">\n  <thead>\n    <tr style=\"text-align: right;\">\n      <th></th>\n      <th>구청</th>\n      <th>주소</th>\n    </tr>\n  </thead>\n  <tbody>\n    <tr>\n      <th>0</th>\n      <td>강서구청</td>\n      <td>서울특별시 강서구 화곡로 302 (화곡동)</td>\n    </tr>\n    <tr>\n      <th>1</th>\n      <td>양천구청</td>\n      <td>서울특별시 양천구 목동동로 105 (신정동)</td>\n    </tr>\n    <tr>\n      <th>2</th>\n      <td>부천시청/부천시의회</td>\n      <td>경기도 부천시 길주로 210 (중동)</td>\n    </tr>\n    <tr>\n      <th>3</th>\n      <td>영등포구청</td>\n      <td>서울특별시 영등포구 당산로 123 (당산동3가)</td>\n    </tr>\n    <tr>\n      <th>4</th>\n      <td>김포시청</td>\n      <td>경기도 김포시 사우중로 1 (사우동)</td>\n    </tr>\n  </tbody>\n</table>\n</div>"
     },
     "metadata": {},
     "execution_count": 19
    }
   ],
   "source": [
    "df = pd.DataFrame([road_address_dic], index=['주소']).T\n",
    "df.index.name = '구청'\n",
    "df.reset_index('구청' ,inplace=True)\n",
    "df"
   ]
  },
  {
   "cell_type": "code",
   "execution_count": 20,
   "metadata": {},
   "outputs": [],
   "source": [
    "# 인덱스 없이 저장하기\n",
    "df.to_csv('address.csv',sep=',',encoding='utf8',index=False)"
   ]
  },
  {
   "cell_type": "code",
   "execution_count": 21,
   "metadata": {},
   "outputs": [
    {
     "output_type": "execute_result",
     "data": {
      "text/plain": [
       "           구청                          주소\n",
       "0        강서구청     서울특별시 강서구 화곡로 302 (화곡동)\n",
       "1        양천구청    서울특별시 양천구 목동동로 105 (신정동)\n",
       "2  부천시청/부천시의회        경기도 부천시 길주로 210 (중동)\n",
       "3       영등포구청  서울특별시 영등포구 당산로 123 (당산동3가)\n",
       "4        김포시청        경기도 김포시 사우중로 1 (사우동)"
      ],
      "text/html": "<div>\n<style scoped>\n    .dataframe tbody tr th:only-of-type {\n        vertical-align: middle;\n    }\n\n    .dataframe tbody tr th {\n        vertical-align: top;\n    }\n\n    .dataframe thead th {\n        text-align: right;\n    }\n</style>\n<table border=\"1\" class=\"dataframe\">\n  <thead>\n    <tr style=\"text-align: right;\">\n      <th></th>\n      <th>구청</th>\n      <th>주소</th>\n    </tr>\n  </thead>\n  <tbody>\n    <tr>\n      <th>0</th>\n      <td>강서구청</td>\n      <td>서울특별시 강서구 화곡로 302 (화곡동)</td>\n    </tr>\n    <tr>\n      <th>1</th>\n      <td>양천구청</td>\n      <td>서울특별시 양천구 목동동로 105 (신정동)</td>\n    </tr>\n    <tr>\n      <th>2</th>\n      <td>부천시청/부천시의회</td>\n      <td>경기도 부천시 길주로 210 (중동)</td>\n    </tr>\n    <tr>\n      <th>3</th>\n      <td>영등포구청</td>\n      <td>서울특별시 영등포구 당산로 123 (당산동3가)</td>\n    </tr>\n    <tr>\n      <th>4</th>\n      <td>김포시청</td>\n      <td>경기도 김포시 사우중로 1 (사우동)</td>\n    </tr>\n  </tbody>\n</table>\n</div>"
     },
     "metadata": {},
     "execution_count": 21
    }
   ],
   "source": [
    "pd.read_csv('address.csv')"
   ]
  }
 ]
}