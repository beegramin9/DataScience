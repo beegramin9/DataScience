{
 "metadata": {
  "language_info": {
   "codemirror_mode": {
    "name": "ipython",
    "version": 3
   },
   "file_extension": ".py",
   "mimetype": "text/x-python",
   "name": "python",
   "nbconvert_exporter": "python",
   "pygments_lexer": "ipython3",
   "version": "3.8.5-final"
  },
  "orig_nbformat": 2,
  "kernelspec": {
   "name": "python3",
   "display_name": "Python 3"
  }
 },
 "nbformat": 4,
 "nbformat_minor": 2,
 "cells": [
  {
   "source": [
    "# https://openweathermap.org/api 에서 API 받기\n",
    "위도, 경도 사용 <br>\n",
    "ID: beegramin PW: 소1!"
   ],
   "cell_type": "markdown",
   "metadata": {}
  },
  {
   "cell_type": "code",
   "execution_count": 71,
   "metadata": {},
   "outputs": [],
   "source": [
    "import requests\n",
    "from urllib.parse import urlparse\n",
    "import pandas as pd\n",
    "from tqdm import tqdm"
   ]
  },
  {
   "cell_type": "code",
   "execution_count": 72,
   "metadata": {},
   "outputs": [],
   "source": [
    "key_fd = open('../keys/openweatherkey.txt', mode='r')\n",
    "# https://home.openweathermap.org/api_keys 에서 키받기\n",
    "oweather_key = key_fd.read(100)\n",
    "key_fd.close()"
   ]
  },
  {
   "cell_type": "code",
   "execution_count": 73,
   "metadata": {},
   "outputs": [
    {
     "output_type": "execute_result",
     "data": {
      "text/plain": [
       "{'coord': {'lon': 126.85, 'lat': 37.55},\n",
       " 'weather': [{'id': 803,\n",
       "   'main': 'Clouds',\n",
       "   'description': 'broken clouds',\n",
       "   'icon': '04d'}],\n",
       " 'base': 'stations',\n",
       " 'main': {'temp': 3.06,\n",
       "  'feels_like': -1.95,\n",
       "  'temp_min': 2,\n",
       "  'temp_max': 4,\n",
       "  'pressure': 1019,\n",
       "  'humidity': 74},\n",
       " 'visibility': 10000,\n",
       " 'wind': {'speed': 4.1, 'deg': 350},\n",
       " 'clouds': {'all': 75},\n",
       " 'dt': 1605846128,\n",
       " 'sys': {'type': 1,\n",
       "  'id': 8105,\n",
       "  'country': 'KR',\n",
       "  'sunrise': 1605824263,\n",
       "  'sunset': 1605860344},\n",
       " 'timezone': 32400,\n",
       " 'id': 1838716,\n",
       " 'name': 'Bucheon-si',\n",
       " 'cod': 200}"
      ]
     },
     "metadata": {},
     "execution_count": 73
    }
   ],
   "source": [
    "# https://openweathermap.org/current API 가져오기\n",
    "\n",
    "# https://openweathermap.org/current#geo 키 집어넣는 방법, By geographic coordinates\n",
    "# api.openweathermap.org/data/2.5/weather?lat={lat}&lon={lon}&appid={API key}\n",
    "\n",
    "lat = 37.5509655144007\n",
    "lng = 126.849532173376\n",
    "units = 'metric'\n",
    "\n",
    "url = f'http://api.openweathermap.org/data/2.5/weather?lat={lat}&lon={lng}&appid={oweather_key}&units={units}&'\n",
    "\n",
    "result = requests.get(urlparse(url).geturl()).json()\n",
    "result"
   ]
  },
  {
   "cell_type": "code",
   "execution_count": 74,
   "metadata": {},
   "outputs": [
    {
     "output_type": "execute_result",
     "data": {
      "text/plain": [
       "('Clouds', 'broken clouds')"
      ]
     },
     "metadata": {},
     "execution_count": 74
    }
   ],
   "source": [
    "weather = result['weather'][0]['main']\n",
    "desc = result['weather'][0]['description']\n",
    "\n",
    "weather,desc "
   ]
  },
  {
   "cell_type": "code",
   "execution_count": 75,
   "metadata": {},
   "outputs": [
    {
     "output_type": "execute_result",
     "data": {
      "text/plain": [
       "(3.1, 2, 4)"
      ]
     },
     "metadata": {},
     "execution_count": 75
    }
   ],
   "source": [
    "# 3.05 반올림하면 3.0으로 나와서 약간 조절해줌\n",
    "temp = round(result['main']['temp']+0.01,1)\n",
    "\n",
    "temp_min = result['main']['temp_min']\n",
    "temp_max = result['main']['temp_max']\n",
    "\n",
    "temp, temp_min, temp_max"
   ]
  },
  {
   "source": [
    "### address2.csv 파일에 온도 정보 추가하기"
   ],
   "cell_type": "markdown",
   "metadata": {}
  },
  {
   "cell_type": "code",
   "execution_count": 76,
   "metadata": {},
   "outputs": [
    {
     "output_type": "execute_result",
     "data": {
      "text/plain": [
       "           구청                          주소        lat         lng\n",
       "0        강서구청     서울특별시 강서구 화곡로 302 (화곡동)  37.550966  126.849532\n",
       "1        양천구청    서울특별시 양천구 목동동로 105 (신정동)  37.517075  126.866543\n",
       "2  부천시청/부천시의회        경기도 부천시 길주로 210 (중동)  37.503581  126.765337\n",
       "3       영등포구청  서울특별시 영등포구 당산로 123 (당산동3가)  37.525963  126.896367\n",
       "4        김포시청        경기도 김포시 사우중로 1 (사우동)  37.615190  126.715717"
      ],
      "text/html": "<div>\n<style scoped>\n    .dataframe tbody tr th:only-of-type {\n        vertical-align: middle;\n    }\n\n    .dataframe tbody tr th {\n        vertical-align: top;\n    }\n\n    .dataframe thead th {\n        text-align: right;\n    }\n</style>\n<table border=\"1\" class=\"dataframe\">\n  <thead>\n    <tr style=\"text-align: right;\">\n      <th></th>\n      <th>구청</th>\n      <th>주소</th>\n      <th>lat</th>\n      <th>lng</th>\n    </tr>\n  </thead>\n  <tbody>\n    <tr>\n      <th>0</th>\n      <td>강서구청</td>\n      <td>서울특별시 강서구 화곡로 302 (화곡동)</td>\n      <td>37.550966</td>\n      <td>126.849532</td>\n    </tr>\n    <tr>\n      <th>1</th>\n      <td>양천구청</td>\n      <td>서울특별시 양천구 목동동로 105 (신정동)</td>\n      <td>37.517075</td>\n      <td>126.866543</td>\n    </tr>\n    <tr>\n      <th>2</th>\n      <td>부천시청/부천시의회</td>\n      <td>경기도 부천시 길주로 210 (중동)</td>\n      <td>37.503581</td>\n      <td>126.765337</td>\n    </tr>\n    <tr>\n      <th>3</th>\n      <td>영등포구청</td>\n      <td>서울특별시 영등포구 당산로 123 (당산동3가)</td>\n      <td>37.525963</td>\n      <td>126.896367</td>\n    </tr>\n    <tr>\n      <th>4</th>\n      <td>김포시청</td>\n      <td>경기도 김포시 사우중로 1 (사우동)</td>\n      <td>37.615190</td>\n      <td>126.715717</td>\n    </tr>\n  </tbody>\n</table>\n</div>"
     },
     "metadata": {},
     "execution_count": 76
    }
   ],
   "source": [
    "df = pd.read_csv('address2.csv', sep=',',encoding='utf8')\n",
    "df"
   ]
  },
  {
   "cell_type": "code",
   "execution_count": 79,
   "metadata": {},
   "outputs": [],
   "source": [
    "weather_list = []\n",
    "desc_list = []\n",
    "temp_list = []\n",
    "temp_min_list = []\n",
    "temp_max_list = []"
   ]
  },
  {
   "cell_type": "code",
   "execution_count": 81,
   "metadata": {},
   "outputs": [
    {
     "output_type": "stream",
     "name": "stderr",
     "text": [
      "100%|██████████| 5/5 [00:02<00:00,  1.76it/s]\n"
     ]
    }
   ],
   "source": [
    "for index in tqdm(df.index):\n",
    "    url = f\"http://api.openweathermap.org/data/2.5/weather?lat={df['lat'][index]}&lon={df['lng'][index]}&appid={oweather_key}&units={units}\"\n",
    "\n",
    "    result = requests.get(urlparse(url).geturl()).json()\n",
    "    \n",
    "    weather_list.append(result['weather'][0]['main'])\n",
    "    desc_list.append(result['weather'][0]['description'])\n",
    "    temp_list.append(round(result['main']['temp']+0.01,1))\n",
    "    temp_min_list.append(result['main']['temp_min'])\n",
    "    temp_max_list.append(result['main']['temp_max'])"
   ]
  },
  {
   "cell_type": "code",
   "execution_count": 83,
   "metadata": {},
   "outputs": [],
   "source": [
    "df['weather'] = weather_list\n",
    "df['desc'] = desc_list\n",
    "df['temp'] = temp_list\n",
    "df['temp_min'] = temp_min_list\n",
    "df['temp_max'] = temp_max_list"
   ]
  },
  {
   "cell_type": "code",
   "execution_count": 84,
   "metadata": {},
   "outputs": [
    {
     "output_type": "execute_result",
     "data": {
      "text/plain": [
       "           구청                          주소        lat         lng weather  \\\n",
       "0        강서구청     서울특별시 강서구 화곡로 302 (화곡동)  37.550966  126.849532  Clouds   \n",
       "1        양천구청    서울특별시 양천구 목동동로 105 (신정동)  37.517075  126.866543  Clouds   \n",
       "2  부천시청/부천시의회        경기도 부천시 길주로 210 (중동)  37.503581  126.765337  Clouds   \n",
       "3       영등포구청  서울특별시 영등포구 당산로 123 (당산동3가)  37.525963  126.896367  Clouds   \n",
       "4        김포시청        경기도 김포시 사우중로 1 (사우동)  37.615190  126.715717  Clouds   \n",
       "\n",
       "              desc  temp  temp_min  temp_max  \n",
       "0    broken clouds   3.1         2         4  \n",
       "1    broken clouds   4.3         4         5  \n",
       "2    broken clouds   3.0         2         4  \n",
       "3  overcast clouds   3.9         3         5  \n",
       "4    broken clouds   3.4         2         4  "
      ],
      "text/html": "<div>\n<style scoped>\n    .dataframe tbody tr th:only-of-type {\n        vertical-align: middle;\n    }\n\n    .dataframe tbody tr th {\n        vertical-align: top;\n    }\n\n    .dataframe thead th {\n        text-align: right;\n    }\n</style>\n<table border=\"1\" class=\"dataframe\">\n  <thead>\n    <tr style=\"text-align: right;\">\n      <th></th>\n      <th>구청</th>\n      <th>주소</th>\n      <th>lat</th>\n      <th>lng</th>\n      <th>weather</th>\n      <th>desc</th>\n      <th>temp</th>\n      <th>temp_min</th>\n      <th>temp_max</th>\n    </tr>\n  </thead>\n  <tbody>\n    <tr>\n      <th>0</th>\n      <td>강서구청</td>\n      <td>서울특별시 강서구 화곡로 302 (화곡동)</td>\n      <td>37.550966</td>\n      <td>126.849532</td>\n      <td>Clouds</td>\n      <td>broken clouds</td>\n      <td>3.1</td>\n      <td>2</td>\n      <td>4</td>\n    </tr>\n    <tr>\n      <th>1</th>\n      <td>양천구청</td>\n      <td>서울특별시 양천구 목동동로 105 (신정동)</td>\n      <td>37.517075</td>\n      <td>126.866543</td>\n      <td>Clouds</td>\n      <td>broken clouds</td>\n      <td>4.3</td>\n      <td>4</td>\n      <td>5</td>\n    </tr>\n    <tr>\n      <th>2</th>\n      <td>부천시청/부천시의회</td>\n      <td>경기도 부천시 길주로 210 (중동)</td>\n      <td>37.503581</td>\n      <td>126.765337</td>\n      <td>Clouds</td>\n      <td>broken clouds</td>\n      <td>3.0</td>\n      <td>2</td>\n      <td>4</td>\n    </tr>\n    <tr>\n      <th>3</th>\n      <td>영등포구청</td>\n      <td>서울특별시 영등포구 당산로 123 (당산동3가)</td>\n      <td>37.525963</td>\n      <td>126.896367</td>\n      <td>Clouds</td>\n      <td>overcast clouds</td>\n      <td>3.9</td>\n      <td>3</td>\n      <td>5</td>\n    </tr>\n    <tr>\n      <th>4</th>\n      <td>김포시청</td>\n      <td>경기도 김포시 사우중로 1 (사우동)</td>\n      <td>37.615190</td>\n      <td>126.715717</td>\n      <td>Clouds</td>\n      <td>broken clouds</td>\n      <td>3.4</td>\n      <td>2</td>\n      <td>4</td>\n    </tr>\n  </tbody>\n</table>\n</div>"
     },
     "metadata": {},
     "execution_count": 84
    }
   ],
   "source": [
    "df"
   ]
  }
 ]
}