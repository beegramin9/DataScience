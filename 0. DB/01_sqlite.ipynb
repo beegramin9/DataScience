{
 "metadata": {
  "language_info": {
   "codemirror_mode": {
    "name": "ipython",
    "version": 3
   },
   "file_extension": ".py",
   "mimetype": "text/x-python",
   "name": "python",
   "nbconvert_exporter": "python",
   "pygments_lexer": "ipython3",
   "version": "3.8.5-final"
  },
  "orig_nbformat": 2,
  "kernelspec": {
   "name": "python3",
   "display_name": "Python 3"
  }
 },
 "nbformat": 4,
 "nbformat_minor": 2,
 "cells": [
  {
   "cell_type": "code",
   "execution_count": 2,
   "metadata": {},
   "outputs": [
    {
     "output_type": "stream",
     "name": "stdout",
     "text": [
      "(1, '홍길동')\n(2, '대조영')\n"
     ]
    }
   ],
   "source": [
    "import sqlite3\n",
    "conn = sqlite3.connect('./test.db')\n",
    "# cursor = 원하는 데이터베이스에 포인팅한다\n",
    "cur = conn.cursor()\n",
    "cur.execute('select * from test;')\n",
    "rows = cur.fetchall()\n",
    "for row in rows:\n",
    "    print(row)\n",
    "conn.close()"
   ]
  },
  {
   "cell_type": "code",
   "execution_count": 3,
   "metadata": {},
   "outputs": [
    {
     "output_type": "stream",
     "name": "stdout",
     "text": [
      "(1, '홍길동')\n(2, '대조영')\n"
     ]
    }
   ],
   "source": [
    "conn = sqlite3.connect('./test.db')\n",
    "with conn:\n",
    "    cur = conn.cursor()\n",
    "    cur.execute('select * from test;')\n",
    "    rows = cur.fetchall()\n",
    "    for row in rows:\n",
    "        print(row)"
   ]
  },
  {
   "cell_type": "code",
   "execution_count": 4,
   "metadata": {},
   "outputs": [],
   "source": [
    "\"\"\" conn을 만들어 놓고 close를 프로그램 끝날때까지 안할것 \"\"\"\n",
    "conn = sqlite3.connect('./test.db')\n",
    "cur = conn.cursor()"
   ]
  },
  {
   "cell_type": "code",
   "execution_count": 5,
   "metadata": {},
   "outputs": [
    {
     "output_type": "execute_result",
     "data": {
      "text/plain": [
       "<sqlite3.Cursor at 0x1ba9c31d730>"
      ]
     },
     "metadata": {},
     "execution_count": 5
    }
   ],
   "source": [
    "# 테이블 구조 바꾸기\n",
    "sql = 'alter table test add column age integer;'\n",
    "cur.execute(sql)"
   ]
  },
  {
   "cell_type": "code",
   "execution_count": 6,
   "metadata": {},
   "outputs": [],
   "source": [
    "# 아직 반영이 안됨, 변경사항을 적용하고 싶으면\n",
    "conn.commit()"
   ]
  },
  {
   "source": [
    "### 데이터 추가"
   ],
   "cell_type": "markdown",
   "metadata": {}
  },
  {
   "cell_type": "code",
   "execution_count": 8,
   "metadata": {},
   "outputs": [],
   "source": [
    "cur = conn.cursor()\n",
    "sql = \"\"\"insert into test(name,age) values('장보고',1000)\"\"\"\n",
    "cur.execute(sql)\n",
    "conn.commit()"
   ]
  },
  {
   "cell_type": "code",
   "execution_count": 9,
   "metadata": {},
   "outputs": [],
   "source": [
    "writers = [('이우정',40),('김은숙',45)]\n",
    "sql = \"\"\"insert into test(name,age) values(?,?)\"\"\"\n",
    "for writer in writers:\n",
    "    cur.execute(sql, writer) \n",
    "    # NodeJs에서는 (sql, params = Array) 였는데\n",
    "    # SQLite에서는 (sql, element = Tuple) 이다.\n",
    "conn.commit() # sql문 작성이 끝나면 commit()"
   ]
  },
  {
   "cell_type": "code",
   "execution_count": 11,
   "metadata": {},
   "outputs": [],
   "source": [
    "cur.execute(sql, ('김수현',60) )\n",
    "conn.commit()"
   ]
  },
  {
   "cell_type": "code",
   "execution_count": 12,
   "metadata": {},
   "outputs": [],
   "source": [
    "# writers를 list말고 2차원 tuple로 만들면?\n",
    "writers = (\n",
    "    ('노희정',30),\n",
    "    ('송지나',35),\n",
    "    ('임성한',40)\n",
    ")\n",
    "cur.executemany(sql, writers) # 2차원 튜플일 때\n",
    "conn.commit()"
   ]
  },
  {
   "source": [
    "### 데이터 조회\n"
   ],
   "cell_type": "markdown",
   "metadata": {}
  },
  {
   "cell_type": "code",
   "execution_count": 17,
   "metadata": {},
   "outputs": [
    {
     "output_type": "stream",
     "name": "stdout",
     "text": [
      "(1, '홍길동', 300)\n"
     ]
    }
   ],
   "source": [
    "# 단건 조회\n",
    "cur = conn.cursor()\n",
    "select_sql = 'select * from test'\n",
    "cur.execute(select_sql)\n",
    "\"\"\" cur.execute로 메모리에 가져놓은 데이터를\n",
    "하나씩 꺼내는 것 \"\"\" \n",
    "row = cur.fetchone()\n",
    "print(row)"
   ]
  },
  {
   "cell_type": "code",
   "execution_count": 18,
   "metadata": {},
   "outputs": [
    {
     "output_type": "stream",
     "name": "stdout",
     "text": [
      "(2, '대조영', 300)\n(3, '장보고', 300)\n(4, '이우정', 300)\n"
     ]
    }
   ],
   "source": [
    "# 여러건 조회\n",
    "\"\"\" 앞에 꺼낸 것들은 이미 꺼냈으니 제외하고 \"\"\"\n",
    "rows = cur.fetchmany(3)\n",
    "for row in rows:\n",
    "    print(row)"
   ]
  },
  {
   "cell_type": "code",
   "execution_count": 19,
   "metadata": {},
   "outputs": [
    {
     "output_type": "stream",
     "name": "stdout",
     "text": [
      "(5, '김은숙', 300)\n(6, '김수현', 300)\n(7, '김수현', 300)\n(8, '노희정', 300)\n(9, '송지나', 300)\n(10, '임성한', 300)\n"
     ]
    }
   ],
   "source": [
    "# 모두 가져오기\n",
    "rows = cur.fetchall()\n",
    "for row in rows:\n",
    "    print(row)"
   ]
  },
  {
   "cell_type": "code",
   "execution_count": 20,
   "metadata": {},
   "outputs": [
    {
     "output_type": "stream",
     "name": "stdout",
     "text": [
      "(1, '홍길동', 300)\n(2, '대조영', 300)\n(3, '장보고', 300)\n(4, '이우정', 300)\n(5, '김은숙', 300)\n(6, '김수현', 300)\n(7, '김수현', 300)\n(8, '노희정', 300)\n(9, '송지나', 300)\n(10, '임성한', 300)\n"
     ]
    }
   ],
   "source": [
    "# 모두 가져오기\n",
    "cur = conn.cursor()\n",
    "cur.execute(select_sql)\n",
    "rows = cur.fetchall()\n",
    "for row in rows:\n",
    "    print(row)"
   ]
  },
  {
   "cell_type": "code",
   "execution_count": null,
   "metadata": {},
   "outputs": [],
   "source": [
    "# 순회 조회\n",
    "cur = conn.cursor()\n",
    "cur.execute(select_sql)\n",
    "\"\"\" cur에서 바로 꺼내오는 것 \"\"\"\n",
    "for row in cur:\n",
    "    print(row)"
   ]
  },
  {
   "source": [
    "### 필요한 컬럼만 조회(조건)"
   ],
   "cell_type": "markdown",
   "metadata": {}
  },
  {
   "cell_type": "code",
   "execution_count": 23,
   "metadata": {},
   "outputs": [
    {
     "output_type": "stream",
     "name": "stdout",
     "text": [
      "('김수현', 300)\n('김수현', 300)\n('김은숙', 300)\n('노희정', 300)\n('대조영', 300)\n('송지나', 300)\n('이우정', 300)\n('임성한', 300)\n('장보고', 300)\n('홍길동', 300)\n"
     ]
    }
   ],
   "source": [
    "cur = conn.cursor()\n",
    "cur.execute('select name, age from test order by name')\n",
    "rows = cur.fetchall().\n",
    "for row in rows:\n",
    "    print(row)"
   ]
  },
  {
   "cell_type": "code",
   "execution_count": 28,
   "metadata": {},
   "outputs": [
    {
     "output_type": "stream",
     "name": "stdout",
     "text": [
      "(6, '김수현', 300)\n(7, '김수현', 300)\n(5, '김은숙', 300)\n"
     ]
    }
   ],
   "source": [
    "# 연장자 3명\n",
    "cur = conn.cursor()\n",
    "\"\"\" order by에 첫번째 기준은 나이, 두번째 기준은 이름 처럼 기준 여러개 줄 수 있음 \"\"\"\n",
    "cur.execute('select * from test order by age desc, name limit 3')\n",
    "rows = cur.fetchall()\n",
    "for row in rows:\n",
    "    print(row)"
   ]
  },
  {
   "cell_type": "code",
   "execution_count": 40,
   "metadata": {},
   "outputs": [
    {
     "output_type": "stream",
     "name": "stdout",
     "text": [
      "(10,) 10\n"
     ]
    },
    {
     "output_type": "error",
     "ename": "TypeError",
     "evalue": "cannot unpack non-iterable NoneType object",
     "traceback": [
      "\u001b[1;31m---------------------------------------------------------------------------\u001b[0m",
      "\u001b[1;31mTypeError\u001b[0m                                 Traceback (most recent call last)",
      "\u001b[1;32m<ipython-input-40-a993e933536e>\u001b[0m in \u001b[0;36m<module>\u001b[1;34m\u001b[0m\n\u001b[0;32m      4\u001b[0m \u001b[0mprint\u001b[0m\u001b[1;33m(\u001b[0m\u001b[0mcount\u001b[0m\u001b[1;33m,\u001b[0m \u001b[0mcount\u001b[0m\u001b[1;33m[\u001b[0m\u001b[1;36m0\u001b[0m\u001b[1;33m]\u001b[0m\u001b[1;33m)\u001b[0m\u001b[1;33m\u001b[0m\u001b[1;33m\u001b[0m\u001b[0m\n\u001b[0;32m      5\u001b[0m \u001b[1;31m# 이렇게 쓰기 싫다면 튜플 언패킹 사용 가능\u001b[0m\u001b[1;33m\u001b[0m\u001b[1;33m\u001b[0m\u001b[1;33m\u001b[0m\u001b[0m\n\u001b[1;32m----> 6\u001b[1;33m \u001b[0mcount\u001b[0m\u001b[1;33m,\u001b[0m \u001b[1;33m=\u001b[0m \u001b[0mcur\u001b[0m\u001b[1;33m.\u001b[0m\u001b[0mfetchone\u001b[0m\u001b[1;33m(\u001b[0m\u001b[1;33m)\u001b[0m\u001b[1;33m\u001b[0m\u001b[1;33m\u001b[0m\u001b[0m\n\u001b[0m\u001b[0;32m      7\u001b[0m \u001b[0mcount\u001b[0m\u001b[1;33m\u001b[0m\u001b[1;33m\u001b[0m\u001b[0m\n",
      "\u001b[1;31mTypeError\u001b[0m: cannot unpack non-iterable NoneType object"
     ]
    }
   ],
   "source": [
    "# fetchone 도 다른 fetch 시리즈와 같게 결과가 tuple이다!\n",
    "cur.execute('select count(*) from test')\n",
    "count = cur.fetchone()\n",
    "print(count, count[0])\n",
    "# 이렇게 쓰기 싫다면 튜플 언패킹 사용 가능\n",
    "# count, = cur.fetchone()\n"
   ]
  },
  {
   "cell_type": "code",
   "execution_count": 39,
   "metadata": {},
   "outputs": [
    {
     "output_type": "execute_result",
     "data": {
      "text/plain": [
       "300"
      ]
     },
     "metadata": {},
     "execution_count": 39
    }
   ],
   "source": [
    "cur.execute('select max(age),min(age),sum(age),avg(age) from test')\n",
    "max_age,min_age,sum_age,avg_age = cur.fetchone()\n",
    "max_age"
   ]
  },
  {
   "cell_type": "code",
   "execution_count": null,
   "metadata": {},
   "outputs": [],
   "source": []
  }
 ]
}