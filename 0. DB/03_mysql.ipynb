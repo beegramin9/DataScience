{
 "metadata": {
  "language_info": {
   "codemirror_mode": {
    "name": "ipython",
    "version": 3
   },
   "file_extension": ".py",
   "mimetype": "text/x-python",
   "name": "python",
   "nbconvert_exporter": "python",
   "pygments_lexer": "ipython3",
   "version": "3.8.5-final"
  },
  "orig_nbformat": 2,
  "kernelspec": {
   "name": "python3",
   "display_name": "Python 3"
  }
 },
 "nbformat": 4,
 "nbformat_minor": 2,
 "cells": [
  {
   "cell_type": "code",
   "execution_count": 5,
   "metadata": {},
   "outputs": [
    {
     "output_type": "execute_result",
     "data": {
      "text/plain": [
       "{'host': 'localhost',\n",
       " 'user': 'root',\n",
       " 'password': 'hspass',\n",
       " 'database': 'test',\n",
       " 'port': 3306}"
      ]
     },
     "metadata": {},
     "execution_count": 5
    }
   ],
   "source": [
    "import json\n",
    "with open('mysql.json', 'r') as file:\n",
    "    config_str = file.read()\n",
    "config = json.loads(config_str)\n",
    "config"
   ]
  },
  {
   "cell_type": "code",
   "execution_count": 6,
   "metadata": {},
   "outputs": [],
   "source": [
    "import pymysql\n",
    "conn = pymysql.connect(\n",
    "    host = config['host'],\n",
    "    user = config['user'],\n",
    "    password = config['password'],\n",
    "    database = config['database'],\n",
    "    port = config['port']\n",
    ")"
   ]
  },
  {
   "cell_type": "code",
   "execution_count": 8,
   "metadata": {},
   "outputs": [
    {
     "output_type": "stream",
     "name": "stdout",
     "text": [
      "('admin', '관리자', '2020-10-15')\n('Annie', '애니', '2020-10-15')\n('archie', '아치', '2020-10-23')\n('Britta', '브리타', '2020-10-15')\n('Chidi', '치디', '2020-10-15')\n('Ed', '에드', '2020-10-15')\n('edwin', '에드윈', '2020-10-16')\n('egirl', '이걸', '2020-10-23')\n('Gnarl', '날', '2020-10-15')\n('Isa', '이사', '2020-10-15')\n('IsaIsa', '이사이사', '2020-10-23')\n('James', '제임스', '2020-10-15')\n('Japan', '일본', '2020-10-23')\n('Josica', '조시카', '2020-10-15')\n('kimbel', '킴벨', '2020-10-23')\n('Kristen', '크리스틴', '2020-10-15')\n('leed', '김말이', '2020-10-15')\n('Martin', '마틴', '2020-10-15')\n('Martina', '마티나', '2020-10-15')\n('Mickey', '미키', '2020-10-15')\n('nahman', '스타벅스', '2020-10-22')\n('nice', '노이스', '2020-10-23')\n('page', '페이지', '2020-10-22')\n('Paul', '폴', '2020-10-15')\n('Roman', '로만그리핀데이비스', '2020-10-23')\n('Shaun', '션', '2020-10-15')\n"
     ]
    }
   ],
   "source": [
    "cur = conn.cursor()\n",
    "sql = \"\"\" select uid, uname, date_format(regDate, '%Y-%m-%d') as regDate\n",
    "from users \"\"\"\n",
    "cur.execute(sql)\n",
    "rows = cur.fetchall()\n",
    "for row in rows:\n",
    "    print(row)"
   ]
  },
  {
   "cell_type": "code",
   "execution_count": 10,
   "metadata": {},
   "outputs": [
    {
     "output_type": "stream",
     "name": "stdout",
     "text": [
      "{'uid': 'admin', 'uname': '관리자', 'regDate': '2020-10-15'}\n{'uid': 'Annie', 'uname': '애니', 'regDate': '2020-10-15'}\n{'uid': 'archie', 'uname': '아치', 'regDate': '2020-10-23'}\n{'uid': 'Britta', 'uname': '브리타', 'regDate': '2020-10-15'}\n{'uid': 'Chidi', 'uname': '치디', 'regDate': '2020-10-15'}\n{'uid': 'Ed', 'uname': '에드', 'regDate': '2020-10-15'}\n{'uid': 'edwin', 'uname': '에드윈', 'regDate': '2020-10-16'}\n{'uid': 'egirl', 'uname': '이걸', 'regDate': '2020-10-23'}\n{'uid': 'Gnarl', 'uname': '날', 'regDate': '2020-10-15'}\n{'uid': 'Isa', 'uname': '이사', 'regDate': '2020-10-15'}\n{'uid': 'IsaIsa', 'uname': '이사이사', 'regDate': '2020-10-23'}\n{'uid': 'James', 'uname': '제임스', 'regDate': '2020-10-15'}\n{'uid': 'Japan', 'uname': '일본', 'regDate': '2020-10-23'}\n{'uid': 'Josica', 'uname': '조시카', 'regDate': '2020-10-15'}\n{'uid': 'kimbel', 'uname': '킴벨', 'regDate': '2020-10-23'}\n{'uid': 'Kristen', 'uname': '크리스틴', 'regDate': '2020-10-15'}\n{'uid': 'leed', 'uname': '김말이', 'regDate': '2020-10-15'}\n{'uid': 'Martin', 'uname': '마틴', 'regDate': '2020-10-15'}\n{'uid': 'Martina', 'uname': '마티나', 'regDate': '2020-10-15'}\n{'uid': 'Mickey', 'uname': '미키', 'regDate': '2020-10-15'}\n{'uid': 'nahman', 'uname': '스타벅스', 'regDate': '2020-10-22'}\n{'uid': 'nice', 'uname': '노이스', 'regDate': '2020-10-23'}\n{'uid': 'page', 'uname': '페이지', 'regDate': '2020-10-22'}\n{'uid': 'Paul', 'uname': '폴', 'regDate': '2020-10-15'}\n{'uid': 'Roman', 'uname': '로만그리핀데이비스', 'regDate': '2020-10-23'}\n{'uid': 'Shaun', 'uname': '션', 'regDate': '2020-10-15'}\n"
     ]
    }
   ],
   "source": [
    "cur = conn.cursor(pymysql.cursors.DictCursor)\n",
    "sql = \"\"\" select uid, uname, date_format(regDate, '%Y-%m-%d') as regDate\n",
    "from users \"\"\"\n",
    "cur.execute(sql)\n",
    "rows = cur.fetchall()\n",
    "for row in rows:\n",
    "    print(row)"
   ]
  },
  {
   "cell_type": "code",
   "execution_count": 11,
   "metadata": {},
   "outputs": [
    {
     "output_type": "execute_result",
     "data": {
      "text/plain": [
       "        uid      uname     regDate\n",
       "0     admin        관리자  2020-10-15\n",
       "1     Annie         애니  2020-10-15\n",
       "2    archie         아치  2020-10-23\n",
       "3    Britta        브리타  2020-10-15\n",
       "4     Chidi         치디  2020-10-15\n",
       "5        Ed         에드  2020-10-15\n",
       "6     edwin        에드윈  2020-10-16\n",
       "7     egirl         이걸  2020-10-23\n",
       "8     Gnarl          날  2020-10-15\n",
       "9       Isa         이사  2020-10-15\n",
       "10   IsaIsa       이사이사  2020-10-23\n",
       "11    James        제임스  2020-10-15\n",
       "12    Japan         일본  2020-10-23\n",
       "13   Josica        조시카  2020-10-15\n",
       "14   kimbel         킴벨  2020-10-23\n",
       "15  Kristen       크리스틴  2020-10-15\n",
       "16     leed        김말이  2020-10-15\n",
       "17   Martin         마틴  2020-10-15\n",
       "18  Martina        마티나  2020-10-15\n",
       "19   Mickey         미키  2020-10-15\n",
       "20   nahman       스타벅스  2020-10-22\n",
       "21     nice        노이스  2020-10-23\n",
       "22     page        페이지  2020-10-22\n",
       "23     Paul          폴  2020-10-15\n",
       "24    Roman  로만그리핀데이비스  2020-10-23\n",
       "25    Shaun          션  2020-10-15"
      ],
      "text/html": "<div>\n<style scoped>\n    .dataframe tbody tr th:only-of-type {\n        vertical-align: middle;\n    }\n\n    .dataframe tbody tr th {\n        vertical-align: top;\n    }\n\n    .dataframe thead th {\n        text-align: right;\n    }\n</style>\n<table border=\"1\" class=\"dataframe\">\n  <thead>\n    <tr style=\"text-align: right;\">\n      <th></th>\n      <th>uid</th>\n      <th>uname</th>\n      <th>regDate</th>\n    </tr>\n  </thead>\n  <tbody>\n    <tr>\n      <th>0</th>\n      <td>admin</td>\n      <td>관리자</td>\n      <td>2020-10-15</td>\n    </tr>\n    <tr>\n      <th>1</th>\n      <td>Annie</td>\n      <td>애니</td>\n      <td>2020-10-15</td>\n    </tr>\n    <tr>\n      <th>2</th>\n      <td>archie</td>\n      <td>아치</td>\n      <td>2020-10-23</td>\n    </tr>\n    <tr>\n      <th>3</th>\n      <td>Britta</td>\n      <td>브리타</td>\n      <td>2020-10-15</td>\n    </tr>\n    <tr>\n      <th>4</th>\n      <td>Chidi</td>\n      <td>치디</td>\n      <td>2020-10-15</td>\n    </tr>\n    <tr>\n      <th>5</th>\n      <td>Ed</td>\n      <td>에드</td>\n      <td>2020-10-15</td>\n    </tr>\n    <tr>\n      <th>6</th>\n      <td>edwin</td>\n      <td>에드윈</td>\n      <td>2020-10-16</td>\n    </tr>\n    <tr>\n      <th>7</th>\n      <td>egirl</td>\n      <td>이걸</td>\n      <td>2020-10-23</td>\n    </tr>\n    <tr>\n      <th>8</th>\n      <td>Gnarl</td>\n      <td>날</td>\n      <td>2020-10-15</td>\n    </tr>\n    <tr>\n      <th>9</th>\n      <td>Isa</td>\n      <td>이사</td>\n      <td>2020-10-15</td>\n    </tr>\n    <tr>\n      <th>10</th>\n      <td>IsaIsa</td>\n      <td>이사이사</td>\n      <td>2020-10-23</td>\n    </tr>\n    <tr>\n      <th>11</th>\n      <td>James</td>\n      <td>제임스</td>\n      <td>2020-10-15</td>\n    </tr>\n    <tr>\n      <th>12</th>\n      <td>Japan</td>\n      <td>일본</td>\n      <td>2020-10-23</td>\n    </tr>\n    <tr>\n      <th>13</th>\n      <td>Josica</td>\n      <td>조시카</td>\n      <td>2020-10-15</td>\n    </tr>\n    <tr>\n      <th>14</th>\n      <td>kimbel</td>\n      <td>킴벨</td>\n      <td>2020-10-23</td>\n    </tr>\n    <tr>\n      <th>15</th>\n      <td>Kristen</td>\n      <td>크리스틴</td>\n      <td>2020-10-15</td>\n    </tr>\n    <tr>\n      <th>16</th>\n      <td>leed</td>\n      <td>김말이</td>\n      <td>2020-10-15</td>\n    </tr>\n    <tr>\n      <th>17</th>\n      <td>Martin</td>\n      <td>마틴</td>\n      <td>2020-10-15</td>\n    </tr>\n    <tr>\n      <th>18</th>\n      <td>Martina</td>\n      <td>마티나</td>\n      <td>2020-10-15</td>\n    </tr>\n    <tr>\n      <th>19</th>\n      <td>Mickey</td>\n      <td>미키</td>\n      <td>2020-10-15</td>\n    </tr>\n    <tr>\n      <th>20</th>\n      <td>nahman</td>\n      <td>스타벅스</td>\n      <td>2020-10-22</td>\n    </tr>\n    <tr>\n      <th>21</th>\n      <td>nice</td>\n      <td>노이스</td>\n      <td>2020-10-23</td>\n    </tr>\n    <tr>\n      <th>22</th>\n      <td>page</td>\n      <td>페이지</td>\n      <td>2020-10-22</td>\n    </tr>\n    <tr>\n      <th>23</th>\n      <td>Paul</td>\n      <td>폴</td>\n      <td>2020-10-15</td>\n    </tr>\n    <tr>\n      <th>24</th>\n      <td>Roman</td>\n      <td>로만그리핀데이비스</td>\n      <td>2020-10-23</td>\n    </tr>\n    <tr>\n      <th>25</th>\n      <td>Shaun</td>\n      <td>션</td>\n      <td>2020-10-15</td>\n    </tr>\n  </tbody>\n</table>\n</div>"
     },
     "metadata": {},
     "execution_count": 11
    }
   ],
   "source": [
    "import pandas as pd\n",
    "df = pd.DataFrame(rows)\n",
    "df"
   ]
  },
  {
   "cell_type": "code",
   "execution_count": 13,
   "metadata": {},
   "outputs": [
    {
     "output_type": "execute_result",
     "data": {
      "text/plain": [
       "      bid      uid uname                                         title  \\\n",
       "0    1126    admin   관리자                                          노래제목   \n",
       "1    1125  Martina   마티나  Oh, you will find Tahani certified very soon   \n",
       "2    1124   Josica   조시카  Oh, you will find Tahani certified very soon   \n",
       "3    1123   Britta   브리타               He was my best mate growing up!   \n",
       "4    1122   Mickey    미키                                형은 31살처럼 살지 않아   \n",
       "..    ...      ...   ...                                           ...   \n",
       "111  1005    James   제임스                                형은 31살처럼 살지 않아   \n",
       "112  1004     Paul     폴                          내가 유럽에서 몇 명의 폴을 만났을까   \n",
       "113  1003   Martin    마틴                              내가 성공해서 네덜란드 갈게!   \n",
       "114  1002      Isa    이사                                      한국 빨리 와라   \n",
       "115  1001    admin   관리자                                          제목찾기   \n",
       "\n",
       "     viewCount  replyCount              modTime  \n",
       "0            3           0  2020-10-28 16:57:12  \n",
       "1           10           0  2020-10-27 13:24:55  \n",
       "2            4           0  2020-10-27 13:24:55  \n",
       "3            2           0  2020-10-27 13:24:55  \n",
       "4            1           0  2020-10-27 13:24:55  \n",
       "..         ...         ...                  ...  \n",
       "111         11           1  2020-10-15 10:40:41  \n",
       "112         13           1  2020-10-15 10:40:41  \n",
       "113         13           1  2020-10-15 10:40:41  \n",
       "114         11           1  2020-10-15 10:40:41  \n",
       "115         59          17  2020-10-15 10:40:41  \n",
       "\n",
       "[116 rows x 7 columns]"
      ],
      "text/html": "<div>\n<style scoped>\n    .dataframe tbody tr th:only-of-type {\n        vertical-align: middle;\n    }\n\n    .dataframe tbody tr th {\n        vertical-align: top;\n    }\n\n    .dataframe thead th {\n        text-align: right;\n    }\n</style>\n<table border=\"1\" class=\"dataframe\">\n  <thead>\n    <tr style=\"text-align: right;\">\n      <th></th>\n      <th>bid</th>\n      <th>uid</th>\n      <th>uname</th>\n      <th>title</th>\n      <th>viewCount</th>\n      <th>replyCount</th>\n      <th>modTime</th>\n    </tr>\n  </thead>\n  <tbody>\n    <tr>\n      <th>0</th>\n      <td>1126</td>\n      <td>admin</td>\n      <td>관리자</td>\n      <td>노래제목</td>\n      <td>3</td>\n      <td>0</td>\n      <td>2020-10-28 16:57:12</td>\n    </tr>\n    <tr>\n      <th>1</th>\n      <td>1125</td>\n      <td>Martina</td>\n      <td>마티나</td>\n      <td>Oh, you will find Tahani certified very soon</td>\n      <td>10</td>\n      <td>0</td>\n      <td>2020-10-27 13:24:55</td>\n    </tr>\n    <tr>\n      <th>2</th>\n      <td>1124</td>\n      <td>Josica</td>\n      <td>조시카</td>\n      <td>Oh, you will find Tahani certified very soon</td>\n      <td>4</td>\n      <td>0</td>\n      <td>2020-10-27 13:24:55</td>\n    </tr>\n    <tr>\n      <th>3</th>\n      <td>1123</td>\n      <td>Britta</td>\n      <td>브리타</td>\n      <td>He was my best mate growing up!</td>\n      <td>2</td>\n      <td>0</td>\n      <td>2020-10-27 13:24:55</td>\n    </tr>\n    <tr>\n      <th>4</th>\n      <td>1122</td>\n      <td>Mickey</td>\n      <td>미키</td>\n      <td>형은 31살처럼 살지 않아</td>\n      <td>1</td>\n      <td>0</td>\n      <td>2020-10-27 13:24:55</td>\n    </tr>\n    <tr>\n      <th>...</th>\n      <td>...</td>\n      <td>...</td>\n      <td>...</td>\n      <td>...</td>\n      <td>...</td>\n      <td>...</td>\n      <td>...</td>\n    </tr>\n    <tr>\n      <th>111</th>\n      <td>1005</td>\n      <td>James</td>\n      <td>제임스</td>\n      <td>형은 31살처럼 살지 않아</td>\n      <td>11</td>\n      <td>1</td>\n      <td>2020-10-15 10:40:41</td>\n    </tr>\n    <tr>\n      <th>112</th>\n      <td>1004</td>\n      <td>Paul</td>\n      <td>폴</td>\n      <td>내가 유럽에서 몇 명의 폴을 만났을까</td>\n      <td>13</td>\n      <td>1</td>\n      <td>2020-10-15 10:40:41</td>\n    </tr>\n    <tr>\n      <th>113</th>\n      <td>1003</td>\n      <td>Martin</td>\n      <td>마틴</td>\n      <td>내가 성공해서 네덜란드 갈게!</td>\n      <td>13</td>\n      <td>1</td>\n      <td>2020-10-15 10:40:41</td>\n    </tr>\n    <tr>\n      <th>114</th>\n      <td>1002</td>\n      <td>Isa</td>\n      <td>이사</td>\n      <td>한국 빨리 와라</td>\n      <td>11</td>\n      <td>1</td>\n      <td>2020-10-15 10:40:41</td>\n    </tr>\n    <tr>\n      <th>115</th>\n      <td>1001</td>\n      <td>admin</td>\n      <td>관리자</td>\n      <td>제목찾기</td>\n      <td>59</td>\n      <td>17</td>\n      <td>2020-10-15 10:40:41</td>\n    </tr>\n  </tbody>\n</table>\n<p>116 rows × 7 columns</p>\n</div>"
     },
     "metadata": {},
     "execution_count": 13
    }
   ],
   "source": [
    "sql = \"\"\"SELECT b.bid, b.uid, u.uname, b.title, b.viewCount, b.replyCount,\n",
    "                DATE_FORMAT(b.modTime, '%Y-%m-%d %T') AS modTime\n",
    "                FROM bbs AS b\n",
    "                JOIN users AS u\n",
    "                ON b.uid=u.uid\n",
    "                ORDER BY b.bid DESC;\"\"\"\n",
    "cur.execute(sql)\n",
    "rows = cur.fetchall()\n",
    "df2 = pd.DataFrame(rows)\n",
    "df2"
   ]
  },
  {
   "cell_type": "code",
   "execution_count": 20,
   "metadata": {},
   "outputs": [],
   "source": [
    "conn.commit()"
   ]
  },
  {
   "source": [
    "- 파라미터 받기"
   ],
   "cell_type": "markdown",
   "metadata": {}
  },
  {
   "cell_type": "code",
   "execution_count": 21,
   "metadata": {},
   "outputs": [
    {
     "output_type": "stream",
     "name": "stdout",
     "text": [
      "{'bid': 1006, 'uid': 'Ed', 'uname': '에드', 'title': 'He was my best mate growing up!', 'content': 'Mate! What the fuck!', 'modTime': '2020-10-15 10:40:41', 'viewCount': 13, 'replyCount': 1}\n"
     ]
    }
   ],
   "source": [
    "# %s로 받는다.\n",
    "# sql문 안에 이미 %가 있으면 앞에 %하나 더 붙여주면 됨\n",
    "sql = \"\"\"SELECT b.bid, b.uid, u.uname, b.title, b.content, \n",
    "                DATE_FORMAT(b.modTime, '%%Y-%%m-%%d %%T') AS modTime, \n",
    "                b.viewCount, b.replyCount\n",
    "                FROM bbs AS b\n",
    "                JOIN users AS u\n",
    "                ON b.uid=u.uid\n",
    "                WHERE b.bid=%s;\"\"\"\n",
    "cur.execute(sql, (1006,))\n",
    "row = cur.fetchone()\n",
    "print(row)"
   ]
  }
 ]
}