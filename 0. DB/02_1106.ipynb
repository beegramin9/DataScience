{
 "metadata": {
  "language_info": {
   "codemirror_mode": {
    "name": "ipython",
    "version": 3
   },
   "file_extension": ".py",
   "mimetype": "text/x-python",
   "name": "python",
   "nbconvert_exporter": "python",
   "pygments_lexer": "ipython3",
   "version": "3.8.5-final"
  },
  "orig_nbformat": 2,
  "kernelspec": {
   "name": "python3",
   "display_name": "Python 3"
  }
 },
 "nbformat": 4,
 "nbformat_minor": 2,
 "cells": [
  {
   "cell_type": "code",
   "execution_count": 1,
   "metadata": {},
   "outputs": [],
   "source": [
    "import sqlite3\n",
    "conn = sqlite3.connect('./test.db')"
   ]
  },
  {
   "source": [
    "### 테이블 생성"
   ],
   "cell_type": "markdown",
   "metadata": {}
  },
  {
   "cell_type": "code",
   "execution_count": 3,
   "metadata": {},
   "outputs": [
    {
     "output_type": "execute_result",
     "data": {
      "text/plain": [
       "<sqlite3.Cursor at 0x1a5ff3173b0>"
      ]
     },
     "metadata": {},
     "execution_count": 3
    }
   ],
   "source": [
    "cur = conn.cursor()\n",
    "cur.execute(\"\"\" CREATE TABLE IF NOT EXISTS Bears (\n",
    "                    back_no INT NOT NULL,\n",
    "                    name TEXT,\n",
    "                    position TEXT,\n",
    "                    PRIMARY KEY(back_no)\n",
    "                )\"\"\")"
   ]
  },
  {
   "source": [
    "### 테이블 구조/이름 변경"
   ],
   "cell_type": "markdown",
   "metadata": {}
  },
  {
   "cell_type": "code",
   "execution_count": 22,
   "metadata": {},
   "outputs": [
    {
     "output_type": "error",
     "ename": "OperationalError",
     "evalue": "near \"DROP\": syntax error",
     "traceback": [
      "\u001b[1;31m---------------------------------------------------------------------------\u001b[0m",
      "\u001b[1;31mOperationalError\u001b[0m                          Traceback (most recent call last)",
      "\u001b[1;32m<ipython-input-22-5e9d2cbb9525>\u001b[0m in \u001b[0;36m<module>\u001b[1;34m\u001b[0m\n\u001b[0;32m      1\u001b[0m \u001b[1;31m# cur.execute('ALTER TABLE Bears ADD COLUMN birth INTEGER')\u001b[0m\u001b[1;33m\u001b[0m\u001b[1;33m\u001b[0m\u001b[1;33m\u001b[0m\u001b[0m\n\u001b[0;32m      2\u001b[0m \u001b[1;31m# cur.execute('ALTER TABLE Bears RENAME TO Eagles')\u001b[0m\u001b[1;33m\u001b[0m\u001b[1;33m\u001b[0m\u001b[1;33m\u001b[0m\u001b[0m\n\u001b[1;32m----> 3\u001b[1;33m \u001b[0mcur\u001b[0m\u001b[1;33m.\u001b[0m\u001b[0mexecute\u001b[0m\u001b[1;33m(\u001b[0m\u001b[1;34m\"ALTER TABLE 'Eagles' DROP 'birth';\"\u001b[0m\u001b[1;33m)\u001b[0m\u001b[1;33m\u001b[0m\u001b[1;33m\u001b[0m\u001b[0m\n\u001b[0m",
      "\u001b[1;31mOperationalError\u001b[0m: near \"DROP\": syntax error"
     ]
    }
   ],
   "source": [
    "# cur.execute('ALTER TABLE Bears ADD COLUMN birth INTEGER')\n",
    "# cur.execute('ALTER TABLE Bears RENAME TO Eagles')\n",
    "cur.execute(\"ALTER TABLE 'Eagles' DROP 'birth';\")\n",
    "\n",
    "\"\"\" SQLite에서는 drop COLUMN을 지원하지 않는다고?\n",
    "=> 새 테이블을 만들고 원래 테이블을 지운 다음 새 테이블 이름을 바꾸라는데...\n",
    " \"\"\""
   ]
  },
  {
   "cell_type": "code",
   "execution_count": 28,
   "metadata": {},
   "outputs": [
    {
     "output_type": "execute_result",
     "data": {
      "text/plain": [
       "<sqlite3.Cursor at 0x1a5ff0b0960>"
      ]
     },
     "metadata": {},
     "execution_count": 28
    }
   ],
   "source": [
    "# cur.execute(\"Drop table Eagles\")"
   ]
  },
  {
   "cell_type": "code",
   "execution_count": 29,
   "metadata": {},
   "outputs": [
    {
     "output_type": "execute_result",
     "data": {
      "text/plain": [
       "<sqlite3.Cursor at 0x1a5ff9ca0a0>"
      ]
     },
     "metadata": {},
     "execution_count": 29
    }
   ],
   "source": [
    "cur = conn.cursor()\n",
    "cur.execute(\"\"\" CREATE TABLE IF NOT EXISTS Eagles (\n",
    "                    back_no INT NOT NULL,\n",
    "                    name TEXT,\n",
    "                    position TEXT,\n",
    "                    PRIMARY KEY(back_no)\n",
    "                )\"\"\")"
   ]
  },
  {
   "source": [
    "### 데이터 삽입"
   ],
   "cell_type": "markdown",
   "metadata": {}
  },
  {
   "cell_type": "code",
   "execution_count": 30,
   "metadata": {},
   "outputs": [
    {
     "output_type": "execute_result",
     "data": {
      "text/plain": [
       "<sqlite3.Cursor at 0x1a5ff9ca2d0>"
      ]
     },
     "metadata": {},
     "execution_count": 30
    }
   ],
   "source": [
    "cur = conn.cursor()\n",
    "cur.execute(\"\"\"INSERT INTO Eagles VALUES(1,'하주석','내야수'),\n",
    "                    (57,'정우람','투수'),\n",
    "                    (8,'정근우','내야수')\"\"\")"
   ]
  },
  {
   "cell_type": "code",
   "execution_count": 33,
   "metadata": {},
   "outputs": [
    {
     "output_type": "error",
     "ename": "IntegrityError",
     "evalue": "UNIQUE constraint failed: Eagles.back_no",
     "traceback": [
      "\u001b[1;31m---------------------------------------------------------------------------\u001b[0m",
      "\u001b[1;31mIntegrityError\u001b[0m                            Traceback (most recent call last)",
      "\u001b[1;32m<ipython-input-33-5e5cc375672f>\u001b[0m in \u001b[0;36m<module>\u001b[1;34m\u001b[0m\n\u001b[0;32m      5\u001b[0m \u001b[0mcur\u001b[0m \u001b[1;33m=\u001b[0m \u001b[0mconn\u001b[0m\u001b[1;33m.\u001b[0m\u001b[0mcursor\u001b[0m\u001b[1;33m(\u001b[0m\u001b[1;33m)\u001b[0m\u001b[1;33m\u001b[0m\u001b[1;33m\u001b[0m\u001b[0m\n\u001b[0;32m      6\u001b[0m \u001b[0msql\u001b[0m \u001b[1;33m=\u001b[0m \u001b[1;34m'INSERT INTO Eagles VALUES(?,?,?)'\u001b[0m\u001b[1;33m\u001b[0m\u001b[1;33m\u001b[0m\u001b[0m\n\u001b[1;32m----> 7\u001b[1;33m \u001b[0mcur\u001b[0m\u001b[1;33m.\u001b[0m\u001b[0mexecute\u001b[0m\u001b[1;33m(\u001b[0m\u001b[0msql\u001b[0m\u001b[1;33m,\u001b[0m \u001b[1;33m(\u001b[0m\u001b[0mback_no\u001b[0m\u001b[1;33m,\u001b[0m\u001b[0mname\u001b[0m\u001b[1;33m,\u001b[0m\u001b[0mposition\u001b[0m\u001b[1;33m)\u001b[0m\u001b[1;33m)\u001b[0m\u001b[1;33m\u001b[0m\u001b[1;33m\u001b[0m\u001b[0m\n\u001b[0m",
      "\u001b[1;31mIntegrityError\u001b[0m: UNIQUE constraint failed: Eagles.back_no"
     ]
    }
   ],
   "source": [
    "# 파라미터는 튜플로 사용\n",
    "back_no = 50\n",
    "name = '이성열'\n",
    "position = '외야수'\n",
    "cur = conn.cursor()\n",
    "sql = 'INSERT INTO Eagles VALUES(?,?,?)'\n",
    "cur.execute(sql, (back_no,name,position))"
   ]
  },
  {
   "cell_type": "code",
   "execution_count": 34,
   "metadata": {},
   "outputs": [],
   "source": [
    "conn.commit()"
   ]
  },
  {
   "cell_type": "code",
   "execution_count": 35,
   "metadata": {},
   "outputs": [],
   "source": [
    "# 2차원 튜플\n",
    "players = (\n",
    "    (22, '이태양', '투수'),\n",
    "    (13, '최재훈', '포수')\n",
    ")\n",
    "cur = conn.cursor()\n",
    "sql = 'INSERT INTO Eagles VALUES (?,?,?)'\n",
    "cur.executemany(sql, players)\n",
    "conn.commit()"
   ]
  },
  {
   "cell_type": "code",
   "execution_count": 37,
   "metadata": {},
   "outputs": [
    {
     "output_type": "execute_result",
     "data": {
      "text/plain": [
       "(1, '하주석', '내야수')"
      ]
     },
     "metadata": {},
     "execution_count": 37
    }
   ],
   "source": [
    "cur.execute('SELECT * FROM Eagles ORDER BY name DESC LIMIT 1')\n",
    "row = cur.fetchone()\n",
    "row"
   ]
  },
  {
   "cell_type": "code",
   "execution_count": 38,
   "metadata": {},
   "outputs": [
    {
     "output_type": "execute_result",
     "data": {
      "text/plain": [
       "(50, '이성열', '외야수')"
      ]
     },
     "metadata": {},
     "execution_count": 38
    }
   ],
   "source": [
    "# 파라미터가 1개일 때에도 튜플로 넣어줘야 함\n",
    "cur = conn.cursor()\n",
    "back_no = 50\n",
    "cur.execute('SELECT * FROM Eagles WHERE back_no = ?', (back_no,))\n",
    "player = cur.fetchone()\n",
    "player"
   ]
  },
  {
   "source": [
    "### 연습 문제"
   ],
   "cell_type": "markdown",
   "metadata": {}
  },
  {
   "source": [
    "- 1번"
   ],
   "cell_type": "markdown",
   "metadata": {}
  },
  {
   "cell_type": "code",
   "execution_count": 58,
   "metadata": {},
   "outputs": [],
   "source": [
    "cur = conn.cursor()\n",
    "cur.execute(\"\"\" CREATE TABLE Pitcher_stats (\n",
    "    name text,\n",
    "    ERA Real,\n",
    "    IP INTEGER,\n",
    "    SO INTEGER,\n",
    "    foreign key(name)\n",
    "    references Eagles(name)\n",
    ")\"\"\")\n",
    "conn.commit()"
   ]
  },
  {
   "cell_type": "code",
   "execution_count": 59,
   "metadata": {},
   "outputs": [
    {
     "output_type": "execute_result",
     "data": {
      "text/plain": [
       "<sqlite3.Cursor at 0x1a5fefee490>"
      ]
     },
     "metadata": {},
     "execution_count": 59
    }
   ],
   "source": [
    "cur.execute(\"\"\" INSERT INTO Pitcher_stats VALUES('하주석', 0.58 , 2300 , 2700),\n",
    "                    ('정우람', 0.65 , 2280, 3000 ),\n",
    "                    ('정근우', 0.71 , 2650, 2900 ), \n",
    "                    ('이성열', 0.55 , 2710, 2700 ), \n",
    "                    ('이태양', 0.59 , 2360, 3100 ), \n",
    "                    ('최재훈', 0.63 , 2650, 2600 ) \n",
    "                    \"\"\")"
   ]
  },
  {
   "cell_type": "code",
   "execution_count": 49,
   "metadata": {},
   "outputs": [],
   "source": [
    "conn.commit()"
   ]
  },
  {
   "cell_type": "code",
   "execution_count": 50,
   "metadata": {},
   "outputs": [
    {
     "output_type": "stream",
     "name": "stdout",
     "text": [
      "(1, '하주석', '내야수', '하주석', 0.58, 2300, 2700)\n(57, '정우람', '투수', '정우람', 0.65, 2280, 3000)\n(8, '정근우', '내야수', '정근우', 0.71, 2650, 2900)\n(50, '이성열', '외야수', '이성열', 0.55, 2710, 2700)\n(22, '이태양', '투수', '이태양', 0.59, 2360, 3100)\n(13, '최재훈', '포수', '최재훈', 0.63, 2650, 2600)\n"
     ]
    }
   ],
   "source": [
    "cur.execute(\"\"\" select * from Eagles\n",
    "    left join Pitcher_stats\n",
    "    on Pitcher_stats.name = Eagles.name\n",
    "\"\"\")\n",
    "rows = cur.fetchall()\n",
    "for row in rows:\n",
    "    print(row)"
   ]
  },
  {
   "source": [
    "- 2-1번"
   ],
   "cell_type": "markdown",
   "metadata": {}
  },
  {
   "cell_type": "code",
   "execution_count": 78,
   "metadata": {},
   "outputs": [
    {
     "output_type": "execute_result",
     "data": {
      "text/plain": [
       "<sqlite3.Cursor at 0x1a5fefee490>"
      ]
     },
     "metadata": {},
     "execution_count": 78
    }
   ],
   "source": [
    "cur.execute(\"\"\" create table if not exists band (\n",
    "    id INT NOT NULL,\n",
    "    group_name TEXT,\n",
    "    population INT,\n",
    "    debut DATE,\n",
    "    agency TEXT,\n",
    "    PRIMARY KEY(id)\n",
    ")\n",
    "\"\"\")"
   ]
  },
  {
   "cell_type": "code",
   "execution_count": 79,
   "metadata": {},
   "outputs": [
    {
     "output_type": "execute_result",
     "data": {
      "text/plain": [
       "<sqlite3.Cursor at 0x1a5fefee490>"
      ]
     },
     "metadata": {},
     "execution_count": 79
    }
   ],
   "source": [
    "cur.execute(\"\"\" INSERT INTO band VALUES(1, '방탄소년단', 7 , \"2016-09-10\" , '빅히트'),\n",
    "                    (2 ,'소녀시대', 9 , \"2009-04-14\", 'SM' ),\n",
    "                    (3 ,'트와이스', 9 , \"2016-05-01\", 'JYP' ), \n",
    "                    (4 ,'블랙핑크', 5 , \"2015-12-26\", 'YG' ), \n",
    "                    (5 ,'레드벨벳', 5 , \"2015-11-31\", 'SM' ), \n",
    "                    (6 ,'ITZY', 5 , \"2020-11-12\", 'JYP' ) \n",
    "\"\"\")"
   ]
  },
  {
   "cell_type": "code",
   "execution_count": 80,
   "metadata": {},
   "outputs": [],
   "source": [
    "conn.commit()"
   ]
  },
  {
   "source": [
    "- 2-2번"
   ],
   "cell_type": "markdown",
   "metadata": {}
  },
  {
   "cell_type": "code",
   "execution_count": 89,
   "metadata": {},
   "outputs": [
    {
     "output_type": "error",
     "ename": "OperationalError",
     "evalue": "table song already exists",
     "traceback": [
      "\u001b[1;31m---------------------------------------------------------------------------\u001b[0m",
      "\u001b[1;31mOperationalError\u001b[0m                          Traceback (most recent call last)",
      "\u001b[1;32m<ipython-input-89-00e164eff5ce>\u001b[0m in \u001b[0;36m<module>\u001b[1;34m\u001b[0m\n\u001b[1;32m----> 1\u001b[1;33m cur.execute(\"\"\" create table song (\n\u001b[0m\u001b[0;32m      2\u001b[0m     \u001b[0msong_id\u001b[0m \u001b[0mINT\u001b[0m \u001b[0mNOT\u001b[0m \u001b[0mNULL\u001b[0m\u001b[1;33m,\u001b[0m\u001b[1;33m\u001b[0m\u001b[1;33m\u001b[0m\u001b[0m\n\u001b[0;32m      3\u001b[0m     \u001b[0msong_name\u001b[0m \u001b[0mTEXT\u001b[0m\u001b[1;33m,\u001b[0m\u001b[1;33m\u001b[0m\u001b[1;33m\u001b[0m\u001b[0m\n\u001b[0;32m      4\u001b[0m     \u001b[0mgroup_id\u001b[0m \u001b[0mINT\u001b[0m\u001b[1;33m,\u001b[0m\u001b[1;33m\u001b[0m\u001b[1;33m\u001b[0m\u001b[0m\n\u001b[0;32m      5\u001b[0m     \u001b[0mrelease\u001b[0m \u001b[0mDATE\u001b[0m\u001b[1;33m,\u001b[0m\u001b[1;33m\u001b[0m\u001b[1;33m\u001b[0m\u001b[0m\n",
      "\u001b[1;31mOperationalError\u001b[0m: table song already exists"
     ]
    }
   ],
   "source": [
    "cur.execute(\"\"\" create table song (\n",
    "    song_id INT NOT NULL,\n",
    "    song_name TEXT,\n",
    "    group_id INT,\n",
    "    release DATE,\n",
    "    composer TEXT,\n",
    "    lyrics TEXT,\n",
    "    PRIMARY KEY(song_id),\n",
    "    foreign key(group_id)\n",
    "    references Eagles(name)\n",
    ")\n",
    "\"\"\")"
   ]
  },
  {
   "cell_type": "code",
   "execution_count": 88,
   "metadata": {},
   "outputs": [
    {
     "output_type": "error",
     "ename": "IntegrityError",
     "evalue": "UNIQUE constraint failed: song.song_id",
     "traceback": [
      "\u001b[1;31m---------------------------------------------------------------------------\u001b[0m",
      "\u001b[1;31mIntegrityError\u001b[0m                            Traceback (most recent call last)",
      "\u001b[1;32m<ipython-input-88-b31bd74046ce>\u001b[0m in \u001b[0;36m<module>\u001b[1;34m\u001b[0m\n\u001b[1;32m----> 1\u001b[1;33m cur.execute(\"\"\" INSERT INTO song VALUES(10001, '다이너마이트', 1 , \"2020-03-04\" , \"방시혁\", \"Cause I-I-I'm in the stars tonight\"),\n\u001b[0m\u001b[0;32m      2\u001b[0m         \u001b[1;33m(\u001b[0m\u001b[1;36m10002\u001b[0m \u001b[1;33m,\u001b[0m\u001b[1;34m'Gee'\u001b[0m\u001b[1;33m,\u001b[0m \u001b[1;36m2\u001b[0m \u001b[1;33m,\u001b[0m \u001b[1;34m\"2009-04-14\"\u001b[0m\u001b[1;33m,\u001b[0m \u001b[1;34m\"TED\"\u001b[0m\u001b[1;33m,\u001b[0m \u001b[1;34m'너무너무 멋져 눈이 눈이 부셔'\u001b[0m \u001b[1;33m)\u001b[0m\u001b[1;33m,\u001b[0m\u001b[1;33m\u001b[0m\u001b[1;33m\u001b[0m\u001b[0m\n\u001b[0;32m      3\u001b[0m         \u001b[1;33m(\u001b[0m\u001b[1;36m10003\u001b[0m \u001b[1;33m,\u001b[0m\u001b[1;34m'우아하게'\u001b[0m\u001b[1;33m,\u001b[0m \u001b[1;36m3\u001b[0m \u001b[1;33m,\u001b[0m \u001b[1;34m\"2016-09-10\"\u001b[0m\u001b[1;33m,\u001b[0m \u001b[1;34m\"신사동호랭이\"\u001b[0m\u001b[1;33m,\u001b[0m \u001b[1;34m'매일 가만 안 두죠'\u001b[0m\u001b[1;33m)\u001b[0m\u001b[1;33m,\u001b[0m\u001b[1;33m\u001b[0m\u001b[1;33m\u001b[0m\u001b[0m\n\u001b[0;32m      4\u001b[0m         \u001b[1;33m(\u001b[0m\u001b[1;36m10004\u001b[0m \u001b[1;33m,\u001b[0m\u001b[1;34m' How You Like That'\u001b[0m\u001b[1;33m,\u001b[0m \u001b[1;36m4\u001b[0m \u001b[1;33m,\u001b[0m \u001b[1;34m\"2018-08-14\"\u001b[0m\u001b[1;33m,\u001b[0m \u001b[1;34m\"신당동떡볶이\"\u001b[0m\u001b[1;33m,\u001b[0m \u001b[1;34m'보란 듯이 무너졌어'\u001b[0m \u001b[1;33m)\u001b[0m\u001b[1;33m,\u001b[0m\u001b[1;33m\u001b[0m\u001b[1;33m\u001b[0m\u001b[0m\n\u001b[0;32m      5\u001b[0m         \u001b[1;33m(\u001b[0m\u001b[1;36m10005\u001b[0m \u001b[1;33m,\u001b[0m\u001b[1;34m'러시안룰렛'\u001b[0m\u001b[1;33m,\u001b[0m \u001b[1;36m5\u001b[0m \u001b[1;33m,\u001b[0m \u001b[1;34m\"2019-02-11\"\u001b[0m\u001b[1;33m,\u001b[0m \u001b[1;34m\"이수만\"\u001b[0m\u001b[1;33m,\u001b[0m \u001b[1;34m'날카로운 secret 둘러싼'\u001b[0m \u001b[1;33m)\u001b[0m\u001b[1;33m,\u001b[0m\u001b[1;33m\u001b[0m\u001b[1;33m\u001b[0m\u001b[0m\n",
      "\u001b[1;31mIntegrityError\u001b[0m: UNIQUE constraint failed: song.song_id"
     ]
    }
   ],
   "source": [
    "cur.execute(\"\"\" INSERT INTO song VALUES(10001, '다이너마이트', 1 , \"2020-03-04\" , \"방시혁\", \"Cause I-I-I'm in the stars tonight\"),\n",
    "        (10002 ,'Gee', 2 , \"2009-04-14\", \"TED\", '너무너무 멋져 눈이 눈이 부셔' ),\n",
    "        (10003 ,'우아하게', 3 , \"2016-09-10\", \"신사동호랭이\", '매일 가만 안 두죠'), \n",
    "        (10004 ,' How You Like That', 4 , \"2018-08-14\", \"신당동떡볶이\", '보란 듯이 무너졌어' ), \n",
    "        (10005 ,'러시안룰렛', 5 , \"2019-02-11\", \"이수만\", '날카로운 secret 둘러싼' ), \n",
    "        (10006 ,'ICY', 6 , \"2019-05-09\", \"박진영\", '차갑게 보여도 어떡해 cool한 나니까' ) \n",
    "\"\"\")"
   ]
  },
  {
   "cell_type": "code",
   "execution_count": 90,
   "metadata": {},
   "outputs": [],
   "source": [
    "conn.commit()"
   ]
  },
  {
   "source": [
    "- 2-3번"
   ],
   "cell_type": "markdown",
   "metadata": {}
  },
  {
   "cell_type": "code",
   "execution_count": 93,
   "metadata": {},
   "outputs": [
    {
     "output_type": "stream",
     "name": "stdout",
     "text": [
      "('방탄소년단', 7, '2016-09-10', '다이너마이트', '2020-03-04')\n('소녀시대', 9, '2009-04-14', 'Gee', '2009-04-14')\n('트와이스', 9, '2016-05-01', '우아하게', '2016-09-10')\n('블랙핑크', 5, '2015-12-26', ' How You Like That', '2018-08-14')\n('레드벨벳', 5, '2015-11-31', '러시안룰렛', '2019-02-11')\n('ITZY', 5, '2020-11-12', 'ICY', '2019-05-09')\n"
     ]
    }
   ],
   "source": [
    "cur.execute(\"\"\" select band.group_name, band.population, band.debut, song.song_name, song.release from band\n",
    "inner join song\n",
    "where song.group_id = band.id\n",
    "\"\"\")\n",
    "rows = cur.fetchall()\n",
    "for row in rows:\n",
    "    print(row)"
   ]
  },
  {
   "source": [
    "- 3번"
   ],
   "cell_type": "markdown",
   "metadata": {}
  },
  {
   "cell_type": "code",
   "execution_count": 94,
   "metadata": {},
   "outputs": [
    {
     "output_type": "execute_result",
     "data": {
      "text/plain": [
       "<sqlite3.Cursor at 0x1a5fefee490>"
      ]
     },
     "metadata": {},
     "execution_count": 94
    }
   ],
   "source": [
    "cur.execute(\"\"\" create table users (\n",
    "    name text,\n",
    "    pwd varchar(400)\n",
    ")\n",
    "\"\"\")"
   ]
  },
  {
   "cell_type": "code",
   "execution_count": 97,
   "metadata": {},
   "outputs": [],
   "source": [
    "cur.execute(\"\"\" INSERT INTO users VALUES ('최원태',1234),\n",
    "('송명수',1234),\n",
    "('박은채',1234),\n",
    "('김동우',2345),\n",
    "('이예지',1234),\n",
    "('배성민',4567)\n",
    "\"\"\")\n",
    "conn.commit()"
   ]
  },
  {
   "cell_type": "code",
   "execution_count": 109,
   "metadata": {},
   "outputs": [],
   "source": [
    "name, pwd = input('이름 패스워드 입력:').split(' ')"
   ]
  },
  {
   "cell_type": "code",
   "execution_count": 111,
   "metadata": {},
   "outputs": [
    {
     "output_type": "stream",
     "name": "stdout",
     "text": [
      "잘못된 입력입니다.\n"
     ]
    }
   ],
   "source": [
    "info = (name, pwd)\n",
    "\n",
    "class WrongInputError(Exception):\n",
    "    def __init__(self):\n",
    "        super().__init__('잘못된 입력입니다.')\n",
    "\n",
    "try:\n",
    "    cur.execute(\"\"\" select * from users where name = ? and pwd = ?\n",
    "    \"\"\",info)\n",
    "    if cur.fetchone() == True:\n",
    "        print(cur.fetchone())\n",
    "    else:\n",
    "        raise WrongInputError\n",
    "    \n",
    "except Exception as e:\n",
    "    print(e)"
   ]
  }
 ]
}